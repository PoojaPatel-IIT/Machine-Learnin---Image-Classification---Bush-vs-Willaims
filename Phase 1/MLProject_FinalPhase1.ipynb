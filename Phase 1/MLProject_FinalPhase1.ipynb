{
 "cells": [
  {
   "cell_type": "code",
   "execution_count": 63,
   "metadata": {},
   "outputs": [
    {
     "name": "stdout",
     "output_type": "stream",
     "text": [
      "X Shape (13233, 4096)\n",
      "# of Bush's photos 530\n",
      "# of Bush's photos 52\n"
     ]
    }
   ],
   "source": [
    "import pandas as pd\n",
    "import numpy as np\n",
    "from sklearn.neighbors import KNeighborsClassifier\n",
    "from sklearn.model_selection import cross_validate, StratifiedKFold\n",
    "from sklearn.svm import SVC\n",
    "X = pd.read_csv(\"X.csv\", sep = ' ', header = None , dtype = float)\n",
    "X = X.values\n",
    "\n",
    "y= pd.read_csv(\"y_bush_vs_others.csv\" , header = None)\n",
    "y_bush = y.values.ravel()\n",
    "\n",
    "y= pd.read_csv(\"y_williams_vs_others.csv\" , header = None)\n",
    "y_williams = y.values.ravel()\n",
    "print(\"X Shape\",X.shape)\n",
    "print(\"# of Bush's photos\",np.sum(y_bush))\n",
    "print(\"# of Bush's photos\",np.sum(y_williams))\n",
    "# y_bush.shape\n"
   ]
  },
  {
   "cell_type": "markdown",
   "metadata": {},
   "source": [
    "# BUSH "
   ]
  },
  {
   "cell_type": "markdown",
   "metadata": {},
   "source": [
    "# 5 Neighbors"
   ]
  },
  {
   "cell_type": "code",
   "execution_count": 10,
   "metadata": {},
   "outputs": [
    {
     "name": "stdout",
     "output_type": "stream",
     "text": [
      "Bush : KNN for 5 neighbors\n",
      "\n",
      "  {'fit_time': array([10.27865171, 10.37226534, 10.51224089]), 'score_time': array([423.32662868, 430.06208372, 435.69161129]), 'test_precision': array([0.18181818, 0.25      , 0.46153846]), 'test_recall': array([0.01129944, 0.01694915, 0.03409091]), 'test_f1': array([0.0212766 , 0.03174603, 0.06349206])}\n"
     ]
    }
   ],
   "source": [
    "#  BUSH \n",
    "\n",
    "# Default 5 neighbors\n",
    "print(\"Bush : KNN for 5 neighbors\")\n",
    "\n",
    "knn = KNeighborsClassifier(n_neighbors = 5, n_jobs = -1)\n",
    "\n",
    "stratified_cv_results_n5bush = cross_validate(knn,X,y_bush,cv=StratifiedKFold(n_splits=3,shuffle = True, random_state=6099),\n",
    "                                      scoring = ('precision','recall','f1'),return_train_score= False)\n",
    "print(\"\\n \",stratified_cv_results_n5bush)"
   ]
  },
  {
   "cell_type": "markdown",
   "metadata": {},
   "source": [
    "# 1 Neighbor"
   ]
  },
  {
   "cell_type": "code",
   "execution_count": 11,
   "metadata": {},
   "outputs": [
    {
     "name": "stdout",
     "output_type": "stream",
     "text": [
      "Bush : KNN for 1 neighbors\n",
      "\n",
      "  {'fit_time': array([10.54252672, 12.23606586,  8.69474387]), 'score_time': array([ 432.44217229,  405.36774969, 2112.77472115]), 'test_precision': array([0.14606742, 0.1483871 , 0.11235955]), 'test_recall': array([0.14689266, 0.1299435 , 0.11363636]), 'test_f1': array([0.14647887, 0.13855422, 0.11299435])}\n"
     ]
    }
   ],
   "source": [
    "#  1 neighbors\n",
    "print(\"Bush : KNN for 1 neighbors\")\n",
    "knn = KNeighborsClassifier(n_neighbors = 1, n_jobs = -1)\n",
    "\n",
    "stratified_cv_results_n1bush = cross_validate(knn,X,y_bush,cv=StratifiedKFold(n_splits=3,shuffle = True, random_state=6099),\n",
    "                                      scoring = ('precision','recall','f1'),return_train_score= False)\n",
    "print(\"\\n \",stratified_cv_results_n1bush)"
   ]
  },
  {
   "cell_type": "markdown",
   "metadata": {},
   "source": [
    "# 3 Neighbors"
   ]
  },
  {
   "cell_type": "code",
   "execution_count": 12,
   "metadata": {},
   "outputs": [
    {
     "name": "stdout",
     "output_type": "stream",
     "text": [
      "Bush : KNN for 3 neighbors\n",
      "\n",
      "  {'fit_time': array([11.12823677, 10.87391663, 10.93574929]), 'score_time': array([403.01223183, 396.89508224, 397.69434643]), 'test_precision': array([0.28947368, 0.15625   , 0.27777778]), 'test_recall': array([0.06214689, 0.02824859, 0.05681818]), 'test_f1': array([0.10232558, 0.04784689, 0.09433962])}\n"
     ]
    }
   ],
   "source": [
    "\n",
    "# 3 neighbors\n",
    "print(\"Bush : KNN for 3 neighbors\")\n",
    "knn = KNeighborsClassifier(n_neighbors = 3, n_jobs = -1)\n",
    "\n",
    "stratified_cv_results_n3bush = cross_validate(knn,X,y_bush,cv=StratifiedKFold(n_splits=3,shuffle = True, random_state=6099),\n",
    "                                      scoring = ('precision','recall','f1'),return_train_score= False)\n",
    "print(\"\\n \",stratified_cv_results_n3bush)\n"
   ]
  },
  {
   "cell_type": "markdown",
   "metadata": {},
   "source": [
    "# Bush SVC"
   ]
  },
  {
   "cell_type": "code",
   "execution_count": 19,
   "metadata": {},
   "outputs": [
    {
     "name": "stdout",
     "output_type": "stream",
     "text": [
      "\n",
      " Bush : SVC \n",
      "\n",
      " BUSH with C=1.0, kernel='linear'  {'fit_time': array([133.39501548, 135.52273512, 138.56432796]), 'score_time': array([142.56097698, 144.05796337, 141.26329184]), 'test_precision': array([0.64197531, 0.66463415, 0.62589928]), 'test_recall': array([0.58757062, 0.61581921, 0.49431818]), 'test_f1': array([0.61356932, 0.63929619, 0.55238095])}\n"
     ]
    }
   ],
   "source": [
    "\n",
    "print(\"\\n Bush : SVC \")\n",
    "svc = SVC(C=1.0, kernel='linear')\n",
    "stratified_cv_results_bushSVC = cross_validate(svc,X,y_bush,cv=StratifiedKFold(n_splits=3,shuffle = True, random_state=6099),\n",
    "                                      scoring = ('precision','recall','f1'),return_train_score= False)\n",
    "print(\"\\n BUSH with C=1.0, kernel='linear' \",stratified_cv_results_bushSVC)\n",
    "# svc = SVC(gamma=1/(X.shape[1]*X.std()))\n"
   ]
  },
  {
   "cell_type": "code",
   "execution_count": 20,
   "metadata": {},
   "outputs": [
    {
     "name": "stdout",
     "output_type": "stream",
     "text": [
      "\n",
      " Bush : SVC \n"
     ]
    },
    {
     "name": "stderr",
     "output_type": "stream",
     "text": [
      "C:\\Users\\pooja\\Anaconda3\\lib\\site-packages\\sklearn\\metrics\\classification.py:1135: UndefinedMetricWarning: Precision is ill-defined and being set to 0.0 due to no predicted samples.\n",
      "  'precision', 'predicted', average, warn_for)\n",
      "C:\\Users\\pooja\\Anaconda3\\lib\\site-packages\\sklearn\\metrics\\classification.py:1135: UndefinedMetricWarning: F-score is ill-defined and being set to 0.0 due to no predicted samples.\n",
      "  'precision', 'predicted', average, warn_for)\n",
      "C:\\Users\\pooja\\Anaconda3\\lib\\site-packages\\sklearn\\metrics\\classification.py:1135: UndefinedMetricWarning: Precision is ill-defined and being set to 0.0 due to no predicted samples.\n",
      "  'precision', 'predicted', average, warn_for)\n",
      "C:\\Users\\pooja\\Anaconda3\\lib\\site-packages\\sklearn\\metrics\\classification.py:1135: UndefinedMetricWarning: F-score is ill-defined and being set to 0.0 due to no predicted samples.\n",
      "  'precision', 'predicted', average, warn_for)\n",
      "C:\\Users\\pooja\\Anaconda3\\lib\\site-packages\\sklearn\\metrics\\classification.py:1135: UndefinedMetricWarning: Precision is ill-defined and being set to 0.0 due to no predicted samples.\n",
      "  'precision', 'predicted', average, warn_for)\n"
     ]
    },
    {
     "name": "stdout",
     "output_type": "stream",
     "text": [
      "\n",
      " BUSH SVC with C=1.0 , kernel = 'poly',degree = 3 {'fit_time': array([137.86523342, 139.3499589 , 141.46186423]), 'score_time': array([180.5901897 , 184.04085565, 183.80518198]), 'test_precision': array([0., 0., 0.]), 'test_recall': array([0., 0., 0.]), 'test_f1': array([0., 0., 0.])}\n"
     ]
    },
    {
     "name": "stderr",
     "output_type": "stream",
     "text": [
      "C:\\Users\\pooja\\Anaconda3\\lib\\site-packages\\sklearn\\metrics\\classification.py:1135: UndefinedMetricWarning: F-score is ill-defined and being set to 0.0 due to no predicted samples.\n",
      "  'precision', 'predicted', average, warn_for)\n"
     ]
    }
   ],
   "source": [
    "\n",
    "print(\"\\n Bush : SVC \")\n",
    "svc = SVC(C=1.0 , kernel = 'poly',degree = 3)\n",
    "stratified_cv_results_bushSVC1 = cross_validate(svc,X,y_bush,cv=StratifiedKFold(n_splits=3,shuffle = True, random_state=6099),\n",
    "                                      scoring = ('precision','recall','f1'),return_train_score= False)\n",
    "print(\"\\n BUSH SVC with C=1.0 , kernel = 'poly',degree = 3\",stratified_cv_results_bushSVC1)\n",
    "# svc = SVC(gamma=1/(X.shape[1]*X.std()))"
   ]
  },
  {
   "cell_type": "code",
   "execution_count": 21,
   "metadata": {},
   "outputs": [
    {
     "name": "stdout",
     "output_type": "stream",
     "text": [
      "\n",
      " Bush : SVC \n"
     ]
    },
    {
     "name": "stderr",
     "output_type": "stream",
     "text": [
      "C:\\Users\\pooja\\Anaconda3\\lib\\site-packages\\sklearn\\metrics\\classification.py:1135: UndefinedMetricWarning: Precision is ill-defined and being set to 0.0 due to no predicted samples.\n",
      "  'precision', 'predicted', average, warn_for)\n",
      "C:\\Users\\pooja\\Anaconda3\\lib\\site-packages\\sklearn\\metrics\\classification.py:1135: UndefinedMetricWarning: F-score is ill-defined and being set to 0.0 due to no predicted samples.\n",
      "  'precision', 'predicted', average, warn_for)\n",
      "C:\\Users\\pooja\\Anaconda3\\lib\\site-packages\\sklearn\\metrics\\classification.py:1135: UndefinedMetricWarning: Precision is ill-defined and being set to 0.0 due to no predicted samples.\n",
      "  'precision', 'predicted', average, warn_for)\n",
      "C:\\Users\\pooja\\Anaconda3\\lib\\site-packages\\sklearn\\metrics\\classification.py:1135: UndefinedMetricWarning: F-score is ill-defined and being set to 0.0 due to no predicted samples.\n",
      "  'precision', 'predicted', average, warn_for)\n",
      "C:\\Users\\pooja\\Anaconda3\\lib\\site-packages\\sklearn\\metrics\\classification.py:1135: UndefinedMetricWarning: Precision is ill-defined and being set to 0.0 due to no predicted samples.\n",
      "  'precision', 'predicted', average, warn_for)\n"
     ]
    },
    {
     "name": "stdout",
     "output_type": "stream",
     "text": [
      "\n",
      " BUSH SVC with C = 1.0 , gamma=1/(X.shape[1]*X.std()) {'fit_time': array([138.64414644, 109.32403779, 101.90244818]), 'score_time': array([154.12548876, 149.04735947, 136.90583587]), 'test_precision': array([0., 0., 0.]), 'test_recall': array([0., 0., 0.]), 'test_f1': array([0., 0., 0.])}\n"
     ]
    },
    {
     "name": "stderr",
     "output_type": "stream",
     "text": [
      "C:\\Users\\pooja\\Anaconda3\\lib\\site-packages\\sklearn\\metrics\\classification.py:1135: UndefinedMetricWarning: F-score is ill-defined and being set to 0.0 due to no predicted samples.\n",
      "  'precision', 'predicted', average, warn_for)\n"
     ]
    }
   ],
   "source": [
    "# delete above when done this\n",
    "\n",
    "print(\"\\n Bush : SVC \")\n",
    "svc = SVC(C = 1.0 , gamma=1/(X.shape[1]*X.std()))\n",
    "stratified_cv_results_bushSVC_gamma12 = cross_validate(svc,X,y_bush,cv=StratifiedKFold(n_splits=3,shuffle = True, random_state=6099),\n",
    "                                      scoring = ('precision','recall','f1'),return_train_score= False)\n",
    "print(\"\\n BUSH SVC with C = 1.0 , gamma=1/(X.shape[1]*X.std())\",stratified_cv_results_bushSVC_gamma12)\n",
    "# svc = SVC(gamma=1/(X.shape[1]*X.std()))"
   ]
  },
  {
   "cell_type": "code",
   "execution_count": 17,
   "metadata": {},
   "outputs": [
    {
     "name": "stdout",
     "output_type": "stream",
     "text": [
      "\n",
      " Bush : SVC \n"
     ]
    },
    {
     "name": "stderr",
     "output_type": "stream",
     "text": [
      "C:\\Users\\pooja\\Anaconda3\\lib\\site-packages\\sklearn\\metrics\\classification.py:1135: UndefinedMetricWarning: Precision is ill-defined and being set to 0.0 due to no predicted samples.\n",
      "  'precision', 'predicted', average, warn_for)\n",
      "C:\\Users\\pooja\\Anaconda3\\lib\\site-packages\\sklearn\\metrics\\classification.py:1135: UndefinedMetricWarning: F-score is ill-defined and being set to 0.0 due to no predicted samples.\n",
      "  'precision', 'predicted', average, warn_for)\n",
      "C:\\Users\\pooja\\Anaconda3\\lib\\site-packages\\sklearn\\metrics\\classification.py:1135: UndefinedMetricWarning: Precision is ill-defined and being set to 0.0 due to no predicted samples.\n",
      "  'precision', 'predicted', average, warn_for)\n",
      "C:\\Users\\pooja\\Anaconda3\\lib\\site-packages\\sklearn\\metrics\\classification.py:1135: UndefinedMetricWarning: F-score is ill-defined and being set to 0.0 due to no predicted samples.\n",
      "  'precision', 'predicted', average, warn_for)\n",
      "C:\\Users\\pooja\\Anaconda3\\lib\\site-packages\\sklearn\\metrics\\classification.py:1135: UndefinedMetricWarning: Precision is ill-defined and being set to 0.0 due to no predicted samples.\n",
      "  'precision', 'predicted', average, warn_for)\n"
     ]
    },
    {
     "name": "stdout",
     "output_type": "stream",
     "text": [
      "\n",
      " BUSH SVC with C = 1.0 , kernel = 'rbf',gamma=1/(X.shape[1]*X.std()) {'fit_time': array([128.32136583, 130.12495971, 134.7774241 ]), 'score_time': array([187.45117736, 183.87704873, 175.14203358]), 'test_precision': array([0., 0., 0.]), 'test_recall': array([0., 0., 0.]), 'test_f1': array([0., 0., 0.])}\n"
     ]
    },
    {
     "name": "stderr",
     "output_type": "stream",
     "text": [
      "C:\\Users\\pooja\\Anaconda3\\lib\\site-packages\\sklearn\\metrics\\classification.py:1135: UndefinedMetricWarning: F-score is ill-defined and being set to 0.0 due to no predicted samples.\n",
      "  'precision', 'predicted', average, warn_for)\n"
     ]
    }
   ],
   "source": [
    "print(\"\\n Bush : SVC \")\n",
    "svc = SVC(C = 1.0 , kernel = 'rbf',gamma=1/(X.shape[1]*X.std()))\n",
    "stratified_cv_results_bushSVC_gamma123 = cross_validate(svc,X,y_bush,cv=StratifiedKFold(n_splits=3,shuffle = True, random_state=6099),\n",
    "                                      scoring = ('precision','recall','f1'),return_train_score= False)\n",
    "print(\"\\n BUSH SVC with C = 1.0 , kernel = 'rbf',gamma=1/(X.shape[1]*X.std())\",stratified_cv_results_bushSVC_gamma123)\n",
    "# svc = SVC(gamma=1/(X.shape[1]*X.std()))"
   ]
  },
  {
   "cell_type": "code",
   "execution_count": 18,
   "metadata": {},
   "outputs": [
    {
     "name": "stdout",
     "output_type": "stream",
     "text": [
      "\n",
      " Bush : SVC \n",
      "\n",
      " BUSH SVC with C = 6.0 , kernel = 'linear', degree = 6 , gamma=1/(X.shape[1]*X.std()) {'fit_time': array([128.55222464, 119.81455159, 123.01043749]), 'score_time': array([124.2734077 , 126.84257221, 124.1000669 ]), 'test_precision': array([0.64197531, 0.66463415, 0.62589928]), 'test_recall': array([0.58757062, 0.61581921, 0.49431818]), 'test_f1': array([0.61356932, 0.63929619, 0.55238095])}\n"
     ]
    }
   ],
   "source": [
    "print(\"\\n Bush : SVC \")\n",
    "svc = SVC(C = 6.0 , kernel = 'linear', degree = 6 , gamma=1/(X.shape[1]*X.std()))\n",
    "stratified_cv_results_bushSVC_gamma1234 = cross_validate(svc,X,y_bush,cv=StratifiedKFold(n_splits=3,shuffle = True, random_state=6099),\n",
    "                                      scoring = ('precision','recall','f1'),return_train_score= False)\n",
    "print(\"\\n BUSH SVC with C = 6.0 , kernel = 'linear', degree = 6 , gamma=1/(X.shape[1]*X.std())\",stratified_cv_results_bushSVC_gamma1234)\n",
    "# svc = SVC(gamma=1/(X.shape[1]*X.std()))"
   ]
  },
  {
   "cell_type": "code",
   "execution_count": 42,
   "metadata": {},
   "outputs": [
    {
     "name": "stdout",
     "output_type": "stream",
     "text": [
      "\n",
      " Bush : SVC \n",
      "\n",
      " BUSH SVC with C = 9.0 , kernel = 'sigmoid',  gamma= 'auto') {'fit_time': array([67.32889318, 64.58364773, 69.73005486]), 'score_time': array([91.4089098 , 91.17516136, 92.11472178]), 'test_precision': array([0.10447761, 0.15384615, 0.0625    ]), 'test_recall': array([0.03954802, 0.05649718, 0.02840909]), 'test_f1': array([0.05737705, 0.08264463, 0.0390625 ])}\n"
     ]
    }
   ],
   "source": [
    "print(\"\\n Bush : SVC \")\n",
    "svc = SVC(C = 9.0 , kernel = 'sigmoid',  gamma= 'auto')\n",
    "stratified_cv_results_bushSVC_gamma12345 = cross_validate(svc,X,y_bush,cv=StratifiedKFold(n_splits=3,shuffle = True, random_state=6099),\n",
    "                                      scoring = ('precision','recall','f1'),return_train_score= False)\n",
    "print(\"\\n BUSH SVC with C = 9.0 , kernel = 'sigmoid',  gamma= 'auto')\",stratified_cv_results_bushSVC_gamma12345)\n",
    "# svc = SVC(gamma=1/(X.shape[1]*X.std()))"
   ]
  },
  {
   "cell_type": "code",
   "execution_count": 43,
   "metadata": {},
   "outputs": [
    {
     "name": "stdout",
     "output_type": "stream",
     "text": [
      "\n",
      " Bush : SVC \n"
     ]
    },
    {
     "name": "stderr",
     "output_type": "stream",
     "text": [
      "C:\\Users\\pooja\\Anaconda3\\lib\\site-packages\\sklearn\\metrics\\classification.py:1135: UndefinedMetricWarning: Precision is ill-defined and being set to 0.0 due to no predicted samples.\n",
      "  'precision', 'predicted', average, warn_for)\n",
      "C:\\Users\\pooja\\Anaconda3\\lib\\site-packages\\sklearn\\metrics\\classification.py:1135: UndefinedMetricWarning: F-score is ill-defined and being set to 0.0 due to no predicted samples.\n",
      "  'precision', 'predicted', average, warn_for)\n",
      "C:\\Users\\pooja\\Anaconda3\\lib\\site-packages\\sklearn\\metrics\\classification.py:1135: UndefinedMetricWarning: Precision is ill-defined and being set to 0.0 due to no predicted samples.\n",
      "  'precision', 'predicted', average, warn_for)\n",
      "C:\\Users\\pooja\\Anaconda3\\lib\\site-packages\\sklearn\\metrics\\classification.py:1135: UndefinedMetricWarning: F-score is ill-defined and being set to 0.0 due to no predicted samples.\n",
      "  'precision', 'predicted', average, warn_for)\n",
      "C:\\Users\\pooja\\Anaconda3\\lib\\site-packages\\sklearn\\metrics\\classification.py:1135: UndefinedMetricWarning: Precision is ill-defined and being set to 0.0 due to no predicted samples.\n",
      "  'precision', 'predicted', average, warn_for)\n"
     ]
    },
    {
     "name": "stdout",
     "output_type": "stream",
     "text": [
      "\n",
      " BUSH SVC with kernel = 'sigmoid' and other default except degree : ) {'fit_time': array([69.07757664, 68.87383127, 70.18837857]), 'score_time': array([92.74709225, 92.22015929, 93.92202854]), 'test_precision': array([0., 0., 0.]), 'test_recall': array([0., 0., 0.]), 'test_f1': array([0., 0., 0.])}\n"
     ]
    },
    {
     "name": "stderr",
     "output_type": "stream",
     "text": [
      "C:\\Users\\pooja\\Anaconda3\\lib\\site-packages\\sklearn\\metrics\\classification.py:1135: UndefinedMetricWarning: F-score is ill-defined and being set to 0.0 due to no predicted samples.\n",
      "  'precision', 'predicted', average, warn_for)\n"
     ]
    }
   ],
   "source": [
    "print(\"\\n Bush : SVC \")\n",
    "svc = SVC( kernel = 'sigmoid')\n",
    "stratified_cv_results_bushSVC_gamma123456 = cross_validate(svc,X,y_bush,cv=StratifiedKFold(n_splits=3,shuffle = True, random_state=6099),\n",
    "                                      scoring = ('precision','recall','f1'),return_train_score= False)\n",
    "print(\"\\n BUSH SVC with kernel = 'sigmoid' and other default except degree : )\",stratified_cv_results_bushSVC_gamma123456)\n",
    "# svc = SVC(gamma=1/(X.shape[1]*X.std()))"
   ]
  },
  {
   "cell_type": "code",
   "execution_count": 44,
   "metadata": {},
   "outputs": [
    {
     "name": "stdout",
     "output_type": "stream",
     "text": [
      "\n",
      " Bush : SVC \n",
      "\n",
      " BUSH SVC with C = 24.0 , kernel = 'sigmoid',  gamma= 1/(X.shape[1]*X.std())) {'fit_time': array([58.13665271, 50.70039797, 58.37118316]), 'score_time': array([68.79400039, 72.67211223, 69.48878908]), 'test_precision': array([0.13559322, 0.13664596, 0.12837838]), 'test_recall': array([0.09039548, 0.12429379, 0.10795455]), 'test_f1': array([0.10847458, 0.13017751, 0.11728395])}\n"
     ]
    }
   ],
   "source": [
    "print(\"\\n Bush : SVC \")\n",
    "svc = SVC(C = 24.0 , kernel = 'sigmoid',  gamma= 1/(X.shape[1]*X.std()))\n",
    "stratified_cv_results_bushSVC_gamma1238 = cross_validate(svc,X,y_bush,cv=StratifiedKFold(n_splits=3,shuffle = True, random_state=6099),\n",
    "                                      scoring = ('precision','recall','f1'),return_train_score= False)\n",
    "print(\"\\n BUSH SVC with C = 24.0 , kernel = 'sigmoid',  gamma= 1/(X.shape[1]*X.std()))\",stratified_cv_results_bushSVC_gamma1238)\n",
    "# svc = SVC(gamma=1/(X.shape[1]*X.std()))"
   ]
  },
  {
   "cell_type": "code",
   "execution_count": 45,
   "metadata": {},
   "outputs": [
    {
     "name": "stdout",
     "output_type": "stream",
     "text": [
      "\n",
      " Bush : SVC \n",
      "\n",
      " BUSH SVC with C = 24.0 , kernel = 'linear') {'fit_time': array([100.814924  ,  95.04479575, 101.79175067]), 'score_time': array([103.29952788, 107.67900729, 102.39713073]), 'test_precision': array([0.64197531, 0.66463415, 0.62589928]), 'test_recall': array([0.58757062, 0.61581921, 0.49431818]), 'test_f1': array([0.61356932, 0.63929619, 0.55238095])}\n"
     ]
    }
   ],
   "source": [
    "print(\"\\n Bush : SVC \")\n",
    "svc = SVC(C = 24.0 , kernel = 'linear')\n",
    "stratified_cv_results_bushSVC_gamma1239 = cross_validate(svc,X,y_bush,cv=StratifiedKFold(n_splits=3,shuffle = True, random_state=6099),\n",
    "                                      scoring = ('precision','recall','f1'),return_train_score= False)\n",
    "print(\"\\n BUSH SVC with C = 24.0 , kernel = 'linear')\",stratified_cv_results_bushSVC_gamma1239)\n",
    "# svc = SVC(gamma=1/(X.shape[1]*X.std()))"
   ]
  },
  {
   "cell_type": "code",
   "execution_count": 65,
   "metadata": {},
   "outputs": [
    {
     "name": "stdout",
     "output_type": "stream",
     "text": [
      "\n",
      " Bush : SVC \n"
     ]
    },
    {
     "name": "stderr",
     "output_type": "stream",
     "text": [
      "C:\\Users\\pooja\\Anaconda3\\lib\\site-packages\\sklearn\\metrics\\classification.py:1135: UndefinedMetricWarning: Precision is ill-defined and being set to 0.0 due to no predicted samples.\n",
      "  'precision', 'predicted', average, warn_for)\n",
      "C:\\Users\\pooja\\Anaconda3\\lib\\site-packages\\sklearn\\metrics\\classification.py:1135: UndefinedMetricWarning: F-score is ill-defined and being set to 0.0 due to no predicted samples.\n",
      "  'precision', 'predicted', average, warn_for)\n",
      "C:\\Users\\pooja\\Anaconda3\\lib\\site-packages\\sklearn\\metrics\\classification.py:1135: UndefinedMetricWarning: Precision is ill-defined and being set to 0.0 due to no predicted samples.\n",
      "  'precision', 'predicted', average, warn_for)\n",
      "C:\\Users\\pooja\\Anaconda3\\lib\\site-packages\\sklearn\\metrics\\classification.py:1135: UndefinedMetricWarning: F-score is ill-defined and being set to 0.0 due to no predicted samples.\n",
      "  'precision', 'predicted', average, warn_for)\n",
      "C:\\Users\\pooja\\Anaconda3\\lib\\site-packages\\sklearn\\metrics\\classification.py:1135: UndefinedMetricWarning: Precision is ill-defined and being set to 0.0 due to no predicted samples.\n",
      "  'precision', 'predicted', average, warn_for)\n"
     ]
    },
    {
     "name": "stdout",
     "output_type": "stream",
     "text": [
      "\n",
      " BUSH SVC with C = 2.0 , kernel = 'poly',  degree = 2 , gamma= 'auto_deprecated') {'fit_time': array([59.88226891, 69.65429926, 65.7291913 ]), 'score_time': array([90.03109789, 83.59143138, 93.92460799]), 'test_precision': array([0., 0., 0.]), 'test_recall': array([0., 0., 0.]), 'test_f1': array([0., 0., 0.])}\n"
     ]
    },
    {
     "name": "stderr",
     "output_type": "stream",
     "text": [
      "C:\\Users\\pooja\\Anaconda3\\lib\\site-packages\\sklearn\\metrics\\classification.py:1135: UndefinedMetricWarning: F-score is ill-defined and being set to 0.0 due to no predicted samples.\n",
      "  'precision', 'predicted', average, warn_for)\n"
     ]
    }
   ],
   "source": [
    "print(\"\\n Bush : SVC \")\n",
    "svc = SVC(C = 2.0 , kernel = 'poly',  degree = 2 , gamma= 'auto')\n",
    "stratified_cv_results_bushSVC_gamma15638 = cross_validate(svc,X,y_bush,cv=StratifiedKFold(n_splits=3,shuffle = True, random_state=6099),\n",
    "                                      scoring = ('precision','recall','f1'),return_train_score= False)\n",
    "print(\"\\n BUSH SVC with C = 2.0 , kernel = 'poly',  degree = 2 , gamma= 'auto_deprecated')\",stratified_cv_results_bushSVC_gamma15638)\n"
   ]
  },
  {
   "cell_type": "code",
   "execution_count": 68,
   "metadata": {},
   "outputs": [
    {
     "name": "stdout",
     "output_type": "stream",
     "text": [
      "\n",
      " Bush : SVC \n"
     ]
    },
    {
     "name": "stderr",
     "output_type": "stream",
     "text": [
      "C:\\Users\\pooja\\Anaconda3\\lib\\site-packages\\sklearn\\metrics\\classification.py:1135: UndefinedMetricWarning: Precision is ill-defined and being set to 0.0 due to no predicted samples.\n",
      "  'precision', 'predicted', average, warn_for)\n",
      "C:\\Users\\pooja\\Anaconda3\\lib\\site-packages\\sklearn\\metrics\\classification.py:1135: UndefinedMetricWarning: F-score is ill-defined and being set to 0.0 due to no predicted samples.\n",
      "  'precision', 'predicted', average, warn_for)\n",
      "C:\\Users\\pooja\\Anaconda3\\lib\\site-packages\\sklearn\\metrics\\classification.py:1135: UndefinedMetricWarning: Precision is ill-defined and being set to 0.0 due to no predicted samples.\n",
      "  'precision', 'predicted', average, warn_for)\n",
      "C:\\Users\\pooja\\Anaconda3\\lib\\site-packages\\sklearn\\metrics\\classification.py:1135: UndefinedMetricWarning: F-score is ill-defined and being set to 0.0 due to no predicted samples.\n",
      "  'precision', 'predicted', average, warn_for)\n",
      "C:\\Users\\pooja\\Anaconda3\\lib\\site-packages\\sklearn\\metrics\\classification.py:1135: UndefinedMetricWarning: Precision is ill-defined and being set to 0.0 due to no predicted samples.\n",
      "  'precision', 'predicted', average, warn_for)\n"
     ]
    },
    {
     "name": "stdout",
     "output_type": "stream",
     "text": [
      "\n",
      " BUSH SVC with C = 2.0 , kernel = 'rbf',   gamma= 'auto' ) {'fit_time': array([66.66072059, 68.35062456, 66.38943911]), 'score_time': array([83.80507326, 92.86956024, 87.7573359 ]), 'test_precision': array([0., 0., 0.]), 'test_recall': array([0., 0., 0.]), 'test_f1': array([0., 0., 0.])}\n"
     ]
    },
    {
     "name": "stderr",
     "output_type": "stream",
     "text": [
      "C:\\Users\\pooja\\Anaconda3\\lib\\site-packages\\sklearn\\metrics\\classification.py:1135: UndefinedMetricWarning: F-score is ill-defined and being set to 0.0 due to no predicted samples.\n",
      "  'precision', 'predicted', average, warn_for)\n"
     ]
    }
   ],
   "source": [
    "print(\"\\n Bush : SVC \")\n",
    "svc = SVC(C = 2.0 , kernel = 'rbf',   gamma= 'auto')\n",
    "stratified_cv_results_bushSVC_gamma15638212 = cross_validate(svc,X,y_bush,cv=StratifiedKFold(n_splits=3,shuffle = True, random_state=6099),\n",
    "                                      scoring = ('precision','recall','f1'),return_train_score= False)\n",
    "print(\"\\n BUSH SVC with C = 2.0 , kernel = 'rbf',   gamma= 'auto' )\",stratified_cv_results_bushSVC_gamma15638212)\n"
   ]
  },
  {
   "cell_type": "code",
   "execution_count": 77,
   "metadata": {},
   "outputs": [
    {
     "name": "stdout",
     "output_type": "stream",
     "text": [
      "\n",
      " Bush : SVC \n"
     ]
    },
    {
     "name": "stderr",
     "output_type": "stream",
     "text": [
      "C:\\Users\\pooja\\Anaconda3\\lib\\site-packages\\sklearn\\metrics\\classification.py:1135: UndefinedMetricWarning: Precision is ill-defined and being set to 0.0 due to no predicted samples.\n",
      "  'precision', 'predicted', average, warn_for)\n",
      "C:\\Users\\pooja\\Anaconda3\\lib\\site-packages\\sklearn\\metrics\\classification.py:1135: UndefinedMetricWarning: F-score is ill-defined and being set to 0.0 due to no predicted samples.\n",
      "  'precision', 'predicted', average, warn_for)\n",
      "C:\\Users\\pooja\\Anaconda3\\lib\\site-packages\\sklearn\\metrics\\classification.py:1135: UndefinedMetricWarning: Precision is ill-defined and being set to 0.0 due to no predicted samples.\n",
      "  'precision', 'predicted', average, warn_for)\n",
      "C:\\Users\\pooja\\Anaconda3\\lib\\site-packages\\sklearn\\metrics\\classification.py:1135: UndefinedMetricWarning: F-score is ill-defined and being set to 0.0 due to no predicted samples.\n",
      "  'precision', 'predicted', average, warn_for)\n",
      "C:\\Users\\pooja\\Anaconda3\\lib\\site-packages\\sklearn\\metrics\\classification.py:1135: UndefinedMetricWarning: Precision is ill-defined and being set to 0.0 due to no predicted samples.\n",
      "  'precision', 'predicted', average, warn_for)\n"
     ]
    },
    {
     "name": "stdout",
     "output_type": "stream",
     "text": [
      "\n",
      " BUSH SVC with C = 0.001 , kernel = 'linear',   gamma= 'auto' ) {'fit_time': array([64.82087731, 61.05527401, 60.46801615]), 'score_time': array([75.23544121, 74.53429627, 72.55999541]), 'test_precision': array([0., 0., 0.]), 'test_recall': array([0., 0., 0.]), 'test_f1': array([0., 0., 0.])}\n"
     ]
    },
    {
     "name": "stderr",
     "output_type": "stream",
     "text": [
      "C:\\Users\\pooja\\Anaconda3\\lib\\site-packages\\sklearn\\metrics\\classification.py:1135: UndefinedMetricWarning: F-score is ill-defined and being set to 0.0 due to no predicted samples.\n",
      "  'precision', 'predicted', average, warn_for)\n"
     ]
    }
   ],
   "source": [
    "print(\"\\n Bush : SVC \")\n",
    "svc = SVC(C = 0.001 , kernel = 'linear',   gamma= 'auto')\n",
    "stratified_cv_results_bushSVC_gamma152323638212 = cross_validate(svc,X,y_bush,cv=StratifiedKFold(n_splits=3,shuffle = True, random_state=6099),\n",
    "                                      scoring = ('precision','recall','f1'),return_train_score= False)\n",
    "print(\"\\n BUSH SVC with C = 0.001 , kernel = 'linear',   gamma= 'auto' )\",stratified_cv_results_bushSVC_gamma152323638212)\n"
   ]
  },
  {
   "cell_type": "code",
   "execution_count": 78,
   "metadata": {},
   "outputs": [
    {
     "name": "stdout",
     "output_type": "stream",
     "text": [
      "\n",
      " Bush : SVC \n"
     ]
    },
    {
     "name": "stderr",
     "output_type": "stream",
     "text": [
      "C:\\Users\\pooja\\Anaconda3\\lib\\site-packages\\sklearn\\metrics\\classification.py:1135: UndefinedMetricWarning: Precision is ill-defined and being set to 0.0 due to no predicted samples.\n",
      "  'precision', 'predicted', average, warn_for)\n",
      "C:\\Users\\pooja\\Anaconda3\\lib\\site-packages\\sklearn\\metrics\\classification.py:1135: UndefinedMetricWarning: F-score is ill-defined and being set to 0.0 due to no predicted samples.\n",
      "  'precision', 'predicted', average, warn_for)\n",
      "C:\\Users\\pooja\\Anaconda3\\lib\\site-packages\\sklearn\\metrics\\classification.py:1135: UndefinedMetricWarning: Precision is ill-defined and being set to 0.0 due to no predicted samples.\n",
      "  'precision', 'predicted', average, warn_for)\n",
      "C:\\Users\\pooja\\Anaconda3\\lib\\site-packages\\sklearn\\metrics\\classification.py:1135: UndefinedMetricWarning: F-score is ill-defined and being set to 0.0 due to no predicted samples.\n",
      "  'precision', 'predicted', average, warn_for)\n",
      "C:\\Users\\pooja\\Anaconda3\\lib\\site-packages\\sklearn\\metrics\\classification.py:1135: UndefinedMetricWarning: Precision is ill-defined and being set to 0.0 due to no predicted samples.\n",
      "  'precision', 'predicted', average, warn_for)\n"
     ]
    },
    {
     "name": "stdout",
     "output_type": "stream",
     "text": [
      "\n",
      " BUSH SVC with C = 0.001 , kernel = 'sigmoid',   gamma= 'auto' ) {'fit_time': array([34.93912101, 36.41800928, 32.33745694]), 'score_time': array([48.45365071, 48.36920762, 49.32091403]), 'test_precision': array([0., 0., 0.]), 'test_recall': array([0., 0., 0.]), 'test_f1': array([0., 0., 0.])}\n"
     ]
    },
    {
     "name": "stderr",
     "output_type": "stream",
     "text": [
      "C:\\Users\\pooja\\Anaconda3\\lib\\site-packages\\sklearn\\metrics\\classification.py:1135: UndefinedMetricWarning: F-score is ill-defined and being set to 0.0 due to no predicted samples.\n",
      "  'precision', 'predicted', average, warn_for)\n"
     ]
    }
   ],
   "source": [
    "print(\"\\n Bush : SVC \")\n",
    "svc = SVC(C = 0.001 , kernel = 'sigmoid',   gamma= 'auto')\n",
    "stratified_cv_results_bushSVC_gamma323638212 = cross_validate(svc,X,y_bush,cv=StratifiedKFold(n_splits=3,shuffle = True, random_state=6099),\n",
    "                                      scoring = ('precision','recall','f1'),return_train_score= False)\n",
    "print(\"\\n BUSH SVC with C = 0.001 , kernel = 'sigmoid',   gamma= 'auto' )\",stratified_cv_results_bushSVC_gamma323638212)\n"
   ]
  },
  {
   "cell_type": "code",
   "execution_count": 79,
   "metadata": {},
   "outputs": [
    {
     "name": "stdout",
     "output_type": "stream",
     "text": [
      "\n",
      " Bush : SVC \n"
     ]
    },
    {
     "name": "stderr",
     "output_type": "stream",
     "text": [
      "C:\\Users\\pooja\\Anaconda3\\lib\\site-packages\\sklearn\\metrics\\classification.py:1135: UndefinedMetricWarning: Precision is ill-defined and being set to 0.0 due to no predicted samples.\n",
      "  'precision', 'predicted', average, warn_for)\n",
      "C:\\Users\\pooja\\Anaconda3\\lib\\site-packages\\sklearn\\metrics\\classification.py:1135: UndefinedMetricWarning: F-score is ill-defined and being set to 0.0 due to no predicted samples.\n",
      "  'precision', 'predicted', average, warn_for)\n",
      "C:\\Users\\pooja\\Anaconda3\\lib\\site-packages\\sklearn\\metrics\\classification.py:1135: UndefinedMetricWarning: Precision is ill-defined and being set to 0.0 due to no predicted samples.\n",
      "  'precision', 'predicted', average, warn_for)\n",
      "C:\\Users\\pooja\\Anaconda3\\lib\\site-packages\\sklearn\\metrics\\classification.py:1135: UndefinedMetricWarning: F-score is ill-defined and being set to 0.0 due to no predicted samples.\n",
      "  'precision', 'predicted', average, warn_for)\n",
      "C:\\Users\\pooja\\Anaconda3\\lib\\site-packages\\sklearn\\metrics\\classification.py:1135: UndefinedMetricWarning: Precision is ill-defined and being set to 0.0 due to no predicted samples.\n",
      "  'precision', 'predicted', average, warn_for)\n"
     ]
    },
    {
     "name": "stdout",
     "output_type": "stream",
     "text": [
      "\n",
      " BUSH SVC with C = 0.001 , kernel = 'rbf',   gamma= 'auto' ) {'fit_time': array([36.84523511, 31.5778203 , 31.78079295]), 'score_time': array([49.22786045, 45.65176773, 44.64198995]), 'test_precision': array([0., 0., 0.]), 'test_recall': array([0., 0., 0.]), 'test_f1': array([0., 0., 0.])}\n"
     ]
    },
    {
     "name": "stderr",
     "output_type": "stream",
     "text": [
      "C:\\Users\\pooja\\Anaconda3\\lib\\site-packages\\sklearn\\metrics\\classification.py:1135: UndefinedMetricWarning: F-score is ill-defined and being set to 0.0 due to no predicted samples.\n",
      "  'precision', 'predicted', average, warn_for)\n"
     ]
    }
   ],
   "source": [
    "print(\"\\n Bush : SVC \")\n",
    "svc = SVC(C = 0.001 , kernel = 'rbf',   gamma= 'auto')\n",
    "stratified_cv_results_bushSVC_gamma32312 = cross_validate(svc,X,y_bush,cv=StratifiedKFold(n_splits=3,shuffle = True, random_state=6099),\n",
    "                                      scoring = ('precision','recall','f1'),return_train_score= False)\n",
    "print(\"\\n BUSH SVC with C = 0.001 , kernel = 'rbf',   gamma= 'auto' )\",stratified_cv_results_bushSVC_gamma32312)\n"
   ]
  },
  {
   "cell_type": "code",
   "execution_count": 80,
   "metadata": {},
   "outputs": [
    {
     "name": "stdout",
     "output_type": "stream",
     "text": [
      "\n",
      " Bush : SVC \n"
     ]
    },
    {
     "name": "stderr",
     "output_type": "stream",
     "text": [
      "C:\\Users\\pooja\\Anaconda3\\lib\\site-packages\\sklearn\\metrics\\classification.py:1135: UndefinedMetricWarning: Precision is ill-defined and being set to 0.0 due to no predicted samples.\n",
      "  'precision', 'predicted', average, warn_for)\n",
      "C:\\Users\\pooja\\Anaconda3\\lib\\site-packages\\sklearn\\metrics\\classification.py:1135: UndefinedMetricWarning: F-score is ill-defined and being set to 0.0 due to no predicted samples.\n",
      "  'precision', 'predicted', average, warn_for)\n",
      "C:\\Users\\pooja\\Anaconda3\\lib\\site-packages\\sklearn\\metrics\\classification.py:1135: UndefinedMetricWarning: Precision is ill-defined and being set to 0.0 due to no predicted samples.\n",
      "  'precision', 'predicted', average, warn_for)\n",
      "C:\\Users\\pooja\\Anaconda3\\lib\\site-packages\\sklearn\\metrics\\classification.py:1135: UndefinedMetricWarning: F-score is ill-defined and being set to 0.0 due to no predicted samples.\n",
      "  'precision', 'predicted', average, warn_for)\n",
      "C:\\Users\\pooja\\Anaconda3\\lib\\site-packages\\sklearn\\metrics\\classification.py:1135: UndefinedMetricWarning: Precision is ill-defined and being set to 0.0 due to no predicted samples.\n",
      "  'precision', 'predicted', average, warn_for)\n"
     ]
    },
    {
     "name": "stdout",
     "output_type": "stream",
     "text": [
      "\n",
      " BUSH SVC with C = 0.001 , kernel = 'poly', coef0= 2.0  ,gamma= 'auto') {'fit_time': array([75.99054003, 75.9964242 , 76.11790633]), 'score_time': array([106.08294487, 105.59918737, 107.28668189]), 'test_precision': array([0., 0., 0.]), 'test_recall': array([0., 0., 0.]), 'test_f1': array([0., 0., 0.])}\n"
     ]
    },
    {
     "name": "stderr",
     "output_type": "stream",
     "text": [
      "C:\\Users\\pooja\\Anaconda3\\lib\\site-packages\\sklearn\\metrics\\classification.py:1135: UndefinedMetricWarning: F-score is ill-defined and being set to 0.0 due to no predicted samples.\n",
      "  'precision', 'predicted', average, warn_for)\n"
     ]
    }
   ],
   "source": [
    "print(\"\\n Bush : SVC \")\n",
    "svc = SVC(C = 0.001 , kernel = 'poly', coef0= 2.0  ,gamma= 'auto')\n",
    "stratified_cv_results_bushSVC_gamma323127868 = cross_validate(svc,X,y_bush,cv=StratifiedKFold(n_splits=3,shuffle = True, random_state=6099),\n",
    "                                      scoring = ('precision','recall','f1'),return_train_score= False)\n",
    "print(\"\\n BUSH SVC with C = 0.001 , kernel = 'poly', coef0= 2.0  ,gamma= 'auto' )\",stratified_cv_results_bushSVC_gamma323127868)\n"
   ]
  },
  {
   "cell_type": "code",
   "execution_count": 81,
   "metadata": {},
   "outputs": [
    {
     "name": "stdout",
     "output_type": "stream",
     "text": [
      "\n",
      " Bush : SVC \n",
      "\n",
      " BUSH SVC with C = 4.0 , kernel = 'poly', coef0= 5.0  ,degree = 10 , gamma=1/(X.shape[1]*X.std()) ) {'fit_time': array([151.02659416, 155.3023119 , 148.91251755]), 'score_time': array([203.02347279, 184.64563823, 187.75553441]), 'test_precision': array([0.7398374 , 0.76744186, 0.75961538]), 'test_recall': array([0.51412429, 0.55932203, 0.44886364]), 'test_f1': array([0.60666667, 0.64705882, 0.56428571])}\n"
     ]
    }
   ],
   "source": [
    "print(\"\\n Bush : SVC \")\n",
    "svc = SVC(C = 4.0 , kernel = 'poly', coef0= 5.0  ,degree = 10 , gamma=1/(X.shape[1]*X.std()) )\n",
    "stratified_cv_results_bushSVC_gamma32 = cross_validate(svc,X,y_bush,cv=StratifiedKFold(n_splits=3,shuffle = True, random_state=6099),\n",
    "                                      scoring = ('precision','recall','f1'),return_train_score= False)\n",
    "print(\"\\n BUSH SVC with C = 4.0 , kernel = 'poly', coef0= 5.0  ,degree = 10 , gamma=1/(X.shape[1]*X.std()) )\",stratified_cv_results_bushSVC_gamma32)\n"
   ]
  },
  {
   "cell_type": "code",
   "execution_count": 89,
   "metadata": {},
   "outputs": [
    {
     "name": "stdout",
     "output_type": "stream",
     "text": [
      "\n",
      " Bush : SVC \n",
      "\n",
      " BUSH SVC with C = 1000000.0 , kernel = 'poly', coef0= 5.0  ,degree = 10 , gamma=1/(X.shape[1]*X.std()) ) {'fit_time': array([141.22076011, 140.10095072, 150.51217675]), 'score_time': array([194.65442944, 190.67964292, 201.01421809]), 'test_precision': array([0.7398374 , 0.76744186, 0.75961538]), 'test_recall': array([0.51412429, 0.55932203, 0.44886364]), 'test_f1': array([0.60666667, 0.64705882, 0.56428571])}\n"
     ]
    }
   ],
   "source": [
    "print(\"\\n Bush : SVC \")\n",
    "svc = SVC(C = 1000000.0 , kernel = 'poly', coef0= 5.0  ,degree = 10 , gamma=1/(X.shape[1]*X.std()) )\n",
    "stratified_cv_results_bushSVC_gamma329090909 = cross_validate(svc,X,y_bush,cv=StratifiedKFold(n_splits=3,shuffle = True, random_state=6099),\n",
    "                                      scoring = ('precision','recall','f1'),return_train_score= False)\n",
    "    print(\"\\n BUSH SVC with C = 1000000.0 , kernel = 'poly', coef0= 5.0  ,degree = 10 , gamma=1/(X.shape[1]*X.std()) )\",stratified_cv_results_bushSVC_gamma329090909)\n"
   ]
  },
  {
   "cell_type": "markdown",
   "metadata": {},
   "source": [
    "# pickle bush"
   ]
  },
  {
   "cell_type": "code",
   "execution_count": 87,
   "metadata": {},
   "outputs": [],
   "source": [
    "import pickle\n",
    "import statistics\n",
    "bush_list = []\n",
    "#numbers = stratified_cv_results_n1bush['test_f1'] \n",
    "mean_n1_bush = statistics.mean(stratified_cv_results_n1bush['test_f1'])\n",
    "mean_n3_bush = statistics.mean(stratified_cv_results_n3bush['test_f1'])\n",
    "mean_n5_bush = statistics.mean(stratified_cv_results_n5bush['test_f1'])\n",
    "mean_svc_bush = statistics.mean(stratified_cv_results_bushSVC_gamma32['test_f1'])\n",
    "\n",
    "bush_list.append(mean_n1_bush)\n",
    "bush_list.append(mean_n3_bush)\n",
    "bush_list.append(mean_n5_bush)\n",
    "bush_list.append(mean_svc_bush)\n",
    "\n",
    "pickle.dump((bush_list), open('bush.pickle', 'wb'))"
   ]
  },
  {
   "cell_type": "markdown",
   "metadata": {},
   "source": [
    "# WILLIAMS"
   ]
  },
  {
   "cell_type": "markdown",
   "metadata": {},
   "source": [
    "# 5 Neighbors"
   ]
  },
  {
   "cell_type": "code",
   "execution_count": 7,
   "metadata": {},
   "outputs": [
    {
     "name": "stdout",
     "output_type": "stream",
     "text": [
      "Williams : KNN for 5 neighbors\n"
     ]
    },
    {
     "name": "stderr",
     "output_type": "stream",
     "text": [
      "C:\\Users\\pooja\\Anaconda3\\lib\\site-packages\\sklearn\\metrics\\classification.py:1135: UndefinedMetricWarning: Precision is ill-defined and being set to 0.0 due to no predicted samples.\n",
      "  'precision', 'predicted', average, warn_for)\n",
      "C:\\Users\\pooja\\Anaconda3\\lib\\site-packages\\sklearn\\metrics\\classification.py:1135: UndefinedMetricWarning: F-score is ill-defined and being set to 0.0 due to no predicted samples.\n",
      "  'precision', 'predicted', average, warn_for)\n",
      "C:\\Users\\pooja\\Anaconda3\\lib\\site-packages\\sklearn\\metrics\\classification.py:1135: UndefinedMetricWarning: Precision is ill-defined and being set to 0.0 due to no predicted samples.\n",
      "  'precision', 'predicted', average, warn_for)\n",
      "C:\\Users\\pooja\\Anaconda3\\lib\\site-packages\\sklearn\\metrics\\classification.py:1135: UndefinedMetricWarning: F-score is ill-defined and being set to 0.0 due to no predicted samples.\n",
      "  'precision', 'predicted', average, warn_for)\n",
      "C:\\Users\\pooja\\Anaconda3\\lib\\site-packages\\sklearn\\metrics\\classification.py:1135: UndefinedMetricWarning: Precision is ill-defined and being set to 0.0 due to no predicted samples.\n",
      "  'precision', 'predicted', average, warn_for)\n"
     ]
    },
    {
     "name": "stdout",
     "output_type": "stream",
     "text": [
      "\n",
      "  {'fit_time': array([12.9892602 , 11.68674159,  8.6438818 ]), 'score_time': array([400.23019481, 416.38794041, 391.77072787]), 'test_precision': array([0., 0., 0.]), 'test_recall': array([0., 0., 0.]), 'test_f1': array([0., 0., 0.])}\n"
     ]
    },
    {
     "name": "stderr",
     "output_type": "stream",
     "text": [
      "C:\\Users\\pooja\\Anaconda3\\lib\\site-packages\\sklearn\\metrics\\classification.py:1135: UndefinedMetricWarning: F-score is ill-defined and being set to 0.0 due to no predicted samples.\n",
      "  'precision', 'predicted', average, warn_for)\n"
     ]
    }
   ],
   "source": [
    "# WILLIAMS\n",
    "\n",
    "# Default 5 neighbors\n",
    "print(\"Williams : KNN for 5 neighbors\")\n",
    "knn = KNeighborsClassifier(n_neighbors = 5, n_jobs = -1)\n",
    "stratified_cv_results_n5 = cross_validate(knn,X,y_williams,cv=StratifiedKFold(n_splits=3,shuffle = True, random_state=6099),\n",
    "                                      scoring = ('precision','recall','f1'),return_train_score= False)\n",
    "print(\"\\n \",stratified_cv_results_n5)\n"
   ]
  },
  {
   "cell_type": "markdown",
   "metadata": {},
   "source": [
    "# 1 Neighbor"
   ]
  },
  {
   "cell_type": "code",
   "execution_count": 8,
   "metadata": {},
   "outputs": [
    {
     "name": "stdout",
     "output_type": "stream",
     "text": [
      "\n",
      " Williams : KNN for 1 neighbors\n",
      "\n",
      "  {'fit_time': array([10.11867356, 10.63974762,  9.55846453]), 'score_time': array([390.4468646 , 391.8257494 , 457.16243863]), 'test_precision': array([0.42857143, 0.25      , 1.        ]), 'test_recall': array([0.16666667, 0.05882353, 0.17647059]), 'test_f1': array([0.24     , 0.0952381, 0.3      ])}\n"
     ]
    }
   ],
   "source": [
    "#  1 neighbors\n",
    "import time\n",
    "start_time = time.time()\n",
    "print(\"start time : \",start_time)\n",
    "main()\n",
    "\n",
    "print(\"\\n Williams : KNN for 1 neighbors\")\n",
    "knn = KNeighborsClassifier(n_neighbors = 1, n_jobs = -1)\n",
    "\n",
    "stratified_cv_results_n1 = cross_validate(knn,X,y_williams,cv=StratifiedKFold(n_splits=3,shuffle = True, random_state=6099),\n",
    "                                      scoring = ('precision','recall','f1'),return_train_score= False)\n",
    "print(\"\\n \",stratified_cv_results_n1)\n",
    "\n",
    "\n",
    "print(\"--- %s seconds ---\" % (time.time() - start_time))\n"
   ]
  },
  {
   "cell_type": "markdown",
   "metadata": {},
   "source": [
    "# 3 Neighbors"
   ]
  },
  {
   "cell_type": "code",
   "execution_count": 9,
   "metadata": {},
   "outputs": [
    {
     "name": "stdout",
     "output_type": "stream",
     "text": [
      "\n",
      " Williams : KNN for 3 neighbors\n"
     ]
    },
    {
     "name": "stderr",
     "output_type": "stream",
     "text": [
      "C:\\Users\\pooja\\Anaconda3\\lib\\site-packages\\sklearn\\metrics\\classification.py:1135: UndefinedMetricWarning: Precision is ill-defined and being set to 0.0 due to no predicted samples.\n",
      "  'precision', 'predicted', average, warn_for)\n",
      "C:\\Users\\pooja\\Anaconda3\\lib\\site-packages\\sklearn\\metrics\\classification.py:1135: UndefinedMetricWarning: F-score is ill-defined and being set to 0.0 due to no predicted samples.\n",
      "  'precision', 'predicted', average, warn_for)\n",
      "C:\\Users\\pooja\\Anaconda3\\lib\\site-packages\\sklearn\\metrics\\classification.py:1135: UndefinedMetricWarning: Precision is ill-defined and being set to 0.0 due to no predicted samples.\n",
      "  'precision', 'predicted', average, warn_for)\n",
      "C:\\Users\\pooja\\Anaconda3\\lib\\site-packages\\sklearn\\metrics\\classification.py:1135: UndefinedMetricWarning: F-score is ill-defined and being set to 0.0 due to no predicted samples.\n",
      "  'precision', 'predicted', average, warn_for)\n",
      "C:\\Users\\pooja\\Anaconda3\\lib\\site-packages\\sklearn\\metrics\\classification.py:1135: UndefinedMetricWarning: Precision is ill-defined and being set to 0.0 due to no predicted samples.\n",
      "  'precision', 'predicted', average, warn_for)\n"
     ]
    },
    {
     "name": "stdout",
     "output_type": "stream",
     "text": [
      "\n",
      "  {'fit_time': array([10.88711643, 11.21104455, 10.48717833]), 'score_time': array([476.59465718, 447.51353049, 458.31128144]), 'test_precision': array([0., 0., 0.]), 'test_recall': array([0., 0., 0.]), 'test_f1': array([0., 0., 0.])}\n"
     ]
    },
    {
     "name": "stderr",
     "output_type": "stream",
     "text": [
      "C:\\Users\\pooja\\Anaconda3\\lib\\site-packages\\sklearn\\metrics\\classification.py:1135: UndefinedMetricWarning: F-score is ill-defined and being set to 0.0 due to no predicted samples.\n",
      "  'precision', 'predicted', average, warn_for)\n"
     ]
    }
   ],
   "source": [
    "# 3 neighbors\n",
    "print(\"\\n Williams : KNN for 3 neighbors\")\n",
    "knn = KNeighborsClassifier(n_neighbors = 3, n_jobs = -1)\n",
    "\n",
    "stratified_cv_results_n3 = cross_validate(knn,X,y_williams,cv=StratifiedKFold(n_splits=3,shuffle = True, random_state=6099),\n",
    "                                      scoring = ('precision','recall','f1'),return_train_score= False)\n",
    "print(\"\\n \",stratified_cv_results_n3)"
   ]
  },
  {
   "cell_type": "markdown",
   "metadata": {},
   "source": [
    "# Williams SVC"
   ]
  },
  {
   "cell_type": "code",
   "execution_count": 47,
   "metadata": {},
   "outputs": [
    {
     "name": "stdout",
     "output_type": "stream",
     "text": [
      "\n",
      " Williams : SVC \n",
      "\n",
      " Williams with C=1.0, kernel='linear'  {'fit_time': array([20.27377844, 18.7149477 , 20.57497048]), 'score_time': array([20.9429853 , 20.2867372 , 20.48222017]), 'test_precision': array([0.85714286, 0.85714286, 0.64285714]), 'test_recall': array([0.33333333, 0.35294118, 0.52941176]), 'test_f1': array([0.48      , 0.5       , 0.58064516])}\n"
     ]
    }
   ],
   "source": [
    "\n",
    "print(\"\\n Williams : SVC \")\n",
    "svc = SVC(C=1.0, kernel='linear')\n",
    "stratified_cv_results_williamsSVC = cross_validate(svc,X,y_williams,cv=StratifiedKFold(n_splits=3,shuffle = True, random_state=6099),\n",
    "                                      scoring = ('precision','recall','f1'),return_train_score= False)\n",
    "print(\"\\n Williams with C=1.0, kernel='linear' \",stratified_cv_results_williamsSVC)\n",
    "# svc = SVC(gamma=1/(X.shape[1]*X.std()))\n"
   ]
  },
  {
   "cell_type": "code",
   "execution_count": 48,
   "metadata": {},
   "outputs": [
    {
     "name": "stdout",
     "output_type": "stream",
     "text": [
      "\n",
      " Williams : SVC \n"
     ]
    },
    {
     "name": "stderr",
     "output_type": "stream",
     "text": [
      "C:\\Users\\pooja\\Anaconda3\\lib\\site-packages\\sklearn\\metrics\\classification.py:1135: UndefinedMetricWarning: Precision is ill-defined and being set to 0.0 due to no predicted samples.\n",
      "  'precision', 'predicted', average, warn_for)\n",
      "C:\\Users\\pooja\\Anaconda3\\lib\\site-packages\\sklearn\\metrics\\classification.py:1135: UndefinedMetricWarning: F-score is ill-defined and being set to 0.0 due to no predicted samples.\n",
      "  'precision', 'predicted', average, warn_for)\n",
      "C:\\Users\\pooja\\Anaconda3\\lib\\site-packages\\sklearn\\metrics\\classification.py:1135: UndefinedMetricWarning: Precision is ill-defined and being set to 0.0 due to no predicted samples.\n",
      "  'precision', 'predicted', average, warn_for)\n",
      "C:\\Users\\pooja\\Anaconda3\\lib\\site-packages\\sklearn\\metrics\\classification.py:1135: UndefinedMetricWarning: F-score is ill-defined and being set to 0.0 due to no predicted samples.\n",
      "  'precision', 'predicted', average, warn_for)\n",
      "C:\\Users\\pooja\\Anaconda3\\lib\\site-packages\\sklearn\\metrics\\classification.py:1135: UndefinedMetricWarning: Precision is ill-defined and being set to 0.0 due to no predicted samples.\n",
      "  'precision', 'predicted', average, warn_for)\n"
     ]
    },
    {
     "name": "stdout",
     "output_type": "stream",
     "text": [
      "\n",
      " Williams SVC with C=1.0 , kernel = 'poly',degree = 3 {'fit_time': array([16.04209399, 15.29609108, 16.0271287 ]), 'score_time': array([16.2226119 , 17.70863485, 17.91308928]), 'test_precision': array([0., 0., 0.]), 'test_recall': array([0., 0., 0.]), 'test_f1': array([0., 0., 0.])}\n"
     ]
    },
    {
     "name": "stderr",
     "output_type": "stream",
     "text": [
      "C:\\Users\\pooja\\Anaconda3\\lib\\site-packages\\sklearn\\metrics\\classification.py:1135: UndefinedMetricWarning: F-score is ill-defined and being set to 0.0 due to no predicted samples.\n",
      "  'precision', 'predicted', average, warn_for)\n"
     ]
    }
   ],
   "source": [
    "\n",
    "print(\"\\n Williams : SVC \")\n",
    "svc = SVC(C=1.0 , kernel = 'poly',degree = 3)\n",
    "stratified_cv_results_williamsSVC1 = cross_validate(svc,X,y_williams,cv=StratifiedKFold(n_splits=3,shuffle = True, random_state=6099),\n",
    "                                      scoring = ('precision','recall','f1'),return_train_score= False)\n",
    "print(\"\\n Williams SVC with C=1.0 , kernel = 'poly',degree = 3\",stratified_cv_results_williamsSVC1)\n",
    "# svc = SVC(gamma=1/(X.shape[1]*X.std()))"
   ]
  },
  {
   "cell_type": "code",
   "execution_count": 49,
   "metadata": {},
   "outputs": [
    {
     "name": "stdout",
     "output_type": "stream",
     "text": [
      "\n",
      " Williams : SVC \n"
     ]
    },
    {
     "name": "stderr",
     "output_type": "stream",
     "text": [
      "C:\\Users\\pooja\\Anaconda3\\lib\\site-packages\\sklearn\\metrics\\classification.py:1135: UndefinedMetricWarning: Precision is ill-defined and being set to 0.0 due to no predicted samples.\n",
      "  'precision', 'predicted', average, warn_for)\n",
      "C:\\Users\\pooja\\Anaconda3\\lib\\site-packages\\sklearn\\metrics\\classification.py:1135: UndefinedMetricWarning: F-score is ill-defined and being set to 0.0 due to no predicted samples.\n",
      "  'precision', 'predicted', average, warn_for)\n",
      "C:\\Users\\pooja\\Anaconda3\\lib\\site-packages\\sklearn\\metrics\\classification.py:1135: UndefinedMetricWarning: Precision is ill-defined and being set to 0.0 due to no predicted samples.\n",
      "  'precision', 'predicted', average, warn_for)\n",
      "C:\\Users\\pooja\\Anaconda3\\lib\\site-packages\\sklearn\\metrics\\classification.py:1135: UndefinedMetricWarning: F-score is ill-defined and being set to 0.0 due to no predicted samples.\n",
      "  'precision', 'predicted', average, warn_for)\n",
      "C:\\Users\\pooja\\Anaconda3\\lib\\site-packages\\sklearn\\metrics\\classification.py:1135: UndefinedMetricWarning: Precision is ill-defined and being set to 0.0 due to no predicted samples.\n",
      "  'precision', 'predicted', average, warn_for)\n"
     ]
    },
    {
     "name": "stdout",
     "output_type": "stream",
     "text": [
      "\n",
      " Williams SVC with C = 1.0 , gamma=1/(X.shape[1]*X.std()) {'fit_time': array([19.02511692, 17.68821692, 17.82757449]), 'score_time': array([23.48917651, 21.70494986, 21.56805873]), 'test_precision': array([0., 0., 0.]), 'test_recall': array([0., 0., 0.]), 'test_f1': array([0., 0., 0.])}\n"
     ]
    },
    {
     "name": "stderr",
     "output_type": "stream",
     "text": [
      "C:\\Users\\pooja\\Anaconda3\\lib\\site-packages\\sklearn\\metrics\\classification.py:1135: UndefinedMetricWarning: F-score is ill-defined and being set to 0.0 due to no predicted samples.\n",
      "  'precision', 'predicted', average, warn_for)\n"
     ]
    }
   ],
   "source": [
    "# delete above when done this\n",
    "\n",
    "print(\"\\n Williams : SVC \")\n",
    "svc = SVC(C = 1.0 , gamma=1/(X.shape[1]*X.std()))\n",
    "stratified_cv_results_williamsSVC_gamma12 = cross_validate(svc,X,y_williams,cv=StratifiedKFold(n_splits=3,shuffle = True, random_state=6099),\n",
    "                                      scoring = ('precision','recall','f1'),return_train_score= False)\n",
    "print(\"\\n Williams SVC with C = 1.0 , gamma=1/(X.shape[1]*X.std())\",stratified_cv_results_williamsSVC_gamma12)\n",
    "# svc = SVC(gamma=1/(X.shape[1]*X.std()))"
   ]
  },
  {
   "cell_type": "code",
   "execution_count": 50,
   "metadata": {},
   "outputs": [
    {
     "name": "stdout",
     "output_type": "stream",
     "text": [
      "\n",
      " Williams : SVC \n"
     ]
    },
    {
     "name": "stderr",
     "output_type": "stream",
     "text": [
      "C:\\Users\\pooja\\Anaconda3\\lib\\site-packages\\sklearn\\metrics\\classification.py:1135: UndefinedMetricWarning: Precision is ill-defined and being set to 0.0 due to no predicted samples.\n",
      "  'precision', 'predicted', average, warn_for)\n",
      "C:\\Users\\pooja\\Anaconda3\\lib\\site-packages\\sklearn\\metrics\\classification.py:1135: UndefinedMetricWarning: F-score is ill-defined and being set to 0.0 due to no predicted samples.\n",
      "  'precision', 'predicted', average, warn_for)\n",
      "C:\\Users\\pooja\\Anaconda3\\lib\\site-packages\\sklearn\\metrics\\classification.py:1135: UndefinedMetricWarning: Precision is ill-defined and being set to 0.0 due to no predicted samples.\n",
      "  'precision', 'predicted', average, warn_for)\n",
      "C:\\Users\\pooja\\Anaconda3\\lib\\site-packages\\sklearn\\metrics\\classification.py:1135: UndefinedMetricWarning: F-score is ill-defined and being set to 0.0 due to no predicted samples.\n",
      "  'precision', 'predicted', average, warn_for)\n",
      "C:\\Users\\pooja\\Anaconda3\\lib\\site-packages\\sklearn\\metrics\\classification.py:1135: UndefinedMetricWarning: Precision is ill-defined and being set to 0.0 due to no predicted samples.\n",
      "  'precision', 'predicted', average, warn_for)\n"
     ]
    },
    {
     "name": "stdout",
     "output_type": "stream",
     "text": [
      "\n",
      " Williams SVC with C = 1.0 , kernel = 'rbf',gamma=1/(X.shape[1]*X.std()) {'fit_time': array([18.89554024, 18.21414256, 18.85257912]), 'score_time': array([23.78945565, 22.20760655, 21.76798391]), 'test_precision': array([0., 0., 0.]), 'test_recall': array([0., 0., 0.]), 'test_f1': array([0., 0., 0.])}\n"
     ]
    },
    {
     "name": "stderr",
     "output_type": "stream",
     "text": [
      "C:\\Users\\pooja\\Anaconda3\\lib\\site-packages\\sklearn\\metrics\\classification.py:1135: UndefinedMetricWarning: F-score is ill-defined and being set to 0.0 due to no predicted samples.\n",
      "  'precision', 'predicted', average, warn_for)\n"
     ]
    }
   ],
   "source": [
    "print(\"\\n Williams : SVC \")\n",
    "svc = SVC(C = 1.0 , kernel = 'rbf',gamma=1/(X.shape[1]*X.std()))\n",
    "stratified_cv_results_williamsSVC_gamma123 = cross_validate(svc,X,y_williams,cv=StratifiedKFold(n_splits=3,shuffle = True, random_state=6099),\n",
    "                                      scoring = ('precision','recall','f1'),return_train_score= False)\n",
    "print(\"\\n Williams SVC with C = 1.0 , kernel = 'rbf',gamma=1/(X.shape[1]*X.std())\",stratified_cv_results_williamsSVC_gamma123)\n",
    "# svc = SVC(gamma=1/(X.shape[1]*X.std()))"
   ]
  },
  {
   "cell_type": "code",
   "execution_count": 51,
   "metadata": {},
   "outputs": [
    {
     "name": "stdout",
     "output_type": "stream",
     "text": [
      "\n",
      " Williams : SVC \n",
      "\n",
      " Williams SVC with C = 6.0 , kernel = 'linear', degree = 6 , gamma=1/(X.shape[1]*X.std()) {'fit_time': array([20.2338798 , 18.76369762, 19.33129835]), 'score_time': array([20.16905379, 20.935009  , 21.49760485]), 'test_precision': array([0.85714286, 0.85714286, 0.64285714]), 'test_recall': array([0.33333333, 0.35294118, 0.52941176]), 'test_f1': array([0.48      , 0.5       , 0.58064516])}\n"
     ]
    }
   ],
   "source": [
    "print(\"\\n Williams : SVC \")\n",
    "svc = SVC(C = 6.0 , kernel = 'linear', degree = 6 , gamma=1/(X.shape[1]*X.std()))\n",
    "stratified_cv_results_williamsSVC_gamma1234 = cross_validate(svc,X,y_williams,cv=StratifiedKFold(n_splits=3,shuffle = True, random_state=6099),\n",
    "                                      scoring = ('precision','recall','f1'),return_train_score= False)\n",
    "print(\"\\n Williams SVC with C = 6.0 , kernel = 'linear', degree = 6 , gamma=1/(X.shape[1]*X.std())\",stratified_cv_results_williamsSVC_gamma1234)\n",
    "# svc = SVC(gamma=1/(X.shape[1]*X.std()))"
   ]
  },
  {
   "cell_type": "code",
   "execution_count": 52,
   "metadata": {},
   "outputs": [
    {
     "name": "stdout",
     "output_type": "stream",
     "text": [
      "\n",
      " Williams : SVC \n"
     ]
    },
    {
     "name": "stderr",
     "output_type": "stream",
     "text": [
      "C:\\Users\\pooja\\Anaconda3\\lib\\site-packages\\sklearn\\metrics\\classification.py:1135: UndefinedMetricWarning: Precision is ill-defined and being set to 0.0 due to no predicted samples.\n",
      "  'precision', 'predicted', average, warn_for)\n",
      "C:\\Users\\pooja\\Anaconda3\\lib\\site-packages\\sklearn\\metrics\\classification.py:1135: UndefinedMetricWarning: F-score is ill-defined and being set to 0.0 due to no predicted samples.\n",
      "  'precision', 'predicted', average, warn_for)\n",
      "C:\\Users\\pooja\\Anaconda3\\lib\\site-packages\\sklearn\\metrics\\classification.py:1135: UndefinedMetricWarning: Precision is ill-defined and being set to 0.0 due to no predicted samples.\n",
      "  'precision', 'predicted', average, warn_for)\n",
      "C:\\Users\\pooja\\Anaconda3\\lib\\site-packages\\sklearn\\metrics\\classification.py:1135: UndefinedMetricWarning: F-score is ill-defined and being set to 0.0 due to no predicted samples.\n",
      "  'precision', 'predicted', average, warn_for)\n",
      "C:\\Users\\pooja\\Anaconda3\\lib\\site-packages\\sklearn\\metrics\\classification.py:1135: UndefinedMetricWarning: Precision is ill-defined and being set to 0.0 due to no predicted samples.\n",
      "  'precision', 'predicted', average, warn_for)\n"
     ]
    },
    {
     "name": "stdout",
     "output_type": "stream",
     "text": [
      "\n",
      " Williams SVC with C = 9.0 , kernel = 'sigmoid',  gamma= 'auto') {'fit_time': array([11.03866839, 10.58768177, 10.83900666]), 'score_time': array([ 9.24526739, 10.20670247,  9.58336687]), 'test_precision': array([0., 0., 0.]), 'test_recall': array([0., 0., 0.]), 'test_f1': array([0., 0., 0.])}\n"
     ]
    },
    {
     "name": "stderr",
     "output_type": "stream",
     "text": [
      "C:\\Users\\pooja\\Anaconda3\\lib\\site-packages\\sklearn\\metrics\\classification.py:1135: UndefinedMetricWarning: F-score is ill-defined and being set to 0.0 due to no predicted samples.\n",
      "  'precision', 'predicted', average, warn_for)\n"
     ]
    }
   ],
   "source": [
    "print(\"\\n Williams : SVC \")\n",
    "svc = SVC(C = 9.0 , kernel = 'sigmoid',  gamma= 'auto')\n",
    "stratified_cv_results_williamsSVC_gamma12345 = cross_validate(svc,X,y_williams,cv=StratifiedKFold(n_splits=3,shuffle = True, random_state=6099),\n",
    "                                      scoring = ('precision','recall','f1'),return_train_score= False)\n",
    "print(\"\\n Williams SVC with C = 9.0 , kernel = 'sigmoid',  gamma= 'auto')\",stratified_cv_results_williamsSVC_gamma12345)\n",
    "# svc = SVC(gamma=1/(X.shape[1]*X.std()))"
   ]
  },
  {
   "cell_type": "code",
   "execution_count": 53,
   "metadata": {},
   "outputs": [
    {
     "name": "stdout",
     "output_type": "stream",
     "text": [
      "\n",
      " Williams : SVC \n"
     ]
    },
    {
     "name": "stderr",
     "output_type": "stream",
     "text": [
      "C:\\Users\\pooja\\Anaconda3\\lib\\site-packages\\sklearn\\metrics\\classification.py:1135: UndefinedMetricWarning: Precision is ill-defined and being set to 0.0 due to no predicted samples.\n",
      "  'precision', 'predicted', average, warn_for)\n",
      "C:\\Users\\pooja\\Anaconda3\\lib\\site-packages\\sklearn\\metrics\\classification.py:1135: UndefinedMetricWarning: F-score is ill-defined and being set to 0.0 due to no predicted samples.\n",
      "  'precision', 'predicted', average, warn_for)\n",
      "C:\\Users\\pooja\\Anaconda3\\lib\\site-packages\\sklearn\\metrics\\classification.py:1135: UndefinedMetricWarning: Precision is ill-defined and being set to 0.0 due to no predicted samples.\n",
      "  'precision', 'predicted', average, warn_for)\n",
      "C:\\Users\\pooja\\Anaconda3\\lib\\site-packages\\sklearn\\metrics\\classification.py:1135: UndefinedMetricWarning: F-score is ill-defined and being set to 0.0 due to no predicted samples.\n",
      "  'precision', 'predicted', average, warn_for)\n",
      "C:\\Users\\pooja\\Anaconda3\\lib\\site-packages\\sklearn\\metrics\\classification.py:1135: UndefinedMetricWarning: Precision is ill-defined and being set to 0.0 due to no predicted samples.\n",
      "  'precision', 'predicted', average, warn_for)\n"
     ]
    },
    {
     "name": "stdout",
     "output_type": "stream",
     "text": [
      "\n",
      " Williams SVC with kernel = 'sigmoid' and other default except degree : ) {'fit_time': array([10.58717418, 10.51787162, 10.85996675]), 'score_time': array([ 9.75274992, 10.11494517, 10.02462268]), 'test_precision': array([0., 0., 0.]), 'test_recall': array([0., 0., 0.]), 'test_f1': array([0., 0., 0.])}\n"
     ]
    },
    {
     "name": "stderr",
     "output_type": "stream",
     "text": [
      "C:\\Users\\pooja\\Anaconda3\\lib\\site-packages\\sklearn\\metrics\\classification.py:1135: UndefinedMetricWarning: F-score is ill-defined and being set to 0.0 due to no predicted samples.\n",
      "  'precision', 'predicted', average, warn_for)\n"
     ]
    }
   ],
   "source": [
    "print(\"\\n Williams : SVC \")\n",
    "svc = SVC( kernel = 'sigmoid')\n",
    "stratified_cv_results_williamsSVC_gamma123456 = cross_validate(svc,X,y_williams,cv=StratifiedKFold(n_splits=3,shuffle = True, random_state=6099),\n",
    "                                      scoring = ('precision','recall','f1'),return_train_score= False)\n",
    "print(\"\\n Williams SVC with kernel = 'sigmoid' and other default except degree : )\",stratified_cv_results_williamsSVC_gamma123456)\n",
    "# svc = SVC(gamma=1/(X.shape[1]*X.std()))"
   ]
  },
  {
   "cell_type": "code",
   "execution_count": 54,
   "metadata": {},
   "outputs": [
    {
     "name": "stdout",
     "output_type": "stream",
     "text": [
      "\n",
      " Williams : SVC \n",
      "\n",
      " Williams SVC with C = 24.0 , kernel = 'sigmoid',  gamma= 1/(X.shape[1]*X.std())) {'fit_time': array([8.70172787, 8.98995423, 7.75027227]), 'score_time': array([7.03135729, 7.06709981, 7.1259408 ]), 'test_precision': array([0., 0., 0.]), 'test_recall': array([0., 0., 0.]), 'test_f1': array([0., 0., 0.])}\n"
     ]
    }
   ],
   "source": [
    "print(\"\\n Williams : SVC \")\n",
    "svc = SVC(C = 24.0 , kernel = 'sigmoid',  gamma= 1/(X.shape[1]*X.std()))\n",
    "stratified_cv_results_williamsSVC_gamma1238 = cross_validate(svc,X,y_williams,cv=StratifiedKFold(n_splits=3,shuffle = True, random_state=6099),\n",
    "                                      scoring = ('precision','recall','f1'),return_train_score= False)\n",
    "print(\"\\n Williams SVC with C = 24.0 , kernel = 'sigmoid',  gamma= 1/(X.shape[1]*X.std()))\",stratified_cv_results_williamsSVC_gamma1238)\n",
    "# svc = SVC(gamma=1/(X.shape[1]*X.std()))"
   ]
  },
  {
   "cell_type": "code",
   "execution_count": 55,
   "metadata": {},
   "outputs": [
    {
     "name": "stdout",
     "output_type": "stream",
     "text": [
      "\n",
      " Williams : SVC \n",
      "\n",
      " Williams SVC with C = 24.0 , kernel = 'linear') {'fit_time': array([22.88679171, 18.8987999 , 21.19630647]), 'score_time': array([22.49932933, 20.07730246, 21.42170715]), 'test_precision': array([0.85714286, 0.85714286, 0.64285714]), 'test_recall': array([0.33333333, 0.35294118, 0.52941176]), 'test_f1': array([0.48      , 0.5       , 0.58064516])}\n"
     ]
    }
   ],
   "source": [
    "print(\"\\n Williams : SVC \")\n",
    "svc = SVC(C = 24.0 , kernel = 'linear')\n",
    "stratified_cv_results_williamsSVC_gamma1239 = cross_validate(svc,X,y_williams,cv=StratifiedKFold(n_splits=3,shuffle = True, random_state=6099),\n",
    "                                      scoring = ('precision','recall','f1'),return_train_score= False)\n",
    "print(\"\\n Williams SVC with C = 24.0 , kernel = 'linear')\",stratified_cv_results_williamsSVC_gamma1239)\n",
    "# svc = SVC(gamma=1/(X.shape[1]*X.std()))"
   ]
  },
  {
   "cell_type": "code",
   "execution_count": 56,
   "metadata": {},
   "outputs": [
    {
     "name": "stdout",
     "output_type": "stream",
     "text": [
      "\n",
      " Williams : SVC \n",
      "\n",
      " Williams SVC with C = 24.0 , kernel = 'linear') {'fit_time': array([22.0729692 , 19.22258973, 20.06168294]), 'score_time': array([20.69364834, 25.0480144 , 22.54669762]), 'test_precision': array([0.85714286, 0.85714286, 0.64285714]), 'test_recall': array([0.33333333, 0.35294118, 0.52941176]), 'test_f1': array([0.48      , 0.5       , 0.58064516])}\n"
     ]
    }
   ],
   "source": [
    "print(\"\\n Williams : SVC \")\n",
    "svc = SVC(C = 80.0 , kernel = 'linear')\n",
    "stratified_cv_results_williamsSVC_gamma99 = cross_validate(svc,X,y_williams,cv=StratifiedKFold(n_splits=3,shuffle = True, random_state=6099),\n",
    "                                      scoring = ('precision','recall','f1'),return_train_score= False)\n",
    "print(\"\\n Williams SVC with C = 80.0 , kernel = 'linear')\",stratified_cv_results_williamsSVC_gamma99)\n",
    "# svc = SVC(gamma=1/(X.shape[1]*X.std()))"
   ]
  },
  {
   "cell_type": "code",
   "execution_count": 58,
   "metadata": {},
   "outputs": [
    {
     "name": "stdout",
     "output_type": "stream",
     "text": [
      "\n",
      " Williams : SVC \n",
      "\n",
      " Williams SVC with C = 1000000.0 , kernel = 'linear') {'fit_time': array([20.90291619, 19.34227395, 20.99981499]), 'score_time': array([21.14402151, 20.76527071, 21.80366182]), 'test_precision': array([0.85714286, 0.85714286, 0.64285714]), 'test_recall': array([0.33333333, 0.35294118, 0.52941176]), 'test_f1': array([0.48      , 0.5       , 0.58064516])}\n"
     ]
    }
   ],
   "source": [
    "print(\"\\n Williams : SVC \")\n",
    "svc = SVC(C = 1000000.0 , kernel = 'linear')\n",
    "stratified_cv_results_williamsSVC_pppppp = cross_validate(svc,X,y_williams,cv=StratifiedKFold(n_splits=3,shuffle = True, random_state=6099),\n",
    "                                      scoring = ('precision','recall','f1'),return_train_score= False)\n",
    "print(\"\\n Williams SVC with C = 1000000.0 , kernel = 'linear')\",stratified_cv_results_williamsSVC_pppppp)\n",
    "# svc = SVC(gamma=1/(X.shape[1]*X.std()))"
   ]
  },
  {
   "cell_type": "code",
   "execution_count": 66,
   "metadata": {},
   "outputs": [
    {
     "name": "stdout",
     "output_type": "stream",
     "text": [
      "\n",
      " Williams : SVC \n"
     ]
    },
    {
     "name": "stderr",
     "output_type": "stream",
     "text": [
      "C:\\Users\\pooja\\Anaconda3\\lib\\site-packages\\sklearn\\metrics\\classification.py:1135: UndefinedMetricWarning: Precision is ill-defined and being set to 0.0 due to no predicted samples.\n",
      "  'precision', 'predicted', average, warn_for)\n",
      "C:\\Users\\pooja\\Anaconda3\\lib\\site-packages\\sklearn\\metrics\\classification.py:1135: UndefinedMetricWarning: F-score is ill-defined and being set to 0.0 due to no predicted samples.\n",
      "  'precision', 'predicted', average, warn_for)\n",
      "C:\\Users\\pooja\\Anaconda3\\lib\\site-packages\\sklearn\\metrics\\classification.py:1135: UndefinedMetricWarning: Precision is ill-defined and being set to 0.0 due to no predicted samples.\n",
      "  'precision', 'predicted', average, warn_for)\n",
      "C:\\Users\\pooja\\Anaconda3\\lib\\site-packages\\sklearn\\metrics\\classification.py:1135: UndefinedMetricWarning: F-score is ill-defined and being set to 0.0 due to no predicted samples.\n",
      "  'precision', 'predicted', average, warn_for)\n",
      "C:\\Users\\pooja\\Anaconda3\\lib\\site-packages\\sklearn\\metrics\\classification.py:1135: UndefinedMetricWarning: Precision is ill-defined and being set to 0.0 due to no predicted samples.\n",
      "  'precision', 'predicted', average, warn_for)\n"
     ]
    },
    {
     "name": "stdout",
     "output_type": "stream",
     "text": [
      "\n",
      " BUSH SVC with C = 2.0 , kernel = 'poly',  degree = 2 , gamma= 'auto_deprecated') {'fit_time': array([12.96425819, 11.42420149, 11.21702504]), 'score_time': array([12.29343677, 11.9814527 , 12.58344221]), 'test_precision': array([0., 0., 0.]), 'test_recall': array([0., 0., 0.]), 'test_f1': array([0., 0., 0.])}\n"
     ]
    },
    {
     "name": "stderr",
     "output_type": "stream",
     "text": [
      "C:\\Users\\pooja\\Anaconda3\\lib\\site-packages\\sklearn\\metrics\\classification.py:1135: UndefinedMetricWarning: F-score is ill-defined and being set to 0.0 due to no predicted samples.\n",
      "  'precision', 'predicted', average, warn_for)\n"
     ]
    }
   ],
   "source": [
    "print(\"\\n Williams : SVC \")\n",
    "svc = SVC(C = 2.0 , kernel = 'poly',  degree = 2 , gamma= 'auto')\n",
    "stratified_cv_results_williamsSVC_gamma15638 = cross_validate(svc,X,y_williams,cv=StratifiedKFold(n_splits=3,shuffle = True, random_state=6099),\n",
    "                                      scoring = ('precision','recall','f1'),return_train_score= False)\n",
    "print(\"\\n BUSH SVC with C = 2.0 , kernel = 'poly',  degree = 2 , gamma= 'auto_deprecated')\",stratified_cv_results_williamsSVC_gamma15638)\n"
   ]
  },
  {
   "cell_type": "code",
   "execution_count": 67,
   "metadata": {},
   "outputs": [
    {
     "name": "stdout",
     "output_type": "stream",
     "text": [
      "\n",
      " Williams : SVC \n"
     ]
    },
    {
     "name": "stderr",
     "output_type": "stream",
     "text": [
      "C:\\Users\\pooja\\Anaconda3\\lib\\site-packages\\sklearn\\metrics\\classification.py:1135: UndefinedMetricWarning: Precision is ill-defined and being set to 0.0 due to no predicted samples.\n",
      "  'precision', 'predicted', average, warn_for)\n",
      "C:\\Users\\pooja\\Anaconda3\\lib\\site-packages\\sklearn\\metrics\\classification.py:1135: UndefinedMetricWarning: F-score is ill-defined and being set to 0.0 due to no predicted samples.\n",
      "  'precision', 'predicted', average, warn_for)\n",
      "C:\\Users\\pooja\\Anaconda3\\lib\\site-packages\\sklearn\\metrics\\classification.py:1135: UndefinedMetricWarning: Precision is ill-defined and being set to 0.0 due to no predicted samples.\n",
      "  'precision', 'predicted', average, warn_for)\n",
      "C:\\Users\\pooja\\Anaconda3\\lib\\site-packages\\sklearn\\metrics\\classification.py:1135: UndefinedMetricWarning: F-score is ill-defined and being set to 0.0 due to no predicted samples.\n",
      "  'precision', 'predicted', average, warn_for)\n",
      "C:\\Users\\pooja\\Anaconda3\\lib\\site-packages\\sklearn\\metrics\\classification.py:1135: UndefinedMetricWarning: Precision is ill-defined and being set to 0.0 due to no predicted samples.\n",
      "  'precision', 'predicted', average, warn_for)\n"
     ]
    },
    {
     "name": "stdout",
     "output_type": "stream",
     "text": [
      "\n",
      " BUSH SVC with C = 2.0 , kernel = 'rbf',   gamma= 'auto' ) {'fit_time': array([11.71472526,  9.95537472, 10.57272148]), 'score_time': array([12.60223651, 11.6424005 , 12.80103517]), 'test_precision': array([0., 0., 0.]), 'test_recall': array([0., 0., 0.]), 'test_f1': array([0., 0., 0.])}\n"
     ]
    },
    {
     "name": "stderr",
     "output_type": "stream",
     "text": [
      "C:\\Users\\pooja\\Anaconda3\\lib\\site-packages\\sklearn\\metrics\\classification.py:1135: UndefinedMetricWarning: F-score is ill-defined and being set to 0.0 due to no predicted samples.\n",
      "  'precision', 'predicted', average, warn_for)\n"
     ]
    }
   ],
   "source": [
    "print(\"\\n Williams : SVC \")\n",
    "svc = SVC(C = 2.0 , kernel = 'rbf',   gamma= 'auto')\n",
    "stratified_cv_results_williamsSVC_gamma15638212 = cross_validate(svc,X,y_williams,cv=StratifiedKFold(n_splits=3,shuffle = True, random_state=6099),\n",
    "                                      scoring = ('precision','recall','f1'),return_train_score= False)\n",
    "print(\"\\n BUSH SVC with C = 2.0 , kernel = 'rbf',   gamma= 'auto' )\",stratified_cv_results_williamsSVC_gamma15638212)\n"
   ]
  },
  {
   "cell_type": "code",
   "execution_count": 72,
   "metadata": {},
   "outputs": [
    {
     "name": "stdout",
     "output_type": "stream",
     "text": [
      "\n",
      " Williams : SVC \n"
     ]
    },
    {
     "name": "stderr",
     "output_type": "stream",
     "text": [
      "C:\\Users\\pooja\\Anaconda3\\lib\\site-packages\\sklearn\\metrics\\classification.py:1135: UndefinedMetricWarning: Precision is ill-defined and being set to 0.0 due to no predicted samples.\n",
      "  'precision', 'predicted', average, warn_for)\n",
      "C:\\Users\\pooja\\Anaconda3\\lib\\site-packages\\sklearn\\metrics\\classification.py:1135: UndefinedMetricWarning: F-score is ill-defined and being set to 0.0 due to no predicted samples.\n",
      "  'precision', 'predicted', average, warn_for)\n",
      "C:\\Users\\pooja\\Anaconda3\\lib\\site-packages\\sklearn\\metrics\\classification.py:1135: UndefinedMetricWarning: Precision is ill-defined and being set to 0.0 due to no predicted samples.\n",
      "  'precision', 'predicted', average, warn_for)\n",
      "C:\\Users\\pooja\\Anaconda3\\lib\\site-packages\\sklearn\\metrics\\classification.py:1135: UndefinedMetricWarning: F-score is ill-defined and being set to 0.0 due to no predicted samples.\n",
      "  'precision', 'predicted', average, warn_for)\n",
      "C:\\Users\\pooja\\Anaconda3\\lib\\site-packages\\sklearn\\metrics\\classification.py:1135: UndefinedMetricWarning: Precision is ill-defined and being set to 0.0 due to no predicted samples.\n",
      "  'precision', 'predicted', average, warn_for)\n"
     ]
    },
    {
     "name": "stdout",
     "output_type": "stream",
     "text": [
      "\n",
      " Williams SVC with C = 0.001 , kernel = 'linear',   gamma= 'auto' ) {'fit_time': array([10.23972106, 10.40223718, 10.69841099]), 'score_time': array([10.94767523, 10.54872847, 11.04344082]), 'test_precision': array([0., 0., 0.]), 'test_recall': array([0., 0., 0.]), 'test_f1': array([0., 0., 0.])}\n"
     ]
    },
    {
     "name": "stderr",
     "output_type": "stream",
     "text": [
      "C:\\Users\\pooja\\Anaconda3\\lib\\site-packages\\sklearn\\metrics\\classification.py:1135: UndefinedMetricWarning: F-score is ill-defined and being set to 0.0 due to no predicted samples.\n",
      "  'precision', 'predicted', average, warn_for)\n"
     ]
    }
   ],
   "source": [
    "print(\"\\n Williams : SVC \")\n",
    "svc = SVC(C = 0.001 , kernel = 'linear',   gamma= 'auto')\n",
    "stratified_cv_results_williamsSVC_gamma15638219 = cross_validate(svc,X,y_williams,cv=StratifiedKFold(n_splits=3,shuffle = True, random_state=6099),\n",
    "                                      scoring = ('precision','recall','f1'),return_train_score= False)\n",
    "print(\"\\n Williams SVC with C = 0.001 , kernel = 'linear',   gamma= 'auto' )\",stratified_cv_results_williamsSVC_gamma15638219)\n"
   ]
  },
  {
   "cell_type": "code",
   "execution_count": 73,
   "metadata": {},
   "outputs": [
    {
     "name": "stdout",
     "output_type": "stream",
     "text": [
      "\n",
      " Williams : SVC \n"
     ]
    },
    {
     "name": "stderr",
     "output_type": "stream",
     "text": [
      "C:\\Users\\pooja\\Anaconda3\\lib\\site-packages\\sklearn\\metrics\\classification.py:1135: UndefinedMetricWarning: Precision is ill-defined and being set to 0.0 due to no predicted samples.\n",
      "  'precision', 'predicted', average, warn_for)\n",
      "C:\\Users\\pooja\\Anaconda3\\lib\\site-packages\\sklearn\\metrics\\classification.py:1135: UndefinedMetricWarning: F-score is ill-defined and being set to 0.0 due to no predicted samples.\n",
      "  'precision', 'predicted', average, warn_for)\n",
      "C:\\Users\\pooja\\Anaconda3\\lib\\site-packages\\sklearn\\metrics\\classification.py:1135: UndefinedMetricWarning: Precision is ill-defined and being set to 0.0 due to no predicted samples.\n",
      "  'precision', 'predicted', average, warn_for)\n",
      "C:\\Users\\pooja\\Anaconda3\\lib\\site-packages\\sklearn\\metrics\\classification.py:1135: UndefinedMetricWarning: F-score is ill-defined and being set to 0.0 due to no predicted samples.\n",
      "  'precision', 'predicted', average, warn_for)\n",
      "C:\\Users\\pooja\\Anaconda3\\lib\\site-packages\\sklearn\\metrics\\classification.py:1135: UndefinedMetricWarning: Precision is ill-defined and being set to 0.0 due to no predicted samples.\n",
      "  'precision', 'predicted', average, warn_for)\n"
     ]
    },
    {
     "name": "stdout",
     "output_type": "stream",
     "text": [
      "\n",
      " Williams SVC with C = 0.001 , kernel = 'sigmoid',   gamma= 'auto' ) {'fit_time': array([4.87202024, 4.77029753, 4.70946145]), 'score_time': array([4.40819907, 4.49797797, 4.44709444]), 'test_precision': array([0., 0., 0.]), 'test_recall': array([0., 0., 0.]), 'test_f1': array([0., 0., 0.])}\n"
     ]
    },
    {
     "name": "stderr",
     "output_type": "stream",
     "text": [
      "C:\\Users\\pooja\\Anaconda3\\lib\\site-packages\\sklearn\\metrics\\classification.py:1135: UndefinedMetricWarning: F-score is ill-defined and being set to 0.0 due to no predicted samples.\n",
      "  'precision', 'predicted', average, warn_for)\n"
     ]
    }
   ],
   "source": [
    "print(\"\\n Williams : SVC \")\n",
    "svc = SVC(C = 0.001 , kernel = 'sigmoid',   gamma= 'auto')\n",
    "stratified_cv_results_williamsSVC_gamma1563821912 = cross_validate(svc,X,y_williams,cv=StratifiedKFold(n_splits=3,shuffle = True, random_state=6099),\n",
    "                                      scoring = ('precision','recall','f1'),return_train_score= False)\n",
    "print(\"\\n Williams SVC with C = 0.001 , kernel = 'sigmoid',   gamma= 'auto' )\",stratified_cv_results_williamsSVC_gamma1563821912)\n"
   ]
  },
  {
   "cell_type": "code",
   "execution_count": 75,
   "metadata": {},
   "outputs": [
    {
     "name": "stdout",
     "output_type": "stream",
     "text": [
      "\n",
      " Williams : SVC \n"
     ]
    },
    {
     "name": "stderr",
     "output_type": "stream",
     "text": [
      "C:\\Users\\pooja\\Anaconda3\\lib\\site-packages\\sklearn\\metrics\\classification.py:1135: UndefinedMetricWarning: Precision is ill-defined and being set to 0.0 due to no predicted samples.\n",
      "  'precision', 'predicted', average, warn_for)\n",
      "C:\\Users\\pooja\\Anaconda3\\lib\\site-packages\\sklearn\\metrics\\classification.py:1135: UndefinedMetricWarning: F-score is ill-defined and being set to 0.0 due to no predicted samples.\n",
      "  'precision', 'predicted', average, warn_for)\n",
      "C:\\Users\\pooja\\Anaconda3\\lib\\site-packages\\sklearn\\metrics\\classification.py:1135: UndefinedMetricWarning: Precision is ill-defined and being set to 0.0 due to no predicted samples.\n",
      "  'precision', 'predicted', average, warn_for)\n",
      "C:\\Users\\pooja\\Anaconda3\\lib\\site-packages\\sklearn\\metrics\\classification.py:1135: UndefinedMetricWarning: F-score is ill-defined and being set to 0.0 due to no predicted samples.\n",
      "  'precision', 'predicted', average, warn_for)\n",
      "C:\\Users\\pooja\\Anaconda3\\lib\\site-packages\\sklearn\\metrics\\classification.py:1135: UndefinedMetricWarning: Precision is ill-defined and being set to 0.0 due to no predicted samples.\n",
      "  'precision', 'predicted', average, warn_for)\n"
     ]
    },
    {
     "name": "stdout",
     "output_type": "stream",
     "text": [
      "\n",
      " Williams SVC with C = 0.001 , kernel = 'rbf',   gamma= 'auto') {'fit_time': array([5.67188072, 5.07348323, 6.51008296]), 'score_time': array([4.36527514, 5.05841994, 5.2078886 ]), 'test_precision': array([0., 0., 0.]), 'test_recall': array([0., 0., 0.]), 'test_f1': array([0., 0., 0.])}\n"
     ]
    },
    {
     "name": "stderr",
     "output_type": "stream",
     "text": [
      "C:\\Users\\pooja\\Anaconda3\\lib\\site-packages\\sklearn\\metrics\\classification.py:1135: UndefinedMetricWarning: F-score is ill-defined and being set to 0.0 due to no predicted samples.\n",
      "  'precision', 'predicted', average, warn_for)\n"
     ]
    }
   ],
   "source": [
    "print(\"\\n Williams : SVC \")\n",
    "svc = SVC(C = 0.001 , kernel = 'rbf',   gamma= 'auto')\n",
    "stratified_cv_results_williamsSVC_gamma15638215666782 = cross_validate(svc,X,y_williams,cv=StratifiedKFold(n_splits=3,shuffle = True, random_state=6099),\n",
    "                                      scoring = ('precision','recall','f1'),return_train_score= False)\n",
    "print(\"\\n Williams SVC with C = 0.001 , kernel = 'rbf',   gamma= 'auto')\",stratified_cv_results_williamsSVC_gamma15638215666782)\n"
   ]
  },
  {
   "cell_type": "code",
   "execution_count": 82,
   "metadata": {},
   "outputs": [
    {
     "name": "stdout",
     "output_type": "stream",
     "text": [
      "\n",
      " Williams : SVC \n",
      "\n",
      " williams SVC with C = 4.0 , kernel = 'poly', coef0= 5.0  ,degree = 10 , gamma=1/(X.shape[1]*X.std()) ) {'fit_time': array([28.3982749 , 32.2774148 , 28.69279456]), 'score_time': array([36.97526264, 35.98357391, 33.03843904]), 'test_precision': array([1.        , 1.        , 0.66666667]), 'test_recall': array([0.44444444, 0.23529412, 0.47058824]), 'test_f1': array([0.61538462, 0.38095238, 0.55172414])}\n"
     ]
    }
   ],
   "source": [
    "print(\"\\n Williams : SVC \")\n",
    "svc = SVC(C = 4.0 , kernel = 'poly', coef0= 5.0  ,degree = 10 , gamma=1/(X.shape[1]*X.std()) )\n",
    "stratified_cv_results_WilliamsSVC_gamma32ffs = cross_validate(svc,X,y_williams,cv=StratifiedKFold(n_splits=3,shuffle = True, random_state=6099),\n",
    "                                      scoring = ('precision','recall','f1'),return_train_score= False)\n",
    "print(\"\\n williams SVC with C = 4.0 , kernel = 'poly', coef0= 5.0  ,degree = 10 , gamma=1/(X.shape[1]*X.std()) )\",stratified_cv_results_WilliamsSVC_gamma32ffs)\n"
   ]
  },
  {
   "cell_type": "code",
   "execution_count": 85,
   "metadata": {},
   "outputs": [
    {
     "name": "stdout",
     "output_type": "stream",
     "text": [
      "\n",
      " Williams : SVC \n",
      "\n",
      " williams SVC with C = 4.0 , kernel = 'poly', coef0= 150.0  ,degree = 10 , gamma=1/(X.shape[1]*X.std()) ) {'fit_time': array([27.54908323, 25.46348214, 26.26275969]), 'score_time': array([29.18564916, 26.89429331, 28.71967673]), 'test_precision': array([1.        , 0.85714286, 0.64285714]), 'test_recall': array([0.33333333, 0.35294118, 0.52941176]), 'test_f1': array([0.5       , 0.5       , 0.58064516])}\n"
     ]
    }
   ],
   "source": [
    "print(\"\\n Williams : SVC \")\n",
    "svc = SVC(C = 4.0 , kernel = 'poly', coef0= 150.0  ,degree = 10 , gamma=1/(X.shape[1]*X.std()) )\n",
    "stratified_cv_results_WilliamsSVC_gamma32150ffs = cross_validate(svc,X,y_williams,cv=StratifiedKFold(n_splits=3,shuffle = True, random_state=6099),\n",
    "                                      scoring = ('precision','recall','f1'),return_train_score= False)\n",
    "print(\"\\n williams SVC with C = 4.0 , kernel = 'poly', coef0= 150.0  ,degree = 10 , gamma=1/(X.shape[1]*X.std()) )\",stratified_cv_results_WilliamsSVC_gamma32150ffs)\n"
   ]
  },
  {
   "cell_type": "code",
   "execution_count": null,
   "metadata": {},
   "outputs": [],
   "source": []
  },
  {
   "cell_type": "markdown",
   "metadata": {},
   "source": [
    "# Pickle Williams"
   ]
  },
  {
   "cell_type": "code",
   "execution_count": 88,
   "metadata": {},
   "outputs": [],
   "source": [
    "import pickle\n",
    "import statistics\n",
    "williams_list = []\n",
    "#numbers = stratified_cv_results_n1bush['test_f1'] \n",
    "mean_n1_williams = statistics.mean(stratified_cv_results_n1['test_f1'])\n",
    "mean_n3_williams = statistics.mean(stratified_cv_results_n3['test_f1'])\n",
    "mean_n5_williams = statistics.mean(stratified_cv_results_n5['test_f1'])\n",
    "mean_svc_williams = statistics.mean(stratified_cv_results_williamsSVC['test_f1'])\n",
    "\n",
    "williams_list.append(mean_n1_williams)\n",
    "williams_list.append(mean_n3_williams)\n",
    "williams_list.append(mean_n5_williams)\n",
    "williams_list.append(mean_svc_williams)\n",
    "\n",
    "pickle.dump((williams_list), open('williams.pickle', 'wb'))"
   ]
  },
  {
   "cell_type": "code",
   "execution_count": null,
   "metadata": {},
   "outputs": [],
   "source": []
  }
 ],
 "metadata": {
  "kernelspec": {
   "display_name": "Python 3",
   "language": "python",
   "name": "python3"
  },
  "language_info": {
   "codemirror_mode": {
    "name": "ipython",
    "version": 3
   },
   "file_extension": ".py",
   "mimetype": "text/x-python",
   "name": "python",
   "nbconvert_exporter": "python",
   "pygments_lexer": "ipython3",
   "version": "3.6.4"
  }
 },
 "nbformat": 4,
 "nbformat_minor": 2
}
