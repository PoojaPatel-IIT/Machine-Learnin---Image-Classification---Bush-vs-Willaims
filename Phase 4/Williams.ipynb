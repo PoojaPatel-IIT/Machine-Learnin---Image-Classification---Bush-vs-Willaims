{
  "nbformat": 4,
  "nbformat_minor": 0,
  "metadata": {
    "colab": {
      "name": "Hello, Colaboratory",
      "version": "0.3.2",
      "provenance": [],
      "collapsed_sections": [],
      "toc_visible": true
    },
    "kernelspec": {
      "display_name": "Python 3",
      "name": "python3"
    }
  },
  "cells": [
    {
      "metadata": {
        "id": "0Uu9FFAqEgBz",
        "colab_type": "code",
        "colab": {
          "base_uri": "https://localhost:8080/",
          "height": 88
        },
        "outputId": "86e6175a-5ea1-482b-a1d9-fb6e58c34da7"
      },
      "cell_type": "code",
      "source": [
        "import pandas as pd\n",
        "import numpy as np\n",
        "from sklearn.neighbors import KNeighborsClassifier\n",
        "from sklearn.model_selection import cross_validate, StratifiedKFold\n",
        "from sklearn.svm import SVC\n",
        "from sklearn.decomposition import PCA\n",
        "X = pd.read_csv(\"X.csv\", sep = ' ', header = None , dtype = float)\n",
        "X = X.values\n",
        "y= pd.read_csv(\"y_bush_vs_others.csv\" , header = None)\n",
        "y_bush = y.values.ravel()\n",
        "y= pd.read_csv(\"y_williams_vs_others.csv\" , header = None)\n",
        "y_williams = y.values.ravel()\n",
        "print(\"X Shape\",X.shape)\n",
        "print(\"# of Bush's photos\",np.sum(y_bush))\n",
        "print(\"# of Bush's photos\",np.sum(y_williams))\n",
        "\n",
        "from sklearn.model_selection import train_test_split\n",
        "\n",
        "X_reshaped=X.reshape((X.shape[0],64,64,1))\n",
        "X_reshaped.shape"
      ],
      "execution_count": 9,
      "outputs": [
        {
          "output_type": "stream",
          "text": [
            "X Shape (13233, 4096)\n",
            "# of Bush's photos 530\n",
            "# of Bush's photos 52\n"
          ],
          "name": "stdout"
        },
        {
          "output_type": "execute_result",
          "data": {
            "text/plain": [
              "(13233, 64, 64, 1)"
            ]
          },
          "metadata": {
            "tags": []
          },
          "execution_count": 9
        }
      ]
    },
    {
      "metadata": {
        "id": "Mc9xePVKEiEI",
        "colab_type": "code",
        "colab": {
          "base_uri": "https://localhost:8080/",
          "height": 2034
        },
        "outputId": "83a44a3c-84f7-44d7-f158-e6ba76704f2c"
      },
      "cell_type": "code",
      "source": [
        "from keras.models import load_model\n",
        "modelForWilliams=load_model(\"9initialized-model.keras\")\n",
        "X_train_w, X_test_w, y_train_w, y_test_w = train_test_split(X_reshaped, \n",
        "             y_bush,shuffle = True ,test_size= 1./3, random_state=6099, stratify  = y_williams) # A20396099\n",
        "\n",
        "\n",
        "modelForWilliams.fit(X_train_w,y_train_w, epochs=50, batch_size=32, validation_data = (X_test_w, y_test_w ) )\n",
        "\n",
        "y_predicted_train_will = modelForWilliams.predict_classes(X_train_w) \n",
        "y_predicted_test_will = modelForWilliams.predict_classes(X_test_w) \n",
        "\n",
        "result_f1_train_will_E100=f1_score(y_train_w, y_predicted_train_will)\n",
        "result_f1_test_will_E100=f1_score(y_test_w, y_predicted_test_will)\n",
        "print(\"Williams F1 Score on Train : \",result_f1_train_will_E100)\n",
        "print(\"Williams F1 Score on Test : \",result_f1_test_will_E100)"
      ],
      "execution_count": 4,
      "outputs": [
        {
          "output_type": "stream",
          "text": [
            "Train on 8822 samples, validate on 4411 samples\n",
            "Epoch 1/50\n",
            "8822/8822 [==============================] - 57s 6ms/step - loss: 0.2198 - acc: 0.9585 - val_loss: 0.1507 - val_acc: 0.9626\n",
            "Epoch 2/50\n",
            "8822/8822 [==============================] - 56s 6ms/step - loss: 0.1763 - acc: 0.9586 - val_loss: 0.1486 - val_acc: 0.9626\n",
            "Epoch 3/50\n",
            "8822/8822 [==============================] - 56s 6ms/step - loss: 0.1757 - acc: 0.9586 - val_loss: 0.1786 - val_acc: 0.9626\n",
            "Epoch 4/50\n",
            "8822/8822 [==============================] - 57s 7ms/step - loss: 0.1700 - acc: 0.9586 - val_loss: 0.1801 - val_acc: 0.9626\n",
            "Epoch 5/50\n",
            "8822/8822 [==============================] - 56s 6ms/step - loss: 0.1665 - acc: 0.9586 - val_loss: 0.1464 - val_acc: 0.9626\n",
            "Epoch 6/50\n",
            "8822/8822 [==============================] - 57s 6ms/step - loss: 0.1641 - acc: 0.9586 - val_loss: 0.1432 - val_acc: 0.9626\n",
            "Epoch 7/50\n",
            "8822/8822 [==============================] - 57s 6ms/step - loss: 0.1611 - acc: 0.9586 - val_loss: 0.1471 - val_acc: 0.9626\n",
            "Epoch 8/50\n",
            "8822/8822 [==============================] - 57s 6ms/step - loss: 0.1591 - acc: 0.9586 - val_loss: 0.1379 - val_acc: 0.9626\n",
            "Epoch 9/50\n",
            "8822/8822 [==============================] - 57s 6ms/step - loss: 0.1569 - acc: 0.9586 - val_loss: 0.1368 - val_acc: 0.9626\n",
            "Epoch 10/50\n",
            "8822/8822 [==============================] - 58s 7ms/step - loss: 0.1538 - acc: 0.9586 - val_loss: 0.1359 - val_acc: 0.9626\n",
            "Epoch 11/50\n",
            "8822/8822 [==============================] - 57s 6ms/step - loss: 0.1523 - acc: 0.9586 - val_loss: 0.1346 - val_acc: 0.9626\n",
            "Epoch 12/50\n",
            "8822/8822 [==============================] - 58s 7ms/step - loss: 0.1527 - acc: 0.9586 - val_loss: 0.1418 - val_acc: 0.9626\n",
            "Epoch 13/50\n",
            "8822/8822 [==============================] - 57s 6ms/step - loss: 0.1525 - acc: 0.9584 - val_loss: 0.1380 - val_acc: 0.9626\n",
            "Epoch 14/50\n",
            "8822/8822 [==============================] - 57s 6ms/step - loss: 0.1493 - acc: 0.9586 - val_loss: 0.1289 - val_acc: 0.9626\n",
            "Epoch 15/50\n",
            "8822/8822 [==============================] - 57s 7ms/step - loss: 0.1444 - acc: 0.9584 - val_loss: 0.1265 - val_acc: 0.9626\n",
            "Epoch 16/50\n",
            "8822/8822 [==============================] - 57s 6ms/step - loss: 0.1479 - acc: 0.9581 - val_loss: 0.1225 - val_acc: 0.9626\n",
            "Epoch 17/50\n",
            "8822/8822 [==============================] - 57s 6ms/step - loss: 0.1505 - acc: 0.9587 - val_loss: 0.1332 - val_acc: 0.9626\n",
            "Epoch 18/50\n",
            "8822/8822 [==============================] - 57s 6ms/step - loss: 0.1463 - acc: 0.9586 - val_loss: 0.1242 - val_acc: 0.9628\n",
            "Epoch 19/50\n",
            "8822/8822 [==============================] - 57s 6ms/step - loss: 0.1472 - acc: 0.9586 - val_loss: 0.1245 - val_acc: 0.9626\n",
            "Epoch 20/50\n",
            "8822/8822 [==============================] - 56s 6ms/step - loss: 0.1400 - acc: 0.9596 - val_loss: 0.1171 - val_acc: 0.9651\n",
            "Epoch 21/50\n",
            "8822/8822 [==============================] - 58s 7ms/step - loss: 0.1440 - acc: 0.9600 - val_loss: 0.1292 - val_acc: 0.9646\n",
            "Epoch 22/50\n",
            "8822/8822 [==============================] - 56s 6ms/step - loss: 0.1375 - acc: 0.9600 - val_loss: 0.1936 - val_acc: 0.9626\n",
            "Epoch 23/50\n",
            "8822/8822 [==============================] - 57s 6ms/step - loss: 0.1394 - acc: 0.9598 - val_loss: 0.1124 - val_acc: 0.9633\n",
            "Epoch 24/50\n",
            "8822/8822 [==============================] - 58s 7ms/step - loss: 0.1354 - acc: 0.9607 - val_loss: 0.1070 - val_acc: 0.9642\n",
            "Epoch 25/50\n",
            "8822/8822 [==============================] - 58s 7ms/step - loss: 0.1338 - acc: 0.9603 - val_loss: 0.1267 - val_acc: 0.9626\n",
            "Epoch 26/50\n",
            "8822/8822 [==============================] - 58s 7ms/step - loss: 0.1380 - acc: 0.9601 - val_loss: 0.1058 - val_acc: 0.9660\n",
            "Epoch 27/50\n",
            "8822/8822 [==============================] - 58s 7ms/step - loss: 0.1325 - acc: 0.9583 - val_loss: 0.1368 - val_acc: 0.9626\n",
            "Epoch 28/50\n",
            "8822/8822 [==============================] - 58s 7ms/step - loss: 0.1378 - acc: 0.9611 - val_loss: 0.1052 - val_acc: 0.9651\n",
            "Epoch 29/50\n",
            "8822/8822 [==============================] - 57s 6ms/step - loss: 0.1290 - acc: 0.9618 - val_loss: 0.0994 - val_acc: 0.9674\n",
            "Epoch 30/50\n",
            "8822/8822 [==============================] - 56s 6ms/step - loss: 0.1316 - acc: 0.9606 - val_loss: 0.1232 - val_acc: 0.9649\n",
            "Epoch 31/50\n",
            "8822/8822 [==============================] - 57s 6ms/step - loss: 0.1322 - acc: 0.9612 - val_loss: 0.1182 - val_acc: 0.9640\n",
            "Epoch 32/50\n",
            "8822/8822 [==============================] - 57s 6ms/step - loss: 0.1341 - acc: 0.9617 - val_loss: 0.1054 - val_acc: 0.9669\n",
            "Epoch 33/50\n",
            "8822/8822 [==============================] - 57s 7ms/step - loss: 0.1324 - acc: 0.9617 - val_loss: 0.1475 - val_acc: 0.9628\n",
            "Epoch 34/50\n",
            "8822/8822 [==============================] - 56s 6ms/step - loss: 0.1308 - acc: 0.9647 - val_loss: 0.1200 - val_acc: 0.9626\n",
            "Epoch 35/50\n",
            "8822/8822 [==============================] - 56s 6ms/step - loss: 0.1316 - acc: 0.9628 - val_loss: 0.1004 - val_acc: 0.9712\n",
            "Epoch 36/50\n",
            "8822/8822 [==============================] - 56s 6ms/step - loss: 0.1241 - acc: 0.9642 - val_loss: 0.0972 - val_acc: 0.9710\n",
            "Epoch 37/50\n",
            "8822/8822 [==============================] - 57s 7ms/step - loss: 0.1244 - acc: 0.9645 - val_loss: 0.0947 - val_acc: 0.9680\n",
            "Epoch 38/50\n",
            "8822/8822 [==============================] - 57s 6ms/step - loss: 0.1300 - acc: 0.9635 - val_loss: 0.0901 - val_acc: 0.9703\n",
            "Epoch 39/50\n",
            "8822/8822 [==============================] - 57s 6ms/step - loss: 0.1197 - acc: 0.9647 - val_loss: 0.0897 - val_acc: 0.9730\n",
            "Epoch 40/50\n",
            "8822/8822 [==============================] - 57s 6ms/step - loss: 0.1224 - acc: 0.9644 - val_loss: 0.0949 - val_acc: 0.9712\n",
            "Epoch 41/50\n",
            "8822/8822 [==============================] - 57s 6ms/step - loss: 0.1250 - acc: 0.9646 - val_loss: 0.1011 - val_acc: 0.9708\n",
            "Epoch 42/50\n",
            "8822/8822 [==============================] - 57s 6ms/step - loss: 0.1219 - acc: 0.9649 - val_loss: 0.0904 - val_acc: 0.9730\n",
            "Epoch 43/50\n",
            "8822/8822 [==============================] - 56s 6ms/step - loss: 0.1236 - acc: 0.9663 - val_loss: 0.1203 - val_acc: 0.9671\n",
            "Epoch 44/50\n",
            "8822/8822 [==============================] - 57s 6ms/step - loss: 0.1271 - acc: 0.9630 - val_loss: 0.0946 - val_acc: 0.9755\n",
            "Epoch 45/50\n",
            "8822/8822 [==============================] - 56s 6ms/step - loss: 0.1234 - acc: 0.9647 - val_loss: 0.1889 - val_acc: 0.9660\n",
            "Epoch 46/50\n",
            "8822/8822 [==============================] - 56s 6ms/step - loss: 0.1196 - acc: 0.9657 - val_loss: 0.1782 - val_acc: 0.9628\n",
            "Epoch 47/50\n",
            "8822/8822 [==============================] - 56s 6ms/step - loss: 0.1292 - acc: 0.9634 - val_loss: 0.0955 - val_acc: 0.9748\n",
            "Epoch 48/50\n",
            "8822/8822 [==============================] - 57s 6ms/step - loss: 0.1224 - acc: 0.9660 - val_loss: 0.0857 - val_acc: 0.9771\n",
            "Epoch 49/50\n",
            "8822/8822 [==============================] - 56s 6ms/step - loss: 0.1219 - acc: 0.9679 - val_loss: 0.0953 - val_acc: 0.9728\n",
            "Epoch 50/50\n",
            "8822/8822 [==============================] - 55s 6ms/step - loss: 0.1164 - acc: 0.9654 - val_loss: 0.0860 - val_acc: 0.9766\n"
          ],
          "name": "stdout"
        },
        {
          "output_type": "error",
          "ename": "NameError",
          "evalue": "ignored",
          "traceback": [
            "\u001b[0;31m---------------------------------------------------------------------------\u001b[0m",
            "\u001b[0;31mNameError\u001b[0m                                 Traceback (most recent call last)",
            "\u001b[0;32m<ipython-input-4-613017d30913>\u001b[0m in \u001b[0;36m<module>\u001b[0;34m()\u001b[0m\n\u001b[1;32m     10\u001b[0m \u001b[0my_predicted_test_will\u001b[0m \u001b[0;34m=\u001b[0m \u001b[0mmodelForWilliams\u001b[0m\u001b[0;34m.\u001b[0m\u001b[0mpredict_classes\u001b[0m\u001b[0;34m(\u001b[0m\u001b[0mX_test_w\u001b[0m\u001b[0;34m)\u001b[0m\u001b[0;34m\u001b[0m\u001b[0;34m\u001b[0m\u001b[0m\n\u001b[1;32m     11\u001b[0m \u001b[0;34m\u001b[0m\u001b[0m\n\u001b[0;32m---> 12\u001b[0;31m \u001b[0mresult_f1_train_will_E100\u001b[0m\u001b[0;34m=\u001b[0m\u001b[0mf1_score\u001b[0m\u001b[0;34m(\u001b[0m\u001b[0my_train_w\u001b[0m\u001b[0;34m,\u001b[0m \u001b[0my_predicted_train_will\u001b[0m\u001b[0;34m)\u001b[0m\u001b[0;34m\u001b[0m\u001b[0;34m\u001b[0m\u001b[0m\n\u001b[0m\u001b[1;32m     13\u001b[0m \u001b[0mresult_f1_test_will_E100\u001b[0m\u001b[0;34m=\u001b[0m\u001b[0mf1_score\u001b[0m\u001b[0;34m(\u001b[0m\u001b[0my_test_w\u001b[0m\u001b[0;34m,\u001b[0m \u001b[0my_predicted_test_will\u001b[0m\u001b[0;34m)\u001b[0m\u001b[0;34m\u001b[0m\u001b[0;34m\u001b[0m\u001b[0m\n\u001b[1;32m     14\u001b[0m \u001b[0mprint\u001b[0m\u001b[0;34m(\u001b[0m\u001b[0;34m\"Williams F1 Score on Train : \"\u001b[0m\u001b[0;34m,\u001b[0m\u001b[0mresult_f1_train_will_E100\u001b[0m\u001b[0;34m)\u001b[0m\u001b[0;34m\u001b[0m\u001b[0;34m\u001b[0m\u001b[0m\n",
            "\u001b[0;31mNameError\u001b[0m: name 'f1_score' is not defined"
          ]
        }
      ]
    },
    {
      "metadata": {
        "id": "fBGZOvnvLg_f",
        "colab_type": "code",
        "colab": {
          "base_uri": "https://localhost:8080/",
          "height": 52
        },
        "outputId": "f68e194d-6bbb-47bb-e992-b6dfaabd8f62"
      },
      "cell_type": "code",
      "source": [
        "from sklearn.metrics import f1_score\n",
        "result_f1_train_will_E100=f1_score(y_train_w, y_predicted_train_will)\n",
        "result_f1_test_will_E100=f1_score(y_test_w, y_predicted_test_will)\n",
        "print(\"Williams F1 Score on Train : \",result_f1_train_will_E100)\n",
        "print(\"Williams F1 Score on Test : \",result_f1_test_will_E100)"
      ],
      "execution_count": 5,
      "outputs": [
        {
          "output_type": "stream",
          "text": [
            "Williams F1 Score on Train :  0.5818181818181818\n",
            "Williams F1 Score on Test :  0.5726141078838174\n"
          ],
          "name": "stdout"
        }
      ]
    },
    {
      "metadata": {
        "id": "jjTYwPyGXYy0",
        "colab_type": "code",
        "colab": {
          "base_uri": "https://localhost:8080/",
          "height": 3681
        },
        "outputId": "c787e024-217f-4521-a45e-6776fb719769"
      },
      "cell_type": "code",
      "source": [
        "from sklearn.metrics import f1_score\n",
        "\n",
        "modelForWilliams.fit(X_train_w,y_train_w, epochs=100, batch_size=32, validation_data = (X_test_w, y_test_w ) )\n",
        "y_predicted_train_will = modelForWilliams.predict_classes(X_train_w) \n",
        "y_predicted_test_will = modelForWilliams.predict_classes(X_test_w) \n",
        "\n",
        "result_f1_train_will_E100=f1_score(y_train_w, y_predicted_train_will)\n",
        "result_f1_test_will_E100=f1_score(y_test_w, y_predicted_test_will)\n",
        "print(\"Williams F1 Score on Train : \",result_f1_train_will_E100)\n",
        "print(\"Williams F1 Score on Test : \",result_f1_test_will_E100)"
      ],
      "execution_count": 7,
      "outputs": [
        {
          "output_type": "stream",
          "text": [
            "Train on 8822 samples, validate on 4411 samples\n",
            "Epoch 1/100\n",
            "8822/8822 [==============================] - 56s 6ms/step - loss: 0.1174 - acc: 0.9654 - val_loss: 0.0807 - val_acc: 0.9748\n",
            "Epoch 2/100\n",
            "8822/8822 [==============================] - 56s 6ms/step - loss: 0.1476 - acc: 0.9660 - val_loss: 0.0812 - val_acc: 0.9739\n",
            "Epoch 3/100\n",
            "8822/8822 [==============================] - 56s 6ms/step - loss: 0.1179 - acc: 0.9661 - val_loss: 0.0896 - val_acc: 0.9705\n",
            "Epoch 4/100\n",
            "8822/8822 [==============================] - 56s 6ms/step - loss: 0.1201 - acc: 0.9659 - val_loss: 0.0816 - val_acc: 0.9746\n",
            "Epoch 5/100\n",
            "8822/8822 [==============================] - 58s 7ms/step - loss: 0.1095 - acc: 0.9678 - val_loss: 0.0905 - val_acc: 0.9721\n",
            "Epoch 6/100\n",
            "8822/8822 [==============================] - 56s 6ms/step - loss: 0.1149 - acc: 0.9671 - val_loss: 0.0826 - val_acc: 0.9728\n",
            "Epoch 7/100\n",
            "8822/8822 [==============================] - 56s 6ms/step - loss: 0.1170 - acc: 0.9669 - val_loss: 0.0819 - val_acc: 0.9753\n",
            "Epoch 8/100\n",
            "8822/8822 [==============================] - 55s 6ms/step - loss: 0.1160 - acc: 0.9669 - val_loss: 0.0949 - val_acc: 0.9685\n",
            "Epoch 9/100\n",
            "8822/8822 [==============================] - 56s 6ms/step - loss: 0.1089 - acc: 0.9685 - val_loss: 0.0883 - val_acc: 0.9742\n",
            "Epoch 10/100\n",
            "8822/8822 [==============================] - 57s 6ms/step - loss: 0.1194 - acc: 0.9681 - val_loss: 0.0830 - val_acc: 0.9780\n",
            "Epoch 11/100\n",
            "8822/8822 [==============================] - 56s 6ms/step - loss: 0.1184 - acc: 0.9667 - val_loss: 0.1449 - val_acc: 0.9674\n",
            "Epoch 12/100\n",
            "8822/8822 [==============================] - 55s 6ms/step - loss: 0.1436 - acc: 0.9676 - val_loss: 0.0952 - val_acc: 0.9751\n",
            "Epoch 13/100\n",
            "8822/8822 [==============================] - 55s 6ms/step - loss: 0.1121 - acc: 0.9683 - val_loss: 0.0866 - val_acc: 0.9751\n",
            "Epoch 14/100\n",
            "8822/8822 [==============================] - 57s 6ms/step - loss: 0.1303 - acc: 0.9697 - val_loss: 0.0831 - val_acc: 0.9744\n",
            "Epoch 15/100\n",
            "8822/8822 [==============================] - 57s 6ms/step - loss: 0.1117 - acc: 0.9692 - val_loss: 0.0853 - val_acc: 0.9762\n",
            "Epoch 16/100\n",
            "8822/8822 [==============================] - 56s 6ms/step - loss: 0.1049 - acc: 0.9721 - val_loss: 0.1475 - val_acc: 0.9703\n",
            "Epoch 17/100\n",
            "8822/8822 [==============================] - 56s 6ms/step - loss: 0.1185 - acc: 0.9676 - val_loss: 0.1157 - val_acc: 0.9689\n",
            "Epoch 18/100\n",
            "8822/8822 [==============================] - 56s 6ms/step - loss: 0.1125 - acc: 0.9691 - val_loss: 0.1096 - val_acc: 0.9723\n",
            "Epoch 19/100\n",
            "8822/8822 [==============================] - 57s 6ms/step - loss: 0.1174 - acc: 0.9696 - val_loss: 0.0898 - val_acc: 0.9760\n",
            "Epoch 20/100\n",
            "8822/8822 [==============================] - 57s 6ms/step - loss: 0.1125 - acc: 0.9689 - val_loss: 0.1132 - val_acc: 0.9703\n",
            "Epoch 21/100\n",
            "8822/8822 [==============================] - 58s 7ms/step - loss: 0.1139 - acc: 0.9692 - val_loss: 0.3153 - val_acc: 0.9651\n",
            "Epoch 22/100\n",
            "8822/8822 [==============================] - 57s 6ms/step - loss: 0.1055 - acc: 0.9713 - val_loss: 0.0736 - val_acc: 0.9782\n",
            "Epoch 23/100\n",
            "8822/8822 [==============================] - 56s 6ms/step - loss: 0.1088 - acc: 0.9695 - val_loss: 0.0981 - val_acc: 0.9757\n",
            "Epoch 24/100\n",
            "8822/8822 [==============================] - 56s 6ms/step - loss: 0.1167 - acc: 0.9694 - val_loss: 0.0849 - val_acc: 0.9791\n",
            "Epoch 25/100\n",
            "8822/8822 [==============================] - 55s 6ms/step - loss: 0.1130 - acc: 0.9701 - val_loss: 0.0798 - val_acc: 0.9769\n",
            "Epoch 26/100\n",
            "8822/8822 [==============================] - 57s 6ms/step - loss: 0.1160 - acc: 0.9687 - val_loss: 0.1676 - val_acc: 0.9696\n",
            "Epoch 27/100\n",
            "8822/8822 [==============================] - 56s 6ms/step - loss: 0.1248 - acc: 0.9702 - val_loss: 0.0971 - val_acc: 0.9703\n",
            "Epoch 28/100\n",
            "8822/8822 [==============================] - 55s 6ms/step - loss: 0.1123 - acc: 0.9695 - val_loss: 0.0932 - val_acc: 0.9780\n",
            "Epoch 29/100\n",
            "8822/8822 [==============================] - 56s 6ms/step - loss: 0.1070 - acc: 0.9712 - val_loss: 0.2748 - val_acc: 0.9637\n",
            "Epoch 30/100\n",
            "8822/8822 [==============================] - 55s 6ms/step - loss: 0.1155 - acc: 0.9702 - val_loss: 0.1054 - val_acc: 0.9755\n",
            "Epoch 31/100\n",
            "8822/8822 [==============================] - 56s 6ms/step - loss: 0.1026 - acc: 0.9723 - val_loss: 0.1394 - val_acc: 0.9746\n",
            "Epoch 32/100\n",
            "8822/8822 [==============================] - 57s 6ms/step - loss: 0.1102 - acc: 0.9702 - val_loss: 0.1640 - val_acc: 0.9708\n",
            "Epoch 33/100\n",
            "8822/8822 [==============================] - 57s 6ms/step - loss: 0.1119 - acc: 0.9732 - val_loss: 0.0868 - val_acc: 0.9760\n",
            "Epoch 34/100\n",
            "8822/8822 [==============================] - 56s 6ms/step - loss: 0.1056 - acc: 0.9727 - val_loss: 0.0880 - val_acc: 0.9773\n",
            "Epoch 35/100\n",
            "8822/8822 [==============================] - 56s 6ms/step - loss: 0.1137 - acc: 0.9692 - val_loss: 0.0815 - val_acc: 0.9798\n",
            "Epoch 36/100\n",
            "8822/8822 [==============================] - 56s 6ms/step - loss: 0.1128 - acc: 0.9708 - val_loss: 0.1223 - val_acc: 0.9769\n",
            "Epoch 37/100\n",
            "8822/8822 [==============================] - 57s 6ms/step - loss: 0.1012 - acc: 0.9718 - val_loss: 0.0732 - val_acc: 0.9785\n",
            "Epoch 38/100\n",
            "8822/8822 [==============================] - 57s 6ms/step - loss: 0.1071 - acc: 0.9709 - val_loss: 0.0847 - val_acc: 0.9744\n",
            "Epoch 39/100\n",
            "8822/8822 [==============================] - 56s 6ms/step - loss: 0.1155 - acc: 0.9718 - val_loss: 0.1247 - val_acc: 0.9753\n",
            "Epoch 40/100\n",
            "8822/8822 [==============================] - 56s 6ms/step - loss: 0.1116 - acc: 0.9696 - val_loss: 0.4827 - val_acc: 0.9626\n",
            "Epoch 41/100\n",
            "8822/8822 [==============================] - 56s 6ms/step - loss: 0.1128 - acc: 0.9712 - val_loss: 0.0962 - val_acc: 0.9780\n",
            "Epoch 42/100\n",
            "8822/8822 [==============================] - 56s 6ms/step - loss: 0.1269 - acc: 0.9708 - val_loss: 0.0940 - val_acc: 0.9692\n",
            "Epoch 43/100\n",
            "8822/8822 [==============================] - 57s 6ms/step - loss: 0.1207 - acc: 0.9710 - val_loss: 0.1169 - val_acc: 0.9669\n",
            "Epoch 44/100\n",
            "8822/8822 [==============================] - 56s 6ms/step - loss: 0.1203 - acc: 0.9706 - val_loss: 0.0951 - val_acc: 0.9794\n",
            "Epoch 45/100\n",
            "8822/8822 [==============================] - 56s 6ms/step - loss: 0.1302 - acc: 0.9704 - val_loss: 0.1773 - val_acc: 0.9664\n",
            "Epoch 46/100\n",
            "8822/8822 [==============================] - 56s 6ms/step - loss: 0.1159 - acc: 0.9712 - val_loss: 0.0797 - val_acc: 0.9805\n",
            "Epoch 47/100\n",
            "8822/8822 [==============================] - 55s 6ms/step - loss: 0.1197 - acc: 0.9706 - val_loss: 0.0962 - val_acc: 0.9778\n",
            "Epoch 48/100\n",
            "8822/8822 [==============================] - 56s 6ms/step - loss: 0.1110 - acc: 0.9735 - val_loss: 0.1034 - val_acc: 0.9730\n",
            "Epoch 49/100\n",
            "8822/8822 [==============================] - 56s 6ms/step - loss: 0.1140 - acc: 0.9729 - val_loss: 0.1367 - val_acc: 0.9735\n",
            "Epoch 50/100\n",
            "8822/8822 [==============================] - 55s 6ms/step - loss: 0.1192 - acc: 0.9727 - val_loss: 0.5917 - val_acc: 0.9626\n",
            "Epoch 51/100\n",
            "8822/8822 [==============================] - 55s 6ms/step - loss: 0.1508 - acc: 0.9708 - val_loss: 0.0938 - val_acc: 0.9708\n",
            "Epoch 52/100\n",
            "8822/8822 [==============================] - 56s 6ms/step - loss: 0.1305 - acc: 0.9710 - val_loss: 0.0974 - val_acc: 0.9778\n",
            "Epoch 53/100\n",
            "8822/8822 [==============================] - 55s 6ms/step - loss: 0.1175 - acc: 0.9692 - val_loss: 0.0844 - val_acc: 0.9776\n",
            "Epoch 54/100\n",
            "8822/8822 [==============================] - 56s 6ms/step - loss: 0.1366 - acc: 0.9695 - val_loss: 0.6029 - val_acc: 0.9626\n",
            "Epoch 55/100\n",
            "8822/8822 [==============================] - 56s 6ms/step - loss: 0.5078 - acc: 0.9623 - val_loss: 0.0979 - val_acc: 0.9739\n",
            "Epoch 56/100\n",
            "8822/8822 [==============================] - 56s 6ms/step - loss: 0.1209 - acc: 0.9697 - val_loss: 0.1046 - val_acc: 0.9712\n",
            "Epoch 57/100\n",
            "8822/8822 [==============================] - 55s 6ms/step - loss: 0.1157 - acc: 0.9712 - val_loss: 0.0856 - val_acc: 0.9764\n",
            "Epoch 58/100\n",
            "8822/8822 [==============================] - 55s 6ms/step - loss: 0.1248 - acc: 0.9704 - val_loss: 0.1155 - val_acc: 0.9748\n",
            "Epoch 59/100\n",
            "8822/8822 [==============================] - 56s 6ms/step - loss: 0.1209 - acc: 0.9713 - val_loss: 0.0999 - val_acc: 0.9714\n",
            "Epoch 60/100\n",
            "8822/8822 [==============================] - 56s 6ms/step - loss: 0.1385 - acc: 0.9702 - val_loss: 0.0789 - val_acc: 0.9800\n",
            "Epoch 61/100\n",
            "8822/8822 [==============================] - 55s 6ms/step - loss: 0.1106 - acc: 0.9722 - val_loss: 0.0868 - val_acc: 0.9755\n",
            "Epoch 62/100\n",
            "8822/8822 [==============================] - 55s 6ms/step - loss: 0.1217 - acc: 0.9697 - val_loss: 0.0975 - val_acc: 0.9810\n",
            "Epoch 63/100\n",
            "8822/8822 [==============================] - 55s 6ms/step - loss: 0.1249 - acc: 0.9721 - val_loss: 0.0982 - val_acc: 0.9703\n",
            "Epoch 64/100\n",
            "8822/8822 [==============================] - 55s 6ms/step - loss: 0.1441 - acc: 0.9719 - val_loss: 0.0737 - val_acc: 0.9807\n",
            "Epoch 65/100\n",
            "8822/8822 [==============================] - 56s 6ms/step - loss: 0.1046 - acc: 0.9725 - val_loss: 0.0877 - val_acc: 0.9726\n",
            "Epoch 66/100\n",
            "8822/8822 [==============================] - 55s 6ms/step - loss: 0.1178 - acc: 0.9735 - val_loss: 0.0841 - val_acc: 0.9757\n",
            "Epoch 67/100\n",
            "8822/8822 [==============================] - 55s 6ms/step - loss: 0.1216 - acc: 0.9719 - val_loss: 0.0764 - val_acc: 0.9771\n",
            "Epoch 68/100\n",
            "8822/8822 [==============================] - 55s 6ms/step - loss: 0.1200 - acc: 0.9731 - val_loss: 0.0899 - val_acc: 0.9748\n",
            "Epoch 69/100\n",
            "8822/8822 [==============================] - 55s 6ms/step - loss: 0.1226 - acc: 0.9714 - val_loss: 0.0983 - val_acc: 0.9760\n",
            "Epoch 70/100\n",
            "8822/8822 [==============================] - 55s 6ms/step - loss: 0.1116 - acc: 0.9714 - val_loss: 0.0913 - val_acc: 0.9723\n",
            "Epoch 71/100\n",
            "8822/8822 [==============================] - 56s 6ms/step - loss: 0.2001 - acc: 0.9688 - val_loss: 0.6029 - val_acc: 0.9626\n",
            "Epoch 72/100\n",
            "8822/8822 [==============================] - 55s 6ms/step - loss: 0.5142 - acc: 0.9618 - val_loss: 0.1015 - val_acc: 0.9728\n",
            "Epoch 73/100\n",
            "8822/8822 [==============================] - 55s 6ms/step - loss: 0.1186 - acc: 0.9723 - val_loss: 0.0842 - val_acc: 0.9798\n",
            "Epoch 74/100\n",
            "8822/8822 [==============================] - 55s 6ms/step - loss: 0.1863 - acc: 0.9700 - val_loss: 0.0796 - val_acc: 0.9805\n",
            "Epoch 75/100\n",
            "8822/8822 [==============================] - 55s 6ms/step - loss: 0.1379 - acc: 0.9715 - val_loss: 0.0798 - val_acc: 0.9789\n",
            "Epoch 76/100\n",
            "8822/8822 [==============================] - 56s 6ms/step - loss: 0.1088 - acc: 0.9721 - val_loss: 0.1245 - val_acc: 0.9737\n",
            "Epoch 77/100\n",
            "8822/8822 [==============================] - 56s 6ms/step - loss: 0.1250 - acc: 0.9708 - val_loss: 0.1001 - val_acc: 0.9746\n",
            "Epoch 78/100\n",
            "8822/8822 [==============================] - 55s 6ms/step - loss: 0.1247 - acc: 0.9736 - val_loss: 0.1577 - val_acc: 0.9712\n",
            "Epoch 79/100\n",
            "8822/8822 [==============================] - 55s 6ms/step - loss: 0.1894 - acc: 0.9703 - val_loss: 0.6023 - val_acc: 0.9626\n",
            "Epoch 80/100\n",
            "8822/8822 [==============================] - 55s 6ms/step - loss: 0.2062 - acc: 0.9677 - val_loss: 0.4310 - val_acc: 0.9662\n",
            "Epoch 81/100\n",
            "8822/8822 [==============================] - 55s 6ms/step - loss: 0.1314 - acc: 0.9719 - val_loss: 0.0869 - val_acc: 0.9773\n",
            "Epoch 82/100\n",
            "8822/8822 [==============================] - 56s 6ms/step - loss: 0.1330 - acc: 0.9714 - val_loss: 0.0810 - val_acc: 0.9782\n",
            "Epoch 83/100\n",
            "8822/8822 [==============================] - 55s 6ms/step - loss: 0.1923 - acc: 0.9689 - val_loss: 0.1311 - val_acc: 0.9694\n",
            "Epoch 84/100\n",
            "8822/8822 [==============================] - 55s 6ms/step - loss: 0.1287 - acc: 0.9719 - val_loss: 0.0805 - val_acc: 0.9766\n",
            "Epoch 85/100\n",
            "8822/8822 [==============================] - 55s 6ms/step - loss: 0.1092 - acc: 0.9728 - val_loss: 0.1570 - val_acc: 0.9698\n",
            "Epoch 86/100\n",
            "8822/8822 [==============================] - 54s 6ms/step - loss: 0.1358 - acc: 0.9691 - val_loss: 0.5963 - val_acc: 0.9626\n",
            "Epoch 87/100\n",
            "8822/8822 [==============================] - 58s 7ms/step - loss: 0.6432 - acc: 0.9595 - val_loss: 0.6029 - val_acc: 0.9626\n",
            "Epoch 88/100\n",
            "8822/8822 [==============================] - 57s 6ms/step - loss: 0.6669 - acc: 0.9586 - val_loss: 0.6029 - val_acc: 0.9626\n",
            "Epoch 89/100\n",
            "8822/8822 [==============================] - 56s 6ms/step - loss: 0.6669 - acc: 0.9586 - val_loss: 0.6029 - val_acc: 0.9626\n",
            "Epoch 90/100\n",
            "8822/8822 [==============================] - 55s 6ms/step - loss: 0.6669 - acc: 0.9586 - val_loss: 0.6029 - val_acc: 0.9626\n",
            "Epoch 91/100\n",
            "8822/8822 [==============================] - 55s 6ms/step - loss: 0.6669 - acc: 0.9586 - val_loss: 0.6029 - val_acc: 0.9626\n",
            "Epoch 92/100\n",
            "8822/8822 [==============================] - 55s 6ms/step - loss: 0.6669 - acc: 0.9586 - val_loss: 0.6029 - val_acc: 0.9626\n",
            "Epoch 93/100\n",
            "8822/8822 [==============================] - 57s 6ms/step - loss: 0.6669 - acc: 0.9586 - val_loss: 0.6029 - val_acc: 0.9626\n",
            "Epoch 94/100\n",
            "8822/8822 [==============================] - 56s 6ms/step - loss: 0.6669 - acc: 0.9586 - val_loss: 0.6029 - val_acc: 0.9626\n",
            "Epoch 95/100\n",
            "8822/8822 [==============================] - 56s 6ms/step - loss: 0.6669 - acc: 0.9586 - val_loss: 0.6029 - val_acc: 0.9626\n",
            "Epoch 96/100\n",
            "8822/8822 [==============================] - 56s 6ms/step - loss: 0.6669 - acc: 0.9586 - val_loss: 0.6029 - val_acc: 0.9626\n",
            "Epoch 97/100\n",
            "8822/8822 [==============================] - 56s 6ms/step - loss: 0.6669 - acc: 0.9586 - val_loss: 0.6029 - val_acc: 0.9626\n",
            "Epoch 98/100\n",
            "8822/8822 [==============================] - 56s 6ms/step - loss: 0.6669 - acc: 0.9586 - val_loss: 0.6029 - val_acc: 0.9626\n",
            "Epoch 99/100\n",
            "8822/8822 [==============================] - 57s 6ms/step - loss: 0.6669 - acc: 0.9586 - val_loss: 0.6029 - val_acc: 0.9626\n",
            "Epoch 100/100\n",
            "8822/8822 [==============================] - 55s 6ms/step - loss: 0.6669 - acc: 0.9586 - val_loss: 0.6029 - val_acc: 0.9626\n",
            "Williams F1 Score on Train :  0.0\n",
            "Williams F1 Score on Test :  0.0\n"
          ],
          "name": "stdout"
        },
        {
          "output_type": "stream",
          "text": [
            "/usr/local/lib/python3.6/dist-packages/sklearn/metrics/classification.py:1135: UndefinedMetricWarning: F-score is ill-defined and being set to 0.0 due to no predicted samples.\n",
            "  'precision', 'predicted', average, warn_for)\n"
          ],
          "name": "stderr"
        }
      ]
    },
    {
      "metadata": {
        "id": "zYXot6LXYEmT",
        "colab_type": "code",
        "colab": {
          "base_uri": "https://localhost:8080/",
          "height": 2559
        },
        "outputId": "8ec882bc-40f0-4166-b2b3-3ba0e210ea61"
      },
      "cell_type": "code",
      "source": [
        "from keras.models import load_model\n",
        "modelForWilliams=load_model(\"9initialized-model.keras\")\n",
        "X_train_w, X_test_w, y_train_w, y_test_w = train_test_split(X_reshaped, \n",
        "             y_bush,shuffle = True ,test_size= 1./3, random_state=6099, stratify  = y_williams) # A20396099\n",
        "\n",
        "\n",
        "modelForWilliams.fit(X_train_w,y_train_w, epochs=70, batch_size=32, validation_data = (X_test_w, y_test_w ) )\n",
        "\n",
        "y_predicted_train_will = modelForWilliams.predict_classes(X_train_w) \n",
        "y_predicted_test_will = modelForWilliams.predict_classes(X_test_w) \n",
        "\n",
        "result_f1_train_will_E100=f1_score(y_train_w, y_predicted_train_will)\n",
        "result_f1_test_will_E100=f1_score(y_test_w, y_predicted_test_will)\n",
        "print(\"Williams F1 Score on Train : \",result_f1_train_will_E100)\n",
        "print(\"Williams F1 Score on Test : \",result_f1_test_will_E100)"
      ],
      "execution_count": 8,
      "outputs": [
        {
          "output_type": "stream",
          "text": [
            "Train on 8822 samples, validate on 4411 samples\n",
            "Epoch 1/70\n",
            "8822/8822 [==============================] - 52s 6ms/step - loss: 0.1987 - acc: 0.9585 - val_loss: 0.1625 - val_acc: 0.9626\n",
            "Epoch 2/70\n",
            "8822/8822 [==============================] - 51s 6ms/step - loss: 0.1752 - acc: 0.9585 - val_loss: 0.1485 - val_acc: 0.9626\n",
            "Epoch 3/70\n",
            "8822/8822 [==============================] - 53s 6ms/step - loss: 0.1779 - acc: 0.9586 - val_loss: 0.1471 - val_acc: 0.9626\n",
            "Epoch 4/70\n",
            "8822/8822 [==============================] - 51s 6ms/step - loss: 0.1715 - acc: 0.9586 - val_loss: 0.1425 - val_acc: 0.9626\n",
            "Epoch 5/70\n",
            "8822/8822 [==============================] - 51s 6ms/step - loss: 0.1703 - acc: 0.9586 - val_loss: 0.1472 - val_acc: 0.9626\n",
            "Epoch 6/70\n",
            "8822/8822 [==============================] - 51s 6ms/step - loss: 0.1613 - acc: 0.9586 - val_loss: 0.1384 - val_acc: 0.9626\n",
            "Epoch 7/70\n",
            "8822/8822 [==============================] - 51s 6ms/step - loss: 0.1574 - acc: 0.9586 - val_loss: 0.1468 - val_acc: 0.9626\n",
            "Epoch 8/70\n",
            "8822/8822 [==============================] - 51s 6ms/step - loss: 0.1625 - acc: 0.9586 - val_loss: 0.1395 - val_acc: 0.9626\n",
            "Epoch 9/70\n",
            "8822/8822 [==============================] - 52s 6ms/step - loss: 0.1589 - acc: 0.9586 - val_loss: 0.1402 - val_acc: 0.9626\n",
            "Epoch 10/70\n",
            "8822/8822 [==============================] - 51s 6ms/step - loss: 0.1624 - acc: 0.9586 - val_loss: 0.1666 - val_acc: 0.9626\n",
            "Epoch 11/70\n",
            "8822/8822 [==============================] - 51s 6ms/step - loss: 0.1542 - acc: 0.9586 - val_loss: 0.1303 - val_acc: 0.9626\n",
            "Epoch 12/70\n",
            "8822/8822 [==============================] - 51s 6ms/step - loss: 0.1535 - acc: 0.9586 - val_loss: 0.1280 - val_acc: 0.9626\n",
            "Epoch 13/70\n",
            "8822/8822 [==============================] - 51s 6ms/step - loss: 0.1522 - acc: 0.9587 - val_loss: 0.1314 - val_acc: 0.9626\n",
            "Epoch 14/70\n",
            "8822/8822 [==============================] - 51s 6ms/step - loss: 0.1492 - acc: 0.9590 - val_loss: 0.1311 - val_acc: 0.9626\n",
            "Epoch 15/70\n",
            "8822/8822 [==============================] - 52s 6ms/step - loss: 0.1449 - acc: 0.9592 - val_loss: 0.1483 - val_acc: 0.9626\n",
            "Epoch 16/70\n",
            "8822/8822 [==============================] - 51s 6ms/step - loss: 0.1475 - acc: 0.9586 - val_loss: 0.1186 - val_acc: 0.9626\n",
            "Epoch 17/70\n",
            "8822/8822 [==============================] - 51s 6ms/step - loss: 0.1474 - acc: 0.9589 - val_loss: 0.1186 - val_acc: 0.9626\n",
            "Epoch 18/70\n",
            "8822/8822 [==============================] - 51s 6ms/step - loss: 0.1425 - acc: 0.9590 - val_loss: 0.1244 - val_acc: 0.9628\n",
            "Epoch 19/70\n",
            "8822/8822 [==============================] - 51s 6ms/step - loss: 0.1482 - acc: 0.9589 - val_loss: 0.1188 - val_acc: 0.9626\n",
            "Epoch 20/70\n",
            "8822/8822 [==============================] - 51s 6ms/step - loss: 0.1410 - acc: 0.9581 - val_loss: 0.1583 - val_acc: 0.9626\n",
            "Epoch 21/70\n",
            "8822/8822 [==============================] - 52s 6ms/step - loss: 0.1401 - acc: 0.9595 - val_loss: 0.1151 - val_acc: 0.9626\n",
            "Epoch 22/70\n",
            "8822/8822 [==============================] - 51s 6ms/step - loss: 0.1423 - acc: 0.9590 - val_loss: 0.1399 - val_acc: 0.9626\n",
            "Epoch 23/70\n",
            "8822/8822 [==============================] - 51s 6ms/step - loss: 0.1385 - acc: 0.9593 - val_loss: 0.1281 - val_acc: 0.9640\n",
            "Epoch 24/70\n",
            "8822/8822 [==============================] - 51s 6ms/step - loss: 0.1431 - acc: 0.9594 - val_loss: 0.1163 - val_acc: 0.9642\n",
            "Epoch 25/70\n",
            "8822/8822 [==============================] - 51s 6ms/step - loss: 0.1401 - acc: 0.9587 - val_loss: 0.1268 - val_acc: 0.9626\n",
            "Epoch 26/70\n",
            "8822/8822 [==============================] - 51s 6ms/step - loss: 0.1452 - acc: 0.9587 - val_loss: 0.1220 - val_acc: 0.9626\n",
            "Epoch 27/70\n",
            "8822/8822 [==============================] - 52s 6ms/step - loss: 0.1412 - acc: 0.9593 - val_loss: 0.1155 - val_acc: 0.9642\n",
            "Epoch 28/70\n",
            "8822/8822 [==============================] - 51s 6ms/step - loss: 0.1414 - acc: 0.9583 - val_loss: 0.1110 - val_acc: 0.9635\n",
            "Epoch 29/70\n",
            "8822/8822 [==============================] - 51s 6ms/step - loss: 0.1412 - acc: 0.9591 - val_loss: 0.1274 - val_acc: 0.9626\n",
            "Epoch 30/70\n",
            "8822/8822 [==============================] - 51s 6ms/step - loss: 0.1447 - acc: 0.9585 - val_loss: 0.1182 - val_acc: 0.9637\n",
            "Epoch 31/70\n",
            "8822/8822 [==============================] - 51s 6ms/step - loss: 0.1432 - acc: 0.9587 - val_loss: 0.1053 - val_acc: 0.9651\n",
            "Epoch 32/70\n",
            "8822/8822 [==============================] - 51s 6ms/step - loss: 0.1383 - acc: 0.9594 - val_loss: 0.1093 - val_acc: 0.9626\n",
            "Epoch 33/70\n",
            "8822/8822 [==============================] - 52s 6ms/step - loss: 0.1381 - acc: 0.9604 - val_loss: 0.1100 - val_acc: 0.9630\n",
            "Epoch 34/70\n",
            "8822/8822 [==============================] - 51s 6ms/step - loss: 0.1427 - acc: 0.9595 - val_loss: 0.1074 - val_acc: 0.9642\n",
            "Epoch 35/70\n",
            "8822/8822 [==============================] - 51s 6ms/step - loss: 0.1387 - acc: 0.9602 - val_loss: 0.1062 - val_acc: 0.9642\n",
            "Epoch 36/70\n",
            "8822/8822 [==============================] - 51s 6ms/step - loss: 0.1337 - acc: 0.9600 - val_loss: 0.1016 - val_acc: 0.9658\n",
            "Epoch 37/70\n",
            "8822/8822 [==============================] - 51s 6ms/step - loss: 0.1382 - acc: 0.9586 - val_loss: 0.1165 - val_acc: 0.9646\n",
            "Epoch 38/70\n",
            "8822/8822 [==============================] - 51s 6ms/step - loss: 0.1425 - acc: 0.9583 - val_loss: 0.1182 - val_acc: 0.9649\n",
            "Epoch 39/70\n",
            "8822/8822 [==============================] - 52s 6ms/step - loss: 0.1364 - acc: 0.9604 - val_loss: 0.1223 - val_acc: 0.9676\n",
            "Epoch 40/70\n",
            "8822/8822 [==============================] - 51s 6ms/step - loss: 0.1335 - acc: 0.9595 - val_loss: 0.1122 - val_acc: 0.9626\n",
            "Epoch 41/70\n",
            "8822/8822 [==============================] - 51s 6ms/step - loss: 0.1364 - acc: 0.9601 - val_loss: 0.1459 - val_acc: 0.9635\n",
            "Epoch 42/70\n",
            "8822/8822 [==============================] - 51s 6ms/step - loss: 0.1345 - acc: 0.9611 - val_loss: 0.1032 - val_acc: 0.9649\n",
            "Epoch 43/70\n",
            "8822/8822 [==============================] - 52s 6ms/step - loss: 0.1337 - acc: 0.9606 - val_loss: 0.1061 - val_acc: 0.9630\n",
            "Epoch 44/70\n",
            "8822/8822 [==============================] - 52s 6ms/step - loss: 0.1360 - acc: 0.9617 - val_loss: 0.1454 - val_acc: 0.9651\n",
            "Epoch 45/70\n",
            "8822/8822 [==============================] - 52s 6ms/step - loss: 0.1321 - acc: 0.9607 - val_loss: 0.1117 - val_acc: 0.9630\n",
            "Epoch 46/70\n",
            "8822/8822 [==============================] - 51s 6ms/step - loss: 0.1339 - acc: 0.9616 - val_loss: 0.1585 - val_acc: 0.9635\n",
            "Epoch 47/70\n",
            "8822/8822 [==============================] - 51s 6ms/step - loss: 0.1416 - acc: 0.9593 - val_loss: 0.1232 - val_acc: 0.9678\n",
            "Epoch 48/70\n",
            "8822/8822 [==============================] - 51s 6ms/step - loss: 0.1404 - acc: 0.9593 - val_loss: 0.1173 - val_acc: 0.9646\n",
            "Epoch 49/70\n",
            "8822/8822 [==============================] - 51s 6ms/step - loss: 0.1437 - acc: 0.9592 - val_loss: 0.1049 - val_acc: 0.9642\n",
            "Epoch 50/70\n",
            "8822/8822 [==============================] - 52s 6ms/step - loss: 0.1360 - acc: 0.9598 - val_loss: 0.1431 - val_acc: 0.9676\n",
            "Epoch 51/70\n",
            "8822/8822 [==============================] - 52s 6ms/step - loss: 0.1363 - acc: 0.9604 - val_loss: 0.1406 - val_acc: 0.9669\n",
            "Epoch 52/70\n",
            "8822/8822 [==============================] - 51s 6ms/step - loss: 0.1322 - acc: 0.9610 - val_loss: 0.1255 - val_acc: 0.9626\n",
            "Epoch 53/70\n",
            "8822/8822 [==============================] - 51s 6ms/step - loss: 0.1367 - acc: 0.9610 - val_loss: 0.1655 - val_acc: 0.9626\n",
            "Epoch 54/70\n",
            "8822/8822 [==============================] - 51s 6ms/step - loss: 0.1354 - acc: 0.9616 - val_loss: 0.1672 - val_acc: 0.9626\n",
            "Epoch 55/70\n",
            "8822/8822 [==============================] - 51s 6ms/step - loss: 0.1358 - acc: 0.9606 - val_loss: 0.1737 - val_acc: 0.9626\n",
            "Epoch 56/70\n",
            "8822/8822 [==============================] - 51s 6ms/step - loss: 0.1411 - acc: 0.9596 - val_loss: 0.1447 - val_acc: 0.9626\n",
            "Epoch 57/70\n",
            "8822/8822 [==============================] - 52s 6ms/step - loss: 0.1501 - acc: 0.9609 - val_loss: 0.1110 - val_acc: 0.9669\n",
            "Epoch 58/70\n",
            "8822/8822 [==============================] - 51s 6ms/step - loss: 0.1353 - acc: 0.9600 - val_loss: 0.1031 - val_acc: 0.9698\n",
            "Epoch 59/70\n",
            "8822/8822 [==============================] - 51s 6ms/step - loss: 0.1396 - acc: 0.9603 - val_loss: 0.0911 - val_acc: 0.9714\n",
            "Epoch 60/70\n",
            "8822/8822 [==============================] - 51s 6ms/step - loss: 0.1421 - acc: 0.9616 - val_loss: 0.1131 - val_acc: 0.9671\n",
            "Epoch 61/70\n",
            "8822/8822 [==============================] - 51s 6ms/step - loss: 0.1378 - acc: 0.9610 - val_loss: 0.1389 - val_acc: 0.9628\n",
            "Epoch 62/70\n",
            "8822/8822 [==============================] - 52s 6ms/step - loss: 0.1390 - acc: 0.9607 - val_loss: 0.1079 - val_acc: 0.9635\n",
            "Epoch 63/70\n",
            "8822/8822 [==============================] - 51s 6ms/step - loss: 0.1380 - acc: 0.9609 - val_loss: 0.1028 - val_acc: 0.9714\n",
            "Epoch 64/70\n",
            "8822/8822 [==============================] - 51s 6ms/step - loss: 0.1347 - acc: 0.9604 - val_loss: 0.1074 - val_acc: 0.9653\n",
            "Epoch 65/70\n",
            "8822/8822 [==============================] - 51s 6ms/step - loss: 0.1305 - acc: 0.9617 - val_loss: 0.1262 - val_acc: 0.9664\n",
            "Epoch 66/70\n",
            "8822/8822 [==============================] - 51s 6ms/step - loss: 0.1354 - acc: 0.9616 - val_loss: 0.1428 - val_acc: 0.9626\n",
            "Epoch 67/70\n",
            "8822/8822 [==============================] - 51s 6ms/step - loss: 0.1336 - acc: 0.9606 - val_loss: 0.1030 - val_acc: 0.9683\n",
            "Epoch 68/70\n",
            "8822/8822 [==============================] - 52s 6ms/step - loss: 0.1371 - acc: 0.9613 - val_loss: 0.1386 - val_acc: 0.9630\n",
            "Epoch 69/70\n",
            "8822/8822 [==============================] - 51s 6ms/step - loss: 0.1380 - acc: 0.9640 - val_loss: 0.1044 - val_acc: 0.9692\n",
            "Epoch 70/70\n",
            "8822/8822 [==============================] - 51s 6ms/step - loss: 0.1355 - acc: 0.9613 - val_loss: 0.1050 - val_acc: 0.9635\n",
            "Williams F1 Score on Train :  0.09870129870129872\n",
            "Williams F1 Score on Test :  0.04733727810650888\n"
          ],
          "name": "stdout"
        }
      ]
    },
    {
      "metadata": {
        "id": "l92RS1WEttdc",
        "colab_type": "code",
        "colab": {
          "base_uri": "https://localhost:8080/",
          "height": 1137
        },
        "outputId": "af7c09c5-179b-4bfa-aa17-608145f0de59"
      },
      "cell_type": "code",
      "source": [
        "from keras.models import load_model\n",
        "modelForWilliams=load_model(\"9initialized-model.keras\")\n",
        "X_train_w, X_test_w, y_train_w, y_test_w = train_test_split(X_reshaped, \n",
        "             y_bush,shuffle = True ,test_size= 1./3, random_state=6099, stratify  = y_williams) # A20396099\n",
        "\n",
        "\n",
        "modelForWilliams.fit(X_train_w,y_train_w, epochs=30, batch_size=32, validation_data = (X_test_w, y_test_w ) )\n",
        "\n",
        "y_predicted_train_will = modelForWilliams.predict_classes(X_train_w) \n",
        "y_predicted_test_will = modelForWilliams.predict_classes(X_test_w) \n",
        "\n",
        "result_f1_train_will_E100=f1_score(y_train_w, y_predicted_train_will)\n",
        "result_f1_test_will_E100=f1_score(y_test_w, y_predicted_test_will)\n",
        "print(\"Williams F1 Score on Train : \",result_f1_train_will_E100)\n",
        "print(\"Williams F1 Score on Test : \",result_f1_test_will_E100)"
      ],
      "execution_count": 9,
      "outputs": [
        {
          "output_type": "stream",
          "text": [
            "Train on 8822 samples, validate on 4411 samples\n",
            "Epoch 1/30\n",
            "8822/8822 [==============================] - 51s 6ms/step - loss: 0.1938 - acc: 0.9584 - val_loss: 0.1521 - val_acc: 0.9626\n",
            "Epoch 2/30\n",
            "8822/8822 [==============================] - 51s 6ms/step - loss: 0.1792 - acc: 0.9586 - val_loss: 0.1925 - val_acc: 0.9626\n",
            "Epoch 3/30\n",
            "8822/8822 [==============================] - 51s 6ms/step - loss: 0.1734 - acc: 0.9586 - val_loss: 0.1470 - val_acc: 0.9626\n",
            "Epoch 4/30\n",
            "8822/8822 [==============================] - 51s 6ms/step - loss: 0.1703 - acc: 0.9586 - val_loss: 0.1474 - val_acc: 0.9626\n",
            "Epoch 5/30\n",
            "8822/8822 [==============================] - 51s 6ms/step - loss: 0.1663 - acc: 0.9586 - val_loss: 0.1422 - val_acc: 0.9626\n",
            "Epoch 6/30\n",
            "8822/8822 [==============================] - 51s 6ms/step - loss: 0.1590 - acc: 0.9586 - val_loss: 0.1524 - val_acc: 0.9626\n",
            "Epoch 7/30\n",
            "8822/8822 [==============================] - 51s 6ms/step - loss: 0.1613 - acc: 0.9586 - val_loss: 0.1502 - val_acc: 0.9626\n",
            "Epoch 8/30\n",
            "8822/8822 [==============================] - 51s 6ms/step - loss: 0.1594 - acc: 0.9586 - val_loss: 0.1565 - val_acc: 0.9626\n",
            "Epoch 9/30\n",
            "8822/8822 [==============================] - 51s 6ms/step - loss: 0.1585 - acc: 0.9586 - val_loss: 0.1418 - val_acc: 0.9626\n",
            "Epoch 10/30\n",
            "8822/8822 [==============================] - 51s 6ms/step - loss: 0.1554 - acc: 0.9586 - val_loss: 0.1451 - val_acc: 0.9626\n",
            "Epoch 11/30\n",
            "8822/8822 [==============================] - 51s 6ms/step - loss: 0.1530 - acc: 0.9586 - val_loss: 0.1409 - val_acc: 0.9626\n",
            "Epoch 12/30\n",
            "8822/8822 [==============================] - 52s 6ms/step - loss: 0.1493 - acc: 0.9585 - val_loss: 0.1347 - val_acc: 0.9626\n",
            "Epoch 13/30\n",
            "8822/8822 [==============================] - 51s 6ms/step - loss: 0.1494 - acc: 0.9587 - val_loss: 0.1389 - val_acc: 0.9626\n",
            "Epoch 14/30\n",
            "8822/8822 [==============================] - 51s 6ms/step - loss: 0.1509 - acc: 0.9586 - val_loss: 0.1291 - val_acc: 0.9626\n",
            "Epoch 15/30\n",
            "8822/8822 [==============================] - 53s 6ms/step - loss: 0.1466 - acc: 0.9586 - val_loss: 0.1315 - val_acc: 0.9626\n",
            "Epoch 16/30\n",
            "8822/8822 [==============================] - 51s 6ms/step - loss: 0.1428 - acc: 0.9587 - val_loss: 0.1257 - val_acc: 0.9626\n",
            "Epoch 17/30\n",
            "8822/8822 [==============================] - 51s 6ms/step - loss: 0.1441 - acc: 0.9583 - val_loss: 0.1292 - val_acc: 0.9626\n",
            "Epoch 18/30\n",
            "8822/8822 [==============================] - 52s 6ms/step - loss: 0.1427 - acc: 0.9598 - val_loss: 0.1209 - val_acc: 0.9626\n",
            "Epoch 19/30\n",
            "8822/8822 [==============================] - 51s 6ms/step - loss: 0.1390 - acc: 0.9585 - val_loss: 0.1432 - val_acc: 0.9626\n",
            "Epoch 20/30\n",
            "8822/8822 [==============================] - 51s 6ms/step - loss: 0.1456 - acc: 0.9585 - val_loss: 0.1192 - val_acc: 0.9626\n",
            "Epoch 21/30\n",
            "8822/8822 [==============================] - 51s 6ms/step - loss: 0.1369 - acc: 0.9594 - val_loss: 0.1245 - val_acc: 0.9642\n",
            "Epoch 22/30\n",
            "8822/8822 [==============================] - 51s 6ms/step - loss: 0.1391 - acc: 0.9584 - val_loss: 0.1283 - val_acc: 0.9626\n",
            "Epoch 23/30\n",
            "8822/8822 [==============================] - 51s 6ms/step - loss: 0.1374 - acc: 0.9593 - val_loss: 0.1370 - val_acc: 0.9626\n",
            "Epoch 24/30\n",
            "8822/8822 [==============================] - 51s 6ms/step - loss: 0.1324 - acc: 0.9601 - val_loss: 0.1277 - val_acc: 0.9635\n",
            "Epoch 25/30\n",
            "8822/8822 [==============================] - 51s 6ms/step - loss: 0.1341 - acc: 0.9593 - val_loss: 0.1196 - val_acc: 0.9626\n",
            "Epoch 26/30\n",
            "8822/8822 [==============================] - 51s 6ms/step - loss: 0.1313 - acc: 0.9599 - val_loss: 0.1210 - val_acc: 0.9630\n",
            "Epoch 27/30\n",
            "8822/8822 [==============================] - 51s 6ms/step - loss: 0.1283 - acc: 0.9611 - val_loss: 0.1076 - val_acc: 0.9649\n",
            "Epoch 28/30\n",
            "8822/8822 [==============================] - 51s 6ms/step - loss: 0.1310 - acc: 0.9600 - val_loss: 0.1103 - val_acc: 0.9644\n",
            "Epoch 29/30\n",
            "8822/8822 [==============================] - 51s 6ms/step - loss: 0.1244 - acc: 0.9627 - val_loss: 0.1091 - val_acc: 0.9644\n",
            "Epoch 30/30\n",
            "8822/8822 [==============================] - 51s 6ms/step - loss: 0.1297 - acc: 0.9617 - val_loss: 0.1056 - val_acc: 0.9658\n",
            "Williams F1 Score on Train :  0.34070796460176994\n",
            "Williams F1 Score on Test :  0.20105820105820107\n"
          ],
          "name": "stdout"
        }
      ]
    },
    {
      "metadata": {
        "id": "PA6QkXXJ9rBi",
        "colab_type": "code",
        "colab": {
          "base_uri": "https://localhost:8080/",
          "height": 1137
        },
        "outputId": "c5760226-f153-42de-aff6-5fde28984179"
      },
      "cell_type": "code",
      "source": [
        "from keras.models import load_model\n",
        "modelForWilliams=load_model(\"13initialized-model.keras\")\n",
        "X_train_w, X_test_w, y_train_w, y_test_w = train_test_split(X_reshaped, \n",
        "             y_bush,shuffle = True ,test_size= 1./3, random_state=6099, stratify  = y_williams) # A20396099\n",
        "\n",
        "\n",
        "modelForWilliams.fit(X_train_w,y_train_w, epochs=30, batch_size=32, validation_data = (X_test_w, y_test_w ) )\n",
        "\n",
        "y_predicted_train_will = modelForWilliams.predict_classes(X_train_w) \n",
        "y_predicted_test_will = modelForWilliams.predict_classes(X_test_w) \n",
        "\n",
        "result_f1_train_will_E100=f1_score(y_train_w, y_predicted_train_will)\n",
        "result_f1_test_will_E100=f1_score(y_test_w, y_predicted_test_will)\n",
        "print(\"Williams F1 Score on Train : \",result_f1_train_will_E100)\n",
        "print(\"Williams F1 Score on Test : \",result_f1_test_will_E100)"
      ],
      "execution_count": 10,
      "outputs": [
        {
          "output_type": "stream",
          "text": [
            "Train on 8822 samples, validate on 4411 samples\n",
            "Epoch 1/30\n",
            "8822/8822 [==============================] - 54s 6ms/step - loss: 0.4568 - acc: 0.8173 - val_loss: 0.6895 - val_acc: 0.5366\n",
            "Epoch 2/30\n",
            "8822/8822 [==============================] - 53s 6ms/step - loss: 0.1515 - acc: 0.9547 - val_loss: 0.6029 - val_acc: 0.9626\n",
            "Epoch 3/30\n",
            "8822/8822 [==============================] - 53s 6ms/step - loss: 0.1113 - acc: 0.9642 - val_loss: 11.4422 - val_acc: 0.0374\n",
            "Epoch 4/30\n",
            "8822/8822 [==============================] - 54s 6ms/step - loss: 0.0836 - acc: 0.9714 - val_loss: 7.3215 - val_acc: 0.0404\n",
            "Epoch 5/30\n",
            "8822/8822 [==============================] - 53s 6ms/step - loss: 0.0681 - acc: 0.9766 - val_loss: 0.8714 - val_acc: 0.6271\n",
            "Epoch 6/30\n",
            "8822/8822 [==============================] - 54s 6ms/step - loss: 0.0618 - acc: 0.9782 - val_loss: 0.0908 - val_acc: 0.9726\n",
            "Epoch 7/30\n",
            "8822/8822 [==============================] - 53s 6ms/step - loss: 0.0552 - acc: 0.9799 - val_loss: 0.1957 - val_acc: 0.9662\n",
            "Epoch 8/30\n",
            "8822/8822 [==============================] - 53s 6ms/step - loss: 0.0377 - acc: 0.9858 - val_loss: 6.4347 - val_acc: 0.0850\n",
            "Epoch 9/30\n",
            "8822/8822 [==============================] - 53s 6ms/step - loss: 0.0305 - acc: 0.9897 - val_loss: 0.1637 - val_acc: 0.9671\n",
            "Epoch 10/30\n",
            "8822/8822 [==============================] - 54s 6ms/step - loss: 0.0262 - acc: 0.9901 - val_loss: 0.3953 - val_acc: 0.9626\n",
            "Epoch 11/30\n",
            "8822/8822 [==============================] - 54s 6ms/step - loss: 0.0212 - acc: 0.9925 - val_loss: 0.5131 - val_acc: 0.9626\n",
            "Epoch 12/30\n",
            "8822/8822 [==============================] - 54s 6ms/step - loss: 0.0218 - acc: 0.9924 - val_loss: 0.6027 - val_acc: 0.9626\n",
            "Epoch 13/30\n",
            "8822/8822 [==============================] - 53s 6ms/step - loss: 0.0176 - acc: 0.9935 - val_loss: 11.8767 - val_acc: 0.0449\n",
            "Epoch 14/30\n",
            "8822/8822 [==============================] - 53s 6ms/step - loss: 0.0109 - acc: 0.9964 - val_loss: 0.4115 - val_acc: 0.9626\n",
            "Epoch 15/30\n",
            "8822/8822 [==============================] - 54s 6ms/step - loss: 0.0134 - acc: 0.9957 - val_loss: 0.3868 - val_acc: 0.9630\n",
            "Epoch 16/30\n",
            "8822/8822 [==============================] - 53s 6ms/step - loss: 0.0095 - acc: 0.9967 - val_loss: 0.6029 - val_acc: 0.9626\n",
            "Epoch 17/30\n",
            "8822/8822 [==============================] - 53s 6ms/step - loss: 0.0125 - acc: 0.9957 - val_loss: 0.6029 - val_acc: 0.9626\n",
            "Epoch 18/30\n",
            "8822/8822 [==============================] - 53s 6ms/step - loss: 0.0134 - acc: 0.9954 - val_loss: 1.2155 - val_acc: 0.6797\n",
            "Epoch 19/30\n",
            "8822/8822 [==============================] - 53s 6ms/step - loss: 0.0110 - acc: 0.9958 - val_loss: 0.0994 - val_acc: 0.9646\n",
            "Epoch 20/30\n",
            "8822/8822 [==============================] - 54s 6ms/step - loss: 0.0119 - acc: 0.9955 - val_loss: 0.5038 - val_acc: 0.9626\n",
            "Epoch 21/30\n",
            "8822/8822 [==============================] - 54s 6ms/step - loss: 0.0117 - acc: 0.9956 - val_loss: 11.5001 - val_acc: 0.0667\n",
            "Epoch 22/30\n",
            "8822/8822 [==============================] - 54s 6ms/step - loss: 0.0117 - acc: 0.9961 - val_loss: 13.5228 - val_acc: 0.0419\n",
            "Epoch 23/30\n",
            "8822/8822 [==============================] - 54s 6ms/step - loss: 0.0114 - acc: 0.9948 - val_loss: 11.3970 - val_acc: 0.0689\n",
            "Epoch 24/30\n",
            "8822/8822 [==============================] - 53s 6ms/step - loss: 0.0067 - acc: 0.9976 - val_loss: 0.0693 - val_acc: 0.9760\n",
            "Epoch 25/30\n",
            "8822/8822 [==============================] - 54s 6ms/step - loss: 0.0076 - acc: 0.9972 - val_loss: 1.4554 - val_acc: 0.6613\n",
            "Epoch 26/30\n",
            "8822/8822 [==============================] - 53s 6ms/step - loss: 0.0147 - acc: 0.9950 - val_loss: 0.1127 - val_acc: 0.9794\n",
            "Epoch 27/30\n",
            "8822/8822 [==============================] - 54s 6ms/step - loss: 0.0100 - acc: 0.9959 - val_loss: 0.2968 - val_acc: 0.9683\n",
            "Epoch 28/30\n",
            "8822/8822 [==============================] - 53s 6ms/step - loss: 0.0077 - acc: 0.9974 - val_loss: 0.4486 - val_acc: 0.9642\n",
            "Epoch 29/30\n",
            "8822/8822 [==============================] - 54s 6ms/step - loss: 0.0090 - acc: 0.9974 - val_loss: 0.3003 - val_acc: 0.9683\n",
            "Epoch 30/30\n",
            "8822/8822 [==============================] - 53s 6ms/step - loss: 0.0064 - acc: 0.9975 - val_loss: 0.2402 - val_acc: 0.9708\n",
            "Williams F1 Score on Train :  0.6678832116788321\n",
            "Williams F1 Score on Test :  0.3582089552238806\n"
          ],
          "name": "stdout"
        }
      ]
    },
    {
      "metadata": {
        "id": "pCSBT69_Aqna",
        "colab_type": "code",
        "colab": {
          "base_uri": "https://localhost:8080/",
          "height": 1137
        },
        "outputId": "da212f90-5999-490a-a5f0-e1a55721f3b1"
      },
      "cell_type": "code",
      "source": [
        "from keras.models import load_model\n",
        "modelForWilliams=load_model(\"8initialized-model.keras\")\n",
        "X_train_w, X_test_w, y_train_w, y_test_w = train_test_split(X_reshaped, \n",
        "             y_bush,shuffle = True ,test_size= 1./3, random_state=6099, stratify  = y_williams) # A20396099\n",
        "\n",
        "\n",
        "modelForWilliams.fit(X_train_w,y_train_w, epochs=30, batch_size=32, validation_data = (X_test_w, y_test_w ) )\n",
        "\n",
        "y_predicted_train_will = modelForWilliams.predict_classes(X_train_w) \n",
        "y_predicted_test_will = modelForWilliams.predict_classes(X_test_w) \n",
        "\n",
        "result_f1_train_will_E100=f1_score(y_train_w, y_predicted_train_will)\n",
        "result_f1_test_will_E100=f1_score(y_test_w, y_predicted_test_will)\n",
        "print(\"Williams F1 Score on Train : \",result_f1_train_will_E100)\n",
        "print(\"Williams F1 Score on Test : \",result_f1_test_will_E100)"
      ],
      "execution_count": 11,
      "outputs": [
        {
          "output_type": "stream",
          "text": [
            "Train on 8822 samples, validate on 4411 samples\n",
            "Epoch 1/30\n",
            "8822/8822 [==============================] - 75s 9ms/step - loss: 0.6621 - acc: 0.8170 - val_loss: 0.6029 - val_acc: 0.9626\n",
            "Epoch 2/30\n",
            "8822/8822 [==============================] - 75s 9ms/step - loss: 0.2149 - acc: 0.9438 - val_loss: 0.6005 - val_acc: 0.9626\n",
            "Epoch 3/30\n",
            "8822/8822 [==============================] - 75s 9ms/step - loss: 0.1326 - acc: 0.9604 - val_loss: 0.6029 - val_acc: 0.9626\n",
            "Epoch 4/30\n",
            "8822/8822 [==============================] - 74s 8ms/step - loss: 0.0976 - acc: 0.9696 - val_loss: 0.6029 - val_acc: 0.9626\n",
            "Epoch 5/30\n",
            "8822/8822 [==============================] - 75s 8ms/step - loss: 0.0689 - acc: 0.9786 - val_loss: 0.0557 - val_acc: 0.9823\n",
            "Epoch 6/30\n",
            "8822/8822 [==============================] - 75s 8ms/step - loss: 0.0590 - acc: 0.9794 - val_loss: 8.2248 - val_acc: 0.0567\n",
            "Epoch 7/30\n",
            "8822/8822 [==============================] - 75s 8ms/step - loss: 0.0422 - acc: 0.9844 - val_loss: 0.6029 - val_acc: 0.9626\n",
            "Epoch 8/30\n",
            "8822/8822 [==============================] - 75s 8ms/step - loss: 0.0397 - acc: 0.9848 - val_loss: 11.8327 - val_acc: 0.0381\n",
            "Epoch 9/30\n",
            "8822/8822 [==============================] - 75s 8ms/step - loss: 0.0284 - acc: 0.9898 - val_loss: 3.2670 - val_acc: 0.2374\n",
            "Epoch 10/30\n",
            "8822/8822 [==============================] - 75s 8ms/step - loss: 0.0234 - acc: 0.9916 - val_loss: 0.0593 - val_acc: 0.9835\n",
            "Epoch 11/30\n",
            "8822/8822 [==============================] - 74s 8ms/step - loss: 0.0214 - acc: 0.9930 - val_loss: 0.0318 - val_acc: 0.9893\n",
            "Epoch 12/30\n",
            "8822/8822 [==============================] - 75s 8ms/step - loss: 0.0356 - acc: 0.9874 - val_loss: 0.6029 - val_acc: 0.9626\n",
            "Epoch 13/30\n",
            "8822/8822 [==============================] - 74s 8ms/step - loss: 0.0301 - acc: 0.9887 - val_loss: 15.3433 - val_acc: 0.0374\n",
            "Epoch 14/30\n",
            "8822/8822 [==============================] - 75s 8ms/step - loss: 0.0276 - acc: 0.9890 - val_loss: 11.1070 - val_acc: 0.0419\n",
            "Epoch 15/30\n",
            "8822/8822 [==============================] - 75s 8ms/step - loss: 0.0275 - acc: 0.9897 - val_loss: 0.3487 - val_acc: 0.9635\n",
            "Epoch 16/30\n",
            "8822/8822 [==============================] - 75s 9ms/step - loss: 0.0183 - acc: 0.9937 - val_loss: 0.8614 - val_acc: 0.7007\n",
            "Epoch 17/30\n",
            "8822/8822 [==============================] - 75s 8ms/step - loss: 0.0165 - acc: 0.9938 - val_loss: 0.6029 - val_acc: 0.9626\n",
            "Epoch 18/30\n",
            "8822/8822 [==============================] - 75s 9ms/step - loss: 0.0155 - acc: 0.9938 - val_loss: 0.1583 - val_acc: 0.9723\n",
            "Epoch 19/30\n",
            "8822/8822 [==============================] - 75s 8ms/step - loss: 0.0133 - acc: 0.9944 - val_loss: 0.0300 - val_acc: 0.9907\n",
            "Epoch 20/30\n",
            "8822/8822 [==============================] - 75s 9ms/step - loss: 0.0133 - acc: 0.9956 - val_loss: 0.1125 - val_acc: 0.9787\n",
            "Epoch 21/30\n",
            "8822/8822 [==============================] - 75s 8ms/step - loss: 0.0111 - acc: 0.9959 - val_loss: 15.3460 - val_acc: 0.0374\n",
            "Epoch 22/30\n",
            "8822/8822 [==============================] - 75s 8ms/step - loss: 0.0153 - acc: 0.9941 - val_loss: 15.3460 - val_acc: 0.0374\n",
            "Epoch 23/30\n",
            "8822/8822 [==============================] - 74s 8ms/step - loss: 0.0146 - acc: 0.9949 - val_loss: 0.6029 - val_acc: 0.9626\n",
            "Epoch 24/30\n",
            "8822/8822 [==============================] - 75s 9ms/step - loss: 0.0148 - acc: 0.9950 - val_loss: 0.0436 - val_acc: 0.9855\n",
            "Epoch 25/30\n",
            "8822/8822 [==============================] - 75s 8ms/step - loss: 0.0119 - acc: 0.9951 - val_loss: 0.9977 - val_acc: 0.7236\n",
            "Epoch 26/30\n",
            "8822/8822 [==============================] - 75s 9ms/step - loss: 0.0104 - acc: 0.9967 - val_loss: 0.4597 - val_acc: 0.8545\n",
            "Epoch 27/30\n",
            "8822/8822 [==============================] - 75s 8ms/step - loss: 0.0083 - acc: 0.9973 - val_loss: 0.3115 - val_acc: 0.9671\n",
            "Epoch 28/30\n",
            "8822/8822 [==============================] - 75s 9ms/step - loss: 0.0073 - acc: 0.9975 - val_loss: 0.0671 - val_acc: 0.9850\n",
            "Epoch 29/30\n",
            "8822/8822 [==============================] - 74s 8ms/step - loss: 0.0076 - acc: 0.9973 - val_loss: 0.4424 - val_acc: 0.9637\n",
            "Epoch 30/30\n",
            "8822/8822 [==============================] - 75s 8ms/step - loss: 0.0095 - acc: 0.9969 - val_loss: 0.2156 - val_acc: 0.9714\n",
            "Williams F1 Score on Train :  0.7170474516695958\n",
            "Williams F1 Score on Test :  0.3823529411764706\n"
          ],
          "name": "stdout"
        }
      ]
    },
    {
      "metadata": {
        "id": "snPnCZNiBawb",
        "colab_type": "code",
        "colab": {
          "base_uri": "https://localhost:8080/",
          "height": 1157
        },
        "outputId": "67fe7bb5-f4e9-4f17-d389-a12bcefb3a8d"
      },
      "cell_type": "code",
      "source": [
        "from keras.models import load_model\n",
        "modelForWilliams=load_model(\"10initialized-model.keras\")\n",
        "X_train_w, X_test_w, y_train_w, y_test_w = train_test_split(X_reshaped, \n",
        "             y_bush,shuffle = True ,test_size= 1./3, random_state=6099, stratify  = y_williams) # A20396099\n",
        "\n",
        "\n",
        "modelForWilliams.fit(X_train_w,y_train_w, epochs=30, batch_size=32, validation_data = (X_test_w, y_test_w ) )\n",
        "\n",
        "y_predicted_train_will = modelForWilliams.predict_classes(X_train_w) \n",
        "y_predicted_test_will = modelForWilliams.predict_classes(X_test_w) \n",
        "\n",
        "result_f1_train_will_E100=f1_score(y_train_w, y_predicted_train_will)\n",
        "result_f1_test_will_E100=f1_score(y_test_w, y_predicted_test_will)\n",
        "print(\"Williams F1 Score on Train : \",result_f1_train_will_E100)\n",
        "print(\"Williams F1 Score on Test : \",result_f1_test_will_E100)"
      ],
      "execution_count": 12,
      "outputs": [
        {
          "output_type": "stream",
          "text": [
            "Train on 8822 samples, validate on 4411 samples\n",
            "Epoch 1/30\n",
            "8822/8822 [==============================] - 65s 7ms/step - loss: 0.1774 - acc: 0.9586 - val_loss: 0.1541 - val_acc: 0.9626\n",
            "Epoch 2/30\n",
            "8822/8822 [==============================] - 65s 7ms/step - loss: 0.1544 - acc: 0.9585 - val_loss: 0.1353 - val_acc: 0.9626\n",
            "Epoch 3/30\n",
            "8822/8822 [==============================] - 64s 7ms/step - loss: 0.1373 - acc: 0.9586 - val_loss: 0.1193 - val_acc: 0.9626\n",
            "Epoch 4/30\n",
            "8822/8822 [==============================] - 65s 7ms/step - loss: 0.1050 - acc: 0.9637 - val_loss: 0.0827 - val_acc: 0.9712\n",
            "Epoch 5/30\n",
            "8822/8822 [==============================] - 65s 7ms/step - loss: 0.0768 - acc: 0.9738 - val_loss: 0.0646 - val_acc: 0.9780\n",
            "Epoch 6/30\n",
            "8822/8822 [==============================] - 64s 7ms/step - loss: 0.0610 - acc: 0.9799 - val_loss: 0.0600 - val_acc: 0.9791\n",
            "Epoch 7/30\n",
            "8822/8822 [==============================] - 65s 7ms/step - loss: 0.0505 - acc: 0.9835 - val_loss: 0.0528 - val_acc: 0.9828\n",
            "Epoch 8/30\n",
            "8822/8822 [==============================] - 64s 7ms/step - loss: 0.0443 - acc: 0.9854 - val_loss: 0.0450 - val_acc: 0.9837\n",
            "Epoch 9/30\n",
            "8822/8822 [==============================] - 65s 7ms/step - loss: 0.0355 - acc: 0.9896 - val_loss: 0.0380 - val_acc: 0.9869\n",
            "Epoch 10/30\n",
            "8822/8822 [==============================] - 65s 7ms/step - loss: 0.0294 - acc: 0.9909 - val_loss: 0.0391 - val_acc: 0.9875\n",
            "Epoch 11/30\n",
            "8822/8822 [==============================] - 64s 7ms/step - loss: 0.0267 - acc: 0.9918 - val_loss: 0.0367 - val_acc: 0.9864\n",
            "Epoch 12/30\n",
            "8822/8822 [==============================] - 65s 7ms/step - loss: 0.0206 - acc: 0.9926 - val_loss: 0.0380 - val_acc: 0.9880\n",
            "Epoch 13/30\n",
            "8822/8822 [==============================] - 65s 7ms/step - loss: 0.0164 - acc: 0.9944 - val_loss: 0.0317 - val_acc: 0.9896\n",
            "Epoch 14/30\n",
            "8822/8822 [==============================] - 65s 7ms/step - loss: 0.0135 - acc: 0.9955 - val_loss: 0.0304 - val_acc: 0.9905\n",
            "Epoch 15/30\n",
            "8822/8822 [==============================] - 65s 7ms/step - loss: 0.0102 - acc: 0.9973 - val_loss: 0.0332 - val_acc: 0.9909\n",
            "Epoch 16/30\n",
            "8822/8822 [==============================] - 66s 7ms/step - loss: 0.0068 - acc: 0.9984 - val_loss: 0.0328 - val_acc: 0.9898\n",
            "Epoch 17/30\n",
            "8822/8822 [==============================] - 65s 7ms/step - loss: 0.0056 - acc: 0.9989 - val_loss: 0.0356 - val_acc: 0.9903\n",
            "Epoch 18/30\n",
            "8822/8822 [==============================] - 65s 7ms/step - loss: 0.0037 - acc: 0.9995 - val_loss: 0.0329 - val_acc: 0.9907\n",
            "Epoch 19/30\n",
            "8822/8822 [==============================] - 65s 7ms/step - loss: 0.0030 - acc: 0.9997 - val_loss: 0.0332 - val_acc: 0.9893\n",
            "Epoch 20/30\n",
            "8822/8822 [==============================] - 66s 7ms/step - loss: 0.0022 - acc: 1.0000 - val_loss: 0.0344 - val_acc: 0.9898\n",
            "Epoch 21/30\n",
            "8822/8822 [==============================] - 66s 8ms/step - loss: 0.0012 - acc: 1.0000 - val_loss: 0.0328 - val_acc: 0.9891\n",
            "Epoch 22/30\n",
            "8822/8822 [==============================] - 65s 7ms/step - loss: 9.9168e-04 - acc: 1.0000 - val_loss: 0.0347 - val_acc: 0.9909\n",
            "Epoch 23/30\n",
            "8822/8822 [==============================] - 66s 7ms/step - loss: 6.1575e-04 - acc: 1.0000 - val_loss: 0.0367 - val_acc: 0.9905\n",
            "Epoch 24/30\n",
            "8822/8822 [==============================] - 65s 7ms/step - loss: 4.4830e-04 - acc: 1.0000 - val_loss: 0.0363 - val_acc: 0.9905\n",
            "Epoch 25/30\n",
            "8822/8822 [==============================] - 65s 7ms/step - loss: 4.6108e-04 - acc: 1.0000 - val_loss: 0.0367 - val_acc: 0.9912\n",
            "Epoch 26/30\n",
            "8822/8822 [==============================] - 65s 7ms/step - loss: 3.1413e-04 - acc: 1.0000 - val_loss: 0.0386 - val_acc: 0.9907\n",
            "Epoch 27/30\n",
            "8822/8822 [==============================] - 65s 7ms/step - loss: 2.4971e-04 - acc: 1.0000 - val_loss: 0.0413 - val_acc: 0.9912\n",
            "Epoch 28/30\n",
            "8822/8822 [==============================] - 65s 7ms/step - loss: 2.1736e-04 - acc: 1.0000 - val_loss: 0.0400 - val_acc: 0.9912\n",
            "Epoch 29/30\n",
            "8822/8822 [==============================] - 65s 7ms/step - loss: 1.5207e-04 - acc: 1.0000 - val_loss: 0.0403 - val_acc: 0.9912\n",
            "Epoch 30/30\n",
            "8822/8822 [==============================] - 65s 7ms/step - loss: 1.2335e-04 - acc: 1.0000 - val_loss: 0.0397 - val_acc: 0.9907\n",
            "Williams F1 Score on Train :  1.0\n",
            "Williams F1 Score on Test :  0.8730650154798761\n"
          ],
          "name": "stdout"
        }
      ]
    },
    {
      "metadata": {
        "id": "AmCUt6JcBcoD",
        "colab_type": "code",
        "colab": {
          "base_uri": "https://localhost:8080/",
          "height": 238
        },
        "outputId": "2a8d9888-4c12-4264-8c58-0a18bcd3b0b5"
      },
      "cell_type": "code",
      "source": [
        "from keras.models import load_model\n",
        "modelForWilliams=load_model(\"initialized-model.keras\")\n",
        "X_train_w, X_test_w, y_train_w, y_test_w = train_test_split(X_reshaped, \n",
        "             y_bush,shuffle = True ,test_size= 1./3, random_state=6099, stratify  = y_williams) # A20396099\n",
        "\n",
        "\n",
        "modelForWilliams.fit(X_train_w,y_train_w, epochs=150, batch_size=32, validation_data = (X_test_w, y_test_w ) )\n",
        "\n",
        "y_predicted_train_will = modelForWilliams.predict_classes(X_train_w) \n",
        "y_predicted_test_will = modelForWilliams.predict_classes(X_test_w) \n",
        "\n",
        "result_f1_train_will_E100=f1_score(y_train_w, y_predicted_train_will)\n",
        "result_f1_test_will_E100=f1_score(y_test_w, y_predicted_test_will)\n",
        "print(\"Williams F1 Score on Train : \",result_f1_train_will_E100)\n",
        "print(\"Williams F1 Score on Test : \",result_f1_test_will_E100)"
      ],
      "execution_count": 3,
      "outputs": [
        {
          "output_type": "error",
          "ename": "NameError",
          "evalue": "ignored",
          "traceback": [
            "\u001b[0;31m---------------------------------------------------------------------------\u001b[0m",
            "\u001b[0;31mNameError\u001b[0m                                 Traceback (most recent call last)",
            "\u001b[0;32m<ipython-input-3-8d59d023498c>\u001b[0m in \u001b[0;36m<module>\u001b[0;34m()\u001b[0m\n\u001b[1;32m      1\u001b[0m \u001b[0;32mfrom\u001b[0m \u001b[0mkeras\u001b[0m\u001b[0;34m.\u001b[0m\u001b[0mmodels\u001b[0m \u001b[0;32mimport\u001b[0m \u001b[0mload_model\u001b[0m\u001b[0;34m\u001b[0m\u001b[0;34m\u001b[0m\u001b[0m\n\u001b[1;32m      2\u001b[0m \u001b[0mmodelForWilliams\u001b[0m\u001b[0;34m=\u001b[0m\u001b[0mload_model\u001b[0m\u001b[0;34m(\u001b[0m\u001b[0;34m\"initialized-model.keras\"\u001b[0m\u001b[0;34m)\u001b[0m\u001b[0;34m\u001b[0m\u001b[0;34m\u001b[0m\u001b[0m\n\u001b[0;32m----> 3\u001b[0;31m X_train_w, X_test_w, y_train_w, y_test_w = train_test_split(X_reshaped, \n\u001b[0m\u001b[1;32m      4\u001b[0m              y_bush,shuffle = True ,test_size= 1./3, random_state=6099, stratify  = y_williams) # A20396099\n\u001b[1;32m      5\u001b[0m \u001b[0;34m\u001b[0m\u001b[0m\n",
            "\u001b[0;31mNameError\u001b[0m: name 'train_test_split' is not defined"
          ]
        }
      ]
    },
    {
      "metadata": {
        "id": "YbcBGJxyEfhF",
        "colab_type": "code",
        "colab": {}
      },
      "cell_type": "code",
      "source": [
        "m=load_model('10initialized-model.keras')"
      ],
      "execution_count": 0,
      "outputs": []
    },
    {
      "metadata": {
        "id": "XiarrydiEZqF",
        "colab_type": "code",
        "colab": {
          "base_uri": "https://localhost:8080/",
          "height": 426
        },
        "outputId": "e6506f7b-bd6a-4574-9815-2dc2b99280ca"
      },
      "cell_type": "code",
      "source": [
        "m.summary()"
      ],
      "execution_count": 7,
      "outputs": [
        {
          "output_type": "stream",
          "text": [
            "_________________________________________________________________\n",
            "Layer (type)                 Output Shape              Param #   \n",
            "=================================================================\n",
            "conv2d_19 (Conv2D)           (None, 62, 62, 32)        320       \n",
            "_________________________________________________________________\n",
            "max_pooling2d_19 (MaxPooling (None, 31, 31, 32)        0         \n",
            "_________________________________________________________________\n",
            "conv2d_20 (Conv2D)           (None, 29, 29, 64)        18496     \n",
            "_________________________________________________________________\n",
            "max_pooling2d_20 (MaxPooling (None, 14, 14, 64)        0         \n",
            "_________________________________________________________________\n",
            "conv2d_21 (Conv2D)           (None, 12, 12, 64)        36928     \n",
            "_________________________________________________________________\n",
            "max_pooling2d_21 (MaxPooling (None, 6, 6, 64)          0         \n",
            "_________________________________________________________________\n",
            "flatten_7 (Flatten)          (None, 2304)              0         \n",
            "_________________________________________________________________\n",
            "dense_9 (Dense)              (None, 1)                 2305      \n",
            "=================================================================\n",
            "Total params: 58,049\n",
            "Trainable params: 58,049\n",
            "Non-trainable params: 0\n",
            "_________________________________________________________________\n"
          ],
          "name": "stdout"
        }
      ]
    },
    {
      "metadata": {
        "id": "yhxPJkrBxt3e",
        "colab_type": "code",
        "colab": {
          "base_uri": "https://localhost:8080/",
          "height": 1343
        },
        "outputId": "b2279092-cc93-4c76-be78-a2630fd9f722"
      },
      "cell_type": "code",
      "source": [
        "from keras.models import load_model\n",
        "modelForWilliams=load_model(\"10initialized-model.keras\")\n",
        "X_train_w, X_test_w, y_train_w, y_test_w = train_test_split(X_reshaped, \n",
        "             y_bush,shuffle = True ,test_size= 1./3, random_state=6099, stratify  = y_williams) # A20396099\n",
        "\n",
        "\n",
        "modelForWilliams.fit(X_train_w,y_train_w, epochs=30, batch_size=32, validation_data = (X_test_w, y_test_w ) )\n",
        "\n",
        "y_predicted_train_will = modelForWilliams.predict_classes(X_train_w) \n",
        "y_predicted_test_will = modelForWilliams.predict_classes(X_test_w) \n",
        "\n",
        "result_f1_train_will_E100=f1_score(y_train_w, y_predicted_train_will)\n",
        "result_f1_test_will_E100=f1_score(y_test_w, y_predicted_test_will)\n",
        "print(\"Williams F1 Score on Train : \",result_f1_train_will_E100)\n",
        "print(\"Williams F1 Score on Test : \",result_f1_test_will_E100)"
      ],
      "execution_count": 10,
      "outputs": [
        {
          "output_type": "stream",
          "text": [
            "Train on 8822 samples, validate on 4411 samples\n",
            "Epoch 1/30\n",
            "8822/8822 [==============================] - 76s 9ms/step - loss: 0.1815 - acc: 0.9586 - val_loss: 0.1452 - val_acc: 0.9626\n",
            "Epoch 2/30\n",
            "8822/8822 [==============================] - 75s 9ms/step - loss: 0.1551 - acc: 0.9586 - val_loss: 0.1380 - val_acc: 0.9626\n",
            "Epoch 3/30\n",
            "8822/8822 [==============================] - 77s 9ms/step - loss: 0.1378 - acc: 0.9583 - val_loss: 0.1137 - val_acc: 0.9640\n",
            "Epoch 4/30\n",
            "8822/8822 [==============================] - 77s 9ms/step - loss: 0.1046 - acc: 0.9647 - val_loss: 0.0836 - val_acc: 0.9726\n",
            "Epoch 5/30\n",
            "8822/8822 [==============================] - 76s 9ms/step - loss: 0.0708 - acc: 0.9757 - val_loss: 0.0663 - val_acc: 0.9776\n",
            "Epoch 6/30\n",
            "8822/8822 [==============================] - 76s 9ms/step - loss: 0.0549 - acc: 0.9810 - val_loss: 0.0553 - val_acc: 0.9805\n",
            "Epoch 7/30\n",
            "8822/8822 [==============================] - 75s 9ms/step - loss: 0.0436 - acc: 0.9857 - val_loss: 0.0531 - val_acc: 0.9814\n",
            "Epoch 8/30\n",
            "8822/8822 [==============================] - 76s 9ms/step - loss: 0.0343 - acc: 0.9900 - val_loss: 0.0491 - val_acc: 0.9828\n",
            "Epoch 9/30\n",
            "8822/8822 [==============================] - 76s 9ms/step - loss: 0.0275 - acc: 0.9912 - val_loss: 0.0443 - val_acc: 0.9830\n",
            "Epoch 10/30\n",
            "8822/8822 [==============================] - 76s 9ms/step - loss: 0.0237 - acc: 0.9927 - val_loss: 0.0440 - val_acc: 0.9853\n",
            "Epoch 11/30\n",
            "8822/8822 [==============================] - 76s 9ms/step - loss: 0.0160 - acc: 0.9955 - val_loss: 0.0373 - val_acc: 0.9880\n",
            "Epoch 12/30\n",
            "8822/8822 [==============================] - 76s 9ms/step - loss: 0.0121 - acc: 0.9964 - val_loss: 0.0367 - val_acc: 0.9898\n",
            "Epoch 13/30\n",
            "8822/8822 [==============================] - 76s 9ms/step - loss: 0.0104 - acc: 0.9978 - val_loss: 0.0388 - val_acc: 0.9880\n",
            "Epoch 14/30\n",
            "8822/8822 [==============================] - 76s 9ms/step - loss: 0.0067 - acc: 0.9989 - val_loss: 0.0403 - val_acc: 0.9882\n",
            "Epoch 15/30\n",
            "8822/8822 [==============================] - 77s 9ms/step - loss: 0.0040 - acc: 0.9993 - val_loss: 0.0402 - val_acc: 0.9882\n",
            "Epoch 16/30\n",
            "8822/8822 [==============================] - 77s 9ms/step - loss: 0.0041 - acc: 0.9992 - val_loss: 0.0426 - val_acc: 0.9891\n",
            "Epoch 17/30\n",
            "8822/8822 [==============================] - 78s 9ms/step - loss: 0.0022 - acc: 0.9998 - val_loss: 0.0346 - val_acc: 0.9898\n",
            "Epoch 18/30\n",
            "8822/8822 [==============================] - 76s 9ms/step - loss: 0.0015 - acc: 0.9999 - val_loss: 0.0372 - val_acc: 0.9891\n",
            "Epoch 19/30\n",
            "8822/8822 [==============================] - 78s 9ms/step - loss: 9.8725e-04 - acc: 1.0000 - val_loss: 0.0381 - val_acc: 0.9909\n",
            "Epoch 20/30\n",
            "8822/8822 [==============================] - 78s 9ms/step - loss: 6.4958e-04 - acc: 1.0000 - val_loss: 0.0377 - val_acc: 0.9896\n",
            "Epoch 21/30\n",
            "8822/8822 [==============================] - 78s 9ms/step - loss: 4.2744e-04 - acc: 1.0000 - val_loss: 0.0390 - val_acc: 0.9898\n",
            "Epoch 22/30\n",
            "8822/8822 [==============================] - 77s 9ms/step - loss: 3.3976e-04 - acc: 1.0000 - val_loss: 0.0391 - val_acc: 0.9909\n",
            "Epoch 23/30\n",
            "8822/8822 [==============================] - 76s 9ms/step - loss: 2.6571e-04 - acc: 1.0000 - val_loss: 0.0396 - val_acc: 0.9907\n",
            "Epoch 24/30\n",
            "8822/8822 [==============================] - 77s 9ms/step - loss: 2.3380e-04 - acc: 1.0000 - val_loss: 0.0426 - val_acc: 0.9905\n",
            "Epoch 25/30\n",
            "8822/8822 [==============================] - 77s 9ms/step - loss: 1.7556e-04 - acc: 1.0000 - val_loss: 0.0409 - val_acc: 0.9909\n",
            "Epoch 26/30\n",
            "8822/8822 [==============================] - 77s 9ms/step - loss: 1.4684e-04 - acc: 1.0000 - val_loss: 0.0418 - val_acc: 0.9907\n",
            "Epoch 27/30\n",
            "8822/8822 [==============================] - 77s 9ms/step - loss: 1.1414e-04 - acc: 1.0000 - val_loss: 0.0425 - val_acc: 0.9914\n",
            "Epoch 28/30\n",
            "8822/8822 [==============================] - 77s 9ms/step - loss: 9.9974e-05 - acc: 1.0000 - val_loss: 0.0423 - val_acc: 0.9912\n",
            "Epoch 29/30\n",
            "8822/8822 [==============================] - 77s 9ms/step - loss: 7.7798e-05 - acc: 1.0000 - val_loss: 0.0426 - val_acc: 0.9909\n",
            "Epoch 30/30\n",
            "8822/8822 [==============================] - 76s 9ms/step - loss: 6.4821e-05 - acc: 1.0000 - val_loss: 0.0438 - val_acc: 0.9909\n"
          ],
          "name": "stdout"
        },
        {
          "output_type": "error",
          "ename": "NameError",
          "evalue": "ignored",
          "traceback": [
            "\u001b[0;31m---------------------------------------------------------------------------\u001b[0m",
            "\u001b[0;31mNameError\u001b[0m                                 Traceback (most recent call last)",
            "\u001b[0;32m<ipython-input-10-16f147168e79>\u001b[0m in \u001b[0;36m<module>\u001b[0;34m()\u001b[0m\n\u001b[1;32m     10\u001b[0m \u001b[0my_predicted_test_will\u001b[0m \u001b[0;34m=\u001b[0m \u001b[0mmodelForWilliams\u001b[0m\u001b[0;34m.\u001b[0m\u001b[0mpredict_classes\u001b[0m\u001b[0;34m(\u001b[0m\u001b[0mX_test_w\u001b[0m\u001b[0;34m)\u001b[0m\u001b[0;34m\u001b[0m\u001b[0;34m\u001b[0m\u001b[0m\n\u001b[1;32m     11\u001b[0m \u001b[0;34m\u001b[0m\u001b[0m\n\u001b[0;32m---> 12\u001b[0;31m \u001b[0mresult_f1_train_will_E100\u001b[0m\u001b[0;34m=\u001b[0m\u001b[0mf1_score\u001b[0m\u001b[0;34m(\u001b[0m\u001b[0my_train_w\u001b[0m\u001b[0;34m,\u001b[0m \u001b[0my_predicted_train_will\u001b[0m\u001b[0;34m)\u001b[0m\u001b[0;34m\u001b[0m\u001b[0;34m\u001b[0m\u001b[0m\n\u001b[0m\u001b[1;32m     13\u001b[0m \u001b[0mresult_f1_test_will_E100\u001b[0m\u001b[0;34m=\u001b[0m\u001b[0mf1_score\u001b[0m\u001b[0;34m(\u001b[0m\u001b[0my_test_w\u001b[0m\u001b[0;34m,\u001b[0m \u001b[0my_predicted_test_will\u001b[0m\u001b[0;34m)\u001b[0m\u001b[0;34m\u001b[0m\u001b[0;34m\u001b[0m\u001b[0m\n\u001b[1;32m     14\u001b[0m \u001b[0mprint\u001b[0m\u001b[0;34m(\u001b[0m\u001b[0;34m\"Williams F1 Score on Train : \"\u001b[0m\u001b[0;34m,\u001b[0m\u001b[0mresult_f1_train_will_E100\u001b[0m\u001b[0;34m)\u001b[0m\u001b[0;34m\u001b[0m\u001b[0;34m\u001b[0m\u001b[0m\n",
            "\u001b[0;31mNameError\u001b[0m: name 'f1_score' is not defined"
          ]
        }
      ]
    },
    {
      "metadata": {
        "id": "PoMDITdWG05J",
        "colab_type": "code",
        "colab": {
          "base_uri": "https://localhost:8080/",
          "height": 52
        },
        "outputId": "124baad2-1733-4134-9c78-2dfbbd85e643"
      },
      "cell_type": "code",
      "source": [
        "from sklearn.metrics import f1_score\n",
        "\n",
        "result_f1_train_will_E100=f1_score(y_train_w, y_predicted_train_will)\n",
        "result_f1_test_will_E100=f1_score(y_test_w, y_predicted_test_will)\n",
        "print(\"Williams F1 Score on Train : \",result_f1_train_will_E100)\n",
        "print(\"Williams F1 Score on Test : \",result_f1_test_will_E100)"
      ],
      "execution_count": 11,
      "outputs": [
        {
          "output_type": "stream",
          "text": [
            "Williams F1 Score on Train :  1.0\n",
            "Williams F1 Score on Test :  0.875\n"
          ],
          "name": "stdout"
        }
      ]
    },
    {
      "metadata": {
        "id": "_uU76UDQ92o9",
        "colab_type": "code",
        "colab": {}
      },
      "cell_type": "code",
      "source": [
        "modelForWilliams.save('williams.model')"
      ],
      "execution_count": 0,
      "outputs": []
    },
    {
      "metadata": {
        "id": "67DrzXr_HE1m",
        "colab_type": "code",
        "colab": {}
      },
      "cell_type": "code",
      "source": [
        "williamsModel = load_model('williams.model')"
      ],
      "execution_count": 0,
      "outputs": []
    },
    {
      "metadata": {
        "id": "KV-vC_J2H06O",
        "colab_type": "code",
        "colab": {
          "base_uri": "https://localhost:8080/",
          "height": 426
        },
        "outputId": "66715192-1588-4e22-da50-116326b79559"
      },
      "cell_type": "code",
      "source": [
        "williamsModel.summary()"
      ],
      "execution_count": 14,
      "outputs": [
        {
          "output_type": "stream",
          "text": [
            "_________________________________________________________________\n",
            "Layer (type)                 Output Shape              Param #   \n",
            "=================================================================\n",
            "conv2d_19 (Conv2D)           (None, 62, 62, 32)        320       \n",
            "_________________________________________________________________\n",
            "max_pooling2d_19 (MaxPooling (None, 31, 31, 32)        0         \n",
            "_________________________________________________________________\n",
            "conv2d_20 (Conv2D)           (None, 29, 29, 64)        18496     \n",
            "_________________________________________________________________\n",
            "max_pooling2d_20 (MaxPooling (None, 14, 14, 64)        0         \n",
            "_________________________________________________________________\n",
            "conv2d_21 (Conv2D)           (None, 12, 12, 64)        36928     \n",
            "_________________________________________________________________\n",
            "max_pooling2d_21 (MaxPooling (None, 6, 6, 64)          0         \n",
            "_________________________________________________________________\n",
            "flatten_7 (Flatten)          (None, 2304)              0         \n",
            "_________________________________________________________________\n",
            "dense_9 (Dense)              (None, 1)                 2305      \n",
            "=================================================================\n",
            "Total params: 58,049\n",
            "Trainable params: 58,049\n",
            "Non-trainable params: 0\n",
            "_________________________________________________________________\n"
          ],
          "name": "stdout"
        }
      ]
    },
    {
      "metadata": {
        "id": "nCvKqTWLH2dg",
        "colab_type": "code",
        "colab": {
          "base_uri": "https://localhost:8080/",
          "height": 159
        },
        "outputId": "afab34c3-c971-44cb-f739-66f5e9fd4c81"
      },
      "cell_type": "code",
      "source": [
        "williamsModel.layers"
      ],
      "execution_count": 15,
      "outputs": [
        {
          "output_type": "execute_result",
          "data": {
            "text/plain": [
              "[<keras.layers.convolutional.Conv2D at 0x7fe9ff650e80>,\n",
              " <keras.layers.pooling.MaxPooling2D at 0x7fe9ff6533c8>,\n",
              " <keras.layers.convolutional.Conv2D at 0x7fe9ff653320>,\n",
              " <keras.layers.pooling.MaxPooling2D at 0x7fe9ff669b38>,\n",
              " <keras.layers.convolutional.Conv2D at 0x7fe9ff64aa58>,\n",
              " <keras.layers.pooling.MaxPooling2D at 0x7fe9ff682b38>,\n",
              " <keras.layers.core.Flatten at 0x7fe9ff6690b8>,\n",
              " <keras.layers.core.Dense at 0x7fe9ff621cc0>]"
            ]
          },
          "metadata": {
            "tags": []
          },
          "execution_count": 15
        }
      ]
    },
    {
      "metadata": {
        "id": "iA7yqqWtH4YI",
        "colab_type": "code",
        "colab": {
          "base_uri": "https://localhost:8080/",
          "height": 35
        },
        "outputId": "a2807dfd-8c1f-4445-9810-d03eba197028"
      },
      "cell_type": "code",
      "source": [
        "williamsModel.inputs"
      ],
      "execution_count": 16,
      "outputs": [
        {
          "output_type": "execute_result",
          "data": {
            "text/plain": [
              "[<tf.Tensor 'conv2d_19_input_3:0' shape=(?, 64, 64, 1) dtype=float32>]"
            ]
          },
          "metadata": {
            "tags": []
          },
          "execution_count": 16
        }
      ]
    },
    {
      "metadata": {
        "id": "YSYH8SrgH57d",
        "colab_type": "code",
        "colab": {
          "base_uri": "https://localhost:8080/",
          "height": 35
        },
        "outputId": "b5444176-a8c8-45af-cc0c-2b136a9728e3"
      },
      "cell_type": "code",
      "source": [
        "williamsModel.outputs"
      ],
      "execution_count": 17,
      "outputs": [
        {
          "output_type": "execute_result",
          "data": {
            "text/plain": [
              "[<tf.Tensor 'dense_9_3/Sigmoid:0' shape=(?, 1) dtype=float32>]"
            ]
          },
          "metadata": {
            "tags": []
          },
          "execution_count": 17
        }
      ]
    },
    {
      "metadata": {
        "id": "rBsYhTasH7LQ",
        "colab_type": "code",
        "colab": {}
      },
      "cell_type": "code",
      "source": [
        ""
      ],
      "execution_count": 0,
      "outputs": []
    }
  ]
}