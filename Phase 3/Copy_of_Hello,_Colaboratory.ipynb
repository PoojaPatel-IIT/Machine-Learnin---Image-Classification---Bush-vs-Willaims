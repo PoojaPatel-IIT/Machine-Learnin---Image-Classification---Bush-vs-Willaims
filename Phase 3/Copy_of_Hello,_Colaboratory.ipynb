{
  "nbformat": 4,
  "nbformat_minor": 0,
  "metadata": {
    "colab": {
      "name": "Copy of Hello, Colaboratory",
      "version": "0.3.2",
      "provenance": [],
      "collapsed_sections": [],
      "toc_visible": true
    },
    "kernelspec": {
      "name": "python3",
      "display_name": "Python 3"
    },
    "accelerator": "GPU"
  },
  "cells": [
    {
      "metadata": {
        "id": "Kb0prnPm03B3",
        "colab_type": "code",
        "outputId": "a16b33e2-c1ec-4e8e-c24b-81f812c02434",
        "colab": {
          "base_uri": "https://localhost:8080/",
          "height": 70
        }
      },
      "cell_type": "code",
      "source": [
        "import pandas as pd\n",
        "import numpy as np\n",
        "from sklearn.neighbors import KNeighborsClassifier\n",
        "from sklearn.model_selection import cross_validate, StratifiedKFold\n",
        "from sklearn.svm import SVC\n",
        "from sklearn.decomposition import PCA\n",
        "X = pd.read_csv(\"X.csv\", sep = ' ', header = None , dtype = float)\n",
        "X = X.values\n",
        "y= pd.read_csv(\"y_bush_vs_others.csv\" , header = None)\n",
        "y_bush = y.values.ravel()\n",
        "y= pd.read_csv(\"y_williams_vs_others.csv\" , header = None)\n",
        "y_williams = y.values.ravel()\n",
        "print(\"X Shape\",X.shape)\n",
        "print(\"# of Bush's photos\",np.sum(y_bush))\n",
        "print(\"# of Bush's photos\",np.sum(y_williams))\n",
        "# y_bush.shape\n"
      ],
      "execution_count": 0,
      "outputs": [
        {
          "output_type": "stream",
          "text": [
            "X Shape (13233, 4096)\n",
            "# of Bush's photos 530\n",
            "# of Bush's photos 52\n"
          ],
          "name": "stdout"
        }
      ]
    },
    {
      "metadata": {
        "id": "mn-TD1Dd1UTB",
        "colab_type": "code",
        "outputId": "b854dde5-3840-4ece-cd3c-f1534e024dce",
        "colab": {
          "base_uri": "https://localhost:8080/",
          "height": 35
        }
      },
      "cell_type": "code",
      "source": [
        "from sklearn.model_selection import train_test_split\n",
        "# Importing the Keras libraries and packages\n",
        "from keras.models import Sequential\n",
        "from keras.layers import Conv2D\n",
        "from keras.layers import MaxPooling2D\n",
        "from keras.layers import Flatten\n",
        "from sklearn.metrics import f1_score\n",
        "from keras.layers import Dense,Flatten\n"
      ],
      "execution_count": 0,
      "outputs": [
        {
          "output_type": "stream",
          "text": [
            "Using TensorFlow backend.\n"
          ],
          "name": "stderr"
        }
      ]
    },
    {
      "metadata": {
        "id": "Z7QoHnVP1Vzt",
        "colab_type": "code",
        "outputId": "baeed5f1-cbbf-44e5-b0c4-dc2ff146a2e2",
        "colab": {
          "base_uri": "https://localhost:8080/",
          "height": 35
        }
      },
      "cell_type": "code",
      "source": [
        "X_reshaped=X.reshape((X.shape[0],64,64,1))\n",
        "X_reshaped.shape"
      ],
      "execution_count": 0,
      "outputs": [
        {
          "output_type": "execute_result",
          "data": {
            "text/plain": [
              "(13233, 64, 64, 1)"
            ]
          },
          "metadata": {
            "tags": []
          },
          "execution_count": 3
        }
      ]
    },
    {
      "metadata": {
        "id": "rQ3HenbI1cLl",
        "colab_type": "code",
        "outputId": "278d3d43-2834-4113-df09-8fab3fdbfb19",
        "colab": {
          "base_uri": "https://localhost:8080/",
          "height": 319
        }
      },
      "cell_type": "code",
      "source": [
        "# epochs = 5\n",
        "X_train_b, X_test_b, y_train_b, y_test_b = train_test_split(X_reshaped, y_bush,shuffle = True ,test_size= 1./3, random_state=6099, stratify  = y_bush) # A20396099\n",
        "\n",
        "# Model\n",
        "model = Sequential()\n",
        "\n",
        "model.add(Conv2D(32, (3, 3), input_shape = (64, 64, 1), activation = 'relu'))\n",
        "model.add(MaxPooling2D(pool_size = (2, 2)))\n",
        "\n",
        "model.add(Conv2D(32, (3, 3),  activation = 'relu'))\n",
        "model.add(MaxPooling2D(pool_size = (2, 2)))\n",
        "\n",
        "model.add(Conv2D(64, (3, 3)))\n",
        "model.add(MaxPooling2D(pool_size = (2, 2)))\n",
        "model.add(Flatten())\n",
        "model.add(Dense(1, activation='sigmoid'))\n",
        "\n",
        "model.compile(optimizer='rmsprop',loss='binary_crossentropy',metrics=['accuracy'])\n",
        "model.fit(X_train_b,y_train_b, epochs=5, batch_size=32, validation_data = (X_test_b, y_test_b ) )\n",
        "\n",
        "\n",
        "\n",
        "\n",
        "y_predicted_train_bush = model.predict_classes(X_train_b) \n",
        "y_predicted_test_bush = model.predict_classes(X_test_b) \n",
        "result_f1_train_bush_E5=f1_score(y_train_b, y_predicted_train_bush)\n",
        "result_f1_test_bush_E5=f1_score(y_test_b, y_predicted_test_bush)\n",
        "print(\"Bush F1 Score on Train : \",result_f1_train_bush_E5)\n",
        "print(\"Bush F1 Score on Test : \",result_f1_test_bush_E5)\n",
        "\n",
        "\n",
        "\n",
        "from sklearn.metrics import confusion_matrix\n",
        "cmat_bush_train = confusion_matrix(y_train_b,y_predicted_train_bush) \n",
        "cmat_bush_test = confusion_matrix(y_test_b, y_predicted_test_bush) \n",
        "print(\"Bush Confusion Matrix on Train : \",cmat_bush_train)\n",
        "print(\"Bush Confusion Matrix on Test : \",cmat_bush_test)\n",
        "\n",
        "# score = model.evaluate(x_test, y_test, batch_size=16)\n",
        "\n",
        "\n"
      ],
      "execution_count": 0,
      "outputs": [
        {
          "output_type": "stream",
          "text": [
            "Train on 8822 samples, validate on 4411 samples\n",
            "Epoch 1/5\n",
            "8822/8822 [==============================] - 5s 550us/step - loss: 0.1714 - acc: 0.9575 - val_loss: 0.1664 - val_acc: 0.9599\n",
            "Epoch 2/5\n",
            "8822/8822 [==============================] - 4s 492us/step - loss: 0.1339 - acc: 0.9606 - val_loss: 0.1181 - val_acc: 0.9689\n",
            "Epoch 3/5\n",
            "8822/8822 [==============================] - 4s 492us/step - loss: 0.0892 - acc: 0.9695 - val_loss: 0.0751 - val_acc: 0.9755\n",
            "Epoch 4/5\n",
            "8822/8822 [==============================] - 4s 486us/step - loss: 0.0590 - acc: 0.9799 - val_loss: 0.0746 - val_acc: 0.9748\n",
            "Epoch 5/5\n",
            "8822/8822 [==============================] - 4s 494us/step - loss: 0.0435 - acc: 0.9855 - val_loss: 0.0605 - val_acc: 0.9810\n",
            "Bush F1 Score on Train :  0.8291873963515755\n",
            "Bush F1 Score on Test :  0.6934306569343065\n",
            "Bush Confusion Matrix on Train :  [[8469    0]\n",
            " [ 103  250]]\n",
            "Bush Confusion Matrix on Test :  [[4232    2]\n",
            " [  82   95]]\n"
          ],
          "name": "stdout"
        }
      ]
    },
    {
      "metadata": {
        "id": "kaNS0oguu6tv",
        "colab_type": "code",
        "outputId": "777e1d45-7432-44da-aa4a-321d6dc5540d",
        "colab": {
          "base_uri": "https://localhost:8080/",
          "height": 941
        }
      },
      "cell_type": "code",
      "source": [
        "# epochs = 10\n",
        "X_train_b, X_test_b, y_train_b, y_test_b = train_test_split(X_reshaped, y_bush,shuffle = True ,test_size= 1./3, random_state=6099, stratify  = y_bush) # A20396099\n",
        "\n",
        "# Model\n",
        "model_bushE10 = Sequential()\n",
        "\n",
        "model_bushE10.add(Conv2D(32, (3, 3), input_shape = (64, 64, 1), activation = 'relu'))\n",
        "model_bushE10.add(MaxPooling2D(pool_size = (2, 2)))\n",
        "\n",
        "model_bushE10.add(Conv2D(32, (3, 3),  activation = 'relu'))\n",
        "model_bushE10.add(MaxPooling2D(pool_size = (2, 2)))\n",
        "\n",
        "model_bushE10.add(Conv2D(64, (3, 3)))\n",
        "model_bushE10.add(MaxPooling2D(pool_size = (2, 2)))\n",
        "model_bushE10.add(Flatten())\n",
        "model_bushE10.add(Dense(1, activation='sigmoid'))\n",
        "\n",
        "model_bushE10.compile(optimizer='rmsprop',loss='binary_crossentropy',metrics=['accuracy'])\n",
        "model_bushE10.fit(X_train_b,y_train_b, epochs=10, batch_size=32, validation_data = (X_test_b, y_test_b ) )\n",
        "\n",
        "print(\"\\n MODEL SUMMARY\")\n",
        "model_bushE10.summary()\n",
        "\n",
        "\n",
        "y_predicted_train_bush = model_bushE10.predict_classes(X_train_b) \n",
        "y_predicted_test_bush = model_bushE10.predict_classes(X_test_b) \n",
        "result_f1_train_bush_E10=f1_score(y_train_b, y_predicted_train_bush)\n",
        "result_f1_test_bush_E10=f1_score(y_test_b, y_predicted_test_bush)\n",
        "print(\"Bush F1 Score on Train : \",result_f1_train_bush_E10)\n",
        "print(\"Bush F1 Score on Test : \",result_f1_test_bush_E10)\n",
        "\n",
        "\n",
        "\n",
        "from sklearn.metrics import confusion_matrix\n",
        "cmat_bush_train = confusion_matrix(y_train_b,y_predicted_train_bush) \n",
        "cmat_bush_test = confusion_matrix(y_test_b, y_predicted_test_bush) \n",
        "print(\"Bush Confusion Matrix on Train : \",cmat_bush_train)\n",
        "print(\"Bush Confusion Matrix on Test : \",cmat_bush_test)\n",
        "\n",
        "# score = model.evaluate(x_test, y_test, batch_size=16)\n",
        "\n",
        "\n"
      ],
      "execution_count": 0,
      "outputs": [
        {
          "output_type": "stream",
          "text": [
            "Train on 8822 samples, validate on 4411 samples\n",
            "Epoch 1/10\n",
            "8822/8822 [==============================] - 8s 908us/step - loss: 0.1708 - acc: 0.9599 - val_loss: 0.2514 - val_acc: 0.9599\n",
            "Epoch 2/10\n",
            "8822/8822 [==============================] - 4s 459us/step - loss: 0.1236 - acc: 0.9619 - val_loss: 0.0960 - val_acc: 0.9726\n",
            "Epoch 3/10\n",
            "8822/8822 [==============================] - 4s 461us/step - loss: 0.0763 - acc: 0.9729 - val_loss: 0.0759 - val_acc: 0.9723\n",
            "Epoch 4/10\n",
            "8822/8822 [==============================] - 4s 461us/step - loss: 0.0546 - acc: 0.9812 - val_loss: 0.0538 - val_acc: 0.9825\n",
            "Epoch 5/10\n",
            "8822/8822 [==============================] - 4s 464us/step - loss: 0.0391 - acc: 0.9867 - val_loss: 0.0475 - val_acc: 0.9830\n",
            "Epoch 6/10\n",
            "8822/8822 [==============================] - 4s 463us/step - loss: 0.0275 - acc: 0.9899 - val_loss: 0.0372 - val_acc: 0.9880\n",
            "Epoch 7/10\n",
            "8822/8822 [==============================] - 4s 456us/step - loss: 0.0196 - acc: 0.9932 - val_loss: 0.0374 - val_acc: 0.9880\n",
            "Epoch 8/10\n",
            "8822/8822 [==============================] - 4s 452us/step - loss: 0.0145 - acc: 0.9959 - val_loss: 0.0326 - val_acc: 0.9893\n",
            "Epoch 9/10\n",
            "8822/8822 [==============================] - 4s 453us/step - loss: 0.0086 - acc: 0.9980 - val_loss: 0.0378 - val_acc: 0.9891\n",
            "Epoch 10/10\n",
            "8822/8822 [==============================] - 4s 450us/step - loss: 0.0053 - acc: 0.9983 - val_loss: 0.0411 - val_acc: 0.9875\n",
            "\n",
            " MODEL SUMMARY\n",
            "_________________________________________________________________\n",
            "Layer (type)                 Output Shape              Param #   \n",
            "=================================================================\n",
            "conv2d_1 (Conv2D)            (None, 62, 62, 32)        320       \n",
            "_________________________________________________________________\n",
            "max_pooling2d_1 (MaxPooling2 (None, 31, 31, 32)        0         \n",
            "_________________________________________________________________\n",
            "conv2d_2 (Conv2D)            (None, 29, 29, 32)        9248      \n",
            "_________________________________________________________________\n",
            "max_pooling2d_2 (MaxPooling2 (None, 14, 14, 32)        0         \n",
            "_________________________________________________________________\n",
            "conv2d_3 (Conv2D)            (None, 12, 12, 64)        18496     \n",
            "_________________________________________________________________\n",
            "max_pooling2d_3 (MaxPooling2 (None, 6, 6, 64)          0         \n",
            "_________________________________________________________________\n",
            "flatten_1 (Flatten)          (None, 2304)              0         \n",
            "_________________________________________________________________\n",
            "dense_1 (Dense)              (None, 1)                 2305      \n",
            "=================================================================\n",
            "Total params: 30,369\n",
            "Trainable params: 30,369\n",
            "Non-trainable params: 0\n",
            "_________________________________________________________________\n",
            "Bush F1 Score on Train :  0.995768688293371\n",
            "Bush F1 Score on Test :  0.8484848484848486\n",
            "Bush Confusion Matrix on Train :  [[8466    3]\n",
            " [   0  353]]\n",
            "Bush Confusion Matrix on Test :  [[4202   32]\n",
            " [  23  154]]\n"
          ],
          "name": "stdout"
        }
      ]
    },
    {
      "metadata": {
        "id": "X_lF_kZvNbpH",
        "colab_type": "code",
        "outputId": "b2372081-000b-442d-8f91-f20b13bbbe7d",
        "colab": {
          "base_uri": "https://localhost:8080/",
          "height": 695
        }
      },
      "cell_type": "code",
      "source": [
        "# epochs = 15\n",
        "X_train_b, X_test_b, y_train_b, y_test_b = train_test_split(X_reshaped, y_bush,shuffle = True ,test_size= 1./3, random_state=6099, stratify  = y_bush) # A20396099\n",
        "\n",
        "# Model\n",
        "model = Sequential()\n",
        "\n",
        "model.add(Conv2D(32, (3, 3), input_shape = (64, 64, 1), activation = 'relu'))\n",
        "model.add(MaxPooling2D(pool_size = (2, 2)))\n",
        "\n",
        "model.add(Conv2D(32, (3, 3),  activation = 'relu'))\n",
        "model.add(MaxPooling2D(pool_size = (2, 2)))\n",
        "\n",
        "model.add(Conv2D(64, (3, 3)))\n",
        "model.add(MaxPooling2D(pool_size = (2, 2)))\n",
        "model.add(Flatten())\n",
        "model.add(Dense(1, activation='sigmoid'))\n",
        "\n",
        "model.compile(optimizer='rmsprop',loss='binary_crossentropy',metrics=['accuracy'])\n",
        "model.fit(X_train_b,y_train_b, epochs=15, batch_size=32, validation_data = (X_test_b, y_test_b ) )\n",
        "\n",
        "\n",
        "\n",
        "\n",
        "y_predicted_train_bush = model.predict_classes(X_train_b) \n",
        "y_predicted_test_bush = model.predict_classes(X_test_b) \n",
        "result_f1_train_bush_E15=f1_score(y_train_b, y_predicted_train_bush)\n",
        "result_f1_test_bush_E15=f1_score(y_test_b, y_predicted_test_bush)\n",
        "print(\"Bush F1 Score on Train : \",result_f1_train_bush_E15)\n",
        "print(\"Bush F1 Score on Test : \",result_f1_test_bush_E15)\n",
        "\n",
        "\n",
        "\n",
        "from sklearn.metrics import confusion_matrix\n",
        "cmat_bush_train = confusion_matrix(y_train_b,y_predicted_train_bush) \n",
        "cmat_bush_test = confusion_matrix(y_test_b, y_predicted_test_bush) \n",
        "print(\"Bush Confusion Matrix on Train : \",cmat_bush_train)\n",
        "print(\"Bush Confusion Matrix on Test : \",cmat_bush_test)\n",
        "\n",
        "# score = model.evaluate(x_test, y_test, batch_size=16)\n",
        "\n",
        "\n"
      ],
      "execution_count": 0,
      "outputs": [
        {
          "output_type": "stream",
          "text": [
            "Train on 8822 samples, validate on 4411 samples\n",
            "Epoch 1/15\n",
            "8822/8822 [==============================] - 5s 597us/step - loss: 0.1752 - acc: 0.9569 - val_loss: 0.1441 - val_acc: 0.9599\n",
            "Epoch 2/15\n",
            "8822/8822 [==============================] - 4s 472us/step - loss: 0.1363 - acc: 0.9610 - val_loss: 0.1079 - val_acc: 0.9669\n",
            "Epoch 3/15\n",
            "8822/8822 [==============================] - 4s 465us/step - loss: 0.0901 - acc: 0.9697 - val_loss: 0.0738 - val_acc: 0.9728\n",
            "Epoch 4/15\n",
            "8822/8822 [==============================] - 4s 463us/step - loss: 0.0625 - acc: 0.9790 - val_loss: 0.0804 - val_acc: 0.9726\n",
            "Epoch 5/15\n",
            "8822/8822 [==============================] - 4s 463us/step - loss: 0.0405 - acc: 0.9862 - val_loss: 0.0517 - val_acc: 0.9828\n",
            "Epoch 6/15\n",
            "8822/8822 [==============================] - 4s 463us/step - loss: 0.0297 - acc: 0.9905 - val_loss: 0.0452 - val_acc: 0.9855\n",
            "Epoch 7/15\n",
            "8822/8822 [==============================] - 4s 462us/step - loss: 0.0216 - acc: 0.9937 - val_loss: 0.0403 - val_acc: 0.9859\n",
            "Epoch 8/15\n",
            "8822/8822 [==============================] - 4s 465us/step - loss: 0.0143 - acc: 0.9949 - val_loss: 0.0399 - val_acc: 0.9869\n",
            "Epoch 9/15\n",
            "8822/8822 [==============================] - 4s 462us/step - loss: 0.0100 - acc: 0.9969 - val_loss: 0.0384 - val_acc: 0.9864\n",
            "Epoch 10/15\n",
            "8822/8822 [==============================] - 4s 461us/step - loss: 0.0068 - acc: 0.9977 - val_loss: 0.0467 - val_acc: 0.9866\n",
            "Epoch 11/15\n",
            "8822/8822 [==============================] - 4s 460us/step - loss: 0.0036 - acc: 0.9993 - val_loss: 0.0567 - val_acc: 0.9850\n",
            "Epoch 12/15\n",
            "8822/8822 [==============================] - 4s 466us/step - loss: 0.0022 - acc: 0.9992 - val_loss: 0.0436 - val_acc: 0.9878\n",
            "Epoch 13/15\n",
            "8822/8822 [==============================] - 4s 462us/step - loss: 0.0013 - acc: 0.9995 - val_loss: 0.0581 - val_acc: 0.9866\n",
            "Epoch 14/15\n",
            "8822/8822 [==============================] - 4s 465us/step - loss: 0.0012 - acc: 0.9999 - val_loss: 0.0574 - val_acc: 0.9880\n",
            "Epoch 15/15\n",
            "8822/8822 [==============================] - 4s 462us/step - loss: 6.1756e-04 - acc: 0.9999 - val_loss: 0.0604 - val_acc: 0.9878\n",
            "Bush F1 Score on Train :  1.0\n",
            "Bush F1 Score on Test :  0.8448275862068966\n",
            "Bush Confusion Matrix on Train :  [[8469    0]\n",
            " [   0  353]]\n",
            "Bush Confusion Matrix on Test :  [[4210   24]\n",
            " [  30  147]]\n"
          ],
          "name": "stdout"
        }
      ]
    },
    {
      "metadata": {
        "id": "X3u3DiDPNnuK",
        "colab_type": "code",
        "outputId": "7e83a369-7b5d-4115-e2cb-f6ff114f7c8a",
        "colab": {
          "base_uri": "https://localhost:8080/",
          "height": 1317
        }
      },
      "cell_type": "code",
      "source": [
        "# epochs = 20\n",
        "X_train_b, X_test_b, y_train_b, y_test_b = train_test_split(X_reshaped, y_bush,shuffle = True ,test_size= 1./3, random_state=6099, stratify  = y_bush) # A20396099\n",
        "\n",
        "# Model\n",
        "model = Sequential()\n",
        "\n",
        "model.add(Conv2D(32, (3, 3), input_shape = (64, 64, 1), activation = 'relu'))\n",
        "model.add(MaxPooling2D(pool_size = (2, 2)))\n",
        "\n",
        "model.add(Conv2D(32, (3, 3),  activation = 'relu'))\n",
        "model.add(MaxPooling2D(pool_size = (2, 2)))\n",
        "\n",
        "model.add(Conv2D(64, (3, 3)))\n",
        "model.add(MaxPooling2D(pool_size = (2, 2)))\n",
        "model.add(Flatten())\n",
        "model.add(Dense(1, activation='sigmoid'))\n",
        "\n",
        "model.compile(optimizer='rmsprop',loss='binary_crossentropy',metrics=['accuracy'])\n",
        "print(\"\\nMODEL SUMMARY\",model.summary())\n",
        "\n",
        "model.fit(X_train_b,y_train_b, epochs=20, batch_size=32, validation_data = (X_test_b, y_test_b ) )\n",
        "\n",
        "\n",
        "\n",
        "\n",
        "y_predicted_train_bush = model.predict_classes(X_train_b) \n",
        "y_predicted_test_bush = model.predict_classes(X_test_b) \n",
        "result_f1_train_bush_E20=f1_score(y_train_b, y_predicted_train_bush)\n",
        "result_f1_test_bush_E20=f1_score(y_test_b, y_predicted_test_bush)\n",
        "print(\"Bush F1 Score on Train : \",result_f1_train_bush_E20)\n",
        "print(\"Bush F1 Score on Test : \",result_f1_test_bush_E20)\n",
        "\n",
        "\n",
        "\n",
        "from sklearn.metrics import confusion_matrix\n",
        "cmat_bush_train = confusion_matrix(y_train_b,y_predicted_train_bush) \n",
        "cmat_bush_test = confusion_matrix(y_test_b, y_predicted_test_bush) \n",
        "print(\"Bush Confusion Matrix on Train : \",cmat_bush_train)\n",
        "print(\"Bush Confusion Matrix on Test : \",cmat_bush_test)\n",
        "\n",
        "# score = model.evaluate(x_test, y_test, batch_size=16)\n",
        "\n",
        "\n"
      ],
      "execution_count": 0,
      "outputs": [
        {
          "output_type": "stream",
          "text": [
            "_________________________________________________________________\n",
            "Layer (type)                 Output Shape              Param #   \n",
            "=================================================================\n",
            "conv2d_13 (Conv2D)           (None, 62, 62, 32)        320       \n",
            "_________________________________________________________________\n",
            "max_pooling2d_13 (MaxPooling (None, 31, 31, 32)        0         \n",
            "_________________________________________________________________\n",
            "conv2d_14 (Conv2D)           (None, 29, 29, 32)        9248      \n",
            "_________________________________________________________________\n",
            "max_pooling2d_14 (MaxPooling (None, 14, 14, 32)        0         \n",
            "_________________________________________________________________\n",
            "conv2d_15 (Conv2D)           (None, 12, 12, 64)        18496     \n",
            "_________________________________________________________________\n",
            "max_pooling2d_15 (MaxPooling (None, 6, 6, 64)          0         \n",
            "_________________________________________________________________\n",
            "flatten_5 (Flatten)          (None, 2304)              0         \n",
            "_________________________________________________________________\n",
            "dense_5 (Dense)              (None, 1)                 2305      \n",
            "=================================================================\n",
            "Total params: 30,369\n",
            "Trainable params: 30,369\n",
            "Non-trainable params: 0\n",
            "_________________________________________________________________\n",
            "\n",
            "MODEL SUMMARY None\n",
            "Train on 8822 samples, validate on 4411 samples\n",
            "Epoch 1/20\n",
            "8822/8822 [==============================] - 5s 530us/step - loss: 0.1742 - acc: 0.9595 - val_loss: 0.1638 - val_acc: 0.9599\n",
            "Epoch 2/20\n",
            "8822/8822 [==============================] - 4s 487us/step - loss: 0.1317 - acc: 0.9603 - val_loss: 0.1130 - val_acc: 0.9619\n",
            "Epoch 3/20\n",
            "8822/8822 [==============================] - 4s 483us/step - loss: 0.0841 - acc: 0.9726 - val_loss: 0.0748 - val_acc: 0.9735\n",
            "Epoch 4/20\n",
            "8822/8822 [==============================] - 4s 483us/step - loss: 0.0569 - acc: 0.9823 - val_loss: 0.0575 - val_acc: 0.9821\n",
            "Epoch 5/20\n",
            "8822/8822 [==============================] - 4s 484us/step - loss: 0.0401 - acc: 0.9866 - val_loss: 0.0482 - val_acc: 0.9850\n",
            "Epoch 6/20\n",
            "8822/8822 [==============================] - 4s 483us/step - loss: 0.0288 - acc: 0.9915 - val_loss: 0.0467 - val_acc: 0.9839\n",
            "Epoch 7/20\n",
            "8822/8822 [==============================] - 4s 467us/step - loss: 0.0199 - acc: 0.9939 - val_loss: 0.0401 - val_acc: 0.9857\n",
            "Epoch 8/20\n",
            "8822/8822 [==============================] - 4s 465us/step - loss: 0.0134 - acc: 0.9952 - val_loss: 0.0478 - val_acc: 0.9869\n",
            "Epoch 9/20\n",
            "8822/8822 [==============================] - 4s 480us/step - loss: 0.0088 - acc: 0.9974 - val_loss: 0.0569 - val_acc: 0.9862\n",
            "Epoch 10/20\n",
            "8822/8822 [==============================] - 4s 448us/step - loss: 0.0069 - acc: 0.9978 - val_loss: 0.0437 - val_acc: 0.9875\n",
            "Epoch 11/20\n",
            "8822/8822 [==============================] - 4s 445us/step - loss: 0.0026 - acc: 0.9993 - val_loss: 0.0625 - val_acc: 0.9864\n",
            "Epoch 12/20\n",
            "8822/8822 [==============================] - 4s 448us/step - loss: 0.0021 - acc: 0.9992 - val_loss: 0.0460 - val_acc: 0.9889\n",
            "Epoch 13/20\n",
            "8822/8822 [==============================] - 4s 443us/step - loss: 0.0017 - acc: 0.9994 - val_loss: 0.0551 - val_acc: 0.9871\n",
            "Epoch 14/20\n",
            "8822/8822 [==============================] - 4s 442us/step - loss: 6.0949e-04 - acc: 0.9998 - val_loss: 0.0642 - val_acc: 0.9869\n",
            "Epoch 15/20\n",
            "8822/8822 [==============================] - 4s 446us/step - loss: 3.5068e-04 - acc: 0.9999 - val_loss: 0.0659 - val_acc: 0.9873\n",
            "Epoch 16/20\n",
            "8822/8822 [==============================] - 4s 445us/step - loss: 1.5149e-04 - acc: 1.0000 - val_loss: 0.0717 - val_acc: 0.9878\n",
            "Epoch 17/20\n",
            "8822/8822 [==============================] - 4s 446us/step - loss: 1.7528e-04 - acc: 1.0000 - val_loss: 0.0927 - val_acc: 0.9864\n",
            "Epoch 18/20\n",
            "8822/8822 [==============================] - 4s 446us/step - loss: 1.4033e-04 - acc: 1.0000 - val_loss: 0.0843 - val_acc: 0.9864\n",
            "Epoch 19/20\n",
            "8822/8822 [==============================] - 4s 450us/step - loss: 2.4730e-04 - acc: 0.9999 - val_loss: 0.0788 - val_acc: 0.9891\n",
            "Epoch 20/20\n",
            "8822/8822 [==============================] - 4s 447us/step - loss: 1.8876e-05 - acc: 1.0000 - val_loss: 0.0915 - val_acc: 0.9882\n",
            "Bush F1 Score on Train :  1.0\n",
            "Bush F1 Score on Test :  0.8404907975460122\n",
            "Bush Confusion Matrix on Train :  [[8469    0]\n",
            " [   0  353]]\n",
            "Bush Confusion Matrix on Test :  [[4222   12]\n",
            " [  40  137]]\n"
          ],
          "name": "stdout"
        }
      ]
    },
    {
      "metadata": {
        "id": "Mu5wGn0JU3J4",
        "colab_type": "code",
        "outputId": "49441b70-edf1-4de5-bf7a-b6f39f6322c2",
        "colab": {
          "base_uri": "https://localhost:8080/",
          "height": 764
        }
      },
      "cell_type": "code",
      "source": [
        "# WILLIAMS\n",
        "# colab\n",
        "# epochs = 5\n",
        "\n",
        "X_train_w, X_test_w, y_train_w, y_test_w =train_test_split(X_reshaped, y_williams,shuffle = True ,test_size= 1./3, \n",
        "                                                           random_state=6099, stratify  = y_williams) # A20396099\n",
        "# Model\n",
        "model = Sequential()\n",
        "\n",
        "model.add(Conv2D(32, (3, 3), input_shape = (64, 64, 1), activation = 'relu'))\n",
        "model.add(MaxPooling2D(pool_size = (2, 2)))\n",
        "\n",
        "model.add(Conv2D(32, (3, 3),  activation = 'relu'))\n",
        "model.add(MaxPooling2D(pool_size = (2, 2)))\n",
        "\n",
        "model.add(Conv2D(64, (3, 3)))\n",
        "model.add(MaxPooling2D(pool_size = (2, 2)))\n",
        "model.add(Flatten())\n",
        "model.add(Dense(1, activation='sigmoid'))\n",
        "\n",
        "model.compile(optimizer='rmsprop',loss='binary_crossentropy',metrics=['accuracy'])\n",
        "model.fit(X_train_w,y_train_w, epochs=5, batch_size=32,  validation_data = (X_test_w, y_test_w ))\n",
        "\n",
        "print(\"\\n\")\n",
        "\n",
        "model.summary()\n",
        "\n",
        "\n",
        "y_predicted_train_williams = model.predict_classes(X_train_w) \n",
        "y_predicted_test_williams = model.predict_classes(X_test_w) \n",
        "result_f1_train_williams_E5=f1_score(y_train_w, y_predicted_train_williams)\n",
        "result_f1_test_williams_E5=f1_score(y_test_w, y_predicted_test_williams)\n",
        "print(\"Williams F1 Score on Train : \",result_f1_train_williams_E5)\n",
        "print(\"Williams F1 Score on Test : \",result_f1_test_williams_E5)\n",
        "\n",
        "\n",
        "\n",
        "from sklearn.metrics import confusion_matrix\n",
        "cmat_williams_train = confusion_matrix(y_train_w,y_predicted_train_williams) \n",
        "cmat_williams_test = confusion_matrix(y_test_w, y_predicted_test_williams) \n",
        "print(\"Williams Confusion Matrix on Train : \",cmat_williams_train)\n",
        "print(\"Williams Confusion Matrix on Test : \",cmat_williams_test)\n",
        "\n",
        "\n",
        "# score = model.evaluate(x_test, y_test, batch_size=16)"
      ],
      "execution_count": 0,
      "outputs": [
        {
          "output_type": "stream",
          "text": [
            "Train on 8822 samples, validate on 4411 samples\n",
            "Epoch 1/5\n",
            "8822/8822 [==============================] - 4s 506us/step - loss: 0.0323 - acc: 0.9959 - val_loss: 0.0207 - val_acc: 0.9961\n",
            "Epoch 2/5\n",
            "8822/8822 [==============================] - 4s 447us/step - loss: 0.0210 - acc: 0.9960 - val_loss: 0.0204 - val_acc: 0.9961\n",
            "Epoch 3/5\n",
            "8822/8822 [==============================] - 4s 457us/step - loss: 0.0189 - acc: 0.9960 - val_loss: 0.0122 - val_acc: 0.9971\n",
            "Epoch 4/5\n",
            "8822/8822 [==============================] - 4s 449us/step - loss: 0.0146 - acc: 0.9965 - val_loss: 0.0153 - val_acc: 0.9961\n",
            "Epoch 5/5\n",
            "8822/8822 [==============================] - 4s 446us/step - loss: 0.0100 - acc: 0.9967 - val_loss: 0.0118 - val_acc: 0.9973\n",
            "\n",
            "\n",
            "_________________________________________________________________\n",
            "Layer (type)                 Output Shape              Param #   \n",
            "=================================================================\n",
            "conv2d_16 (Conv2D)           (None, 62, 62, 32)        320       \n",
            "_________________________________________________________________\n",
            "max_pooling2d_16 (MaxPooling (None, 31, 31, 32)        0         \n",
            "_________________________________________________________________\n",
            "conv2d_17 (Conv2D)           (None, 29, 29, 32)        9248      \n",
            "_________________________________________________________________\n",
            "max_pooling2d_17 (MaxPooling (None, 14, 14, 32)        0         \n",
            "_________________________________________________________________\n",
            "conv2d_18 (Conv2D)           (None, 12, 12, 64)        18496     \n",
            "_________________________________________________________________\n",
            "max_pooling2d_18 (MaxPooling (None, 6, 6, 64)          0         \n",
            "_________________________________________________________________\n",
            "flatten_6 (Flatten)          (None, 2304)              0         \n",
            "_________________________________________________________________\n",
            "dense_6 (Dense)              (None, 1)                 2305      \n",
            "=================================================================\n",
            "Total params: 30,369\n",
            "Trainable params: 30,369\n",
            "Non-trainable params: 0\n",
            "_________________________________________________________________\n",
            "Williams F1 Score on Train :  0.7037037037037037\n",
            "Williams F1 Score on Test :  0.5714285714285714\n",
            "Williams Confusion Matrix on Train :  [[8787    0]\n",
            " [  16   19]]\n",
            "Williams Confusion Matrix on Test :  [[4391    3]\n",
            " [   9    8]]\n"
          ],
          "name": "stdout"
        }
      ]
    },
    {
      "metadata": {
        "id": "7xO19apfvEdZ",
        "colab_type": "code",
        "outputId": "cf87bef0-88e6-487d-9d27-667efad26a6a",
        "colab": {
          "base_uri": "https://localhost:8080/",
          "height": 497
        }
      },
      "cell_type": "code",
      "source": [
        "# WILLIAMS\n",
        "# colab\n",
        "# epochs = 10\n",
        "\n",
        "X_train_w, X_test_w, y_train_w, y_test_w =train_test_split(X_reshaped, y_williams,shuffle = True ,test_size= 1./3, \n",
        "                                                           random_state=6099, stratify  = y_williams) # A20396099\n",
        "# Model\n",
        "model = Sequential()\n",
        "\n",
        "model.add(Conv2D(32, (3, 3), input_shape = (64, 64, 1), activation = 'relu'))\n",
        "model.add(MaxPooling2D(pool_size = (2, 2)))\n",
        "\n",
        "model.add(Conv2D(32, (3, 3),  activation = 'relu'))\n",
        "model.add(MaxPooling2D(pool_size = (2, 2)))\n",
        "\n",
        "model.add(Conv2D(64, (3, 3)))\n",
        "model.add(MaxPooling2D(pool_size = (2, 2)))\n",
        "model.add(Flatten())\n",
        "model.add(Dense(1, activation='sigmoid'))\n",
        "\n",
        "model.compile(optimizer='rmsprop',loss='binary_crossentropy',metrics=['accuracy'])\n",
        "model.fit(X_train_w,y_train_w, epochs=10, batch_size=32,  validation_data = (X_test_w, y_test_w ))\n",
        "\n",
        "\n",
        "y_predicted_train_williams = model.predict_classes(X_train_w) \n",
        "y_predicted_test_williams = model.predict_classes(X_test_w) \n",
        "result_f1_train_williams_E10=f1_score(y_train_w, y_predicted_train_williams)\n",
        "result_f1_test_williams_E10=f1_score(y_test_w, y_predicted_test_williams)\n",
        "print(\"Williams F1 Score on Train : \",result_f1_train_williams_E10)\n",
        "print(\"Williams F1 Score on Test : \",result_f1_test_williams_E10)\n",
        "\n",
        "\n",
        "\n",
        "from sklearn.metrics import confusion_matrix\n",
        "cmat_williams_train = confusion_matrix(y_train_w,y_predicted_train_williams) \n",
        "cmat_williams_test = confusion_matrix(y_test_w, y_predicted_test_williams) \n",
        "print(\"Williams Confusion Matrix on Train : \",cmat_williams_train)\n",
        "print(\"Williams Confusion Matrix on Test : \",cmat_williams_test)\n",
        "\n",
        "\n",
        "# score = model.evaluate(x_test, y_test, batch_size=16)"
      ],
      "execution_count": 0,
      "outputs": [
        {
          "output_type": "stream",
          "text": [
            "Train on 8822 samples, validate on 4411 samples\n",
            "Epoch 1/10\n",
            "8822/8822 [==============================] - 5s 586us/step - loss: 0.0312 - acc: 0.9960 - val_loss: 0.0210 - val_acc: 0.9961\n",
            "Epoch 2/10\n",
            "8822/8822 [==============================] - 4s 495us/step - loss: 0.0204 - acc: 0.9958 - val_loss: 0.0126 - val_acc: 0.9959\n",
            "Epoch 3/10\n",
            "8822/8822 [==============================] - 4s 494us/step - loss: 0.0181 - acc: 0.9954 - val_loss: 0.0171 - val_acc: 0.9959\n",
            "Epoch 4/10\n",
            "8822/8822 [==============================] - 4s 497us/step - loss: 0.0160 - acc: 0.9961 - val_loss: 0.0118 - val_acc: 0.9964\n",
            "Epoch 5/10\n",
            "8822/8822 [==============================] - 4s 497us/step - loss: 0.0106 - acc: 0.9972 - val_loss: 0.0174 - val_acc: 0.9966\n",
            "Epoch 6/10\n",
            "8822/8822 [==============================] - 4s 496us/step - loss: 0.0096 - acc: 0.9968 - val_loss: 0.0107 - val_acc: 0.9968\n",
            "Epoch 7/10\n",
            "8822/8822 [==============================] - 4s 495us/step - loss: 0.0067 - acc: 0.9978 - val_loss: 0.0083 - val_acc: 0.9977\n",
            "Epoch 8/10\n",
            "8822/8822 [==============================] - 4s 493us/step - loss: 0.0053 - acc: 0.9985 - val_loss: 0.0095 - val_acc: 0.9980\n",
            "Epoch 9/10\n",
            "8822/8822 [==============================] - 4s 494us/step - loss: 0.0042 - acc: 0.9991 - val_loss: 0.0119 - val_acc: 0.9977\n",
            "Epoch 10/10\n",
            "8822/8822 [==============================] - 4s 487us/step - loss: 0.0028 - acc: 0.9990 - val_loss: 0.0090 - val_acc: 0.9977\n",
            "Williams F1 Score on Train :  0.9855072463768115\n",
            "Williams F1 Score on Test :  0.7058823529411765\n",
            "Williams Confusion Matrix on Train :  [[8787    0]\n",
            " [   1   34]]\n",
            "Williams Confusion Matrix on Test :  [[4389    5]\n",
            " [   5   12]]\n"
          ],
          "name": "stdout"
        }
      ]
    },
    {
      "metadata": {
        "id": "KmEJSPdwN5lJ",
        "colab_type": "code",
        "outputId": "ac5effa4-3ae5-448d-fa5f-5a492f1bfa1c",
        "colab": {
          "base_uri": "https://localhost:8080/",
          "height": 1139
        }
      },
      "cell_type": "code",
      "source": [
        "# WILLIAMS\n",
        "# colab\n",
        "# epochs = 15\n",
        "\n",
        "X_train_w, X_test_w, y_train_w, y_test_w =train_test_split(X_reshaped, y_williams,shuffle = True ,test_size= 1./3, \n",
        "                                                           random_state=6099, stratify  = y_williams) # A20396099\n",
        "# Model\n",
        "model_williamsE15 = Sequential()\n",
        "\n",
        "model_williamsE15.add(Conv2D(32, (3, 3), input_shape = (64, 64, 1), activation = 'relu'))\n",
        "model_williamsE15.add(MaxPooling2D(pool_size = (2, 2)))\n",
        "\n",
        "model_williamsE15.add(Conv2D(32, (3, 3),  activation = 'relu'))\n",
        "model_williamsE15.add(MaxPooling2D(pool_size = (2, 2)))\n",
        "\n",
        "model_williamsE15.add(Conv2D(64, (3, 3)))\n",
        "model_williamsE15.add(MaxPooling2D(pool_size = (2, 2)))\n",
        "model_williamsE15.add(Flatten())\n",
        "model_williamsE15.add(Dense(1, activation='sigmoid'))\n",
        "\n",
        "model_williamsE15.compile(optimizer='rmsprop',loss='binary_crossentropy',metrics=['accuracy'])\n",
        "model_williamsE15.fit(X_train_w,y_train_w, epochs=15, batch_size=32,  validation_data = (X_test_w, y_test_w ))\n",
        "\n",
        "print(\"\\n MODEL SUMMARY : \")\n",
        "model_williamsE15.summary()\n",
        "\n",
        "y_predicted_train_williams = model_williamsE15.predict_classes(X_train_w) \n",
        "y_predicted_test_williams = model_williamsE15.predict_classes(X_test_w) \n",
        "result_f1_train_williams_E15=f1_score(y_train_w, y_predicted_train_williams)\n",
        "result_f1_test_williams_E15=f1_score(y_test_w, y_predicted_test_williams)\n",
        "print(\"Williams F1 Score on Train : \",result_f1_train_williams_E15)\n",
        "print(\"Williams F1 Score on Test : \",result_f1_test_williams_E15)\n",
        "\n",
        "\n",
        "\n",
        "from sklearn.metrics import confusion_matrix\n",
        "cmat_williams_train = confusion_matrix(y_train_w,y_predicted_train_williams) \n",
        "cmat_williams_test = confusion_matrix(y_test_w, y_predicted_test_williams) \n",
        "print(\"Williams Confusion Matrix on Train : \",cmat_williams_train)\n",
        "print(\"Williams Confusion Matrix on Test : \",cmat_williams_test)\n",
        "\n",
        "\n",
        "# score = model.evaluate(x_test, y_test, batch_size=16)"
      ],
      "execution_count": 0,
      "outputs": [
        {
          "output_type": "stream",
          "text": [
            "Train on 8822 samples, validate on 4411 samples\n",
            "Epoch 1/15\n",
            "8822/8822 [==============================] - 6s 681us/step - loss: 0.0322 - acc: 0.9924 - val_loss: 0.0266 - val_acc: 0.9961\n",
            "Epoch 2/15\n",
            "8822/8822 [==============================] - 4s 485us/step - loss: 0.0209 - acc: 0.9959 - val_loss: 0.0153 - val_acc: 0.9961\n",
            "Epoch 3/15\n",
            "8822/8822 [==============================] - 4s 481us/step - loss: 0.0181 - acc: 0.9961 - val_loss: 0.0130 - val_acc: 0.9964\n",
            "Epoch 4/15\n",
            "8822/8822 [==============================] - 4s 484us/step - loss: 0.0147 - acc: 0.9965 - val_loss: 0.0130 - val_acc: 0.9961\n",
            "Epoch 5/15\n",
            "8822/8822 [==============================] - 4s 484us/step - loss: 0.0112 - acc: 0.9965 - val_loss: 0.0080 - val_acc: 0.9977\n",
            "Epoch 6/15\n",
            "8822/8822 [==============================] - 4s 480us/step - loss: 0.0087 - acc: 0.9977 - val_loss: 0.0132 - val_acc: 0.9964\n",
            "Epoch 7/15\n",
            "8822/8822 [==============================] - 4s 478us/step - loss: 0.0065 - acc: 0.9980 - val_loss: 0.0147 - val_acc: 0.9957\n",
            "Epoch 8/15\n",
            "8822/8822 [==============================] - 4s 483us/step - loss: 0.0047 - acc: 0.9989 - val_loss: 0.0177 - val_acc: 0.9975\n",
            "Epoch 9/15\n",
            "8822/8822 [==============================] - 4s 482us/step - loss: 0.0041 - acc: 0.9991 - val_loss: 0.0142 - val_acc: 0.9980\n",
            "Epoch 10/15\n",
            "8822/8822 [==============================] - 4s 481us/step - loss: 0.0029 - acc: 0.9993 - val_loss: 0.0088 - val_acc: 0.9980\n",
            "Epoch 11/15\n",
            "8822/8822 [==============================] - 4s 474us/step - loss: 0.0016 - acc: 0.9997 - val_loss: 0.0098 - val_acc: 0.9980\n",
            "Epoch 12/15\n",
            "8822/8822 [==============================] - 4s 474us/step - loss: 0.0012 - acc: 0.9997 - val_loss: 0.0202 - val_acc: 0.9977\n",
            "Epoch 13/15\n",
            "8822/8822 [==============================] - 4s 475us/step - loss: 9.2650e-04 - acc: 0.9997 - val_loss: 0.0111 - val_acc: 0.9966\n",
            "Epoch 14/15\n",
            "8822/8822 [==============================] - 4s 474us/step - loss: 0.0012 - acc: 0.9998 - val_loss: 0.0128 - val_acc: 0.9982\n",
            "Epoch 15/15\n",
            "8822/8822 [==============================] - 4s 478us/step - loss: 7.9282e-04 - acc: 0.9999 - val_loss: 0.0125 - val_acc: 0.9980\n",
            "\n",
            " MODEL SUMMARY : \n",
            "_________________________________________________________________\n",
            "Layer (type)                 Output Shape              Param #   \n",
            "=================================================================\n",
            "conv2d_10 (Conv2D)           (None, 62, 62, 32)        320       \n",
            "_________________________________________________________________\n",
            "max_pooling2d_10 (MaxPooling (None, 31, 31, 32)        0         \n",
            "_________________________________________________________________\n",
            "conv2d_11 (Conv2D)           (None, 29, 29, 32)        9248      \n",
            "_________________________________________________________________\n",
            "max_pooling2d_11 (MaxPooling (None, 14, 14, 32)        0         \n",
            "_________________________________________________________________\n",
            "conv2d_12 (Conv2D)           (None, 12, 12, 64)        18496     \n",
            "_________________________________________________________________\n",
            "max_pooling2d_12 (MaxPooling (None, 6, 6, 64)          0         \n",
            "_________________________________________________________________\n",
            "flatten_4 (Flatten)          (None, 2304)              0         \n",
            "_________________________________________________________________\n",
            "dense_4 (Dense)              (None, 1)                 2305      \n",
            "=================================================================\n",
            "Total params: 30,369\n",
            "Trainable params: 30,369\n",
            "Non-trainable params: 0\n",
            "_________________________________________________________________\n",
            "Williams F1 Score on Train :  1.0\n",
            "Williams F1 Score on Test :  0.7096774193548386\n",
            "Williams Confusion Matrix on Train :  [[8787    0]\n",
            " [   0   35]]\n",
            "Williams Confusion Matrix on Test :  [[4391    3]\n",
            " [   6   11]]\n"
          ],
          "name": "stdout"
        }
      ]
    },
    {
      "metadata": {
        "id": "4f3wUSlAN597",
        "colab_type": "code",
        "outputId": "465dbd1e-b59d-4dda-b898-fcf179be3727",
        "colab": {
          "base_uri": "https://localhost:8080/",
          "height": 872
        }
      },
      "cell_type": "code",
      "source": [
        "# WILLIAMS\n",
        "# colab\n",
        "# epochs = 20\n",
        "\n",
        "X_train_w, X_test_w, y_train_w, y_test_w =train_test_split(X_reshaped, y_williams,shuffle = True ,test_size= 1./3, \n",
        "                                                           random_state=6099, stratify  = y_williams) # A20396099\n",
        "# Model\n",
        "model = Sequential()\n",
        "\n",
        "model.add(Conv2D(32, (3, 3), input_shape = (64, 64, 1), activation = 'relu'))\n",
        "model.add(MaxPooling2D(pool_size = (2, 2)))\n",
        "\n",
        "model.add(Conv2D(32, (3, 3),  activation = 'relu'))\n",
        "model.add(MaxPooling2D(pool_size = (2, 2)))\n",
        "\n",
        "model.add(Conv2D(64, (3, 3)))\n",
        "model.add(MaxPooling2D(pool_size = (2, 2)))\n",
        "model.add(Flatten())\n",
        "model.add(Dense(1, activation='sigmoid'))\n",
        "\n",
        "model.compile(optimizer='rmsprop',loss='binary_crossentropy',metrics=['accuracy'])\n",
        "model.fit(X_train_w,y_train_w, epochs=20, batch_size=32,  validation_data = (X_test_w, y_test_w ))\n",
        "\n",
        "\n",
        "y_predicted_train_williams = model.predict_classes(X_train_w) \n",
        "y_predicted_test_williams = model.predict_classes(X_test_w) \n",
        "result_f1_train_williams_E20=f1_score(y_train_w, y_predicted_train_williams)\n",
        "result_f1_test_williams_E20=f1_score(y_test_w, y_predicted_test_williams)\n",
        "print(\"Williams F1 Score on Train : \",result_f1_train_williams_E20)\n",
        "print(\"Williams F1 Score on Test : \",result_f1_test_williams_E20)\n",
        "\n",
        "\n",
        "\n",
        "from sklearn.metrics import confusion_matrix\n",
        "cmat_williams_train = confusion_matrix(y_train_w,y_predicted_train_williams) \n",
        "cmat_williams_test = confusion_matrix(y_test_w, y_predicted_test_williams) \n",
        "print(\"Williams Confusion Matrix on Train : \",cmat_williams_train)\n",
        "print(\"Williams Confusion Matrix on Test : \",cmat_williams_test)\n",
        "\n",
        "\n",
        "# score = model.evaluate(x_test, y_test, batch_size=16)"
      ],
      "execution_count": 0,
      "outputs": [
        {
          "output_type": "stream",
          "text": [
            "Train on 8822 samples, validate on 4411 samples\n",
            "Epoch 1/20\n",
            "8822/8822 [==============================] - 5s 610us/step - loss: 0.0335 - acc: 0.9924 - val_loss: 0.0256 - val_acc: 0.9961\n",
            "Epoch 2/20\n",
            "8822/8822 [==============================] - 4s 495us/step - loss: 0.0211 - acc: 0.9957 - val_loss: 0.0120 - val_acc: 0.9964\n",
            "Epoch 3/20\n",
            "8822/8822 [==============================] - 4s 492us/step - loss: 0.0166 - acc: 0.9960 - val_loss: 0.0122 - val_acc: 0.9968\n",
            "Epoch 4/20\n",
            "8822/8822 [==============================] - 4s 495us/step - loss: 0.0142 - acc: 0.9961 - val_loss: 0.0100 - val_acc: 0.9971\n",
            "Epoch 5/20\n",
            "8822/8822 [==============================] - 4s 491us/step - loss: 0.0098 - acc: 0.9973 - val_loss: 0.0107 - val_acc: 0.9971\n",
            "Epoch 6/20\n",
            "8822/8822 [==============================] - 4s 494us/step - loss: 0.0074 - acc: 0.9983 - val_loss: 0.0102 - val_acc: 0.9980\n",
            "Epoch 7/20\n",
            "8822/8822 [==============================] - 4s 492us/step - loss: 0.0068 - acc: 0.9984 - val_loss: 0.0104 - val_acc: 0.9975\n",
            "Epoch 8/20\n",
            "8822/8822 [==============================] - 4s 491us/step - loss: 0.0045 - acc: 0.9989 - val_loss: 0.0103 - val_acc: 0.9977\n",
            "Epoch 9/20\n",
            "8822/8822 [==============================] - 4s 491us/step - loss: 0.0038 - acc: 0.9993 - val_loss: 0.0142 - val_acc: 0.9980\n",
            "Epoch 10/20\n",
            "8822/8822 [==============================] - 4s 483us/step - loss: 0.0027 - acc: 0.9994 - val_loss: 0.0159 - val_acc: 0.9982\n",
            "Epoch 11/20\n",
            "8822/8822 [==============================] - 4s 476us/step - loss: 0.0019 - acc: 0.9994 - val_loss: 0.0122 - val_acc: 0.9971\n",
            "Epoch 12/20\n",
            "8822/8822 [==============================] - 4s 474us/step - loss: 0.0013 - acc: 0.9997 - val_loss: 0.0144 - val_acc: 0.9968\n",
            "Epoch 13/20\n",
            "8822/8822 [==============================] - 4s 467us/step - loss: 0.0011 - acc: 0.9994 - val_loss: 0.0166 - val_acc: 0.9980\n",
            "Epoch 14/20\n",
            "8822/8822 [==============================] - 4s 467us/step - loss: 2.8387e-04 - acc: 0.9999 - val_loss: 0.0148 - val_acc: 0.9980\n",
            "Epoch 15/20\n",
            "8822/8822 [==============================] - 4s 473us/step - loss: 3.8631e-04 - acc: 0.9999 - val_loss: 0.0188 - val_acc: 0.9980\n",
            "Epoch 16/20\n",
            "8822/8822 [==============================] - 4s 478us/step - loss: 7.8999e-05 - acc: 1.0000 - val_loss: 0.0187 - val_acc: 0.9982\n",
            "Epoch 17/20\n",
            "8822/8822 [==============================] - 4s 471us/step - loss: 7.7901e-04 - acc: 0.9999 - val_loss: 0.0165 - val_acc: 0.9980\n",
            "Epoch 18/20\n",
            "8822/8822 [==============================] - 4s 469us/step - loss: 1.5185e-05 - acc: 1.0000 - val_loss: 0.0180 - val_acc: 0.9977\n",
            "Epoch 19/20\n",
            "8822/8822 [==============================] - 4s 473us/step - loss: 4.4151e-05 - acc: 1.0000 - val_loss: 0.0214 - val_acc: 0.9973\n",
            "Epoch 20/20\n",
            "8822/8822 [==============================] - 4s 475us/step - loss: 1.1954e-04 - acc: 1.0000 - val_loss: 0.0162 - val_acc: 0.9975\n",
            "Williams F1 Score on Train :  1.0\n",
            "Williams F1 Score on Test :  0.6857142857142857\n",
            "Williams Confusion Matrix on Train :  [[8787    0]\n",
            " [   0   35]]\n",
            "Williams Confusion Matrix on Test :  [[4388    6]\n",
            " [   5   12]]\n"
          ],
          "name": "stdout"
        }
      ]
    },
    {
      "metadata": {
        "id": "ebik6M7gVt_0",
        "colab_type": "code",
        "outputId": "d1035c7a-8c3e-428b-8303-9e53487b95b3",
        "colab": {
          "base_uri": "https://localhost:8080/",
          "height": 50
        }
      },
      "cell_type": "code",
      "source": [
        "#BUSh pickle\n",
        "\n",
        "import pickle\n",
        "bush_list = []\n",
        "bush_list.append(result_f1_train_bush_E10)\n",
        "bush_list.append(result_f1_test_bush_E10)\n",
        "pickle.dump((bush_list), open('bush.pickle', 'wb'))\n",
        "\n",
        "\n",
        "#WILLIAMS pickle\n",
        "williams_list = []\n",
        "williams_list.append(result_f1_train_williams_E15)\n",
        "williams_list.append(result_f1_test_williams_E15)\n",
        "pickle.dump((williams_list), open('williams.pickle', 'wb'))\n",
        "\n",
        "\n",
        "print(pickle.load(open('bush.pickle', 'rb')))\n",
        "print(pickle.load(open('williams.pickle', 'rb')))\n",
        "\n"
      ],
      "execution_count": 0,
      "outputs": [
        {
          "output_type": "stream",
          "text": [
            "[0.995768688293371, 0.8484848484848486]\n",
            "[1.0, 0.7096774193548386]\n"
          ],
          "name": "stdout"
        }
      ]
    },
    {
      "metadata": {
        "id": "ThmTy-nQq9Rs",
        "colab_type": "code",
        "colab": {}
      },
      "cell_type": "code",
      "source": [
        "from keras.models import load_model\n",
        "\n",
        "# SAVE MODEL \n",
        "\n",
        "model_bushE10.save('bush.model')\n",
        "# del model\n",
        "\n",
        "\n",
        "model_williamsE15.save('williams.model')\n",
        "\n",
        "# LOAD MODEL\n",
        "\n",
        "# bush_model_best= load_model('bush.model')\n",
        "# williams_model_best = load_model('williams.model')\n",
        "\n",
        "# print(\"\\n BEST BUSH MODEL : \", bush_model_best)\n",
        "\n",
        "# print(\"\\n BEST WILLIAMS MODEL : \",williams_model_best)"
      ],
      "execution_count": 0,
      "outputs": []
    },
    {
      "metadata": {
        "id": "si3Dxz1X2hkp",
        "colab_type": "code",
        "outputId": "467c622d-f8bb-46f2-f447-ed2f85c842ec",
        "colab": {
          "base_uri": "https://localhost:8080/",
          "height": 319
        }
      },
      "cell_type": "code",
      "source": [
        "# WILLIAMS HERick\n",
        "# epochs = 5\n",
        "\n",
        "X_train_w, X_test_w, y_train_w, y_test_w =train_test_split(X_reshaped, y_williams,shuffle = True ,test_size= 1./3, \n",
        "                                                           random_state=9752, stratify  = y_williams) \n",
        "# Model\n",
        "model = Sequential()\n",
        "\n",
        "model.add(Conv2D(32, (3, 3), input_shape = (64, 64, 1), activation = 'relu'))\n",
        "model.add(MaxPooling2D(pool_size = (2, 2)))\n",
        "\n",
        "model.add(Conv2D(32, (3, 3),  activation = 'relu'))\n",
        "model.add(MaxPooling2D(pool_size = (2, 2)))\n",
        "\n",
        "model.add(Conv2D(64, (3, 3)))\n",
        "model.add(MaxPooling2D(pool_size = (2, 2)))\n",
        "model.add(Flatten())\n",
        "model.add(Dense(1, activation='sigmoid'))\n",
        "\n",
        "model.compile(optimizer='rmsprop',loss='binary_crossentropy',metrics=['accuracy'])\n",
        "model.fit(X_train_w,y_train_w, epochs=5, batch_size=32,  validation_data = (X_test_w, y_test_w ))\n",
        "\n",
        "\n",
        "y_predicted_train_williams = model.predict_classes(X_train_w) \n",
        "y_predicted_test_williams = model.predict_classes(X_test_w) \n",
        "result_f1_train_williams=f1_score(y_train_w, y_predicted_train_williams)\n",
        "result_f1_test_williams=f1_score(y_test_w, y_predicted_test_williams)\n",
        "print(\"Williams F1 Score on Train : \",result_f1_train_williams)\n",
        "print(\"Williams F1 Score on Test : \",result_f1_test_williams)\n",
        "\n",
        "\n",
        "\n",
        "from sklearn.metrics import confusion_matrix\n",
        "cmat_williams_train = confusion_matrix(y_train_w,y_predicted_train_williams) \n",
        "cmat_williams_test = confusion_matrix(y_test_w, y_predicted_test_williams) \n",
        "print(\"Williams Confusion Matrix on Train : \",cmat_williams_train)\n",
        "print(\"Williams Confusion Matrix on Test : \",cmat_williams_test)\n",
        "\n",
        "\n",
        "# score = model.evaluate(x_test, y_test, batch_size=16)"
      ],
      "execution_count": 0,
      "outputs": [
        {
          "output_type": "stream",
          "text": [
            "Train on 8822 samples, validate on 4411 samples\n",
            "Epoch 1/5\n",
            "8822/8822 [==============================] - 5s 522us/step - loss: 0.0323 - acc: 0.9947 - val_loss: 0.0182 - val_acc: 0.9961\n",
            "Epoch 2/5\n",
            "8822/8822 [==============================] - 4s 468us/step - loss: 0.0203 - acc: 0.9958 - val_loss: 0.0177 - val_acc: 0.9964\n",
            "Epoch 3/5\n",
            "8822/8822 [==============================] - 4s 465us/step - loss: 0.0183 - acc: 0.9959 - val_loss: 0.0138 - val_acc: 0.9964\n",
            "Epoch 4/5\n",
            "8822/8822 [==============================] - 4s 473us/step - loss: 0.0143 - acc: 0.9968 - val_loss: 0.0122 - val_acc: 0.9971\n",
            "Epoch 5/5\n",
            "8822/8822 [==============================] - 4s 473us/step - loss: 0.0119 - acc: 0.9974 - val_loss: 0.0100 - val_acc: 0.9973\n",
            "Williams F1 Score on Train :  0.7761194029850748\n",
            "Williams F1 Score on Test :  0.5\n",
            "Williams Confusion Matrix on Train :  [[8781    6]\n",
            " [   9   26]]\n",
            "Williams Confusion Matrix on Test :  [[4393    1]\n",
            " [  11    6]]\n"
          ],
          "name": "stdout"
        }
      ]
    },
    {
      "metadata": {
        "id": "_aOu0vmQ7K5H",
        "colab_type": "code",
        "outputId": "6126b476-0604-439a-e55f-6656fcd48161",
        "colab": {
          "base_uri": "https://localhost:8080/",
          "height": 417
        }
      },
      "cell_type": "code",
      "source": [
        "print(model_bushE10.summary())"
      ],
      "execution_count": 0,
      "outputs": [
        {
          "output_type": "stream",
          "text": [
            "_________________________________________________________________\n",
            "Layer (type)                 Output Shape              Param #   \n",
            "=================================================================\n",
            "conv2d_1 (Conv2D)            (None, 62, 62, 32)        320       \n",
            "_________________________________________________________________\n",
            "max_pooling2d_1 (MaxPooling2 (None, 31, 31, 32)        0         \n",
            "_________________________________________________________________\n",
            "conv2d_2 (Conv2D)            (None, 29, 29, 32)        9248      \n",
            "_________________________________________________________________\n",
            "max_pooling2d_2 (MaxPooling2 (None, 14, 14, 32)        0         \n",
            "_________________________________________________________________\n",
            "conv2d_3 (Conv2D)            (None, 12, 12, 64)        18496     \n",
            "_________________________________________________________________\n",
            "max_pooling2d_3 (MaxPooling2 (None, 6, 6, 64)          0         \n",
            "_________________________________________________________________\n",
            "flatten_1 (Flatten)          (None, 2304)              0         \n",
            "_________________________________________________________________\n",
            "dense_1 (Dense)              (None, 1)                 2305      \n",
            "=================================================================\n",
            "Total params: 30,369\n",
            "Trainable params: 30,369\n",
            "Non-trainable params: 0\n",
            "_________________________________________________________________\n",
            "None\n"
          ],
          "name": "stdout"
        }
      ]
    },
    {
      "metadata": {
        "id": "LY9hr0UzQ2RV",
        "colab_type": "code",
        "outputId": "d4773492-102b-4431-dbbd-ef00f20ce0d9",
        "colab": {
          "base_uri": "https://localhost:8080/",
          "height": 159
        }
      },
      "cell_type": "code",
      "source": [
        "model_bushE10.layers\n",
        "\n"
      ],
      "execution_count": 0,
      "outputs": [
        {
          "output_type": "execute_result",
          "data": {
            "text/plain": [
              "[<keras.layers.convolutional.Conv2D at 0x7f8290835710>,\n",
              " <keras.layers.pooling.MaxPooling2D at 0x7f824ee4d588>,\n",
              " <keras.layers.convolutional.Conv2D at 0x7f824ee4d2e8>,\n",
              " <keras.layers.pooling.MaxPooling2D at 0x7f824e5e3f98>,\n",
              " <keras.layers.convolutional.Conv2D at 0x7f824ee4dda0>,\n",
              " <keras.layers.pooling.MaxPooling2D at 0x7f824e5e3d30>,\n",
              " <keras.layers.core.Flatten at 0x7f824e604278>,\n",
              " <keras.layers.core.Dense at 0x7f824e5987b8>]"
            ]
          },
          "metadata": {
            "tags": []
          },
          "execution_count": 19
        }
      ]
    },
    {
      "metadata": {
        "id": "JUpMPxDQFTT7",
        "colab_type": "code",
        "outputId": "ce71bbb9-2b3b-4de4-993a-1b44b002acd8",
        "colab": {
          "base_uri": "https://localhost:8080/",
          "height": 88
        }
      },
      "cell_type": "code",
      "source": [
        "print(\"\")\n",
        "\n",
        "print(model_bushE10.inputs)\n",
        "\n",
        "\n",
        "print(\"\")\n",
        "print(model_bushE10.outputs)\n"
      ],
      "execution_count": 0,
      "outputs": [
        {
          "output_type": "stream",
          "text": [
            "\n",
            "[<tf.Tensor 'conv2d_1_input:0' shape=(?, 64, 64, 1) dtype=float32>]\n",
            "\n",
            "[<tf.Tensor 'dense_1/Sigmoid:0' shape=(?, 1) dtype=float32>]\n"
          ],
          "name": "stdout"
        }
      ]
    },
    {
      "metadata": {
        "id": "-bWg3qJwG9eO",
        "colab_type": "code",
        "outputId": "a7b68dbf-3669-4905-f155-7db96a08a7d7",
        "colab": {
          "base_uri": "https://localhost:8080/",
          "height": 55
        }
      },
      "cell_type": "code",
      "source": [
        "json_string"
      ],
      "execution_count": 0,
      "outputs": [
        {
          "output_type": "execute_result",
          "data": {
            "text/plain": [
              "'{\"class_name\": \"Sequential\", \"config\": {\"name\": \"sequential_1\", \"layers\": [{\"class_name\": \"Conv2D\", \"config\": {\"name\": \"conv2d_1\", \"trainable\": true, \"batch_input_shape\": [null, 64, 64, 1], \"dtype\": \"float32\", \"filters\": 32, \"kernel_size\": [3, 3], \"strides\": [1, 1], \"padding\": \"valid\", \"data_format\": \"channels_last\", \"dilation_rate\": [1, 1], \"activation\": \"relu\", \"use_bias\": true, \"kernel_initializer\": {\"class_name\": \"VarianceScaling\", \"config\": {\"scale\": 1.0, \"mode\": \"fan_avg\", \"distribution\": \"uniform\", \"seed\": null}}, \"bias_initializer\": {\"class_name\": \"Zeros\", \"config\": {}}, \"kernel_regularizer\": null, \"bias_regularizer\": null, \"activity_regularizer\": null, \"kernel_constraint\": null, \"bias_constraint\": null}}, {\"class_name\": \"MaxPooling2D\", \"config\": {\"name\": \"max_pooling2d_1\", \"trainable\": true, \"pool_size\": [2, 2], \"padding\": \"valid\", \"strides\": [2, 2], \"data_format\": \"channels_last\"}}, {\"class_name\": \"Conv2D\", \"config\": {\"name\": \"conv2d_2\", \"trainable\": true, \"filters\": 32, \"kernel_size\": [3, 3], \"strides\": [1, 1], \"padding\": \"valid\", \"data_format\": \"channels_last\", \"dilation_rate\": [1, 1], \"activation\": \"relu\", \"use_bias\": true, \"kernel_initializer\": {\"class_name\": \"VarianceScaling\", \"config\": {\"scale\": 1.0, \"mode\": \"fan_avg\", \"distribution\": \"uniform\", \"seed\": null}}, \"bias_initializer\": {\"class_name\": \"Zeros\", \"config\": {}}, \"kernel_regularizer\": null, \"bias_regularizer\": null, \"activity_regularizer\": null, \"kernel_constraint\": null, \"bias_constraint\": null}}, {\"class_name\": \"MaxPooling2D\", \"config\": {\"name\": \"max_pooling2d_2\", \"trainable\": true, \"pool_size\": [2, 2], \"padding\": \"valid\", \"strides\": [2, 2], \"data_format\": \"channels_last\"}}, {\"class_name\": \"Conv2D\", \"config\": {\"name\": \"conv2d_3\", \"trainable\": true, \"filters\": 64, \"kernel_size\": [3, 3], \"strides\": [1, 1], \"padding\": \"valid\", \"data_format\": \"channels_last\", \"dilation_rate\": [1, 1], \"activation\": \"linear\", \"use_bias\": true, \"kernel_initializer\": {\"class_name\": \"VarianceScaling\", \"config\": {\"scale\": 1.0, \"mode\": \"fan_avg\", \"distribution\": \"uniform\", \"seed\": null}}, \"bias_initializer\": {\"class_name\": \"Zeros\", \"config\": {}}, \"kernel_regularizer\": null, \"bias_regularizer\": null, \"activity_regularizer\": null, \"kernel_constraint\": null, \"bias_constraint\": null}}, {\"class_name\": \"MaxPooling2D\", \"config\": {\"name\": \"max_pooling2d_3\", \"trainable\": true, \"pool_size\": [2, 2], \"padding\": \"valid\", \"strides\": [2, 2], \"data_format\": \"channels_last\"}}, {\"class_name\": \"Flatten\", \"config\": {\"name\": \"flatten_1\", \"trainable\": true, \"data_format\": \"channels_last\"}}, {\"class_name\": \"Dense\", \"config\": {\"name\": \"dense_1\", \"trainable\": true, \"units\": 1, \"activation\": \"sigmoid\", \"use_bias\": true, \"kernel_initializer\": {\"class_name\": \"VarianceScaling\", \"config\": {\"scale\": 1.0, \"mode\": \"fan_avg\", \"distribution\": \"uniform\", \"seed\": null}}, \"bias_initializer\": {\"class_name\": \"Zeros\", \"config\": {}}, \"kernel_regularizer\": null, \"bias_regularizer\": null, \"activity_regularizer\": null, \"kernel_constraint\": null, \"bias_constraint\": null}}]}, \"keras_version\": \"2.2.4\", \"backend\": \"tensorflow\"}'"
            ]
          },
          "metadata": {
            "tags": []
          },
          "execution_count": 22
        }
      ]
    },
    {
      "metadata": {
        "id": "npds8Uf7HPHD",
        "colab_type": "code",
        "colab": {}
      },
      "cell_type": "code",
      "source": [
        ""
      ],
      "execution_count": 0,
      "outputs": []
    },
    {
      "metadata": {
        "id": "DmW3g4QqLRPZ",
        "colab_type": "code",
        "outputId": "9fb2023e-07d6-4bf1-97d7-c3c7061130ac",
        "colab": {
          "base_uri": "https://localhost:8080/",
          "height": 83
        }
      },
      "cell_type": "code",
      "source": [
        "# BUSH MODEL TESTING\n",
        "m= load_model('bush.model')\n",
        "t = m.predict_classes(X_train_b)\n",
        "te = m.predict_classes(X_test_b)\n",
        "testing_train_f1_bush=f1_score(y_train_b, t)\n",
        "testing_test_f1_bush=f1_score(y_test_b, te)\n",
        "print(\"BUsh F1 Score on Train : \",testing_train_f1_bush)\n",
        "print(\"BUsh F1 Score on Test : \",testing_test_f1_bush)\n",
        "\n",
        "\n",
        "# WILLIAMS MODEL TESTING\n",
        "m_wil= load_model('williams.model')\n",
        "t_wil = m_wil.predict_classes(X_train_w)\n",
        "te_wil = m_wil.predict_classes(X_test_w)\n",
        "testing_train_f1_wil=f1_score(y_train_w, t_wil)\n",
        "testing_test_f1_wil=f1_score(y_test_w, te_wil)\n",
        "print(\"Williams F1 Score on Train : \",testing_train_f1_wil)\n",
        "print(\"Williams F1 Score on Test : \",testing_test_f1_wil)"
      ],
      "execution_count": 0,
      "outputs": [
        {
          "output_type": "stream",
          "text": [
            "BUsh F1 Score on Train :  0.995768688293371\n",
            "BUsh F1 Score on Test :  0.8484848484848486\n",
            "Williams F1 Score on Train :  1.0\n",
            "Williams F1 Score on Test :  0.7096774193548386\n"
          ],
          "name": "stdout"
        }
      ]
    },
    {
      "metadata": {
        "id": "8xxRX1OFcP_e",
        "colab_type": "code",
        "outputId": "b30a8ddd-f3bf-42a9-bbfe-c58bc3c513f8",
        "colab": {
          "base_uri": "https://localhost:8080/",
          "height": 400
        }
      },
      "cell_type": "code",
      "source": [
        "model_williamsE15.summary()"
      ],
      "execution_count": 0,
      "outputs": [
        {
          "output_type": "stream",
          "text": [
            "_________________________________________________________________\n",
            "Layer (type)                 Output Shape              Param #   \n",
            "=================================================================\n",
            "conv2d_10 (Conv2D)           (None, 62, 62, 32)        320       \n",
            "_________________________________________________________________\n",
            "max_pooling2d_10 (MaxPooling (None, 31, 31, 32)        0         \n",
            "_________________________________________________________________\n",
            "conv2d_11 (Conv2D)           (None, 29, 29, 32)        9248      \n",
            "_________________________________________________________________\n",
            "max_pooling2d_11 (MaxPooling (None, 14, 14, 32)        0         \n",
            "_________________________________________________________________\n",
            "conv2d_12 (Conv2D)           (None, 12, 12, 64)        18496     \n",
            "_________________________________________________________________\n",
            "max_pooling2d_12 (MaxPooling (None, 6, 6, 64)          0         \n",
            "_________________________________________________________________\n",
            "flatten_4 (Flatten)          (None, 2304)              0         \n",
            "_________________________________________________________________\n",
            "dense_4 (Dense)              (None, 1)                 2305      \n",
            "=================================================================\n",
            "Total params: 30,369\n",
            "Trainable params: 30,369\n",
            "Non-trainable params: 0\n",
            "_________________________________________________________________\n"
          ],
          "name": "stdout"
        }
      ]
    },
    {
      "metadata": {
        "id": "ocVH0LCBby8d",
        "colab_type": "code",
        "outputId": "d364d621-687e-46a5-b495-b60b9d890d03",
        "colab": {
          "base_uri": "https://localhost:8080/",
          "height": 150
        }
      },
      "cell_type": "code",
      "source": [
        "model_williamsE15.layers"
      ],
      "execution_count": 0,
      "outputs": [
        {
          "output_type": "execute_result",
          "data": {
            "text/plain": [
              "[<keras.layers.convolutional.Conv2D at 0x7f8243f2be48>,\n",
              " <keras.layers.pooling.MaxPooling2D at 0x7f8240ba6898>,\n",
              " <keras.layers.convolutional.Conv2D at 0x7f8242150828>,\n",
              " <keras.layers.pooling.MaxPooling2D at 0x7f8240bbbcc0>,\n",
              " <keras.layers.convolutional.Conv2D at 0x7f8240bbb6a0>,\n",
              " <keras.layers.pooling.MaxPooling2D at 0x7f8240bbbbe0>,\n",
              " <keras.layers.core.Flatten at 0x7f8240bc52e8>,\n",
              " <keras.layers.core.Dense at 0x7f8240b5e780>]"
            ]
          },
          "metadata": {
            "tags": []
          },
          "execution_count": 60
        }
      ]
    },
    {
      "metadata": {
        "id": "owtmw3b8b2m1",
        "colab_type": "code",
        "outputId": "0dc9a3fb-7912-41a5-9f9f-a34cf2d33310",
        "colab": {
          "base_uri": "https://localhost:8080/",
          "height": 50
        }
      },
      "cell_type": "code",
      "source": [
        "print(model_williamsE15.inputs)\n",
        "print(model_williamsE15.outputs)\n"
      ],
      "execution_count": 0,
      "outputs": [
        {
          "output_type": "stream",
          "text": [
            "[<tf.Tensor 'conv2d_10_input:0' shape=(?, 64, 64, 1) dtype=float32>]\n",
            "[<tf.Tensor 'dense_4/Sigmoid:0' shape=(?, 1) dtype=float32>]\n"
          ],
          "name": "stdout"
        }
      ]
    },
    {
      "metadata": {
        "id": "ZE3aPPhucAaU",
        "colab_type": "code",
        "colab": {}
      },
      "cell_type": "code",
      "source": [
        ""
      ],
      "execution_count": 0,
      "outputs": []
    }
  ]
}