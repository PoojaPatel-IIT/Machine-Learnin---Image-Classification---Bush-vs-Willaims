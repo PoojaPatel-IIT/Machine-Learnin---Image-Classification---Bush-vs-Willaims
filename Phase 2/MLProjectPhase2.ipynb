{
 "cells": [
  {
   "cell_type": "code",
   "execution_count": 2,
   "metadata": {},
   "outputs": [
    {
     "name": "stdout",
     "output_type": "stream",
     "text": [
      "X Shape (13233, 4096)\n",
      "# of Bush's photos 530\n",
      "# of Bush's photos 52\n"
     ]
    }
   ],
   "source": [
    "import pandas as pd\n",
    "import numpy as np\n",
    "from sklearn.neighbors import KNeighborsClassifier\n",
    "from sklearn.model_selection import cross_validate, StratifiedKFold\n",
    "from sklearn.svm import SVC\n",
    "from sklearn.decomposition import PCA\n",
    "X = pd.read_csv(\"X.csv\", sep = ' ', header = None , dtype = float)\n",
    "X = X.values\n",
    "y= pd.read_csv(\"y_bush_vs_others.csv\" , header = None)\n",
    "y_bush = y.values.ravel()\n",
    "y= pd.read_csv(\"y_williams_vs_others.csv\" , header = None)\n",
    "y_williams = y.values.ravel()\n",
    "print(\"X Shape\",X.shape)\n",
    "print(\"# of Bush's photos\",np.sum(y_bush))\n",
    "print(\"# of Bush's photos\",np.sum(y_williams))\n",
    "# y_bush.shape\n"
   ]
  },
  {
   "cell_type": "code",
   "execution_count": 28,
   "metadata": {},
   "outputs": [
    {
     "data": {
      "text/plain": [
       "(4096,)"
      ]
     },
     "execution_count": 28,
     "metadata": {},
     "output_type": "execute_result"
    }
   ],
   "source": [
    "X[0,:].shape"
   ]
  },
  {
   "cell_type": "code",
   "execution_count": null,
   "metadata": {},
   "outputs": [],
   "source": []
  },
  {
   "cell_type": "markdown",
   "metadata": {},
   "source": [
    "# BUSH "
   ]
  },
  {
   "cell_type": "markdown",
   "metadata": {},
   "source": [
    "# Phase 2 : PCA  then KNN"
   ]
  },
  {
   "cell_type": "code",
   "execution_count": 3,
   "metadata": {},
   "outputs": [
    {
     "name": "stdout",
     "output_type": "stream",
     "text": [
      "Bush PCA: KNN for 5 neighbors\n",
      "\n",
      "  {'fit_time': array([0.01117826, 0.01571989, 0.01575232]), 'score_time': array([0.3957603 , 0.3533349 , 0.36937714]), 'test_precision': array([0.16666667, 0.125     , 0.        ]), 'test_recall': array([0.00564972, 0.00564972, 0.        ]), 'test_f1': array([0.01092896, 0.01081081, 0.        ])}\n"
     ]
    }
   ],
   "source": [
    "from sklearn.decomposition import PCA\n",
    "print(\"Bush PCA: KNN for 5 neighbors\")\n",
    "pca = PCA(n_components=2)\n",
    "X_pca= pca.fit_transform(X)\n",
    "knn = KNeighborsClassifier(n_neighbors = 5, n_jobs = -1)\n",
    "\n",
    "stratified_cv_results_n5bushPCA = cross_validate(knn,X_pca,y_bush,cv=StratifiedKFold(n_splits=3,shuffle = True, random_state=6099),\n",
    "                                      scoring = ('precision','recall','f1'),return_train_score= False)\n",
    "print(\"\\n \",stratified_cv_results_n5bushPCA)"
   ]
  },
  {
   "cell_type": "code",
   "execution_count": 29,
   "metadata": {},
   "outputs": [
    {
     "data": {
      "text/plain": [
       "(13233, 70)"
      ]
     },
     "execution_count": 29,
     "metadata": {},
     "output_type": "execute_result"
    }
   ],
   "source": [
    "X_pca.shape"
   ]
  },
  {
   "cell_type": "code",
   "execution_count": 4,
   "metadata": {},
   "outputs": [
    {
     "name": "stdout",
     "output_type": "stream",
     "text": [
      "Bush PCA: KNN for 1 neighbors\n",
      "\n",
      " Bush : \n",
      " PCA : n_components = 2 , whiten  = True \n",
      " KNN : n_neighbors = 1, n_jobs = -1    {'fit_time': array([0.0112009 , 0.01674318, 0.01562738]), 'score_time': array([0.35829234, 0.35123897, 0.3441298 ]), 'test_precision': array([0.09375   , 0.07653061, 0.06111111]), 'test_recall': array([0.10169492, 0.08474576, 0.0625    ]), 'test_f1': array([0.09756098, 0.08042895, 0.06179775])}\n"
     ]
    }
   ],
   "source": [
    "\n",
    "print(\"Bush PCA: KNN for 1 neighbors\")\n",
    "pca = PCA(n_components = 2 , whiten  = True)\n",
    "X_pca = pca.fit_transform(X)\n",
    "knn = KNeighborsClassifier(n_neighbors = 1, n_jobs = -1)\n",
    "\n",
    "stratified_cv_results_n1bushPCA1 = cross_validate(knn,X_pca,y_bush,cv=StratifiedKFold(n_splits=3,shuffle = True, random_state=6099),\n",
    "                                      scoring = ('precision','recall','f1'),return_train_score= False)\n",
    "print(\"\\n Bush : \\n PCA : n_components = 2 , whiten  = True \\n KNN : n_neighbors = 1, n_jobs = -1   \",stratified_cv_results_n1bushPCA1)"
   ]
  },
  {
   "cell_type": "code",
   "execution_count": 5,
   "metadata": {},
   "outputs": [
    {
     "name": "stdout",
     "output_type": "stream",
     "text": [
      "Bush PCA: KNN for 1 neighbors\n",
      "\n",
      " Bush : \n",
      " PCA :n_components = 4096 , whiten  = True \n",
      " KNN : n_neighbors = 1, n_jobs = -1    {'fit_time': array([ 9.99176979, 10.22315741,  9.92646885]), 'score_time': array([292.63753271, 283.0150187 , 282.57302999]), 'test_precision': array([1., 1., 1.]), 'test_recall': array([0.01694915, 0.01694915, 0.01136364]), 'test_f1': array([0.03333333, 0.03333333, 0.02247191])}\n"
     ]
    }
   ],
   "source": [
    "from sklearn.decomposition import PCA\n",
    "print(\"Bush PCA: KNN for 1 neighbors\")\n",
    "pca = PCA(n_components = 4096 , whiten  = True)\n",
    "X_pca = pca.fit_transform(X)\n",
    "knn = KNeighborsClassifier(n_neighbors = 1, n_jobs = -1)\n",
    "\n",
    "stratified_cv_results_n1bushPCA12 = cross_validate(knn,X_pca,y_bush,cv=StratifiedKFold(n_splits=3,shuffle = True, random_state=6099),\n",
    "                                      scoring = ('precision','recall','f1'),return_train_score= False)\n",
    "print(\"\\n Bush : \\n PCA :n_components = 4096 , whiten  = True \\n KNN : n_neighbors = 1, n_jobs = -1   \",stratified_cv_results_n1bushPCA12)"
   ]
  },
  {
   "cell_type": "code",
   "execution_count": 11,
   "metadata": {},
   "outputs": [
    {
     "name": "stdout",
     "output_type": "stream",
     "text": [
      "Bush PCA: KNN for 1 neighbors\n",
      "\n",
      " Bush : \n",
      " PCA : n_components=70, copy=False, whiten=True, svd_solver='randomized',  iterated_power='auto', random_state=6099 \n",
      " KNN : n_neighbors = 1, n_jobs = -1    {'fit_time': array([0.10088062, 0.06043601, 0.09766936]), 'score_time': array([6.67765379, 6.59871197, 6.75418115]), 'test_precision': array([0.15083799, 0.16666667, 0.1025641 ]), 'test_recall': array([0.15254237, 0.16384181, 0.11363636]), 'test_f1': array([0.15168539, 0.16524217, 0.10781671])}\n"
     ]
    }
   ],
   "source": [
    " \n",
    "print(\"Bush PCA: KNN for 1 neighbors\")\n",
    "pca = PCA(n_components= 70, copy=False, whiten=True, svd_solver='randomized',  iterated_power='auto')\n",
    "X_pca = pca.fit_transform(X)\n",
    "knn = KNeighborsClassifier(n_neighbors = 1, n_jobs = -1)\n",
    "\n",
    "stratified_cv_results_n1bushPCA4343123345 = cross_validate(knn,X_pca,y_bush,cv=StratifiedKFold(n_splits=3,shuffle = True, random_state=6099),\n",
    "                                      scoring = ('precision','recall','f1'),return_train_score= False)\n",
    "print(\"\\n Bush : \\n PCA : n_components=70, copy=False, whiten=True, svd_solver='randomized',  iterated_power='auto', random_state=6099 \\n KNN : n_neighbors = 1, n_jobs = -1   \",stratified_cv_results_n1bushPCA4343123345)\n"
   ]
  },
  {
   "cell_type": "code",
   "execution_count": 12,
   "metadata": {},
   "outputs": [
    {
     "name": "stdout",
     "output_type": "stream",
     "text": [
      "\n",
      " 0.14158142336362955\n"
     ]
    }
   ],
   "source": [
    "import statistics\n",
    "print(\"\\n\",statistics.mean(stratified_cv_results_n1bushPCA4343123345['test_f1']))"
   ]
  },
  {
   "cell_type": "code",
   "execution_count": 14,
   "metadata": {},
   "outputs": [
    {
     "name": "stdout",
     "output_type": "stream",
     "text": [
      "Bush PCA: KNN for 5 neighbors\n",
      "\n",
      " Bush : \n",
      " PCA : n_components=70, copy=False, whiten=True, svd_solver='randomized',  iterated_power='auto', random_state=6099 \n",
      " KNN : n_neighbors = 5, n_jobs = -1    {'fit_time': array([0.10216093, 0.12401652, 0.13309479]), 'score_time': array([7.71345496, 6.92973685, 7.61621046]), 'test_precision': array([0.375     , 0.25      , 0.33333333]), 'test_recall': array([0.01694915, 0.00564972, 0.02272727]), 'test_f1': array([0.03243243, 0.01104972, 0.04255319])}\n",
      "\n",
      " 0.028678449226233405\n"
     ]
    }
   ],
   "source": [
    " \n",
    "print(\"Bush PCA: KNN for 5 neighbors\")\n",
    "pca = PCA(n_components= 70, copy=False, whiten=True, svd_solver='randomized',  iterated_power='auto')\n",
    "X_pca = pca.fit_transform(X)\n",
    "knn = KNeighborsClassifier(n_neighbors = 5, n_jobs = -1)\n",
    "\n",
    "stratified_cv_results_n1bushk5 = cross_validate(knn,X_pca,y_bush,cv=StratifiedKFold(n_splits=3,shuffle = True, random_state=6099),\n",
    "                                      scoring = ('precision','recall','f1'),return_train_score= False)\n",
    "print(\"\\n Bush : \\n PCA : n_components=70, copy=False, whiten=True, svd_solver='randomized',  iterated_power='auto', random_state=6099 \\n KNN : n_neighbors = 5, n_jobs = -1   \",stratified_cv_results_n1bushk5)\n",
    "print(\"\\n\",statistics.mean(stratified_cv_results_n1bushk5['test_f1']))"
   ]
  },
  {
   "cell_type": "code",
   "execution_count": 30,
   "metadata": {},
   "outputs": [
    {
     "name": "stdout",
     "output_type": "stream",
     "text": [
      "Bush PCA: KNN for 1 neighbors\n",
      "\n",
      " Bush : \n",
      " PCA : n_components=700 , copy=False, whiten=True, svd_solver='randomized',  iterated_power='auto', random_state=6099 \n",
      " KNN : n_neighbors = 1, n_jobs = -1    {'fit_time': array([0.88099718, 0.92310333, 0.93831205]), 'score_time': array([51.75755882, 51.64634752, 54.09003592]), 'test_precision': array([0.35714286, 0.55555556, 0.33333333]), 'test_recall': array([0.02824859, 0.02824859, 0.02840909]), 'test_f1': array([0.05235602, 0.05376344, 0.05235602])}\n",
      "\n",
      " 0.0528251609150106\n"
     ]
    }
   ],
   "source": [
    " \n",
    "print(\"Bush PCA: KNN for 1 neighbors\")\n",
    "pca = PCA(n_components= 700 , copy=False, whiten=True, svd_solver='randomized',  iterated_power='auto')\n",
    "X_pca = pca.fit_transform(X)\n",
    "knn = KNeighborsClassifier(n_neighbors = 1, n_jobs = -1)\n",
    "\n",
    "stratified_cv_results_n1bush700 = cross_validate(knn,X_pca,y_bush,cv=StratifiedKFold(n_splits=3,shuffle = True, random_state=6099),\n",
    "                                      scoring = ('precision','recall','f1'),return_train_score= False)\n",
    "print(\"\\n Bush : \\n PCA : n_components=700 , copy=False, whiten=True, svd_solver='randomized',  iterated_power='auto', random_state=6099 \\n KNN : n_neighbors = 1, n_jobs = -1   \",stratified_cv_results_n1bush700)\n",
    "print(\"\\n\",statistics.mean(stratified_cv_results_n1bush700['test_f1']))"
   ]
  },
  {
   "cell_type": "code",
   "execution_count": 34,
   "metadata": {},
   "outputs": [
    {
     "name": "stdout",
     "output_type": "stream",
     "text": [
      "Bush PCA: KNN for 1 neighbors\n",
      "\n",
      " Var ratio :  [0.24135845 0.07517273 0.04776138 0.04188296 0.03545649 0.02782641\n",
      " 0.02552157 0.022495   0.01974086 0.01825091 0.01681651 0.01500376\n",
      " 0.01289752 0.01225505 0.01030937 0.00965638 0.0085954  0.00848691\n",
      " 0.00775937 0.00677257 0.0064457  0.00629839 0.00582221 0.00540422\n",
      " 0.00528578 0.00512835 0.00485369 0.0045397  0.00441997 0.00420462\n",
      " 0.00401524 0.00394704 0.00382575 0.00374219 0.00354691 0.00347546\n",
      " 0.00335137 0.00323233 0.00316217 0.00313056 0.00291463 0.00274928\n",
      " 0.00268408 0.00267285 0.0025722  0.00246147 0.00240619 0.00223863\n",
      " 0.00220185 0.00219602 0.00214716 0.0021142  0.00207096 0.00205411\n",
      " 0.00198387 0.00196258 0.0018401  0.00180748 0.00173877 0.001722\n",
      " 0.00168886 0.00167683 0.00162905 0.00161141 0.00156932 0.00154425\n",
      " 0.00150455 0.00143714 0.00141604 0.00140551]\n",
      "\n",
      " Bush : \n",
      " PCA  {'fit_time': array([0.08548856, 0.12726283, 0.11458492]), 'score_time': array([6.75931692, 7.40684819, 7.32339644]), 'test_precision': array([0.13888889, 0.18934911, 0.09895833]), 'test_recall': array([0.14124294, 0.18079096, 0.10795455]), 'test_f1': array([0.14005602, 0.1849711 , 0.10326087])}\n",
      "\n",
      " 0.14276266341335897\n"
     ]
    }
   ],
   "source": [
    " \n",
    "pca = PCA(n_components= 70 , copy=False, whiten=True, svd_solver='auto',  iterated_power='auto')\n",
    "X_pca = pca.fit_transform(X)\n",
    "print(\"\\n Var ratio : \",pca.explained_variance_ratio_)\n",
    "knn = KNeighborsClassifier(n_neighbors = 1, n_jobs = -1)\n",
    "\n",
    "stratified_cv_results_n1bush45 = cross_validate(knn,X_pca,y_bush,cv=StratifiedKFold(n_splits=3,shuffle = True, random_state=6099),\n",
    "                                      scoring = ('precision','recall','f1'),return_train_score= False)\n",
    "print(\"\\n Bush : \\n PCA \",stratified_cv_results_n1bush45)\n",
    "print(\"\\n\",statistics.mean(stratified_cv_results_n1bush45['test_f1']))"
   ]
  },
  {
   "cell_type": "code",
   "execution_count": 35,
   "metadata": {},
   "outputs": [
    {
     "name": "stdout",
     "output_type": "stream",
     "text": [
      "\n",
      " Var ratio :  [0.24135845 0.07517273 0.04776138 0.04188296 0.03545649 0.02782641\n",
      " 0.02552157 0.022495   0.01974086 0.01825091 0.01681651 0.01500376\n",
      " 0.01289752 0.01225505 0.01030937 0.00965638 0.0085954  0.00848691\n",
      " 0.00775937 0.00677257 0.0064457  0.00629839 0.00582221 0.00540422\n",
      " 0.00528578 0.00512835 0.00485369 0.0045397  0.00441997 0.00420462\n",
      " 0.00401524 0.00394704 0.00382575 0.00374219 0.00354691 0.00347546\n",
      " 0.00335137 0.00323233 0.00316217 0.00313056 0.00291463 0.00274928\n",
      " 0.00268408 0.00267285 0.00257221 0.00246147 0.00240621 0.00223866\n",
      " 0.00220206 0.00219615 0.0021472  0.00211434 0.00207112 0.0020542\n",
      " 0.00198423 0.00196281 0.00184043 0.00180817 0.00173969 0.00172305\n",
      " 0.00168949 0.00167906 0.00163048 0.00161376 0.00157111 0.00154918\n",
      " 0.00151043 0.00143969 0.00143331 0.00141482 0.00137313 0.00135776\n",
      " 0.00133765 0.00133243 0.001263   0.00125197 0.00123098 0.00122044\n",
      " 0.001192   0.00118865]\n",
      "\n",
      " Bush : \n",
      " PCA  {'fit_time': array([0.09932184, 0.19193554, 0.16380978]), 'score_time': array([7.62643647, 7.29408431, 8.21047902]), 'test_precision': array([0.14204545, 0.16568047, 0.10989011]), 'test_recall': array([0.14124294, 0.15819209, 0.11363636]), 'test_f1': array([0.14164306, 0.16184971, 0.11173184])}\n",
      "\n",
      " 0.13840820468272097\n"
     ]
    }
   ],
   "source": [
    "      \n",
    "pca = PCA(n_components= 80 , copy=False, whiten=True, svd_solver='auto',  iterated_power='auto')\n",
    "X_pca = pca.fit_transform(X)\n",
    "print(\"\\n Var ratio : \",pca.explained_variance_ratio_)\n",
    "knn = KNeighborsClassifier(n_neighbors = 1, n_jobs = -1)\n",
    "\n",
    "stratified_cv_results_n1bush4512 = cross_validate(knn,X_pca,y_bush,cv=StratifiedKFold(n_splits=3,shuffle = True, random_state=6099),\n",
    "                                      scoring = ('precision','recall','f1'),return_train_score= False)\n",
    "print(\"\\n Bush : \\n PCA \",stratified_cv_results_n1bush4512)\n",
    "print(\"\\n\",statistics.mean(stratified_cv_results_n1bush4512['test_f1']))"
   ]
  },
  {
   "cell_type": "code",
   "execution_count": 36,
   "metadata": {},
   "outputs": [
    {
     "name": "stdout",
     "output_type": "stream",
     "text": [
      "\n",
      " Var ratio :  [0.24135845 0.07517273 0.04776138 0.04188296 0.03545649 0.02782641\n",
      " 0.02552157 0.022495   0.01974086 0.01825091 0.01681651 0.01500376\n",
      " 0.01289752 0.01225505 0.01030937 0.00965638 0.0085954  0.00848691\n",
      " 0.00775937 0.00677257 0.0064457  0.00629839 0.00582221 0.00540422\n",
      " 0.00528578 0.00512835 0.00485369 0.0045397  0.00441997 0.00420462\n",
      " 0.00401524 0.00394704 0.00382575 0.00374219 0.0035469  0.00347546\n",
      " 0.00335136 0.00323231 0.00316214 0.00313056 0.00291461 0.00274926\n",
      " 0.00268401 0.00267274 0.00257205 0.00246064 0.00240597 0.00223831\n",
      " 0.00220092 0.00219561 0.00214524 0.00211165 0.00206883 0.00204142\n",
      " 0.00198164 0.00196177 0.00183412 0.00178395 0.00173648 0.00171212]\n",
      "\n",
      " Bush : \n",
      " PCA  {'fit_time': array([0.09357047, 0.1225419 , 0.10753775]), 'score_time': array([6.55387568, 6.66320562, 6.70583534]), 'test_precision': array([0.11330049, 0.19298246, 0.13333333]), 'test_recall': array([0.1299435 , 0.18644068, 0.14772727]), 'test_f1': array([0.12105263, 0.18965517, 0.14016173])}\n",
      "\n",
      " 0.15028984302004197\n"
     ]
    }
   ],
   "source": [
    "      \n",
    "pca = PCA(n_components= 60 , copy=False, whiten=True, svd_solver='auto',  iterated_power='auto')\n",
    "X_pca = pca.fit_transform(X)\n",
    "print(\"\\n Var ratio : \",pca.explained_variance_ratio_)\n",
    "knn = KNeighborsClassifier(n_neighbors = 1, n_jobs = -1)\n",
    "\n",
    "stratified_cv_results_n1bush451260 = cross_validate(knn,X_pca,y_bush,cv=StratifiedKFold(n_splits=3,shuffle = True, random_state=6099),\n",
    "                                      scoring = ('precision','recall','f1'),return_train_score= False)\n",
    "print(\"\\n Bush : \\n PCA \",stratified_cv_results_n1bush451260)\n",
    "print(\"\\n\",statistics.mean(stratified_cv_results_n1bush451260['test_f1']))"
   ]
  },
  {
   "cell_type": "code",
   "execution_count": 91,
   "metadata": {},
   "outputs": [
    {
     "name": "stdout",
     "output_type": "stream",
     "text": [
      "\n",
      " Var ratio :  [0.24135845 0.07517273 0.04776138 0.04188296 0.03545649 0.02782641\n",
      " 0.02552157 0.022495   0.01974086 0.01825091 0.01681651 0.01500376\n",
      " 0.01289752 0.01225505 0.01030937 0.00965638 0.0085954  0.00848691\n",
      " 0.00775937 0.00677257 0.0064457  0.00629839 0.00582221 0.00540422\n",
      " 0.00528578 0.00512835 0.00485369 0.0045397  0.00441997 0.00420462\n",
      " 0.00401524 0.00394704 0.00382575 0.00374219 0.0035469  0.00347546\n",
      " 0.00335136 0.00323233 0.00316217 0.00313056 0.00291462 0.00274928\n",
      " 0.00268407 0.00267281 0.00257216 0.0024614  0.00240591 0.00223831\n",
      " 0.00220177 0.00219558 0.00214708 0.00211414 0.00207072 0.00205372\n",
      " 0.00198364 0.00196087 0.00183695 0.00180302 0.00173496 0.00172142\n",
      " 0.00168072 0.00167474 0.00161266 0.00160449]\n",
      "\n",
      " Bush : \n",
      " PCA  {'fit_time': array([0.08646894, 0.06981206, 0.06644583]), 'score_time': array([6.31435728, 6.56292129, 5.55109835]), 'test_precision': array([0.12021858, 0.18343195, 0.1122449 ]), 'test_recall': array([0.12429379, 0.17514124, 0.125     ]), 'test_f1': array([0.12222222, 0.17919075, 0.11827957])}\n",
      "\n",
      " 0.13989751451992735\n"
     ]
    }
   ],
   "source": [
    "# 64 knn\n",
    "      \n",
    "pca = PCA(n_components= 64 , copy=False, whiten=True, svd_solver='auto',  iterated_power='auto')\n",
    "X_pca = pca.fit_transform(X)\n",
    "print(\"\\n Var ratio : \",pca.explained_variance_ratio_)\n",
    "knn = KNeighborsClassifier(n_neighbors = 1, n_jobs = -1)\n",
    "\n",
    "stratified_cv_results_n1bush451knn6464 = cross_validate(knn,X_pca,y_bush,cv=StratifiedKFold(n_splits=3,shuffle = True, random_state=6099),\n",
    "                                      scoring = ('precision','recall','f1'),return_train_score= False)\n",
    "print(\"\\n Bush : \\n PCA \",stratified_cv_results_n1bush451knn6464)\n",
    "print(\"\\n\",statistics.mean(stratified_cv_results_n1bush451knn6464['test_f1']))"
   ]
  },
  {
   "cell_type": "code",
   "execution_count": null,
   "metadata": {},
   "outputs": [],
   "source": []
  },
  {
   "cell_type": "code",
   "execution_count": 37,
   "metadata": {},
   "outputs": [
    {
     "name": "stdout",
     "output_type": "stream",
     "text": [
      "\n",
      " Var ratio :  [0.24135845 0.07517273 0.04776138 0.04188296 0.03545649 0.02782641\n",
      " 0.02552157 0.022495   0.01974086 0.01825091 0.01681651 0.01500376\n",
      " 0.01289752 0.01225505 0.01030935 0.00965632 0.00859323 0.0084868\n",
      " 0.00775877 0.00677111]\n",
      "\n",
      " Bush : \n",
      " PCA  {'fit_time': array([0.02996016, 0.0491128 , 0.05052042]), 'score_time': array([4.15819001, 3.48809648, 3.77366519]), 'test_precision': array([0.09954751, 0.12149533, 0.09871245]), 'test_recall': array([0.12429379, 0.14689266, 0.13068182]), 'test_f1': array([0.11055276, 0.13299233, 0.11246944])}\n",
      "\n",
      " 0.11867150961254537\n"
     ]
    }
   ],
   "source": [
    "      \n",
    "pca = PCA(n_components= 20 , copy=False, whiten=True, svd_solver='auto',  iterated_power='auto')\n",
    "X_pca = pca.fit_transform(X)\n",
    "print(\"\\n Var ratio : \",pca.explained_variance_ratio_)\n",
    "knn = KNeighborsClassifier(n_neighbors = 1, n_jobs = -1)\n",
    "\n",
    "stratified_cv_results_n1bush451220 = cross_validate(knn,X_pca,y_bush,cv=StratifiedKFold(n_splits=3,shuffle = True, random_state=6099),\n",
    "                                      scoring = ('precision','recall','f1'),return_train_score= False)\n",
    "print(\"\\n Bush : \\n PCA \",stratified_cv_results_n1bush451220)\n",
    "print(\"\\n\",statistics.mean(stratified_cv_results_n1bush451220['test_f1']))"
   ]
  },
  {
   "cell_type": "code",
   "execution_count": 38,
   "metadata": {},
   "outputs": [
    {
     "name": "stdout",
     "output_type": "stream",
     "text": [
      "\n",
      " Var ratio :  [0.24135845 0.07517273 0.04776138 0.04188296 0.03545649 0.02782641\n",
      " 0.02552157 0.022495   0.01974086 0.01825091 0.01681651 0.01500376\n",
      " 0.01289752 0.01225505 0.01030937 0.00965638 0.0085954  0.00848691\n",
      " 0.00775937 0.00677257 0.0064457  0.00629839 0.00582221 0.00540422\n",
      " 0.00528578 0.00512835 0.00485369 0.0045397  0.00441997 0.00420461\n",
      " 0.00401523 0.00394703 0.00382573 0.00374215 0.00354686 0.00347536\n",
      " 0.00335128 0.00323227 0.00316199 0.00313049 0.00291419 0.00274872\n",
      " 0.00268348 0.00267162 0.00257142 0.00246073 0.00239858 0.00223389\n",
      " 0.00219445 0.00218898]\n",
      "\n",
      " Bush : \n",
      " PCA  {'fit_time': array([0.07636046, 0.10200953, 0.0727303 ]), 'score_time': array([5.59435534, 6.21324801, 6.22902441]), 'test_precision': array([0.12745098, 0.13917526, 0.12019231]), 'test_recall': array([0.14689266, 0.15254237, 0.14204545]), 'test_f1': array([0.13648294, 0.14555256, 0.13020833])}\n",
      "\n",
      " 0.13741461120425985\n"
     ]
    }
   ],
   "source": [
    "      \n",
    "pca = PCA(n_components= 50 , copy=False, whiten=True, svd_solver='auto',  iterated_power='auto')\n",
    "X_pca = pca.fit_transform(X)\n",
    "print(\"\\n Var ratio : \",pca.explained_variance_ratio_)\n",
    "knn = KNeighborsClassifier(n_neighbors = 1, n_jobs = -1)\n",
    "\n",
    "stratified_cv_results_n1bush4512550 = cross_validate(knn,X_pca,y_bush,cv=StratifiedKFold(n_splits=3,shuffle = True, random_state=6099),\n",
    "                                      scoring = ('precision','recall','f1'),return_train_score= False)\n",
    "print(\"\\n Bush : \\n PCA \",stratified_cv_results_n1bush4512550)\n",
    "print(\"\\n\",statistics.mean(stratified_cv_results_n1bush4512550['test_f1']))"
   ]
  },
  {
   "cell_type": "code",
   "execution_count": 83,
   "metadata": {},
   "outputs": [
    {
     "name": "stdout",
     "output_type": "stream",
     "text": [
      "Var :  0.7872722114559425\n",
      "\n",
      " Bush : \n",
      " PCA  {'fit_time': array([0.0791409 , 0.10990191, 0.10285974]), 'score_time': array([5.87941051, 5.88151598, 6.18233919]), 'test_precision': array([0.13824885, 0.16374269, 0.13612565]), 'test_recall': array([0.16949153, 0.15819209, 0.14772727]), 'test_f1': array([0.15228426, 0.16091954, 0.14168937])}\n",
      "\n",
      " 0.1516310591620929\n"
     ]
    }
   ],
   "source": [
    "# BEST TILL NOW      \n",
    "pca = PCA(n_components= 55 , copy=False, whiten=True, svd_solver='auto',  iterated_power='auto')\n",
    "\n",
    "X_pca = pca.fit_transform(X)\n",
    "print(\"Var : \",sum( pca.explained_variance_ratio_))\n",
    "# print(\"\\n Var ratio : \",pca.explained_variance_ratio_)\n",
    "knn = KNeighborsClassifier(n_neighbors = 1, n_jobs = -1)\n",
    "\n",
    "stratified_cv_results_n1bush45125534343434 = cross_validate(knn,X_pca,y_bush,cv=StratifiedKFold(n_splits=3,shuffle = True, random_state=6099),\n",
    "                                      scoring = ('precision','recall','f1'),return_train_score= False)\n",
    "print(\"\\n Bush : \\n PCA \",stratified_cv_results_n1bush45125534343434)\n",
    "print(\"\\n\",statistics.mean(stratified_cv_results_n1bush45125534343434['test_f1']))"
   ]
  },
  {
   "cell_type": "code",
   "execution_count": 43,
   "metadata": {},
   "outputs": [
    {
     "name": "stdout",
     "output_type": "stream",
     "text": [
      "\n",
      " Var ratio :  [0.24135845 0.07517273 0.04776138 0.04188296 0.03545649 0.02782641\n",
      " 0.02552157 0.022495   0.01974086 0.01825091 0.01681651 0.01500376\n",
      " 0.01289752 0.01225505 0.01030937 0.00965638 0.0085954  0.00848691\n",
      " 0.00775937 0.00677257 0.0064457  0.00629839 0.00582221 0.00540422\n",
      " 0.00528578 0.00512835 0.00485369 0.0045397  0.00441997 0.00420462\n",
      " 0.00401524 0.00394704 0.00382575 0.00374219 0.0035469  0.00347541\n",
      " 0.00335132 0.0032322  0.00316214 0.00313055 0.00291421 0.00274898\n",
      " 0.0026839  0.00267235 0.00257137 0.00246029 0.00240575 0.00222326\n",
      " 0.002198   0.00218218 0.00214256 0.00207828 0.00206024 0.00204238\n",
      " 0.00198231]\n",
      "\n",
      " Bush : \n",
      " PCA  {'fit_time': array([0.08167839, 0.11456156, 0.10229897]), 'score_time': array([3.85262108, 4.13364816, 4.11506534]), 'test_precision': array([0.13963964, 0.13333333, 0.13478261]), 'test_recall': array([0.17514124, 0.15819209, 0.17613636]), 'test_f1': array([0.15538847, 0.14470284, 0.15270936])}\n",
      "\n",
      " 0.1509335577203724\n"
     ]
    }
   ],
   "source": [
    "  \n",
    "pca = PCA(n_components= 55 )\n",
    "X_pca = pca.fit_transform(X)\n",
    "print(\"\\n Var ratio : \",pca.explained_variance_ratio_)\n",
    "knn = KNeighborsClassifier(n_neighbors = 1, n_jobs = -1)\n",
    "\n",
    "stratified_cv_results_n1bush45125534343434only = cross_validate(knn,X_pca,y_bush,cv=StratifiedKFold(n_splits=3,shuffle = True, random_state=6099),\n",
    "                                      scoring = ('precision','recall','f1'),return_train_score= False)\n",
    "print(\"\\n Bush : \\n PCA \",stratified_cv_results_n1bush45125534343434only)\n",
    "print(\"\\n\",statistics.mean(stratified_cv_results_n1bush45125534343434only['test_f1']))"
   ]
  },
  {
   "cell_type": "code",
   "execution_count": 55,
   "metadata": {},
   "outputs": [
    {
     "name": "stdout",
     "output_type": "stream",
     "text": [
      "# com :  847\n",
      "\n",
      " Bush : \n",
      " PCA  {'fit_time': array([0.70608902, 0.78217626, 0.6550014 ]), 'score_time': array([47.27639937, 45.85730624, 48.2645967 ]), 'test_precision': array([0.57142857, 0.66666667, 0.3       ]), 'test_recall': array([0.02259887, 0.02259887, 0.01704545]), 'test_f1': array([0.04347826, 0.04371585, 0.03225806])}\n",
      "\n",
      " 0.03981739079340992\n"
     ]
    }
   ],
   "source": [
    "      \n",
    "pca = PCA(n_components= 0.97 , copy=False, whiten=True, svd_solver='auto',  iterated_power='auto')\n",
    "X_pca = pca.fit_transform(X)\n",
    "# print(\"\\n Var ratio : \",pca.explained_variance_ratio_)\n",
    "print(\"# com : \",pca.n_components_)\n",
    "knn = KNeighborsClassifier(n_neighbors = 1, n_jobs = -1)\n",
    "\n",
    "stratified_cv_results_n1bush4512ffvfd4 = cross_validate(knn,X_pca,y_bush,cv=StratifiedKFold(n_splits=3,shuffle = True, random_state=6099),\n",
    "                                      scoring = ('precision','recall','f1'),return_train_score= False)\n",
    "print(\"\\n Bush : \\n PCA \",stratified_cv_results_n1bush4512ffvfd4)\n",
    "print(\"\\n\",statistics.mean(stratified_cv_results_n1bush4512ffvfd4['test_f1']))"
   ]
  },
  {
   "cell_type": "code",
   "execution_count": 47,
   "metadata": {},
   "outputs": [
    {
     "name": "stdout",
     "output_type": "stream",
     "text": [
      "# com :  511\n",
      "\n",
      " Bush : \n",
      " PCA  {'fit_time': array([0.75660539, 0.78491306, 0.79023123]), 'score_time': array([39.12758589, 39.61305451, 39.23728228]), 'test_precision': array([0.32      , 0.57142857, 0.28571429]), 'test_recall': array([0.04519774, 0.04519774, 0.04545455]), 'test_f1': array([0.07920792, 0.08376963, 0.07843137])}\n",
      "\n",
      " 0.08046964228298407\n"
     ]
    }
   ],
   "source": [
    "      \n",
    "pca = PCA(n_components= 0.95 , copy=False, whiten=True, svd_solver='auto',  iterated_power='auto')\n",
    "X_pca = pca.fit_transform(X)\n",
    "# print(\"\\n Var ratio : \",pca.explained_variance_ratio_)\n",
    "print(\"# com : \",pca.n_components_)\n",
    "knn = KNeighborsClassifier(n_neighbors = 1, n_jobs = -1)\n",
    "\n",
    "stratified_cv_results_n1bush4512fdfg4 = cross_validate(knn,X_pca,y_bush,cv=StratifiedKFold(n_splits=3,shuffle = True, random_state=6099),\n",
    "                                      scoring = ('precision','recall','f1'),return_train_score= False)\n",
    "print(\"\\n Bush : \\n PCA \",stratified_cv_results_n1bush4512fdfg4)\n",
    "print(\"\\n\",statistics.mean(stratified_cv_results_n1bush4512fdfg4['test_f1']))"
   ]
  },
  {
   "cell_type": "code",
   "execution_count": 40,
   "metadata": {},
   "outputs": [
    {
     "name": "stdout",
     "output_type": "stream",
     "text": [
      "\n",
      " Var ratio :  [0.24135845 0.07517273 0.04776138 0.04188296 0.03545649 0.02782641\n",
      " 0.02552157 0.022495   0.01974086 0.01825091 0.01681651 0.01500376\n",
      " 0.01289752 0.01225505 0.01030937 0.00965638 0.0085954  0.00848691\n",
      " 0.00775937 0.00677257 0.0064457  0.00629839 0.00582221 0.00540422\n",
      " 0.00528578 0.00512835 0.00485369 0.0045397  0.00441997 0.00420462\n",
      " 0.00401524 0.00394704 0.00382575 0.00374219 0.0035469  0.00347546\n",
      " 0.00335136 0.00323231 0.00316216 0.00313054 0.00291461 0.0027492\n",
      " 0.002684   0.00267274 0.0025718  0.00246114 0.00240602 0.00223799\n",
      " 0.00219971 0.00219531 0.00214563 0.00210696 0.00206846 0.00204806\n",
      " 0.00197881 0.00195849 0.00183347]\n",
      "\n",
      " Bush : \n",
      " PCA  {'fit_time': array([0.08092952, 0.09360027, 0.10552263]), 'score_time': array([5.94259477, 6.47447324, 6.64870477]), 'test_precision': array([0.14070352, 0.16      , 0.1344086 ]), 'test_recall': array([0.15819209, 0.15819209, 0.14204545]), 'test_f1': array([0.14893617, 0.15909091, 0.13812155])}\n",
      "\n",
      " 0.14871620875500033\n"
     ]
    }
   ],
   "source": [
    "      \n",
    "pca = PCA(n_components= 57 , copy=False, whiten=True, svd_solver='auto',  iterated_power='auto')\n",
    "X_pca = pca.fit_transform(X)\n",
    "print(\"\\n Var ratio : \",pca.explained_variance_ratio_)\n",
    "knn = KNeighborsClassifier(n_neighbors = 1, n_jobs = -1)\n",
    "\n",
    "stratified_cv_results_n1bush57 = cross_validate(knn,X_pca,y_bush,cv=StratifiedKFold(n_splits=3,shuffle = True, random_state=6099),\n",
    "                                      scoring = ('precision','recall','f1'),return_train_score= False)\n",
    "print(\"\\n Bush : \\n PCA \",stratified_cv_results_n1bush57)\n",
    "print(\"\\n\",statistics.mean(stratified_cv_results_n1bush57['test_f1']))"
   ]
  },
  {
   "cell_type": "code",
   "execution_count": 41,
   "metadata": {},
   "outputs": [
    {
     "name": "stdout",
     "output_type": "stream",
     "text": [
      "\n",
      " Var ratio :  [0.24135845 0.07517273 0.04776138 0.04188296 0.03545649 0.02782641\n",
      " 0.02552157 0.022495   0.01974086 0.01825091 0.01681651 0.01500376\n",
      " 0.01289752 0.01225505 0.01030937 0.00965638 0.0085954  0.00848691\n",
      " 0.00775937 0.00677257 0.0064457  0.00629839 0.00582221 0.00540422\n",
      " 0.00528578 0.00512835 0.00485369 0.0045397  0.00441997 0.00420462\n",
      " 0.00401524 0.00394704 0.00382575 0.00374219 0.00354689 0.00347546\n",
      " 0.00335134 0.00323231 0.0031621  0.00313047 0.00291451 0.00274881\n",
      " 0.00268401 0.00267249 0.00257076 0.00246034 0.00240508 0.00222582\n",
      " 0.00219872 0.00219183 0.00213867 0.00211207 0.00206004 0.0020356\n",
      " 0.00197697]\n",
      "\n",
      " Bush : \n",
      " PCA  {'fit_time': array([0.08801985, 0.04681778, 0.08177423]), 'score_time': array([5.83700848, 5.66643977, 5.51196504]), 'test_precision': array([0.14285714, 0.24444444, 0.23404255]), 'test_recall': array([0.03954802, 0.06214689, 0.0625    ]), 'test_f1': array([0.0619469 , 0.0990991 , 0.09865471])}\n",
      "\n",
      " 0.08656690342471525\n"
     ]
    }
   ],
   "source": [
    "# components 55 and 3 neighbors    \n",
    "pca = PCA(n_components= 55 , copy=False, whiten=True, svd_solver='auto',  iterated_power='auto')\n",
    "X_pca = pca.fit_transform(X)\n",
    "print(\"\\n Var ratio : \",pca.explained_variance_ratio_)\n",
    "knn = KNeighborsClassifier(n_neighbors = 3, n_jobs = -1)\n",
    "\n",
    "stratified_cv_results_n1bushNei3 = cross_validate(knn,X_pca,y_bush,cv=StratifiedKFold(n_splits=3,shuffle = True, random_state=6099),\n",
    "                                      scoring = ('precision','recall','f1'),return_train_score= False)\n",
    "print(\"\\n Bush : \\n PCA \",stratified_cv_results_n1bushNei3)\n",
    "print(\"\\n\",statistics.mean(stratified_cv_results_n1bushNei3['test_f1']))"
   ]
  },
  {
   "cell_type": "code",
   "execution_count": 42,
   "metadata": {},
   "outputs": [
    {
     "name": "stdout",
     "output_type": "stream",
     "text": [
      "\n",
      " Var ratio :  [0.24135845 0.07517273 0.04776138 0.04188296 0.03545649 0.02782641\n",
      " 0.02552157 0.022495   0.01974086 0.01825091 0.01681651 0.01500376\n",
      " 0.01289752 0.01225505 0.01030937 0.00965638 0.0085954  0.00848691\n",
      " 0.00775937 0.00677257 0.0064457  0.00629839 0.00582221 0.00540422\n",
      " 0.00528578 0.00512835 0.00485369 0.0045397  0.00441997 0.00420462\n",
      " 0.00401524 0.00394704 0.00382574 0.00374217 0.00354691 0.00347546\n",
      " 0.00335135 0.00323232 0.00316212 0.00313052 0.00291459 0.00274899\n",
      " 0.00268362 0.00267247 0.0025719  0.0024605  0.00240511 0.00223737\n",
      " 0.00220018 0.00219306 0.00214574 0.00209917 0.00206513 0.00204482\n",
      " 0.00197994]\n",
      "\n",
      " Bush : \n",
      " PCA  {'fit_time': array([0.09521103, 0.10411644, 0.10634708]), 'score_time': array([6.84849906, 6.25800467, 6.42349672]), 'test_precision': array([0.28571429, 0.1       , 0.41176471]), 'test_recall': array([0.02259887, 0.00564972, 0.03977273]), 'test_f1': array([0.04188482, 0.01069519, 0.07253886])}\n",
      "\n",
      " 0.04170628800777634\n"
     ]
    }
   ],
   "source": [
    "# components 55 and 5 neighbors    \n",
    "pca = PCA(n_components= 55 , copy=False, whiten=True, svd_solver='auto',  iterated_power='auto')\n",
    "X_pca = pca.fit_transform(X)\n",
    "print(\"\\n Var ratio : \",pca.explained_variance_ratio_)\n",
    "knn = KNeighborsClassifier(n_neighbors = 5, n_jobs = -1)\n",
    "\n",
    "stratified_cv_results_n1bushNei5 = cross_validate(knn,X_pca,y_bush,cv=StratifiedKFold(n_splits=3,shuffle = True, random_state=6099),\n",
    "                                      scoring = ('precision','recall','f1'),return_train_score= False)\n",
    "print(\"\\n Bush : \\n PCA \",stratified_cv_results_n1bushNei5)\n",
    "print(\"\\n\",statistics.mean(stratified_cv_results_n1bushNei5['test_f1']))"
   ]
  },
  {
   "cell_type": "code",
   "execution_count": 76,
   "metadata": {},
   "outputs": [
    {
     "name": "stdout",
     "output_type": "stream",
     "text": [
      "\n",
      " Var ratio :  [0.24135845 0.07517273 0.04776138 0.04188296 0.03545649 0.02782641\n",
      " 0.02552157 0.022495   0.01974086 0.01825091 0.01681651 0.01500376\n",
      " 0.01289752 0.01225505 0.01030937 0.00965638 0.0085954  0.00848691\n",
      " 0.00775937 0.00677257 0.0064457  0.00629839 0.00582221 0.00540422\n",
      " 0.00528578 0.00512835 0.00485369 0.0045397  0.00441997 0.00420462\n",
      " 0.00401524 0.00394704 0.00382575 0.00374219 0.00354691 0.00347546\n",
      " 0.00335137 0.00323233 0.00316217 0.00313056 0.00291463 0.00274928\n",
      " 0.00268408 0.00267285 0.00257221 0.00246147 0.00240622 0.00223867\n",
      " 0.00220208 0.00219616 0.00214722 0.00211435 0.00207113 0.00205421\n",
      " 0.00198424 0.00196282 0.00184047]\n",
      "\n",
      " Bush : \n",
      " PCA  {'fit_time': array([0.08084512, 0.11960006, 0.07585835]), 'score_time': array([6.29401016, 5.6060257 , 5.97740149]), 'test_precision': array([0.1352657 , 0.15384615, 0.14659686]), 'test_recall': array([0.15819209, 0.14689266, 0.15909091]), 'test_f1': array([0.14583333, 0.15028902, 0.15258856])}\n",
      "\n",
      " 0.14957030217756148\n"
     ]
    }
   ],
   "source": [
    "  \n",
    "pca = PCA(n_components= 57 , whiten=True, svd_solver='arpack',  iterated_power='auto')\n",
    "X_pca = pca.fit_transform(X)\n",
    "print(\"\\n Var ratio : \",pca.explained_variance_ratio_)\n",
    "knn = KNeighborsClassifier(n_neighbors = 1, n_jobs = -1)\n",
    "\n",
    "stratified_cv_results_n1bush451vfvf = cross_validate(knn,X_pca,y_bush,cv=StratifiedKFold(n_splits=3,shuffle = True, random_state=6099),\n",
    "                                      scoring = ('precision','recall','f1'),return_train_score= False)\n",
    "print(\"\\n Bush : \\n PCA \",stratified_cv_results_n1bush451vfvf)\n",
    "print(\"\\n\",statistics.mean(stratified_cv_results_n1bush451vfvf['test_f1']))"
   ]
  },
  {
   "cell_type": "code",
   "execution_count": 78,
   "metadata": {},
   "outputs": [
    {
     "name": "stdout",
     "output_type": "stream",
     "text": [
      "\n",
      " Var ratio :  [0.24135845 0.07517273 0.04776138 0.04188296 0.03545649 0.02782641\n",
      " 0.02552157 0.022495   0.01974086 0.01825091 0.01681651 0.01500376\n",
      " 0.01289752 0.01225505 0.01030937 0.00965638 0.0085954  0.00848691\n",
      " 0.00775937 0.00677257 0.0064457  0.00629839 0.00582221 0.00540422\n",
      " 0.00528578 0.00512835 0.00485369 0.0045397  0.00441997 0.00420462\n",
      " 0.00401524 0.00394704 0.00382575 0.00374219 0.00354691 0.00347546\n",
      " 0.00335137 0.00323233 0.00316217 0.00313056 0.00291463 0.00274928\n",
      " 0.00268408 0.00267285 0.00257221 0.00246147 0.00240622 0.00223867\n",
      " 0.00220208 0.00219616 0.00214722 0.00211435 0.00207113 0.00205421\n",
      " 0.00198424]\n",
      "\n",
      " Bush : \n",
      " PCA  {'fit_time': array([0.08082867, 0.0622232 , 0.08823991]), 'score_time': array([6.52226639, 5.81263781, 6.40304184]), 'test_precision': array([0.11538462, 0.15789474, 0.14213198]), 'test_recall': array([0.13559322, 0.15254237, 0.15909091]), 'test_f1': array([0.12467532, 0.15517241, 0.15013405])}\n",
      "\n",
      " 0.1433272622419336\n"
     ]
    }
   ],
   "source": [
    "  \n",
    "pca = PCA(n_components= 55 , whiten=True, svd_solver='arpack',  iterated_power='auto')\n",
    "X_pca = pca.fit_transform(X)\n",
    "print(\"\\n Var ratio : \",pca.explained_variance_ratio_)\n",
    "knn = KNeighborsClassifier(n_neighbors = 1, n_jobs = -1)\n",
    "\n",
    "stratified_cv_results_n1bush451vfvfarpack = cross_validate(knn,X_pca,y_bush,cv=StratifiedKFold(n_splits=3,shuffle = True, random_state=6099),\n",
    "                                      scoring = ('precision','recall','f1'),return_train_score= False)\n",
    "print(\"\\n Bush : \\n PCA \",stratified_cv_results_n1bush451vfvfarpack)\n",
    "print(\"\\n\",statistics.mean(stratified_cv_results_n1bush451vfvfarpack['test_f1']))"
   ]
  },
  {
   "cell_type": "code",
   "execution_count": null,
   "metadata": {},
   "outputs": [],
   "source": []
  },
  {
   "cell_type": "code",
   "execution_count": null,
   "metadata": {},
   "outputs": [],
   "source": []
  },
  {
   "cell_type": "code",
   "execution_count": null,
   "metadata": {},
   "outputs": [],
   "source": []
  },
  {
   "cell_type": "markdown",
   "metadata": {},
   "source": [
    "# 5 Neighbors"
   ]
  },
  {
   "cell_type": "code",
   "execution_count": 10,
   "metadata": {},
   "outputs": [
    {
     "name": "stdout",
     "output_type": "stream",
     "text": [
      "Bush : KNN for 5 neighbors\n",
      "\n",
      "  {'fit_time': array([10.27865171, 10.37226534, 10.51224089]), 'score_time': array([423.32662868, 430.06208372, 435.69161129]), 'test_precision': array([0.18181818, 0.25      , 0.46153846]), 'test_recall': array([0.01129944, 0.01694915, 0.03409091]), 'test_f1': array([0.0212766 , 0.03174603, 0.06349206])}\n"
     ]
    }
   ],
   "source": [
    "#  BUSH \n",
    "\n",
    "# Default 5 neighbors\n",
    "print(\"Bush : KNN for 5 neighbors\")\n",
    "\n",
    "knn = KNeighborsClassifier(n_neighbors = 5, n_jobs = -1)\n",
    "\n",
    "stratified_cv_results_n5bush = cross_validate(knn,X,y_bush,cv=StratifiedKFold(n_splits=3,shuffle = True, random_state=6099),\n",
    "                                      scoring = ('precision','recall','f1'),return_train_score= False)\n",
    "print(\"\\n \",stratified_cv_results_n5bush)"
   ]
  },
  {
   "cell_type": "markdown",
   "metadata": {},
   "source": [
    "# 1 Neighbor"
   ]
  },
  {
   "cell_type": "code",
   "execution_count": 11,
   "metadata": {},
   "outputs": [
    {
     "name": "stdout",
     "output_type": "stream",
     "text": [
      "Bush : KNN for 1 neighbors\n",
      "\n",
      "  {'fit_time': array([10.54252672, 12.23606586,  8.69474387]), 'score_time': array([ 432.44217229,  405.36774969, 2112.77472115]), 'test_precision': array([0.14606742, 0.1483871 , 0.11235955]), 'test_recall': array([0.14689266, 0.1299435 , 0.11363636]), 'test_f1': array([0.14647887, 0.13855422, 0.11299435])}\n"
     ]
    }
   ],
   "source": [
    "#  1 neighbors\n",
    "print(\"Bush : KNN for 1 neighbors\")\n",
    "knn = KNeighborsClassifier(n_neighbors = 1, n_jobs = -1)\n",
    "\n",
    "stratified_cv_results_n1bush = cross_validate(knn,X,y_bush,cv=StratifiedKFold(n_splits=3,shuffle = True, random_state=6099),\n",
    "                                      scoring = ('precision','recall','f1'),return_train_score= False)\n",
    "print(\"\\n \",stratified_cv_results_n1bush)"
   ]
  },
  {
   "cell_type": "markdown",
   "metadata": {},
   "source": [
    "# 3 Neighbors"
   ]
  },
  {
   "cell_type": "code",
   "execution_count": 12,
   "metadata": {},
   "outputs": [
    {
     "name": "stdout",
     "output_type": "stream",
     "text": [
      "Bush : KNN for 3 neighbors\n",
      "\n",
      "  {'fit_time': array([11.12823677, 10.87391663, 10.93574929]), 'score_time': array([403.01223183, 396.89508224, 397.69434643]), 'test_precision': array([0.28947368, 0.15625   , 0.27777778]), 'test_recall': array([0.06214689, 0.02824859, 0.05681818]), 'test_f1': array([0.10232558, 0.04784689, 0.09433962])}\n"
     ]
    }
   ],
   "source": [
    "\n",
    "# 3 neighbors\n",
    "print(\"Bush : KNN for 3 neighbors\")\n",
    "knn = KNeighborsClassifier(n_neighbors = 3, n_jobs = -1)\n",
    "\n",
    "stratified_cv_results_n3bush = cross_validate(knn,X,y_bush,cv=StratifiedKFold(n_splits=3,shuffle = True, random_state=6099),\n",
    "                                      scoring = ('precision','recall','f1'),return_train_score= False)\n",
    "print(\"\\n \",stratified_cv_results_n3bush)\n"
   ]
  },
  {
   "cell_type": "markdown",
   "metadata": {},
   "source": [
    "# Bush SVC"
   ]
  },
  {
   "cell_type": "code",
   "execution_count": 19,
   "metadata": {},
   "outputs": [
    {
     "name": "stdout",
     "output_type": "stream",
     "text": [
      "\n",
      " Bush : SVC \n",
      "\n",
      " BUSH with C=1.0, kernel='linear'  {'fit_time': array([133.39501548, 135.52273512, 138.56432796]), 'score_time': array([142.56097698, 144.05796337, 141.26329184]), 'test_precision': array([0.64197531, 0.66463415, 0.62589928]), 'test_recall': array([0.58757062, 0.61581921, 0.49431818]), 'test_f1': array([0.61356932, 0.63929619, 0.55238095])}\n"
     ]
    }
   ],
   "source": [
    "\n",
    "print(\"\\n Bush : SVC \")\n",
    "svc = SVC(C=1.0, kernel='linear')\n",
    "stratified_cv_results_bushSVC = cross_validate(svc,X,y_bush,cv=StratifiedKFold(n_splits=3,shuffle = True, random_state=6099),\n",
    "                                      scoring = ('precision','recall','f1'),return_train_score= False)\n",
    "print(\"\\n BUSH with C=1.0, kernel='linear' \",stratified_cv_results_bushSVC)\n",
    "# svc = SVC(gamma=1/(X.shape[1]*X.std()))\n"
   ]
  },
  {
   "cell_type": "code",
   "execution_count": 20,
   "metadata": {},
   "outputs": [
    {
     "name": "stdout",
     "output_type": "stream",
     "text": [
      "\n",
      " Bush : SVC \n"
     ]
    },
    {
     "name": "stderr",
     "output_type": "stream",
     "text": [
      "C:\\Users\\pooja\\Anaconda3\\lib\\site-packages\\sklearn\\metrics\\classification.py:1135: UndefinedMetricWarning: Precision is ill-defined and being set to 0.0 due to no predicted samples.\n",
      "  'precision', 'predicted', average, warn_for)\n",
      "C:\\Users\\pooja\\Anaconda3\\lib\\site-packages\\sklearn\\metrics\\classification.py:1135: UndefinedMetricWarning: F-score is ill-defined and being set to 0.0 due to no predicted samples.\n",
      "  'precision', 'predicted', average, warn_for)\n",
      "C:\\Users\\pooja\\Anaconda3\\lib\\site-packages\\sklearn\\metrics\\classification.py:1135: UndefinedMetricWarning: Precision is ill-defined and being set to 0.0 due to no predicted samples.\n",
      "  'precision', 'predicted', average, warn_for)\n",
      "C:\\Users\\pooja\\Anaconda3\\lib\\site-packages\\sklearn\\metrics\\classification.py:1135: UndefinedMetricWarning: F-score is ill-defined and being set to 0.0 due to no predicted samples.\n",
      "  'precision', 'predicted', average, warn_for)\n",
      "C:\\Users\\pooja\\Anaconda3\\lib\\site-packages\\sklearn\\metrics\\classification.py:1135: UndefinedMetricWarning: Precision is ill-defined and being set to 0.0 due to no predicted samples.\n",
      "  'precision', 'predicted', average, warn_for)\n"
     ]
    },
    {
     "name": "stdout",
     "output_type": "stream",
     "text": [
      "\n",
      " BUSH SVC with C=1.0 , kernel = 'poly',degree = 3 {'fit_time': array([137.86523342, 139.3499589 , 141.46186423]), 'score_time': array([180.5901897 , 184.04085565, 183.80518198]), 'test_precision': array([0., 0., 0.]), 'test_recall': array([0., 0., 0.]), 'test_f1': array([0., 0., 0.])}\n"
     ]
    },
    {
     "name": "stderr",
     "output_type": "stream",
     "text": [
      "C:\\Users\\pooja\\Anaconda3\\lib\\site-packages\\sklearn\\metrics\\classification.py:1135: UndefinedMetricWarning: F-score is ill-defined and being set to 0.0 due to no predicted samples.\n",
      "  'precision', 'predicted', average, warn_for)\n"
     ]
    }
   ],
   "source": [
    "\n",
    "print(\"\\n Bush : SVC \")\n",
    "svc = SVC(C=1.0 , kernel = 'poly',degree = 3)\n",
    "stratified_cv_results_bushSVC1 = cross_validate(svc,X,y_bush,cv=StratifiedKFold(n_splits=3,shuffle = True, random_state=6099),\n",
    "                                      scoring = ('precision','recall','f1'),return_train_score= False)\n",
    "print(\"\\n BUSH SVC with C=1.0 , kernel = 'poly',degree = 3\",stratified_cv_results_bushSVC1)\n",
    "# svc = SVC(gamma=1/(X.shape[1]*X.std()))"
   ]
  },
  {
   "cell_type": "code",
   "execution_count": 21,
   "metadata": {},
   "outputs": [
    {
     "name": "stdout",
     "output_type": "stream",
     "text": [
      "\n",
      " Bush : SVC \n"
     ]
    },
    {
     "name": "stderr",
     "output_type": "stream",
     "text": [
      "C:\\Users\\pooja\\Anaconda3\\lib\\site-packages\\sklearn\\metrics\\classification.py:1135: UndefinedMetricWarning: Precision is ill-defined and being set to 0.0 due to no predicted samples.\n",
      "  'precision', 'predicted', average, warn_for)\n",
      "C:\\Users\\pooja\\Anaconda3\\lib\\site-packages\\sklearn\\metrics\\classification.py:1135: UndefinedMetricWarning: F-score is ill-defined and being set to 0.0 due to no predicted samples.\n",
      "  'precision', 'predicted', average, warn_for)\n",
      "C:\\Users\\pooja\\Anaconda3\\lib\\site-packages\\sklearn\\metrics\\classification.py:1135: UndefinedMetricWarning: Precision is ill-defined and being set to 0.0 due to no predicted samples.\n",
      "  'precision', 'predicted', average, warn_for)\n",
      "C:\\Users\\pooja\\Anaconda3\\lib\\site-packages\\sklearn\\metrics\\classification.py:1135: UndefinedMetricWarning: F-score is ill-defined and being set to 0.0 due to no predicted samples.\n",
      "  'precision', 'predicted', average, warn_for)\n",
      "C:\\Users\\pooja\\Anaconda3\\lib\\site-packages\\sklearn\\metrics\\classification.py:1135: UndefinedMetricWarning: Precision is ill-defined and being set to 0.0 due to no predicted samples.\n",
      "  'precision', 'predicted', average, warn_for)\n"
     ]
    },
    {
     "name": "stdout",
     "output_type": "stream",
     "text": [
      "\n",
      " BUSH SVC with C = 1.0 , gamma=1/(X.shape[1]*X.std()) {'fit_time': array([138.64414644, 109.32403779, 101.90244818]), 'score_time': array([154.12548876, 149.04735947, 136.90583587]), 'test_precision': array([0., 0., 0.]), 'test_recall': array([0., 0., 0.]), 'test_f1': array([0., 0., 0.])}\n"
     ]
    },
    {
     "name": "stderr",
     "output_type": "stream",
     "text": [
      "C:\\Users\\pooja\\Anaconda3\\lib\\site-packages\\sklearn\\metrics\\classification.py:1135: UndefinedMetricWarning: F-score is ill-defined and being set to 0.0 due to no predicted samples.\n",
      "  'precision', 'predicted', average, warn_for)\n"
     ]
    }
   ],
   "source": [
    "# delete above when done this\n",
    "\n",
    "print(\"\\n Bush : SVC \")\n",
    "svc = SVC(C = 1.0 , gamma=1/(X.shape[1]*X.std()))\n",
    "stratified_cv_results_bushSVC_gamma12 = cross_validate(svc,X,y_bush,cv=StratifiedKFold(n_splits=3,shuffle = True, random_state=6099),\n",
    "                                      scoring = ('precision','recall','f1'),return_train_score= False)\n",
    "print(\"\\n BUSH SVC with C = 1.0 , gamma=1/(X.shape[1]*X.std())\",stratified_cv_results_bushSVC_gamma12)\n",
    "# svc = SVC(gamma=1/(X.shape[1]*X.std()))"
   ]
  },
  {
   "cell_type": "code",
   "execution_count": 17,
   "metadata": {},
   "outputs": [
    {
     "name": "stdout",
     "output_type": "stream",
     "text": [
      "\n",
      " Bush : SVC \n"
     ]
    },
    {
     "name": "stderr",
     "output_type": "stream",
     "text": [
      "C:\\Users\\pooja\\Anaconda3\\lib\\site-packages\\sklearn\\metrics\\classification.py:1135: UndefinedMetricWarning: Precision is ill-defined and being set to 0.0 due to no predicted samples.\n",
      "  'precision', 'predicted', average, warn_for)\n",
      "C:\\Users\\pooja\\Anaconda3\\lib\\site-packages\\sklearn\\metrics\\classification.py:1135: UndefinedMetricWarning: F-score is ill-defined and being set to 0.0 due to no predicted samples.\n",
      "  'precision', 'predicted', average, warn_for)\n",
      "C:\\Users\\pooja\\Anaconda3\\lib\\site-packages\\sklearn\\metrics\\classification.py:1135: UndefinedMetricWarning: Precision is ill-defined and being set to 0.0 due to no predicted samples.\n",
      "  'precision', 'predicted', average, warn_for)\n",
      "C:\\Users\\pooja\\Anaconda3\\lib\\site-packages\\sklearn\\metrics\\classification.py:1135: UndefinedMetricWarning: F-score is ill-defined and being set to 0.0 due to no predicted samples.\n",
      "  'precision', 'predicted', average, warn_for)\n",
      "C:\\Users\\pooja\\Anaconda3\\lib\\site-packages\\sklearn\\metrics\\classification.py:1135: UndefinedMetricWarning: Precision is ill-defined and being set to 0.0 due to no predicted samples.\n",
      "  'precision', 'predicted', average, warn_for)\n"
     ]
    },
    {
     "name": "stdout",
     "output_type": "stream",
     "text": [
      "\n",
      " BUSH SVC with C = 1.0 , kernel = 'rbf',gamma=1/(X.shape[1]*X.std()) {'fit_time': array([128.32136583, 130.12495971, 134.7774241 ]), 'score_time': array([187.45117736, 183.87704873, 175.14203358]), 'test_precision': array([0., 0., 0.]), 'test_recall': array([0., 0., 0.]), 'test_f1': array([0., 0., 0.])}\n"
     ]
    },
    {
     "name": "stderr",
     "output_type": "stream",
     "text": [
      "C:\\Users\\pooja\\Anaconda3\\lib\\site-packages\\sklearn\\metrics\\classification.py:1135: UndefinedMetricWarning: F-score is ill-defined and being set to 0.0 due to no predicted samples.\n",
      "  'precision', 'predicted', average, warn_for)\n"
     ]
    }
   ],
   "source": [
    "print(\"\\n Bush : SVC \")\n",
    "svc = SVC(C = 1.0 , kernel = 'rbf',gamma=1/(X.shape[1]*X.std()))\n",
    "stratified_cv_results_bushSVC_gamma123 = cross_validate(svc,X,y_bush,cv=StratifiedKFold(n_splits=3,shuffle = True, random_state=6099),\n",
    "                                      scoring = ('precision','recall','f1'),return_train_score= False)\n",
    "print(\"\\n BUSH SVC with C = 1.0 , kernel = 'rbf',gamma=1/(X.shape[1]*X.std())\",stratified_cv_results_bushSVC_gamma123)\n",
    "# svc = SVC(gamma=1/(X.shape[1]*X.std()))"
   ]
  },
  {
   "cell_type": "code",
   "execution_count": 18,
   "metadata": {},
   "outputs": [
    {
     "name": "stdout",
     "output_type": "stream",
     "text": [
      "\n",
      " Bush : SVC \n",
      "\n",
      " BUSH SVC with C = 6.0 , kernel = 'linear', degree = 6 , gamma=1/(X.shape[1]*X.std()) {'fit_time': array([128.55222464, 119.81455159, 123.01043749]), 'score_time': array([124.2734077 , 126.84257221, 124.1000669 ]), 'test_precision': array([0.64197531, 0.66463415, 0.62589928]), 'test_recall': array([0.58757062, 0.61581921, 0.49431818]), 'test_f1': array([0.61356932, 0.63929619, 0.55238095])}\n"
     ]
    }
   ],
   "source": [
    "print(\"\\n Bush : SVC \")\n",
    "svc = SVC(C = 6.0 , kernel = 'linear', degree = 6 , gamma=1/(X.shape[1]*X.std()))\n",
    "stratified_cv_results_bushSVC_gamma1234 = cross_validate(svc,X,y_bush,cv=StratifiedKFold(n_splits=3,shuffle = True, random_state=6099),\n",
    "                                      scoring = ('precision','recall','f1'),return_train_score= False)\n",
    "print(\"\\n BUSH SVC with C = 6.0 , kernel = 'linear', degree = 6 , gamma=1/(X.shape[1]*X.std())\",stratified_cv_results_bushSVC_gamma1234)\n",
    "# svc = SVC(gamma=1/(X.shape[1]*X.std()))"
   ]
  },
  {
   "cell_type": "code",
   "execution_count": 42,
   "metadata": {},
   "outputs": [
    {
     "name": "stdout",
     "output_type": "stream",
     "text": [
      "\n",
      " Bush : SVC \n",
      "\n",
      " BUSH SVC with C = 9.0 , kernel = 'sigmoid',  gamma= 'auto') {'fit_time': array([67.32889318, 64.58364773, 69.73005486]), 'score_time': array([91.4089098 , 91.17516136, 92.11472178]), 'test_precision': array([0.10447761, 0.15384615, 0.0625    ]), 'test_recall': array([0.03954802, 0.05649718, 0.02840909]), 'test_f1': array([0.05737705, 0.08264463, 0.0390625 ])}\n"
     ]
    }
   ],
   "source": [
    "print(\"\\n Bush : SVC \")\n",
    "svc = SVC(C = 9.0 , kernel = 'sigmoid',  gamma= 'auto')\n",
    "stratified_cv_results_bushSVC_gamma12345 = cross_validate(svc,X,y_bush,cv=StratifiedKFold(n_splits=3,shuffle = True, random_state=6099),\n",
    "                                      scoring = ('precision','recall','f1'),return_train_score= False)\n",
    "print(\"\\n BUSH SVC with C = 9.0 , kernel = 'sigmoid',  gamma= 'auto')\",stratified_cv_results_bushSVC_gamma12345)\n",
    "# svc = SVC(gamma=1/(X.shape[1]*X.std()))"
   ]
  },
  {
   "cell_type": "code",
   "execution_count": 43,
   "metadata": {},
   "outputs": [
    {
     "name": "stdout",
     "output_type": "stream",
     "text": [
      "\n",
      " Bush : SVC \n"
     ]
    },
    {
     "name": "stderr",
     "output_type": "stream",
     "text": [
      "C:\\Users\\pooja\\Anaconda3\\lib\\site-packages\\sklearn\\metrics\\classification.py:1135: UndefinedMetricWarning: Precision is ill-defined and being set to 0.0 due to no predicted samples.\n",
      "  'precision', 'predicted', average, warn_for)\n",
      "C:\\Users\\pooja\\Anaconda3\\lib\\site-packages\\sklearn\\metrics\\classification.py:1135: UndefinedMetricWarning: F-score is ill-defined and being set to 0.0 due to no predicted samples.\n",
      "  'precision', 'predicted', average, warn_for)\n",
      "C:\\Users\\pooja\\Anaconda3\\lib\\site-packages\\sklearn\\metrics\\classification.py:1135: UndefinedMetricWarning: Precision is ill-defined and being set to 0.0 due to no predicted samples.\n",
      "  'precision', 'predicted', average, warn_for)\n",
      "C:\\Users\\pooja\\Anaconda3\\lib\\site-packages\\sklearn\\metrics\\classification.py:1135: UndefinedMetricWarning: F-score is ill-defined and being set to 0.0 due to no predicted samples.\n",
      "  'precision', 'predicted', average, warn_for)\n",
      "C:\\Users\\pooja\\Anaconda3\\lib\\site-packages\\sklearn\\metrics\\classification.py:1135: UndefinedMetricWarning: Precision is ill-defined and being set to 0.0 due to no predicted samples.\n",
      "  'precision', 'predicted', average, warn_for)\n"
     ]
    },
    {
     "name": "stdout",
     "output_type": "stream",
     "text": [
      "\n",
      " BUSH SVC with kernel = 'sigmoid' and other default except degree : ) {'fit_time': array([69.07757664, 68.87383127, 70.18837857]), 'score_time': array([92.74709225, 92.22015929, 93.92202854]), 'test_precision': array([0., 0., 0.]), 'test_recall': array([0., 0., 0.]), 'test_f1': array([0., 0., 0.])}\n"
     ]
    },
    {
     "name": "stderr",
     "output_type": "stream",
     "text": [
      "C:\\Users\\pooja\\Anaconda3\\lib\\site-packages\\sklearn\\metrics\\classification.py:1135: UndefinedMetricWarning: F-score is ill-defined and being set to 0.0 due to no predicted samples.\n",
      "  'precision', 'predicted', average, warn_for)\n"
     ]
    }
   ],
   "source": [
    "print(\"\\n Bush : SVC \")\n",
    "svc = SVC( kernel = 'sigmoid')\n",
    "stratified_cv_results_bushSVC_gamma123456 = cross_validate(svc,X,y_bush,cv=StratifiedKFold(n_splits=3,shuffle = True, random_state=6099),\n",
    "                                      scoring = ('precision','recall','f1'),return_train_score= False)\n",
    "print(\"\\n BUSH SVC with kernel = 'sigmoid' and other default except degree : )\",stratified_cv_results_bushSVC_gamma123456)\n",
    "# svc = SVC(gamma=1/(X.shape[1]*X.std()))"
   ]
  },
  {
   "cell_type": "code",
   "execution_count": 44,
   "metadata": {},
   "outputs": [
    {
     "name": "stdout",
     "output_type": "stream",
     "text": [
      "\n",
      " Bush : SVC \n",
      "\n",
      " BUSH SVC with C = 24.0 , kernel = 'sigmoid',  gamma= 1/(X.shape[1]*X.std())) {'fit_time': array([58.13665271, 50.70039797, 58.37118316]), 'score_time': array([68.79400039, 72.67211223, 69.48878908]), 'test_precision': array([0.13559322, 0.13664596, 0.12837838]), 'test_recall': array([0.09039548, 0.12429379, 0.10795455]), 'test_f1': array([0.10847458, 0.13017751, 0.11728395])}\n"
     ]
    }
   ],
   "source": [
    "print(\"\\n Bush : SVC \")\n",
    "svc = SVC(C = 24.0 , kernel = 'sigmoid',  gamma= 1/(X.shape[1]*X.std()))\n",
    "stratified_cv_results_bushSVC_gamma1238 = cross_validate(svc,X,y_bush,cv=StratifiedKFold(n_splits=3,shuffle = True, random_state=6099),\n",
    "                                      scoring = ('precision','recall','f1'),return_train_score= False)\n",
    "print(\"\\n BUSH SVC with C = 24.0 , kernel = 'sigmoid',  gamma= 1/(X.shape[1]*X.std()))\",stratified_cv_results_bushSVC_gamma1238)\n",
    "# svc = SVC(gamma=1/(X.shape[1]*X.std()))"
   ]
  },
  {
   "cell_type": "code",
   "execution_count": 45,
   "metadata": {},
   "outputs": [
    {
     "name": "stdout",
     "output_type": "stream",
     "text": [
      "\n",
      " Bush : SVC \n",
      "\n",
      " BUSH SVC with C = 24.0 , kernel = 'linear') {'fit_time': array([100.814924  ,  95.04479575, 101.79175067]), 'score_time': array([103.29952788, 107.67900729, 102.39713073]), 'test_precision': array([0.64197531, 0.66463415, 0.62589928]), 'test_recall': array([0.58757062, 0.61581921, 0.49431818]), 'test_f1': array([0.61356932, 0.63929619, 0.55238095])}\n"
     ]
    }
   ],
   "source": [
    "print(\"\\n Bush : SVC \")\n",
    "svc = SVC(C = 24.0 , kernel = 'linear')\n",
    "stratified_cv_results_bushSVC_gamma1239 = cross_validate(svc,X,y_bush,cv=StratifiedKFold(n_splits=3,shuffle = True, random_state=6099),\n",
    "                                      scoring = ('precision','recall','f1'),return_train_score= False)\n",
    "print(\"\\n BUSH SVC with C = 24.0 , kernel = 'linear')\",stratified_cv_results_bushSVC_gamma1239)\n",
    "# svc = SVC(gamma=1/(X.shape[1]*X.std()))"
   ]
  },
  {
   "cell_type": "code",
   "execution_count": 65,
   "metadata": {},
   "outputs": [
    {
     "name": "stdout",
     "output_type": "stream",
     "text": [
      "\n",
      " Bush : SVC \n"
     ]
    },
    {
     "name": "stderr",
     "output_type": "stream",
     "text": [
      "C:\\Users\\pooja\\Anaconda3\\lib\\site-packages\\sklearn\\metrics\\classification.py:1135: UndefinedMetricWarning: Precision is ill-defined and being set to 0.0 due to no predicted samples.\n",
      "  'precision', 'predicted', average, warn_for)\n",
      "C:\\Users\\pooja\\Anaconda3\\lib\\site-packages\\sklearn\\metrics\\classification.py:1135: UndefinedMetricWarning: F-score is ill-defined and being set to 0.0 due to no predicted samples.\n",
      "  'precision', 'predicted', average, warn_for)\n",
      "C:\\Users\\pooja\\Anaconda3\\lib\\site-packages\\sklearn\\metrics\\classification.py:1135: UndefinedMetricWarning: Precision is ill-defined and being set to 0.0 due to no predicted samples.\n",
      "  'precision', 'predicted', average, warn_for)\n",
      "C:\\Users\\pooja\\Anaconda3\\lib\\site-packages\\sklearn\\metrics\\classification.py:1135: UndefinedMetricWarning: F-score is ill-defined and being set to 0.0 due to no predicted samples.\n",
      "  'precision', 'predicted', average, warn_for)\n",
      "C:\\Users\\pooja\\Anaconda3\\lib\\site-packages\\sklearn\\metrics\\classification.py:1135: UndefinedMetricWarning: Precision is ill-defined and being set to 0.0 due to no predicted samples.\n",
      "  'precision', 'predicted', average, warn_for)\n"
     ]
    },
    {
     "name": "stdout",
     "output_type": "stream",
     "text": [
      "\n",
      " BUSH SVC with C = 2.0 , kernel = 'poly',  degree = 2 , gamma= 'auto_deprecated') {'fit_time': array([59.88226891, 69.65429926, 65.7291913 ]), 'score_time': array([90.03109789, 83.59143138, 93.92460799]), 'test_precision': array([0., 0., 0.]), 'test_recall': array([0., 0., 0.]), 'test_f1': array([0., 0., 0.])}\n"
     ]
    },
    {
     "name": "stderr",
     "output_type": "stream",
     "text": [
      "C:\\Users\\pooja\\Anaconda3\\lib\\site-packages\\sklearn\\metrics\\classification.py:1135: UndefinedMetricWarning: F-score is ill-defined and being set to 0.0 due to no predicted samples.\n",
      "  'precision', 'predicted', average, warn_for)\n"
     ]
    }
   ],
   "source": [
    "print(\"\\n Bush : SVC \")\n",
    "svc = SVC(C = 2.0 , kernel = 'poly',  degree = 2 , gamma= 'auto')\n",
    "stratified_cv_results_bushSVC_gamma15638 = cross_validate(svc,X,y_bush,cv=StratifiedKFold(n_splits=3,shuffle = True, random_state=6099),\n",
    "                                      scoring = ('precision','recall','f1'),return_train_score= False)\n",
    "print(\"\\n BUSH SVC with C = 2.0 , kernel = 'poly',  degree = 2 , gamma= 'auto_deprecated')\",stratified_cv_results_bushSVC_gamma15638)\n"
   ]
  },
  {
   "cell_type": "code",
   "execution_count": 68,
   "metadata": {},
   "outputs": [
    {
     "name": "stdout",
     "output_type": "stream",
     "text": [
      "\n",
      " Bush : SVC \n"
     ]
    },
    {
     "name": "stderr",
     "output_type": "stream",
     "text": [
      "C:\\Users\\pooja\\Anaconda3\\lib\\site-packages\\sklearn\\metrics\\classification.py:1135: UndefinedMetricWarning: Precision is ill-defined and being set to 0.0 due to no predicted samples.\n",
      "  'precision', 'predicted', average, warn_for)\n",
      "C:\\Users\\pooja\\Anaconda3\\lib\\site-packages\\sklearn\\metrics\\classification.py:1135: UndefinedMetricWarning: F-score is ill-defined and being set to 0.0 due to no predicted samples.\n",
      "  'precision', 'predicted', average, warn_for)\n",
      "C:\\Users\\pooja\\Anaconda3\\lib\\site-packages\\sklearn\\metrics\\classification.py:1135: UndefinedMetricWarning: Precision is ill-defined and being set to 0.0 due to no predicted samples.\n",
      "  'precision', 'predicted', average, warn_for)\n",
      "C:\\Users\\pooja\\Anaconda3\\lib\\site-packages\\sklearn\\metrics\\classification.py:1135: UndefinedMetricWarning: F-score is ill-defined and being set to 0.0 due to no predicted samples.\n",
      "  'precision', 'predicted', average, warn_for)\n",
      "C:\\Users\\pooja\\Anaconda3\\lib\\site-packages\\sklearn\\metrics\\classification.py:1135: UndefinedMetricWarning: Precision is ill-defined and being set to 0.0 due to no predicted samples.\n",
      "  'precision', 'predicted', average, warn_for)\n"
     ]
    },
    {
     "name": "stdout",
     "output_type": "stream",
     "text": [
      "\n",
      " BUSH SVC with C = 2.0 , kernel = 'rbf',   gamma= 'auto' ) {'fit_time': array([66.66072059, 68.35062456, 66.38943911]), 'score_time': array([83.80507326, 92.86956024, 87.7573359 ]), 'test_precision': array([0., 0., 0.]), 'test_recall': array([0., 0., 0.]), 'test_f1': array([0., 0., 0.])}\n"
     ]
    },
    {
     "name": "stderr",
     "output_type": "stream",
     "text": [
      "C:\\Users\\pooja\\Anaconda3\\lib\\site-packages\\sklearn\\metrics\\classification.py:1135: UndefinedMetricWarning: F-score is ill-defined and being set to 0.0 due to no predicted samples.\n",
      "  'precision', 'predicted', average, warn_for)\n"
     ]
    }
   ],
   "source": [
    "print(\"\\n Bush : SVC \")\n",
    "svc = SVC(C = 2.0 , kernel = 'rbf',   gamma= 'auto')\n",
    "stratified_cv_results_bushSVC_gamma15638212 = cross_validate(svc,X,y_bush,cv=StratifiedKFold(n_splits=3,shuffle = True, random_state=6099),\n",
    "                                      scoring = ('precision','recall','f1'),return_train_score= False)\n",
    "print(\"\\n BUSH SVC with C = 2.0 , kernel = 'rbf',   gamma= 'auto' )\",stratified_cv_results_bushSVC_gamma15638212)\n"
   ]
  },
  {
   "cell_type": "code",
   "execution_count": 77,
   "metadata": {},
   "outputs": [
    {
     "name": "stdout",
     "output_type": "stream",
     "text": [
      "\n",
      " Bush : SVC \n"
     ]
    },
    {
     "name": "stderr",
     "output_type": "stream",
     "text": [
      "C:\\Users\\pooja\\Anaconda3\\lib\\site-packages\\sklearn\\metrics\\classification.py:1135: UndefinedMetricWarning: Precision is ill-defined and being set to 0.0 due to no predicted samples.\n",
      "  'precision', 'predicted', average, warn_for)\n",
      "C:\\Users\\pooja\\Anaconda3\\lib\\site-packages\\sklearn\\metrics\\classification.py:1135: UndefinedMetricWarning: F-score is ill-defined and being set to 0.0 due to no predicted samples.\n",
      "  'precision', 'predicted', average, warn_for)\n",
      "C:\\Users\\pooja\\Anaconda3\\lib\\site-packages\\sklearn\\metrics\\classification.py:1135: UndefinedMetricWarning: Precision is ill-defined and being set to 0.0 due to no predicted samples.\n",
      "  'precision', 'predicted', average, warn_for)\n",
      "C:\\Users\\pooja\\Anaconda3\\lib\\site-packages\\sklearn\\metrics\\classification.py:1135: UndefinedMetricWarning: F-score is ill-defined and being set to 0.0 due to no predicted samples.\n",
      "  'precision', 'predicted', average, warn_for)\n",
      "C:\\Users\\pooja\\Anaconda3\\lib\\site-packages\\sklearn\\metrics\\classification.py:1135: UndefinedMetricWarning: Precision is ill-defined and being set to 0.0 due to no predicted samples.\n",
      "  'precision', 'predicted', average, warn_for)\n"
     ]
    },
    {
     "name": "stdout",
     "output_type": "stream",
     "text": [
      "\n",
      " BUSH SVC with C = 0.001 , kernel = 'linear',   gamma= 'auto' ) {'fit_time': array([64.82087731, 61.05527401, 60.46801615]), 'score_time': array([75.23544121, 74.53429627, 72.55999541]), 'test_precision': array([0., 0., 0.]), 'test_recall': array([0., 0., 0.]), 'test_f1': array([0., 0., 0.])}\n"
     ]
    },
    {
     "name": "stderr",
     "output_type": "stream",
     "text": [
      "C:\\Users\\pooja\\Anaconda3\\lib\\site-packages\\sklearn\\metrics\\classification.py:1135: UndefinedMetricWarning: F-score is ill-defined and being set to 0.0 due to no predicted samples.\n",
      "  'precision', 'predicted', average, warn_for)\n"
     ]
    }
   ],
   "source": [
    "print(\"\\n Bush : SVC \")\n",
    "svc = SVC(C = 0.001 , kernel = 'linear',   gamma= 'auto')\n",
    "stratified_cv_results_bushSVC_gamma152323638212 = cross_validate(svc,X,y_bush,cv=StratifiedKFold(n_splits=3,shuffle = True, random_state=6099),\n",
    "                                      scoring = ('precision','recall','f1'),return_train_score= False)\n",
    "print(\"\\n BUSH SVC with C = 0.001 , kernel = 'linear',   gamma= 'auto' )\",stratified_cv_results_bushSVC_gamma152323638212)\n"
   ]
  },
  {
   "cell_type": "code",
   "execution_count": 78,
   "metadata": {},
   "outputs": [
    {
     "name": "stdout",
     "output_type": "stream",
     "text": [
      "\n",
      " Bush : SVC \n"
     ]
    },
    {
     "name": "stderr",
     "output_type": "stream",
     "text": [
      "C:\\Users\\pooja\\Anaconda3\\lib\\site-packages\\sklearn\\metrics\\classification.py:1135: UndefinedMetricWarning: Precision is ill-defined and being set to 0.0 due to no predicted samples.\n",
      "  'precision', 'predicted', average, warn_for)\n",
      "C:\\Users\\pooja\\Anaconda3\\lib\\site-packages\\sklearn\\metrics\\classification.py:1135: UndefinedMetricWarning: F-score is ill-defined and being set to 0.0 due to no predicted samples.\n",
      "  'precision', 'predicted', average, warn_for)\n",
      "C:\\Users\\pooja\\Anaconda3\\lib\\site-packages\\sklearn\\metrics\\classification.py:1135: UndefinedMetricWarning: Precision is ill-defined and being set to 0.0 due to no predicted samples.\n",
      "  'precision', 'predicted', average, warn_for)\n",
      "C:\\Users\\pooja\\Anaconda3\\lib\\site-packages\\sklearn\\metrics\\classification.py:1135: UndefinedMetricWarning: F-score is ill-defined and being set to 0.0 due to no predicted samples.\n",
      "  'precision', 'predicted', average, warn_for)\n",
      "C:\\Users\\pooja\\Anaconda3\\lib\\site-packages\\sklearn\\metrics\\classification.py:1135: UndefinedMetricWarning: Precision is ill-defined and being set to 0.0 due to no predicted samples.\n",
      "  'precision', 'predicted', average, warn_for)\n"
     ]
    },
    {
     "name": "stdout",
     "output_type": "stream",
     "text": [
      "\n",
      " BUSH SVC with C = 0.001 , kernel = 'sigmoid',   gamma= 'auto' ) {'fit_time': array([34.93912101, 36.41800928, 32.33745694]), 'score_time': array([48.45365071, 48.36920762, 49.32091403]), 'test_precision': array([0., 0., 0.]), 'test_recall': array([0., 0., 0.]), 'test_f1': array([0., 0., 0.])}\n"
     ]
    },
    {
     "name": "stderr",
     "output_type": "stream",
     "text": [
      "C:\\Users\\pooja\\Anaconda3\\lib\\site-packages\\sklearn\\metrics\\classification.py:1135: UndefinedMetricWarning: F-score is ill-defined and being set to 0.0 due to no predicted samples.\n",
      "  'precision', 'predicted', average, warn_for)\n"
     ]
    }
   ],
   "source": [
    "print(\"\\n Bush : SVC \")\n",
    "svc = SVC(C = 0.001 , kernel = 'sigmoid',   gamma= 'auto')\n",
    "stratified_cv_results_bushSVC_gamma323638212 = cross_validate(svc,X,y_bush,cv=StratifiedKFold(n_splits=3,shuffle = True, random_state=6099),\n",
    "                                      scoring = ('precision','recall','f1'),return_train_score= False)\n",
    "print(\"\\n BUSH SVC with C = 0.001 , kernel = 'sigmoid',   gamma= 'auto' )\",stratified_cv_results_bushSVC_gamma323638212)\n"
   ]
  },
  {
   "cell_type": "code",
   "execution_count": 79,
   "metadata": {},
   "outputs": [
    {
     "name": "stdout",
     "output_type": "stream",
     "text": [
      "\n",
      " Bush : SVC \n"
     ]
    },
    {
     "name": "stderr",
     "output_type": "stream",
     "text": [
      "C:\\Users\\pooja\\Anaconda3\\lib\\site-packages\\sklearn\\metrics\\classification.py:1135: UndefinedMetricWarning: Precision is ill-defined and being set to 0.0 due to no predicted samples.\n",
      "  'precision', 'predicted', average, warn_for)\n",
      "C:\\Users\\pooja\\Anaconda3\\lib\\site-packages\\sklearn\\metrics\\classification.py:1135: UndefinedMetricWarning: F-score is ill-defined and being set to 0.0 due to no predicted samples.\n",
      "  'precision', 'predicted', average, warn_for)\n",
      "C:\\Users\\pooja\\Anaconda3\\lib\\site-packages\\sklearn\\metrics\\classification.py:1135: UndefinedMetricWarning: Precision is ill-defined and being set to 0.0 due to no predicted samples.\n",
      "  'precision', 'predicted', average, warn_for)\n",
      "C:\\Users\\pooja\\Anaconda3\\lib\\site-packages\\sklearn\\metrics\\classification.py:1135: UndefinedMetricWarning: F-score is ill-defined and being set to 0.0 due to no predicted samples.\n",
      "  'precision', 'predicted', average, warn_for)\n",
      "C:\\Users\\pooja\\Anaconda3\\lib\\site-packages\\sklearn\\metrics\\classification.py:1135: UndefinedMetricWarning: Precision is ill-defined and being set to 0.0 due to no predicted samples.\n",
      "  'precision', 'predicted', average, warn_for)\n"
     ]
    },
    {
     "name": "stdout",
     "output_type": "stream",
     "text": [
      "\n",
      " BUSH SVC with C = 0.001 , kernel = 'rbf',   gamma= 'auto' ) {'fit_time': array([36.84523511, 31.5778203 , 31.78079295]), 'score_time': array([49.22786045, 45.65176773, 44.64198995]), 'test_precision': array([0., 0., 0.]), 'test_recall': array([0., 0., 0.]), 'test_f1': array([0., 0., 0.])}\n"
     ]
    },
    {
     "name": "stderr",
     "output_type": "stream",
     "text": [
      "C:\\Users\\pooja\\Anaconda3\\lib\\site-packages\\sklearn\\metrics\\classification.py:1135: UndefinedMetricWarning: F-score is ill-defined and being set to 0.0 due to no predicted samples.\n",
      "  'precision', 'predicted', average, warn_for)\n"
     ]
    }
   ],
   "source": [
    "print(\"\\n Bush : SVC \")\n",
    "svc = SVC(C = 0.001 , kernel = 'rbf',   gamma= 'auto')\n",
    "stratified_cv_results_bushSVC_gamma32312 = cross_validate(svc,X,y_bush,cv=StratifiedKFold(n_splits=3,shuffle = True, random_state=6099),\n",
    "                                      scoring = ('precision','recall','f1'),return_train_score= False)\n",
    "print(\"\\n BUSH SVC with C = 0.001 , kernel = 'rbf',   gamma= 'auto' )\",stratified_cv_results_bushSVC_gamma32312)\n"
   ]
  },
  {
   "cell_type": "code",
   "execution_count": 80,
   "metadata": {},
   "outputs": [
    {
     "name": "stdout",
     "output_type": "stream",
     "text": [
      "\n",
      " Bush : SVC \n"
     ]
    },
    {
     "name": "stderr",
     "output_type": "stream",
     "text": [
      "C:\\Users\\pooja\\Anaconda3\\lib\\site-packages\\sklearn\\metrics\\classification.py:1135: UndefinedMetricWarning: Precision is ill-defined and being set to 0.0 due to no predicted samples.\n",
      "  'precision', 'predicted', average, warn_for)\n",
      "C:\\Users\\pooja\\Anaconda3\\lib\\site-packages\\sklearn\\metrics\\classification.py:1135: UndefinedMetricWarning: F-score is ill-defined and being set to 0.0 due to no predicted samples.\n",
      "  'precision', 'predicted', average, warn_for)\n",
      "C:\\Users\\pooja\\Anaconda3\\lib\\site-packages\\sklearn\\metrics\\classification.py:1135: UndefinedMetricWarning: Precision is ill-defined and being set to 0.0 due to no predicted samples.\n",
      "  'precision', 'predicted', average, warn_for)\n",
      "C:\\Users\\pooja\\Anaconda3\\lib\\site-packages\\sklearn\\metrics\\classification.py:1135: UndefinedMetricWarning: F-score is ill-defined and being set to 0.0 due to no predicted samples.\n",
      "  'precision', 'predicted', average, warn_for)\n",
      "C:\\Users\\pooja\\Anaconda3\\lib\\site-packages\\sklearn\\metrics\\classification.py:1135: UndefinedMetricWarning: Precision is ill-defined and being set to 0.0 due to no predicted samples.\n",
      "  'precision', 'predicted', average, warn_for)\n"
     ]
    },
    {
     "name": "stdout",
     "output_type": "stream",
     "text": [
      "\n",
      " BUSH SVC with C = 0.001 , kernel = 'poly', coef0= 2.0  ,gamma= 'auto') {'fit_time': array([75.99054003, 75.9964242 , 76.11790633]), 'score_time': array([106.08294487, 105.59918737, 107.28668189]), 'test_precision': array([0., 0., 0.]), 'test_recall': array([0., 0., 0.]), 'test_f1': array([0., 0., 0.])}\n"
     ]
    },
    {
     "name": "stderr",
     "output_type": "stream",
     "text": [
      "C:\\Users\\pooja\\Anaconda3\\lib\\site-packages\\sklearn\\metrics\\classification.py:1135: UndefinedMetricWarning: F-score is ill-defined and being set to 0.0 due to no predicted samples.\n",
      "  'precision', 'predicted', average, warn_for)\n"
     ]
    }
   ],
   "source": [
    "print(\"\\n Bush : SVC \")\n",
    "svc = SVC(C = 0.001 , kernel = 'poly', coef0= 2.0  ,gamma= 'auto')\n",
    "stratified_cv_results_bushSVC_gamma323127868 = cross_validate(svc,X,y_bush,cv=StratifiedKFold(n_splits=3,shuffle = True, random_state=6099),\n",
    "                                      scoring = ('precision','recall','f1'),return_train_score= False)\n",
    "print(\"\\n BUSH SVC with C = 0.001 , kernel = 'poly', coef0= 2.0  ,gamma= 'auto' )\",stratified_cv_results_bushSVC_gamma323127868)\n"
   ]
  },
  {
   "cell_type": "code",
   "execution_count": 81,
   "metadata": {},
   "outputs": [
    {
     "name": "stdout",
     "output_type": "stream",
     "text": [
      "\n",
      " Bush : SVC \n",
      "\n",
      " BUSH SVC with C = 4.0 , kernel = 'poly', coef0= 5.0  ,degree = 10 , gamma=1/(X.shape[1]*X.std()) ) {'fit_time': array([151.02659416, 155.3023119 , 148.91251755]), 'score_time': array([203.02347279, 184.64563823, 187.75553441]), 'test_precision': array([0.7398374 , 0.76744186, 0.75961538]), 'test_recall': array([0.51412429, 0.55932203, 0.44886364]), 'test_f1': array([0.60666667, 0.64705882, 0.56428571])}\n"
     ]
    }
   ],
   "source": [
    "print(\"\\n Bush : SVC \")\n",
    "svc = SVC(C = 4.0 , kernel = 'poly', coef0= 5.0  ,degree = 10 , gamma=1/(X.shape[1]*X.std()) )\n",
    "stratified_cv_results_bushSVC_gamma32 = cross_validate(svc,X,y_bush,cv=StratifiedKFold(n_splits=3,shuffle = True, random_state=6099),\n",
    "                                      scoring = ('precision','recall','f1'),return_train_score= False)\n",
    "print(\"\\n BUSH SVC with C = 4.0 , kernel = 'poly', coef0= 5.0  ,degree = 10 , gamma=1/(X.shape[1]*X.std()) )\",stratified_cv_results_bushSVC_gamma32)\n"
   ]
  },
  {
   "cell_type": "code",
   "execution_count": 89,
   "metadata": {},
   "outputs": [
    {
     "name": "stdout",
     "output_type": "stream",
     "text": [
      "\n",
      " Bush : SVC \n",
      "\n",
      " BUSH SVC with C = 1000000.0 , kernel = 'poly', coef0= 5.0  ,degree = 10 , gamma=1/(X.shape[1]*X.std()) ) {'fit_time': array([141.22076011, 140.10095072, 150.51217675]), 'score_time': array([194.65442944, 190.67964292, 201.01421809]), 'test_precision': array([0.7398374 , 0.76744186, 0.75961538]), 'test_recall': array([0.51412429, 0.55932203, 0.44886364]), 'test_f1': array([0.60666667, 0.64705882, 0.56428571])}\n"
     ]
    }
   ],
   "source": [
    "print(\"\\n Bush : SVC \")\n",
    "svc = SVC(C = 1000000.0 , kernel = 'poly', coef0= 5.0  ,degree = 10 , gamma=1/(X.shape[1]*X.std()) )\n",
    "stratified_cv_results_bushSVC_gamma329090909 = cross_validate(svc,X,y_bush,cv=StratifiedKFold(n_splits=3,shuffle = True, random_state=6099),\n",
    "                                      scoring = ('precision','recall','f1'),return_train_score= False)\n",
    "    print(\"\\n BUSH SVC with C = 1000000.0 , kernel = 'poly', coef0= 5.0  ,degree = 10 , gamma=1/(X.shape[1]*X.std()) )\",stratified_cv_results_bushSVC_gamma329090909)\n"
   ]
  },
  {
   "cell_type": "markdown",
   "metadata": {},
   "source": [
    "# PCA SVC Bush"
   ]
  },
  {
   "cell_type": "code",
   "execution_count": null,
   "metadata": {},
   "outputs": [],
   "source": [
    "import statistics"
   ]
  },
  {
   "cell_type": "code",
   "execution_count": 44,
   "metadata": {},
   "outputs": [
    {
     "name": "stdout",
     "output_type": "stream",
     "text": [
      "Bush PCA: SVC\n",
      "\n",
      " Bush : \n",
      " PCA :   {'fit_time': array([19.06323934, 19.72834229, 20.27562881]), 'score_time': array([1.5589869 , 1.38927531, 1.94895363]), 'test_precision': array([0.16260163, 0.16872428, 0.15073529]), 'test_recall': array([0.2259887 , 0.23163842, 0.23295455]), 'test_f1': array([0.1891253 , 0.1952381 , 0.18303571])}\n",
      "0.18913303501069456\n"
     ]
    }
   ],
   "source": [
    " \n",
    "print(\"Bush PCA: SVC\")\n",
    "pca = PCA(n_components= 55, copy=False, whiten=True, svd_solver='arpack',  tol = 10.0 )\n",
    "X_pca = pca.fit_transform(X)\n",
    "svc = SVC(C = 4.0 , kernel = 'poly', coef0= 5.0  ,degree = 10 , gamma=1/(X.shape[1]*X.std()) )\n",
    "\n",
    "stratified_cv_results_svc1_bushpca = cross_validate(svc,X_pca,y_bush,cv=StratifiedKFold(n_splits=3,shuffle = True, random_state=6099),\n",
    "                                      scoring = ('precision','recall','f1'),return_train_score= False)\n",
    "print(\"\\n Bush : \\n PCA :  \",stratified_cv_results_svc1_bushpca)\n",
    "print(statistics.mean(stratified_cv_results_svc1_bushpca['test_f1']))\n"
   ]
  },
  {
   "cell_type": "code",
   "execution_count": 45,
   "metadata": {},
   "outputs": [
    {
     "name": "stdout",
     "output_type": "stream",
     "text": [
      "Bush PCA: SVC\n",
      "\n",
      " Bush : \n",
      " PCA :   {'fit_time': array([11.0006361 , 11.33427644, 10.35021996]), 'score_time': array([2.19874597, 2.26337218, 2.20045948]), 'test_precision': array([0.21938776, 0.20772947, 0.22115385]), 'test_recall': array([0.24293785, 0.24293785, 0.26136364]), 'test_f1': array([0.230563  , 0.22395833, 0.23958333])}\n",
      "\n",
      " 0.23136822311587726\n"
     ]
    }
   ],
   "source": [
    " \n",
    "print(\"Bush PCA: SVC\")\n",
    "pca = PCA(n_components= 55 )\n",
    "X_pca = pca.fit_transform(X)\n",
    "svc = SVC(C = 4.0 , kernel = 'poly', coef0= 5.0  ,degree = 10 , gamma=1/(X.shape[1]*X.std()) )\n",
    "\n",
    "stratified_cv_results_svc1_bushpca1 = cross_validate(svc,X_pca,y_bush,cv=StratifiedKFold(n_splits=3,shuffle = True, random_state=6099),\n",
    "                                      scoring = ('precision','recall','f1'),return_train_score= False)\n",
    "print(\"\\n Bush : \\n PCA :  \",stratified_cv_results_svc1_bushpca1)\n",
    "print(\"\\n\",statistics.mean(stratified_cv_results_svc1_bushpca1['test_f1']))\n"
   ]
  },
  {
   "cell_type": "code",
   "execution_count": 46,
   "metadata": {},
   "outputs": [
    {
     "name": "stdout",
     "output_type": "stream",
     "text": [
      "Bush PCA: SVC\n",
      "\n",
      " Bush : \n",
      " PCA :   {'fit_time': array([18.34148002, 17.67892814, 16.87238622]), 'score_time': array([20.05304599, 20.72491646, 22.35653543]), 'test_precision': array([0.61832061, 0.63815789, 0.59821429]), 'test_recall': array([0.45762712, 0.5480226 , 0.38068182]), 'test_f1': array([0.52597403, 0.58966565, 0.46527778])}\n",
      "\n",
      " 0.5269724857490814\n"
     ]
    }
   ],
   "source": [
    " \n",
    "print(\"Bush PCA: SVC\")\n",
    "pca = PCA(n_components= 0.95 )\n",
    "X_pca = pca.fit_transform(X)\n",
    "svc = SVC(C = 4.0 , kernel = 'poly', coef0= 5.0  ,degree = 10 , gamma=1/(X.shape[1]*X.std()) )\n",
    "\n",
    "stratified_cv_results_svc1_bushpca2 = cross_validate(svc,X_pca,y_bush,cv=StratifiedKFold(n_splits=3,shuffle = True, random_state=6099),\n",
    "                                      scoring = ('precision','recall','f1'),return_train_score= False)\n",
    "print(\"\\n Bush : \\n PCA :  \",stratified_cv_results_svc1_bushpca2)\n",
    "print(\"\\n\",statistics.mean(stratified_cv_results_svc1_bushpca2['test_f1']))\n"
   ]
  },
  {
   "cell_type": "code",
   "execution_count": 48,
   "metadata": {},
   "outputs": [
    {
     "name": "stdout",
     "output_type": "stream",
     "text": [
      "Bush PCA: SVC\n",
      "# com :  511\n",
      "\n",
      " Bush : \n",
      " PCA :   {'fit_time': array([26.80921268, 23.11602187, 23.73858595]), 'score_time': array([10.52036738, 10.55387282, 11.00734949]), 'test_precision': array([0.4673913 , 0.49756098, 0.4875    ]), 'test_recall': array([0.48587571, 0.57627119, 0.44318182]), 'test_f1': array([0.47645429, 0.53403141, 0.46428571])}\n",
      "\n",
      " 0.4915904738423629\n"
     ]
    }
   ],
   "source": [
    " \n",
    "print(\"Bush PCA: SVC\")\n",
    "pca = PCA(n_components= 0.95 )\n",
    "X_pca = pca.fit_transform(X)\n",
    "svc = SVC(C = 1.0 , kernel = 'linear')\n",
    "print(\"# com : \" , pca.n_components_)\n",
    "stratified_cv_results_svc1_bushpca3 = cross_validate(svc,X_pca,y_bush,cv=StratifiedKFold(n_splits=3,shuffle = True, random_state=6099),\n",
    "                                      scoring = ('precision','recall','f1'),return_train_score= False)\n",
    "print(\"\\n Bush : \\n PCA :  \",stratified_cv_results_svc1_bushpca3)\n",
    "print(\"\\n\",statistics.mean(stratified_cv_results_svc1_bushpca3['test_f1']))\n"
   ]
  },
  {
   "cell_type": "code",
   "execution_count": 49,
   "metadata": {},
   "outputs": [
    {
     "name": "stdout",
     "output_type": "stream",
     "text": [
      "Bush PCA: SVC\n",
      "\n",
      " Bush : \n",
      " PCA :   {'fit_time': array([8.95618653, 9.3979423 , 8.83114481]), 'score_time': array([2.8410933 , 2.89677286, 2.80904388]), 'test_precision': array([0.24277457, 0.1920904 , 0.2320442 ]), 'test_recall': array([0.23728814, 0.1920904 , 0.23863636]), 'test_f1': array([0.24      , 0.1920904 , 0.23529412])}\n",
      "\n",
      " 0.2224615043757616\n"
     ]
    }
   ],
   "source": [
    " \n",
    "print(\"Bush PCA: SVC\")\n",
    "pca = PCA(n_components= 70 )\n",
    "X_pca = pca.fit_transform(X)\n",
    "svc = SVC(C = 4.0 , kernel = 'poly', coef0= 5.0  ,degree = 10 , gamma=1/(X.shape[1]*X.std()) )\n",
    "\n",
    "stratified_cv_results_svc1_bushpca4 = cross_validate(svc,X_pca,y_bush,cv=StratifiedKFold(n_splits=3,shuffle = True, random_state=6099),\n",
    "                                      scoring = ('precision','recall','f1'),return_train_score= False)\n",
    "print(\"\\n Bush : \\n PCA :  \",stratified_cv_results_svc1_bushpca4)\n",
    "print(\"\\n\",statistics.mean(stratified_cv_results_svc1_bushpca4['test_f1']))\n"
   ]
  },
  {
   "cell_type": "code",
   "execution_count": 50,
   "metadata": {},
   "outputs": [
    {
     "name": "stdout",
     "output_type": "stream",
     "text": [
      "Bush PCA: SVC\n",
      "\n",
      " Bush : \n",
      " PCA :   {'fit_time': array([22.43617797, 22.72069383, 22.2647779 ]), 'score_time': array([27.51278424, 27.71364832, 25.61886811]), 'test_precision': array([0.66165414, 0.7       , 0.66037736]), 'test_recall': array([0.49717514, 0.55367232, 0.39772727]), 'test_f1': array([0.56774194, 0.61829653, 0.4964539 ])}\n",
      "\n",
      " 0.5608307887205151\n"
     ]
    }
   ],
   "source": [
    " \n",
    "print(\"Bush PCA: SVC\")\n",
    "pca = PCA(n_components= 600 )\n",
    "X_pca = pca.fit_transform(X)\n",
    "svc = SVC(C = 4.0 , kernel = 'poly', coef0= 5.0  ,degree = 10 , gamma=1/(X.shape[1]*X.std()) )\n",
    "\n",
    "stratified_cv_results_svc1_bushpca5 = cross_validate(svc,X_pca,y_bush,cv=StratifiedKFold(n_splits=3,shuffle = True, random_state=6099),\n",
    "                                      scoring = ('precision','recall','f1'),return_train_score= False)\n",
    "print(\"\\n Bush : \\n PCA :  \",stratified_cv_results_svc1_bushpca5)\n",
    "print(\"\\n\",statistics.mean(stratified_cv_results_svc1_bushpca5['test_f1']))\n"
   ]
  },
  {
   "cell_type": "code",
   "execution_count": 53,
   "metadata": {},
   "outputs": [
    {
     "name": "stdout",
     "output_type": "stream",
     "text": [
      "Bush PCA: SVC\n",
      "\n",
      " Bush : \n",
      " PCA :   {'fit_time': array([15.22982287, 31.59613347, 31.84368706]), 'score_time': array([39.58943176, 40.45185113, 39.64900589]), 'test_precision': array([0.70229008, 0.76335878, 0.7184466 ]), 'test_recall': array([0.51977401, 0.56497175, 0.42045455]), 'test_f1': array([0.5974026 , 0.64935065, 0.53046595])}\n",
      "\n",
      " 0.5924063988580117\n"
     ]
    }
   ],
   "source": [
    " \n",
    "print(\"Bush PCA: SVC\")\n",
    "pca = PCA(n_components= 0.97 )\n",
    "X_pca = pca.fit_transform(X)\n",
    "svc = SVC(C = 4.0 , kernel = 'poly', coef0= 5.0  ,degree = 10 , gamma=1/(X.shape[1]*X.std()) )\n",
    "\n",
    "stratified_cv_results_svc1_bushpca6 = cross_validate(svc,X_pca,y_bush,cv=StratifiedKFold(n_splits=3,shuffle = True, random_state=6099),\n",
    "                                      scoring = ('precision','recall','f1'),return_train_score= False)\n",
    "print(\"\\n Bush : \\n PCA :  \",stratified_cv_results_svc1_bushpca6)\n",
    "print(\"\\n\",statistics.mean(stratified_cv_results_svc1_bushpca6['test_f1']))\n"
   ]
  },
  {
   "cell_type": "code",
   "execution_count": 54,
   "metadata": {},
   "outputs": [
    {
     "name": "stdout",
     "output_type": "stream",
     "text": [
      "Bush PCA: SVC\n",
      "\n",
      " Bush : \n",
      " PCA :   {'fit_time': array([26.19158173, 24.61372924, 25.64343739]), 'score_time': array([33.03244114, 31.31197906, 21.83433747]), 'test_precision': array([0.66911765, 0.66176471, 0.67592593]), 'test_recall': array([0.51412429, 0.50847458, 0.41477273]), 'test_f1': array([0.58146965, 0.57507987, 0.51408451])}\n",
      "\n",
      " 0.5568780092696756\n"
     ]
    }
   ],
   "source": [
    " \n",
    "print(\"Bush PCA: SVC\")\n",
    "pca = PCA(n_components= 700 )\n",
    "X_pca = pca.fit_transform(X)\n",
    "svc = SVC(C = 4.0 , kernel = 'poly', coef0= 5.0  ,degree = 10 , gamma=1/(X.shape[1]*X.std()) )\n",
    "\n",
    "stratified_cv_results_svc1_bushpca7 = cross_validate(svc,X_pca,y_bush,cv=StratifiedKFold(n_splits=3,shuffle = True, random_state=6099),\n",
    "                                      scoring = ('precision','recall','f1'),return_train_score= False)\n",
    "print(\"\\n Bush : \\n PCA :  \",stratified_cv_results_svc1_bushpca7)\n",
    "print(\"\\n\",statistics.mean(stratified_cv_results_svc1_bushpca7['test_f1']))\n"
   ]
  },
  {
   "cell_type": "code",
   "execution_count": 77,
   "metadata": {},
   "outputs": [
    {
     "name": "stdout",
     "output_type": "stream",
     "text": [
      "Bush PCA: SVC\n",
      " com :  1752\n",
      "\n",
      " Bush : \n",
      " PCA :   {'fit_time': array([66.34307003, 56.30782652, 60.63654065]), 'score_time': array([76.41447973, 76.15202236, 81.6547122 ]), 'test_precision': array([0.77777778, 0.776     , 0.78571429]), 'test_recall': array([0.51412429, 0.5480226 , 0.4375    ]), 'test_f1': array([0.61904762, 0.64238411, 0.5620438 ])}\n",
      "\n",
      " 0.607825173542774\n"
     ]
    }
   ],
   "source": [
    " \n",
    "print(\"Bush PCA: SVC\")\n",
    "pca = PCA(n_components= 0.99 )\n",
    "X_pca = pca.fit_transform(X)\n",
    "svc = SVC(C = 4.0 , kernel = 'poly', coef0= 5.0  ,degree = 10 , gamma=1/(X.shape[1]*X.std()) )\n",
    "print(\" com : \",pca.n_components_)\n",
    "stratified_cv_results_svc1_bushpca8 = cross_validate(svc,X_pca,y_bush,cv=StratifiedKFold(n_splits=3,shuffle = True, random_state=6099),\n",
    "                                      scoring = ('precision','recall','f1'),return_train_score= False)\n",
    "print(\"\\n Bush : \\n PCA :  \",stratified_cv_results_svc1_bushpca8)\n",
    "print(\"\\n\",statistics.mean(stratified_cv_results_svc1_bushpca8['test_f1']))\n"
   ]
  },
  {
   "cell_type": "code",
   "execution_count": 92,
   "metadata": {},
   "outputs": [
    {
     "name": "stdout",
     "output_type": "stream",
     "text": [
      "Bush PCA: SVC\n",
      " com :  2999\n",
      "\n",
      " Bush : \n",
      " PCA :   {'fit_time': array([60.39427471, 56.51048732, 65.44829202]), 'score_time': array([80.51621699, 76.29367423, 82.28111696]), 'test_precision': array([0.8125    , 0.81196581, 0.79120879]), 'test_recall': array([0.51412429, 0.53672316, 0.40909091]), 'test_f1': array([0.62975779, 0.6462585 , 0.53932584])}\n",
      "\n",
      " 0.6051140438550393\n"
     ]
    }
   ],
   "source": [
    "#   2999 svc bush\n",
    "print(\"Bush PCA: SVC\")\n",
    "pca = PCA(n_components= 2999 )\n",
    "X_pca = pca.fit_transform(X)\n",
    "svc = SVC(C = 4.0 , kernel = 'poly', coef0= 5.0  ,degree = 10 , gamma=1/(X.shape[1]*X.std()) )\n",
    "print(\" com : \",pca.n_components_)\n",
    "stratified_cv_results_svc1_bushpca8mnj2999 = cross_validate(svc,X_pca,y_bush,cv=StratifiedKFold(n_splits=3,shuffle = True, random_state=6099),\n",
    "                                      scoring = ('precision','recall','f1'),return_train_score= False)\n",
    "print(\"\\n Bush : \\n PCA :  \",stratified_cv_results_svc1_bushpca8mnj2999)\n",
    "print(\"\\n\",statistics.mean(stratified_cv_results_svc1_bushpca8mnj2999['test_f1']))\n"
   ]
  },
  {
   "cell_type": "code",
   "execution_count": null,
   "metadata": {},
   "outputs": [],
   "source": []
  },
  {
   "cell_type": "code",
   "execution_count": 84,
   "metadata": {},
   "outputs": [
    {
     "name": "stdout",
     "output_type": "stream",
     "text": [
      "Bush PCA: SVC\n",
      " com :  3000\n",
      "\n",
      " Bush : \n",
      " PCA :   {'fit_time': array([124.02819109, 118.78779197, 104.09254909]), 'score_time': array([157.4706409 , 152.05199337, 146.1427176 ]), 'test_precision': array([0.81415929, 0.81196581, 0.8021978 ]), 'test_recall': array([0.51977401, 0.53672316, 0.41477273]), 'test_f1': array([0.63448276, 0.6462585 , 0.54681648])}\n",
      "\n",
      " 0.6091859138075998\n"
     ]
    }
   ],
   "source": [
    " \n",
    "print(\"Bush PCA: SVC\")\n",
    "pca = PCA(n_components= 3000 )\n",
    "X_pca = pca.fit_transform(X)\n",
    "svc = SVC(C = 4.0 , kernel = 'poly', coef0= 5.0  ,degree = 10 , gamma=1/(X.shape[1]*X.std()) )\n",
    "print(\" com : \",pca.n_components_)\n",
    "stratified_cv_results_svc1_bushpca8mnjkhk = cross_validate(svc,X_pca,y_bush,cv=StratifiedKFold(n_splits=3,shuffle = True, random_state=6099),\n",
    "                                      scoring = ('precision','recall','f1'),return_train_score= False)\n",
    "print(\"\\n Bush : \\n PCA :  \",stratified_cv_results_svc1_bushpca8mnjkhk)\n",
    "print(\"\\n\",statistics.mean(stratified_cv_results_svc1_bushpca8mnjkhk['test_f1']))\n"
   ]
  },
  {
   "cell_type": "code",
   "execution_count": 87,
   "metadata": {},
   "outputs": [
    {
     "name": "stdout",
     "output_type": "stream",
     "text": [
      "Bush PCA: SVC\n",
      " com :  3002\n",
      "\n",
      " Bush : \n",
      " PCA :   {'fit_time': array([ 98.17735362, 108.74016047, 114.31494856]), 'score_time': array([142.76919627, 155.62891197, 123.9686985 ]), 'test_precision': array([0.8125    , 0.81196581, 0.79569892]), 'test_recall': array([0.51412429, 0.53672316, 0.42045455]), 'test_f1': array([0.62975779, 0.6462585 , 0.55018587])}\n",
      "\n",
      " 0.6087340541581455\n"
     ]
    }
   ],
   "source": [
    " \n",
    "print(\"Bush PCA: SVC\")\n",
    "pca = PCA(n_components= 3002 )\n",
    "X_pca = pca.fit_transform(X)\n",
    "svc = SVC(C = 4.0 , kernel = 'poly', coef0= 5.0  ,degree = 10 , gamma=1/(X.shape[1]*X.std()) )\n",
    "print(\" com : \",pca.n_components_)\n",
    "stratified_cv_results_svc1_bushp3002 = cross_validate(svc,X_pca,y_bush,cv=StratifiedKFold(n_splits=3,shuffle = True, random_state=6099),\n",
    "                                      scoring = ('precision','recall','f1'),return_train_score= False)\n",
    "print(\"\\n Bush : \\n PCA :  \",stratified_cv_results_svc1_bushp3002)\n",
    "print(\"\\n\",statistics.mean(stratified_cv_results_svc1_bushp3002['test_f1']))\n"
   ]
  },
  {
   "cell_type": "code",
   "execution_count": 89,
   "metadata": {},
   "outputs": [
    {
     "name": "stdout",
     "output_type": "stream",
     "text": [
      "Bush PCA: SVC\n",
      " com :  3001\n",
      "\n",
      " Bush : \n",
      " PCA :   {'fit_time': array([55.91178608, 58.6404109 , 62.20014715]), 'score_time': array([83.55941463, 82.32488894, 83.42950702]), 'test_precision': array([0.8125    , 0.81196581, 0.8       ]), 'test_recall': array([0.51412429, 0.53672316, 0.40909091]), 'test_f1': array([0.62975779, 0.6462585 , 0.54135338])}\n",
      "\n",
      " 0.6057898907757118\n"
     ]
    }
   ],
   "source": [
    " \n",
    "print(\"Bush PCA: SVC\")\n",
    "pca = PCA(n_components= 3001 )\n",
    "X_pca = pca.fit_transform(X)\n",
    "svc = SVC(C = 4.0 , kernel = 'poly', coef0= 5.0  ,degree = 10 , gamma=1/(X.shape[1]*X.std()) )\n",
    "print(\" com : \",pca.n_components_)\n",
    "stratified_cv_results_svc1_bushp3001 = cross_validate(svc,X_pca,y_bush,cv=StratifiedKFold(n_splits=3,shuffle = True, random_state=6099),\n",
    "                                      scoring = ('precision','recall','f1'),return_train_score= False)\n",
    "print(\"\\n Bush : \\n PCA :  \",stratified_cv_results_svc1_bushp3001)\n",
    "print(\"\\n\",statistics.mean(stratified_cv_results_svc1_bushp3001['test_f1']))\n"
   ]
  },
  {
   "cell_type": "code",
   "execution_count": null,
   "metadata": {},
   "outputs": [],
   "source": []
  },
  {
   "cell_type": "code",
   "execution_count": 72,
   "metadata": {},
   "outputs": [
    {
     "name": "stdout",
     "output_type": "stream",
     "text": [
      "Bush PCA: SVC\n"
     ]
    },
    {
     "name": "stderr",
     "output_type": "stream",
     "text": [
      "C:\\Users\\pooja\\Anaconda3\\lib\\site-packages\\sklearn\\metrics\\classification.py:1135: UndefinedMetricWarning: Precision is ill-defined and being set to 0.0 due to no predicted samples.\n",
      "  'precision', 'predicted', average, warn_for)\n",
      "C:\\Users\\pooja\\Anaconda3\\lib\\site-packages\\sklearn\\metrics\\classification.py:1135: UndefinedMetricWarning: F-score is ill-defined and being set to 0.0 due to no predicted samples.\n",
      "  'precision', 'predicted', average, warn_for)\n",
      "C:\\Users\\pooja\\Anaconda3\\lib\\site-packages\\sklearn\\metrics\\classification.py:1135: UndefinedMetricWarning: Precision is ill-defined and being set to 0.0 due to no predicted samples.\n",
      "  'precision', 'predicted', average, warn_for)\n",
      "C:\\Users\\pooja\\Anaconda3\\lib\\site-packages\\sklearn\\metrics\\classification.py:1135: UndefinedMetricWarning: F-score is ill-defined and being set to 0.0 due to no predicted samples.\n",
      "  'precision', 'predicted', average, warn_for)\n"
     ]
    },
    {
     "name": "stdout",
     "output_type": "stream",
     "text": [
      "\n",
      " Bush : \n",
      " PCA :   {'fit_time': array([32.41531873, 38.54893589, 22.67925549]), 'score_time': array([0.10771203, 0.12167549, 0.1097064 ]), 'test_precision': array([0., 0., 0.]), 'test_recall': array([0., 0., 0.]), 'test_f1': array([0., 0., 0.])}\n",
      "\n",
      " 0.0\n"
     ]
    },
    {
     "name": "stderr",
     "output_type": "stream",
     "text": [
      "C:\\Users\\pooja\\Anaconda3\\lib\\site-packages\\sklearn\\metrics\\classification.py:1135: UndefinedMetricWarning: Precision is ill-defined and being set to 0.0 due to no predicted samples.\n",
      "  'precision', 'predicted', average, warn_for)\n",
      "C:\\Users\\pooja\\Anaconda3\\lib\\site-packages\\sklearn\\metrics\\classification.py:1135: UndefinedMetricWarning: F-score is ill-defined and being set to 0.0 due to no predicted samples.\n",
      "  'precision', 'predicted', average, warn_for)\n"
     ]
    }
   ],
   "source": [
    " \n",
    "print(\"Bush PCA: SVC\")\n",
    "pca = PCA(n_components= 4096 )\n",
    "X_pca = pca.fit_transform(X)\n",
    "svc = SVC(C = 4.0 , kernel = 'poly', coef0= 5.0  ,degree = 10 , gamma=1/(X.shape[1]*X.std()) )\n",
    "\n",
    "stratified_cv_results_svc1_bushpca104096 = cross_validate(svc,X_pca,y_bush,cv=StratifiedKFold(n_splits=3,shuffle = True, random_state=6099),\n",
    "                                      scoring = ('precision','recall','f1'),return_train_score= False)\n",
    "print(\"\\n Bush : \\n PCA :  \",stratified_cv_results_svc1_bushpca104096)\n",
    "print(\"\\n\",statistics.mean(stratified_cv_results_svc1_bushpca104096['test_f1']))\n"
   ]
  },
  {
   "cell_type": "code",
   "execution_count": 95,
   "metadata": {},
   "outputs": [
    {
     "name": "stdout",
     "output_type": "stream",
     "text": [
      "Bush PCA: SVC\n",
      "\n",
      " Bush : \n",
      " PCA :   {'fit_time': array([46.98973703, 47.06169653, 49.38908744]), 'score_time': array([47.89642119, 50.73688436, 52.23549461]), 'test_precision': array([0.61904762, 0.64880952, 0.61538462]), 'test_recall': array([0.58757062, 0.61581921, 0.5       ]), 'test_f1': array([0.60289855, 0.63188406, 0.55172414])}\n",
      "\n",
      " 0.5955022488755622\n"
     ]
    }
   ],
   "source": [
    " \n",
    "print(\"Bush PCA: SVC\")\n",
    "pca = PCA(n_components= 3000 )\n",
    "X_pca = pca.fit_transform(X)\n",
    "svc = SVC(C = 1.0 , kernel = 'linear' )\n",
    "\n",
    "stratified_cv_results_svc1_bushpca10lin = cross_validate(svc,X_pca,y_bush,cv=StratifiedKFold(n_splits=3,shuffle = True, random_state=6099),\n",
    "                                      scoring = ('precision','recall','f1'),return_train_score= False)\n",
    "print(\"\\n Bush : \\n PCA :  \",stratified_cv_results_svc1_bushpca10lin)\n",
    "print(\"\\n\",statistics.mean(stratified_cv_results_svc1_bushpca10lin['test_f1']))\n"
   ]
  },
  {
   "cell_type": "markdown",
   "metadata": {},
   "source": [
    "# pickle bush"
   ]
  },
  {
   "cell_type": "code",
   "execution_count": 87,
   "metadata": {},
   "outputs": [],
   "source": [
    "import pickle\n",
    "import statistics\n",
    "bush_list = []\n",
    "#numbers = stratified_cv_results_n1bush['test_f1'] \n",
    "mean_n1_bush = statistics.mean(stratified_cv_results_n1bush['test_f1'])\n",
    "mean_n3_bush = statistics.mean(stratified_cv_results_n3bush['test_f1'])\n",
    "mean_n5_bush = statistics.mean(stratified_cv_results_n5bush['test_f1'])\n",
    "mean_svc_bush = statistics.mean(stratified_cv_results_bushSVC_gamma32['test_f1'])\n",
    "\n",
    "bush_list.append(mean_n1_bush)\n",
    "bush_list.append(mean_n3_bush)\n",
    "bush_list.append(mean_n5_bush)\n",
    "bush_list.append(mean_svc_bush)\n",
    "\n",
    "pickle.dump((bush_list), open('bush.pickle', 'wb'))"
   ]
  },
  {
   "cell_type": "markdown",
   "metadata": {},
   "source": [
    "# PCA pickle bush"
   ]
  },
  {
   "cell_type": "code",
   "execution_count": 96,
   "metadata": {},
   "outputs": [],
   "source": [
    "import pickle\n",
    "import statistics\n",
    "bush_list_pca = []\n",
    "mean_knn_bush = statistics.mean(stratified_cv_results_n1bush45125534343434['test_f1'])\n",
    "mean_svc_bush = statistics.mean(stratified_cv_results_svc1_bushpca8mnjkhk['test_f1'])\n",
    "bush_list_pca.append(mean_knn_bush)\n",
    "bush_list_pca.append(mean_svc_bush)\n",
    "pickle.dump((bush_list_pca), open('bush.pickle', 'wb'))"
   ]
  },
  {
   "cell_type": "code",
   "execution_count": null,
   "metadata": {},
   "outputs": [],
   "source": []
  },
  {
   "cell_type": "code",
   "execution_count": null,
   "metadata": {},
   "outputs": [],
   "source": []
  },
  {
   "cell_type": "markdown",
   "metadata": {},
   "source": [
    "# WILLIAMS"
   ]
  },
  {
   "cell_type": "markdown",
   "metadata": {},
   "source": [
    "# 5 Neighbors"
   ]
  },
  {
   "cell_type": "code",
   "execution_count": 7,
   "metadata": {},
   "outputs": [
    {
     "name": "stdout",
     "output_type": "stream",
     "text": [
      "Williams : KNN for 5 neighbors\n"
     ]
    },
    {
     "name": "stderr",
     "output_type": "stream",
     "text": [
      "C:\\Users\\pooja\\Anaconda3\\lib\\site-packages\\sklearn\\metrics\\classification.py:1135: UndefinedMetricWarning: Precision is ill-defined and being set to 0.0 due to no predicted samples.\n",
      "  'precision', 'predicted', average, warn_for)\n",
      "C:\\Users\\pooja\\Anaconda3\\lib\\site-packages\\sklearn\\metrics\\classification.py:1135: UndefinedMetricWarning: F-score is ill-defined and being set to 0.0 due to no predicted samples.\n",
      "  'precision', 'predicted', average, warn_for)\n",
      "C:\\Users\\pooja\\Anaconda3\\lib\\site-packages\\sklearn\\metrics\\classification.py:1135: UndefinedMetricWarning: Precision is ill-defined and being set to 0.0 due to no predicted samples.\n",
      "  'precision', 'predicted', average, warn_for)\n",
      "C:\\Users\\pooja\\Anaconda3\\lib\\site-packages\\sklearn\\metrics\\classification.py:1135: UndefinedMetricWarning: F-score is ill-defined and being set to 0.0 due to no predicted samples.\n",
      "  'precision', 'predicted', average, warn_for)\n",
      "C:\\Users\\pooja\\Anaconda3\\lib\\site-packages\\sklearn\\metrics\\classification.py:1135: UndefinedMetricWarning: Precision is ill-defined and being set to 0.0 due to no predicted samples.\n",
      "  'precision', 'predicted', average, warn_for)\n"
     ]
    },
    {
     "name": "stdout",
     "output_type": "stream",
     "text": [
      "\n",
      "  {'fit_time': array([12.9892602 , 11.68674159,  8.6438818 ]), 'score_time': array([400.23019481, 416.38794041, 391.77072787]), 'test_precision': array([0., 0., 0.]), 'test_recall': array([0., 0., 0.]), 'test_f1': array([0., 0., 0.])}\n"
     ]
    },
    {
     "name": "stderr",
     "output_type": "stream",
     "text": [
      "C:\\Users\\pooja\\Anaconda3\\lib\\site-packages\\sklearn\\metrics\\classification.py:1135: UndefinedMetricWarning: F-score is ill-defined and being set to 0.0 due to no predicted samples.\n",
      "  'precision', 'predicted', average, warn_for)\n"
     ]
    }
   ],
   "source": [
    "# WILLIAMS\n",
    "\n",
    "# Default 5 neighbors\n",
    "print(\"Williams : KNN for 5 neighbors\")\n",
    "knn = KNeighborsClassifier(n_neighbors = 5, n_jobs = -1)\n",
    "stratified_cv_results_n5 = cross_validate(knn,X,y_williams,cv=StratifiedKFold(n_splits=3,shuffle = True, random_state=6099),\n",
    "                                      scoring = ('precision','recall','f1'),return_train_score= False)\n",
    "print(\"\\n \",stratified_cv_results_n5)\n"
   ]
  },
  {
   "cell_type": "markdown",
   "metadata": {},
   "source": [
    "# 1 Neighbor"
   ]
  },
  {
   "cell_type": "code",
   "execution_count": 8,
   "metadata": {},
   "outputs": [
    {
     "name": "stdout",
     "output_type": "stream",
     "text": [
      "\n",
      " Williams : KNN for 1 neighbors\n",
      "\n",
      "  {'fit_time': array([10.11867356, 10.63974762,  9.55846453]), 'score_time': array([390.4468646 , 391.8257494 , 457.16243863]), 'test_precision': array([0.42857143, 0.25      , 1.        ]), 'test_recall': array([0.16666667, 0.05882353, 0.17647059]), 'test_f1': array([0.24     , 0.0952381, 0.3      ])}\n"
     ]
    }
   ],
   "source": [
    "#  1 neighbors\n",
    "import time\n",
    "start_time = time.time()\n",
    "print(\"start time : \",start_time)\n",
    "main()\n",
    "\n",
    "print(\"\\n Williams : KNN for 1 neighbors\")\n",
    "knn = KNeighborsClassifier(n_neighbors = 1, n_jobs = -1)\n",
    "\n",
    "stratified_cv_results_n1 = cross_validate(knn,X,y_williams,cv=StratifiedKFold(n_splits=3,shuffle = True, random_state=6099),\n",
    "                                      scoring = ('precision','recall','f1'),return_train_score= False)\n",
    "print(\"\\n \",stratified_cv_results_n1)\n",
    "\n",
    "\n",
    "print(\"--- %s seconds ---\" % (time.time() - start_time))\n"
   ]
  },
  {
   "cell_type": "markdown",
   "metadata": {},
   "source": [
    "# 3 Neighbors"
   ]
  },
  {
   "cell_type": "code",
   "execution_count": 9,
   "metadata": {},
   "outputs": [
    {
     "name": "stdout",
     "output_type": "stream",
     "text": [
      "\n",
      " Williams : KNN for 3 neighbors\n"
     ]
    },
    {
     "name": "stderr",
     "output_type": "stream",
     "text": [
      "C:\\Users\\pooja\\Anaconda3\\lib\\site-packages\\sklearn\\metrics\\classification.py:1135: UndefinedMetricWarning: Precision is ill-defined and being set to 0.0 due to no predicted samples.\n",
      "  'precision', 'predicted', average, warn_for)\n",
      "C:\\Users\\pooja\\Anaconda3\\lib\\site-packages\\sklearn\\metrics\\classification.py:1135: UndefinedMetricWarning: F-score is ill-defined and being set to 0.0 due to no predicted samples.\n",
      "  'precision', 'predicted', average, warn_for)\n",
      "C:\\Users\\pooja\\Anaconda3\\lib\\site-packages\\sklearn\\metrics\\classification.py:1135: UndefinedMetricWarning: Precision is ill-defined and being set to 0.0 due to no predicted samples.\n",
      "  'precision', 'predicted', average, warn_for)\n",
      "C:\\Users\\pooja\\Anaconda3\\lib\\site-packages\\sklearn\\metrics\\classification.py:1135: UndefinedMetricWarning: F-score is ill-defined and being set to 0.0 due to no predicted samples.\n",
      "  'precision', 'predicted', average, warn_for)\n",
      "C:\\Users\\pooja\\Anaconda3\\lib\\site-packages\\sklearn\\metrics\\classification.py:1135: UndefinedMetricWarning: Precision is ill-defined and being set to 0.0 due to no predicted samples.\n",
      "  'precision', 'predicted', average, warn_for)\n"
     ]
    },
    {
     "name": "stdout",
     "output_type": "stream",
     "text": [
      "\n",
      "  {'fit_time': array([10.88711643, 11.21104455, 10.48717833]), 'score_time': array([476.59465718, 447.51353049, 458.31128144]), 'test_precision': array([0., 0., 0.]), 'test_recall': array([0., 0., 0.]), 'test_f1': array([0., 0., 0.])}\n"
     ]
    },
    {
     "name": "stderr",
     "output_type": "stream",
     "text": [
      "C:\\Users\\pooja\\Anaconda3\\lib\\site-packages\\sklearn\\metrics\\classification.py:1135: UndefinedMetricWarning: F-score is ill-defined and being set to 0.0 due to no predicted samples.\n",
      "  'precision', 'predicted', average, warn_for)\n"
     ]
    }
   ],
   "source": [
    "# 3 neighbors\n",
    "print(\"\\n Williams : KNN for 3 neighbors\")\n",
    "knn = KNeighborsClassifier(n_neighbors = 3, n_jobs = -1)\n",
    "\n",
    "stratified_cv_results_n3 = cross_validate(knn,X,y_williams,cv=StratifiedKFold(n_splits=3,shuffle = True, random_state=6099),\n",
    "                                      scoring = ('precision','recall','f1'),return_train_score= False)\n",
    "print(\"\\n \",stratified_cv_results_n3)"
   ]
  },
  {
   "cell_type": "markdown",
   "metadata": {},
   "source": [
    "# Williams SVC"
   ]
  },
  {
   "cell_type": "code",
   "execution_count": 47,
   "metadata": {},
   "outputs": [
    {
     "name": "stdout",
     "output_type": "stream",
     "text": [
      "\n",
      " Williams : SVC \n",
      "\n",
      " Williams with C=1.0, kernel='linear'  {'fit_time': array([20.27377844, 18.7149477 , 20.57497048]), 'score_time': array([20.9429853 , 20.2867372 , 20.48222017]), 'test_precision': array([0.85714286, 0.85714286, 0.64285714]), 'test_recall': array([0.33333333, 0.35294118, 0.52941176]), 'test_f1': array([0.48      , 0.5       , 0.58064516])}\n"
     ]
    }
   ],
   "source": [
    "\n",
    "print(\"\\n Williams : SVC \")\n",
    "svc = SVC(C=1.0, kernel='linear')\n",
    "stratified_cv_results_williamsSVC = cross_validate(svc,X,y_williams,cv=StratifiedKFold(n_splits=3,shuffle = True, random_state=6099),\n",
    "                                      scoring = ('precision','recall','f1'),return_train_score= False)\n",
    "print(\"\\n Williams with C=1.0, kernel='linear' \",stratified_cv_results_williamsSVC)\n",
    "# svc = SVC(gamma=1/(X.shape[1]*X.std()))\n"
   ]
  },
  {
   "cell_type": "code",
   "execution_count": 48,
   "metadata": {},
   "outputs": [
    {
     "name": "stdout",
     "output_type": "stream",
     "text": [
      "\n",
      " Williams : SVC \n"
     ]
    },
    {
     "name": "stderr",
     "output_type": "stream",
     "text": [
      "C:\\Users\\pooja\\Anaconda3\\lib\\site-packages\\sklearn\\metrics\\classification.py:1135: UndefinedMetricWarning: Precision is ill-defined and being set to 0.0 due to no predicted samples.\n",
      "  'precision', 'predicted', average, warn_for)\n",
      "C:\\Users\\pooja\\Anaconda3\\lib\\site-packages\\sklearn\\metrics\\classification.py:1135: UndefinedMetricWarning: F-score is ill-defined and being set to 0.0 due to no predicted samples.\n",
      "  'precision', 'predicted', average, warn_for)\n",
      "C:\\Users\\pooja\\Anaconda3\\lib\\site-packages\\sklearn\\metrics\\classification.py:1135: UndefinedMetricWarning: Precision is ill-defined and being set to 0.0 due to no predicted samples.\n",
      "  'precision', 'predicted', average, warn_for)\n",
      "C:\\Users\\pooja\\Anaconda3\\lib\\site-packages\\sklearn\\metrics\\classification.py:1135: UndefinedMetricWarning: F-score is ill-defined and being set to 0.0 due to no predicted samples.\n",
      "  'precision', 'predicted', average, warn_for)\n",
      "C:\\Users\\pooja\\Anaconda3\\lib\\site-packages\\sklearn\\metrics\\classification.py:1135: UndefinedMetricWarning: Precision is ill-defined and being set to 0.0 due to no predicted samples.\n",
      "  'precision', 'predicted', average, warn_for)\n"
     ]
    },
    {
     "name": "stdout",
     "output_type": "stream",
     "text": [
      "\n",
      " Williams SVC with C=1.0 , kernel = 'poly',degree = 3 {'fit_time': array([16.04209399, 15.29609108, 16.0271287 ]), 'score_time': array([16.2226119 , 17.70863485, 17.91308928]), 'test_precision': array([0., 0., 0.]), 'test_recall': array([0., 0., 0.]), 'test_f1': array([0., 0., 0.])}\n"
     ]
    },
    {
     "name": "stderr",
     "output_type": "stream",
     "text": [
      "C:\\Users\\pooja\\Anaconda3\\lib\\site-packages\\sklearn\\metrics\\classification.py:1135: UndefinedMetricWarning: F-score is ill-defined and being set to 0.0 due to no predicted samples.\n",
      "  'precision', 'predicted', average, warn_for)\n"
     ]
    }
   ],
   "source": [
    "\n",
    "print(\"\\n Williams : SVC \")\n",
    "svc = SVC(C=1.0 , kernel = 'poly',degree = 3)\n",
    "stratified_cv_results_williamsSVC1 = cross_validate(svc,X,y_williams,cv=StratifiedKFold(n_splits=3,shuffle = True, random_state=6099),\n",
    "                                      scoring = ('precision','recall','f1'),return_train_score= False)\n",
    "print(\"\\n Williams SVC with C=1.0 , kernel = 'poly',degree = 3\",stratified_cv_results_williamsSVC1)\n",
    "# svc = SVC(gamma=1/(X.shape[1]*X.std()))"
   ]
  },
  {
   "cell_type": "code",
   "execution_count": 49,
   "metadata": {},
   "outputs": [
    {
     "name": "stdout",
     "output_type": "stream",
     "text": [
      "\n",
      " Williams : SVC \n"
     ]
    },
    {
     "name": "stderr",
     "output_type": "stream",
     "text": [
      "C:\\Users\\pooja\\Anaconda3\\lib\\site-packages\\sklearn\\metrics\\classification.py:1135: UndefinedMetricWarning: Precision is ill-defined and being set to 0.0 due to no predicted samples.\n",
      "  'precision', 'predicted', average, warn_for)\n",
      "C:\\Users\\pooja\\Anaconda3\\lib\\site-packages\\sklearn\\metrics\\classification.py:1135: UndefinedMetricWarning: F-score is ill-defined and being set to 0.0 due to no predicted samples.\n",
      "  'precision', 'predicted', average, warn_for)\n",
      "C:\\Users\\pooja\\Anaconda3\\lib\\site-packages\\sklearn\\metrics\\classification.py:1135: UndefinedMetricWarning: Precision is ill-defined and being set to 0.0 due to no predicted samples.\n",
      "  'precision', 'predicted', average, warn_for)\n",
      "C:\\Users\\pooja\\Anaconda3\\lib\\site-packages\\sklearn\\metrics\\classification.py:1135: UndefinedMetricWarning: F-score is ill-defined and being set to 0.0 due to no predicted samples.\n",
      "  'precision', 'predicted', average, warn_for)\n",
      "C:\\Users\\pooja\\Anaconda3\\lib\\site-packages\\sklearn\\metrics\\classification.py:1135: UndefinedMetricWarning: Precision is ill-defined and being set to 0.0 due to no predicted samples.\n",
      "  'precision', 'predicted', average, warn_for)\n"
     ]
    },
    {
     "name": "stdout",
     "output_type": "stream",
     "text": [
      "\n",
      " Williams SVC with C = 1.0 , gamma=1/(X.shape[1]*X.std()) {'fit_time': array([19.02511692, 17.68821692, 17.82757449]), 'score_time': array([23.48917651, 21.70494986, 21.56805873]), 'test_precision': array([0., 0., 0.]), 'test_recall': array([0., 0., 0.]), 'test_f1': array([0., 0., 0.])}\n"
     ]
    },
    {
     "name": "stderr",
     "output_type": "stream",
     "text": [
      "C:\\Users\\pooja\\Anaconda3\\lib\\site-packages\\sklearn\\metrics\\classification.py:1135: UndefinedMetricWarning: F-score is ill-defined and being set to 0.0 due to no predicted samples.\n",
      "  'precision', 'predicted', average, warn_for)\n"
     ]
    }
   ],
   "source": [
    "# delete above when done this\n",
    "\n",
    "print(\"\\n Williams : SVC \")\n",
    "svc = SVC(C = 1.0 , gamma=1/(X.shape[1]*X.std()))\n",
    "stratified_cv_results_williamsSVC_gamma12 = cross_validate(svc,X,y_williams,cv=StratifiedKFold(n_splits=3,shuffle = True, random_state=6099),\n",
    "                                      scoring = ('precision','recall','f1'),return_train_score= False)\n",
    "print(\"\\n Williams SVC with C = 1.0 , gamma=1/(X.shape[1]*X.std())\",stratified_cv_results_williamsSVC_gamma12)\n",
    "# svc = SVC(gamma=1/(X.shape[1]*X.std()))"
   ]
  },
  {
   "cell_type": "code",
   "execution_count": 50,
   "metadata": {},
   "outputs": [
    {
     "name": "stdout",
     "output_type": "stream",
     "text": [
      "\n",
      " Williams : SVC \n"
     ]
    },
    {
     "name": "stderr",
     "output_type": "stream",
     "text": [
      "C:\\Users\\pooja\\Anaconda3\\lib\\site-packages\\sklearn\\metrics\\classification.py:1135: UndefinedMetricWarning: Precision is ill-defined and being set to 0.0 due to no predicted samples.\n",
      "  'precision', 'predicted', average, warn_for)\n",
      "C:\\Users\\pooja\\Anaconda3\\lib\\site-packages\\sklearn\\metrics\\classification.py:1135: UndefinedMetricWarning: F-score is ill-defined and being set to 0.0 due to no predicted samples.\n",
      "  'precision', 'predicted', average, warn_for)\n",
      "C:\\Users\\pooja\\Anaconda3\\lib\\site-packages\\sklearn\\metrics\\classification.py:1135: UndefinedMetricWarning: Precision is ill-defined and being set to 0.0 due to no predicted samples.\n",
      "  'precision', 'predicted', average, warn_for)\n",
      "C:\\Users\\pooja\\Anaconda3\\lib\\site-packages\\sklearn\\metrics\\classification.py:1135: UndefinedMetricWarning: F-score is ill-defined and being set to 0.0 due to no predicted samples.\n",
      "  'precision', 'predicted', average, warn_for)\n",
      "C:\\Users\\pooja\\Anaconda3\\lib\\site-packages\\sklearn\\metrics\\classification.py:1135: UndefinedMetricWarning: Precision is ill-defined and being set to 0.0 due to no predicted samples.\n",
      "  'precision', 'predicted', average, warn_for)\n"
     ]
    },
    {
     "name": "stdout",
     "output_type": "stream",
     "text": [
      "\n",
      " Williams SVC with C = 1.0 , kernel = 'rbf',gamma=1/(X.shape[1]*X.std()) {'fit_time': array([18.89554024, 18.21414256, 18.85257912]), 'score_time': array([23.78945565, 22.20760655, 21.76798391]), 'test_precision': array([0., 0., 0.]), 'test_recall': array([0., 0., 0.]), 'test_f1': array([0., 0., 0.])}\n"
     ]
    },
    {
     "name": "stderr",
     "output_type": "stream",
     "text": [
      "C:\\Users\\pooja\\Anaconda3\\lib\\site-packages\\sklearn\\metrics\\classification.py:1135: UndefinedMetricWarning: F-score is ill-defined and being set to 0.0 due to no predicted samples.\n",
      "  'precision', 'predicted', average, warn_for)\n"
     ]
    }
   ],
   "source": [
    "print(\"\\n Williams : SVC \")\n",
    "svc = SVC(C = 1.0 , kernel = 'rbf',gamma=1/(X.shape[1]*X.std()))\n",
    "stratified_cv_results_williamsSVC_gamma123 = cross_validate(svc,X,y_williams,cv=StratifiedKFold(n_splits=3,shuffle = True, random_state=6099),\n",
    "                                      scoring = ('precision','recall','f1'),return_train_score= False)\n",
    "print(\"\\n Williams SVC with C = 1.0 , kernel = 'rbf',gamma=1/(X.shape[1]*X.std())\",stratified_cv_results_williamsSVC_gamma123)\n",
    "# svc = SVC(gamma=1/(X.shape[1]*X.std()))"
   ]
  },
  {
   "cell_type": "code",
   "execution_count": 51,
   "metadata": {},
   "outputs": [
    {
     "name": "stdout",
     "output_type": "stream",
     "text": [
      "\n",
      " Williams : SVC \n",
      "\n",
      " Williams SVC with C = 6.0 , kernel = 'linear', degree = 6 , gamma=1/(X.shape[1]*X.std()) {'fit_time': array([20.2338798 , 18.76369762, 19.33129835]), 'score_time': array([20.16905379, 20.935009  , 21.49760485]), 'test_precision': array([0.85714286, 0.85714286, 0.64285714]), 'test_recall': array([0.33333333, 0.35294118, 0.52941176]), 'test_f1': array([0.48      , 0.5       , 0.58064516])}\n"
     ]
    }
   ],
   "source": [
    "print(\"\\n Williams : SVC \")\n",
    "svc = SVC(C = 6.0 , kernel = 'linear', degree = 6 , gamma=1/(X.shape[1]*X.std()))\n",
    "stratified_cv_results_williamsSVC_gamma1234 = cross_validate(svc,X,y_williams,cv=StratifiedKFold(n_splits=3,shuffle = True, random_state=6099),\n",
    "                                      scoring = ('precision','recall','f1'),return_train_score= False)\n",
    "print(\"\\n Williams SVC with C = 6.0 , kernel = 'linear', degree = 6 , gamma=1/(X.shape[1]*X.std())\",stratified_cv_results_williamsSVC_gamma1234)\n",
    "# svc = SVC(gamma=1/(X.shape[1]*X.std()))"
   ]
  },
  {
   "cell_type": "code",
   "execution_count": 52,
   "metadata": {},
   "outputs": [
    {
     "name": "stdout",
     "output_type": "stream",
     "text": [
      "\n",
      " Williams : SVC \n"
     ]
    },
    {
     "name": "stderr",
     "output_type": "stream",
     "text": [
      "C:\\Users\\pooja\\Anaconda3\\lib\\site-packages\\sklearn\\metrics\\classification.py:1135: UndefinedMetricWarning: Precision is ill-defined and being set to 0.0 due to no predicted samples.\n",
      "  'precision', 'predicted', average, warn_for)\n",
      "C:\\Users\\pooja\\Anaconda3\\lib\\site-packages\\sklearn\\metrics\\classification.py:1135: UndefinedMetricWarning: F-score is ill-defined and being set to 0.0 due to no predicted samples.\n",
      "  'precision', 'predicted', average, warn_for)\n",
      "C:\\Users\\pooja\\Anaconda3\\lib\\site-packages\\sklearn\\metrics\\classification.py:1135: UndefinedMetricWarning: Precision is ill-defined and being set to 0.0 due to no predicted samples.\n",
      "  'precision', 'predicted', average, warn_for)\n",
      "C:\\Users\\pooja\\Anaconda3\\lib\\site-packages\\sklearn\\metrics\\classification.py:1135: UndefinedMetricWarning: F-score is ill-defined and being set to 0.0 due to no predicted samples.\n",
      "  'precision', 'predicted', average, warn_for)\n",
      "C:\\Users\\pooja\\Anaconda3\\lib\\site-packages\\sklearn\\metrics\\classification.py:1135: UndefinedMetricWarning: Precision is ill-defined and being set to 0.0 due to no predicted samples.\n",
      "  'precision', 'predicted', average, warn_for)\n"
     ]
    },
    {
     "name": "stdout",
     "output_type": "stream",
     "text": [
      "\n",
      " Williams SVC with C = 9.0 , kernel = 'sigmoid',  gamma= 'auto') {'fit_time': array([11.03866839, 10.58768177, 10.83900666]), 'score_time': array([ 9.24526739, 10.20670247,  9.58336687]), 'test_precision': array([0., 0., 0.]), 'test_recall': array([0., 0., 0.]), 'test_f1': array([0., 0., 0.])}\n"
     ]
    },
    {
     "name": "stderr",
     "output_type": "stream",
     "text": [
      "C:\\Users\\pooja\\Anaconda3\\lib\\site-packages\\sklearn\\metrics\\classification.py:1135: UndefinedMetricWarning: F-score is ill-defined and being set to 0.0 due to no predicted samples.\n",
      "  'precision', 'predicted', average, warn_for)\n"
     ]
    }
   ],
   "source": [
    "print(\"\\n Williams : SVC \")\n",
    "svc = SVC(C = 9.0 , kernel = 'sigmoid',  gamma= 'auto')\n",
    "stratified_cv_results_williamsSVC_gamma12345 = cross_validate(svc,X,y_williams,cv=StratifiedKFold(n_splits=3,shuffle = True, random_state=6099),\n",
    "                                      scoring = ('precision','recall','f1'),return_train_score= False)\n",
    "print(\"\\n Williams SVC with C = 9.0 , kernel = 'sigmoid',  gamma= 'auto')\",stratified_cv_results_williamsSVC_gamma12345)\n",
    "# svc = SVC(gamma=1/(X.shape[1]*X.std()))"
   ]
  },
  {
   "cell_type": "code",
   "execution_count": 53,
   "metadata": {},
   "outputs": [
    {
     "name": "stdout",
     "output_type": "stream",
     "text": [
      "\n",
      " Williams : SVC \n"
     ]
    },
    {
     "name": "stderr",
     "output_type": "stream",
     "text": [
      "C:\\Users\\pooja\\Anaconda3\\lib\\site-packages\\sklearn\\metrics\\classification.py:1135: UndefinedMetricWarning: Precision is ill-defined and being set to 0.0 due to no predicted samples.\n",
      "  'precision', 'predicted', average, warn_for)\n",
      "C:\\Users\\pooja\\Anaconda3\\lib\\site-packages\\sklearn\\metrics\\classification.py:1135: UndefinedMetricWarning: F-score is ill-defined and being set to 0.0 due to no predicted samples.\n",
      "  'precision', 'predicted', average, warn_for)\n",
      "C:\\Users\\pooja\\Anaconda3\\lib\\site-packages\\sklearn\\metrics\\classification.py:1135: UndefinedMetricWarning: Precision is ill-defined and being set to 0.0 due to no predicted samples.\n",
      "  'precision', 'predicted', average, warn_for)\n",
      "C:\\Users\\pooja\\Anaconda3\\lib\\site-packages\\sklearn\\metrics\\classification.py:1135: UndefinedMetricWarning: F-score is ill-defined and being set to 0.0 due to no predicted samples.\n",
      "  'precision', 'predicted', average, warn_for)\n",
      "C:\\Users\\pooja\\Anaconda3\\lib\\site-packages\\sklearn\\metrics\\classification.py:1135: UndefinedMetricWarning: Precision is ill-defined and being set to 0.0 due to no predicted samples.\n",
      "  'precision', 'predicted', average, warn_for)\n"
     ]
    },
    {
     "name": "stdout",
     "output_type": "stream",
     "text": [
      "\n",
      " Williams SVC with kernel = 'sigmoid' and other default except degree : ) {'fit_time': array([10.58717418, 10.51787162, 10.85996675]), 'score_time': array([ 9.75274992, 10.11494517, 10.02462268]), 'test_precision': array([0., 0., 0.]), 'test_recall': array([0., 0., 0.]), 'test_f1': array([0., 0., 0.])}\n"
     ]
    },
    {
     "name": "stderr",
     "output_type": "stream",
     "text": [
      "C:\\Users\\pooja\\Anaconda3\\lib\\site-packages\\sklearn\\metrics\\classification.py:1135: UndefinedMetricWarning: F-score is ill-defined and being set to 0.0 due to no predicted samples.\n",
      "  'precision', 'predicted', average, warn_for)\n"
     ]
    }
   ],
   "source": [
    "print(\"\\n Williams : SVC \")\n",
    "svc = SVC( kernel = 'sigmoid')\n",
    "stratified_cv_results_williamsSVC_gamma123456 = cross_validate(svc,X,y_williams,cv=StratifiedKFold(n_splits=3,shuffle = True, random_state=6099),\n",
    "                                      scoring = ('precision','recall','f1'),return_train_score= False)\n",
    "print(\"\\n Williams SVC with kernel = 'sigmoid' and other default except degree : )\",stratified_cv_results_williamsSVC_gamma123456)\n",
    "# svc = SVC(gamma=1/(X.shape[1]*X.std()))"
   ]
  },
  {
   "cell_type": "code",
   "execution_count": 54,
   "metadata": {},
   "outputs": [
    {
     "name": "stdout",
     "output_type": "stream",
     "text": [
      "\n",
      " Williams : SVC \n",
      "\n",
      " Williams SVC with C = 24.0 , kernel = 'sigmoid',  gamma= 1/(X.shape[1]*X.std())) {'fit_time': array([8.70172787, 8.98995423, 7.75027227]), 'score_time': array([7.03135729, 7.06709981, 7.1259408 ]), 'test_precision': array([0., 0., 0.]), 'test_recall': array([0., 0., 0.]), 'test_f1': array([0., 0., 0.])}\n"
     ]
    }
   ],
   "source": [
    "print(\"\\n Williams : SVC \")\n",
    "svc = SVC(C = 24.0 , kernel = 'sigmoid',  gamma= 1/(X.shape[1]*X.std()))\n",
    "stratified_cv_results_williamsSVC_gamma1238 = cross_validate(svc,X,y_williams,cv=StratifiedKFold(n_splits=3,shuffle = True, random_state=6099),\n",
    "                                      scoring = ('precision','recall','f1'),return_train_score= False)\n",
    "print(\"\\n Williams SVC with C = 24.0 , kernel = 'sigmoid',  gamma= 1/(X.shape[1]*X.std()))\",stratified_cv_results_williamsSVC_gamma1238)\n",
    "# svc = SVC(gamma=1/(X.shape[1]*X.std()))"
   ]
  },
  {
   "cell_type": "code",
   "execution_count": 55,
   "metadata": {},
   "outputs": [
    {
     "name": "stdout",
     "output_type": "stream",
     "text": [
      "\n",
      " Williams : SVC \n",
      "\n",
      " Williams SVC with C = 24.0 , kernel = 'linear') {'fit_time': array([22.88679171, 18.8987999 , 21.19630647]), 'score_time': array([22.49932933, 20.07730246, 21.42170715]), 'test_precision': array([0.85714286, 0.85714286, 0.64285714]), 'test_recall': array([0.33333333, 0.35294118, 0.52941176]), 'test_f1': array([0.48      , 0.5       , 0.58064516])}\n"
     ]
    }
   ],
   "source": [
    "print(\"\\n Williams : SVC \")\n",
    "svc = SVC(C = 24.0 , kernel = 'linear')\n",
    "stratified_cv_results_williamsSVC_gamma1239 = cross_validate(svc,X,y_williams,cv=StratifiedKFold(n_splits=3,shuffle = True, random_state=6099),\n",
    "                                      scoring = ('precision','recall','f1'),return_train_score= False)\n",
    "print(\"\\n Williams SVC with C = 24.0 , kernel = 'linear')\",stratified_cv_results_williamsSVC_gamma1239)\n",
    "# svc = SVC(gamma=1/(X.shape[1]*X.std()))"
   ]
  },
  {
   "cell_type": "code",
   "execution_count": 56,
   "metadata": {},
   "outputs": [
    {
     "name": "stdout",
     "output_type": "stream",
     "text": [
      "\n",
      " Williams : SVC \n",
      "\n",
      " Williams SVC with C = 24.0 , kernel = 'linear') {'fit_time': array([22.0729692 , 19.22258973, 20.06168294]), 'score_time': array([20.69364834, 25.0480144 , 22.54669762]), 'test_precision': array([0.85714286, 0.85714286, 0.64285714]), 'test_recall': array([0.33333333, 0.35294118, 0.52941176]), 'test_f1': array([0.48      , 0.5       , 0.58064516])}\n"
     ]
    }
   ],
   "source": [
    "print(\"\\n Williams : SVC \")\n",
    "svc = SVC(C = 80.0 , kernel = 'linear')\n",
    "stratified_cv_results_williamsSVC_gamma99 = cross_validate(svc,X,y_williams,cv=StratifiedKFold(n_splits=3,shuffle = True, random_state=6099),\n",
    "                                      scoring = ('precision','recall','f1'),return_train_score= False)\n",
    "print(\"\\n Williams SVC with C = 80.0 , kernel = 'linear')\",stratified_cv_results_williamsSVC_gamma99)\n",
    "# svc = SVC(gamma=1/(X.shape[1]*X.std()))"
   ]
  },
  {
   "cell_type": "code",
   "execution_count": 58,
   "metadata": {},
   "outputs": [
    {
     "name": "stdout",
     "output_type": "stream",
     "text": [
      "\n",
      " Williams : SVC \n",
      "\n",
      " Williams SVC with C = 1000000.0 , kernel = 'linear') {'fit_time': array([20.90291619, 19.34227395, 20.99981499]), 'score_time': array([21.14402151, 20.76527071, 21.80366182]), 'test_precision': array([0.85714286, 0.85714286, 0.64285714]), 'test_recall': array([0.33333333, 0.35294118, 0.52941176]), 'test_f1': array([0.48      , 0.5       , 0.58064516])}\n"
     ]
    }
   ],
   "source": [
    "print(\"\\n Williams : SVC \")\n",
    "svc = SVC(C = 1000000.0 , kernel = 'linear')\n",
    "stratified_cv_results_williamsSVC_pppppp = cross_validate(svc,X,y_williams,cv=StratifiedKFold(n_splits=3,shuffle = True, random_state=6099),\n",
    "                                      scoring = ('precision','recall','f1'),return_train_score= False)\n",
    "print(\"\\n Williams SVC with C = 1000000.0 , kernel = 'linear')\",stratified_cv_results_williamsSVC_pppppp)\n",
    "# svc = SVC(gamma=1/(X.shape[1]*X.std()))"
   ]
  },
  {
   "cell_type": "code",
   "execution_count": 66,
   "metadata": {},
   "outputs": [
    {
     "name": "stdout",
     "output_type": "stream",
     "text": [
      "\n",
      " Williams : SVC \n"
     ]
    },
    {
     "name": "stderr",
     "output_type": "stream",
     "text": [
      "C:\\Users\\pooja\\Anaconda3\\lib\\site-packages\\sklearn\\metrics\\classification.py:1135: UndefinedMetricWarning: Precision is ill-defined and being set to 0.0 due to no predicted samples.\n",
      "  'precision', 'predicted', average, warn_for)\n",
      "C:\\Users\\pooja\\Anaconda3\\lib\\site-packages\\sklearn\\metrics\\classification.py:1135: UndefinedMetricWarning: F-score is ill-defined and being set to 0.0 due to no predicted samples.\n",
      "  'precision', 'predicted', average, warn_for)\n",
      "C:\\Users\\pooja\\Anaconda3\\lib\\site-packages\\sklearn\\metrics\\classification.py:1135: UndefinedMetricWarning: Precision is ill-defined and being set to 0.0 due to no predicted samples.\n",
      "  'precision', 'predicted', average, warn_for)\n",
      "C:\\Users\\pooja\\Anaconda3\\lib\\site-packages\\sklearn\\metrics\\classification.py:1135: UndefinedMetricWarning: F-score is ill-defined and being set to 0.0 due to no predicted samples.\n",
      "  'precision', 'predicted', average, warn_for)\n",
      "C:\\Users\\pooja\\Anaconda3\\lib\\site-packages\\sklearn\\metrics\\classification.py:1135: UndefinedMetricWarning: Precision is ill-defined and being set to 0.0 due to no predicted samples.\n",
      "  'precision', 'predicted', average, warn_for)\n"
     ]
    },
    {
     "name": "stdout",
     "output_type": "stream",
     "text": [
      "\n",
      " BUSH SVC with C = 2.0 , kernel = 'poly',  degree = 2 , gamma= 'auto_deprecated') {'fit_time': array([12.96425819, 11.42420149, 11.21702504]), 'score_time': array([12.29343677, 11.9814527 , 12.58344221]), 'test_precision': array([0., 0., 0.]), 'test_recall': array([0., 0., 0.]), 'test_f1': array([0., 0., 0.])}\n"
     ]
    },
    {
     "name": "stderr",
     "output_type": "stream",
     "text": [
      "C:\\Users\\pooja\\Anaconda3\\lib\\site-packages\\sklearn\\metrics\\classification.py:1135: UndefinedMetricWarning: F-score is ill-defined and being set to 0.0 due to no predicted samples.\n",
      "  'precision', 'predicted', average, warn_for)\n"
     ]
    }
   ],
   "source": [
    "print(\"\\n Williams : SVC \")\n",
    "svc = SVC(C = 2.0 , kernel = 'poly',  degree = 2 , gamma= 'auto')\n",
    "stratified_cv_results_williamsSVC_gamma15638 = cross_validate(svc,X,y_williams,cv=StratifiedKFold(n_splits=3,shuffle = True, random_state=6099),\n",
    "                                      scoring = ('precision','recall','f1'),return_train_score= False)\n",
    "print(\"\\n BUSH SVC with C = 2.0 , kernel = 'poly',  degree = 2 , gamma= 'auto_deprecated')\",stratified_cv_results_williamsSVC_gamma15638)\n"
   ]
  },
  {
   "cell_type": "code",
   "execution_count": 67,
   "metadata": {},
   "outputs": [
    {
     "name": "stdout",
     "output_type": "stream",
     "text": [
      "\n",
      " Williams : SVC \n"
     ]
    },
    {
     "name": "stderr",
     "output_type": "stream",
     "text": [
      "C:\\Users\\pooja\\Anaconda3\\lib\\site-packages\\sklearn\\metrics\\classification.py:1135: UndefinedMetricWarning: Precision is ill-defined and being set to 0.0 due to no predicted samples.\n",
      "  'precision', 'predicted', average, warn_for)\n",
      "C:\\Users\\pooja\\Anaconda3\\lib\\site-packages\\sklearn\\metrics\\classification.py:1135: UndefinedMetricWarning: F-score is ill-defined and being set to 0.0 due to no predicted samples.\n",
      "  'precision', 'predicted', average, warn_for)\n",
      "C:\\Users\\pooja\\Anaconda3\\lib\\site-packages\\sklearn\\metrics\\classification.py:1135: UndefinedMetricWarning: Precision is ill-defined and being set to 0.0 due to no predicted samples.\n",
      "  'precision', 'predicted', average, warn_for)\n",
      "C:\\Users\\pooja\\Anaconda3\\lib\\site-packages\\sklearn\\metrics\\classification.py:1135: UndefinedMetricWarning: F-score is ill-defined and being set to 0.0 due to no predicted samples.\n",
      "  'precision', 'predicted', average, warn_for)\n",
      "C:\\Users\\pooja\\Anaconda3\\lib\\site-packages\\sklearn\\metrics\\classification.py:1135: UndefinedMetricWarning: Precision is ill-defined and being set to 0.0 due to no predicted samples.\n",
      "  'precision', 'predicted', average, warn_for)\n"
     ]
    },
    {
     "name": "stdout",
     "output_type": "stream",
     "text": [
      "\n",
      " BUSH SVC with C = 2.0 , kernel = 'rbf',   gamma= 'auto' ) {'fit_time': array([11.71472526,  9.95537472, 10.57272148]), 'score_time': array([12.60223651, 11.6424005 , 12.80103517]), 'test_precision': array([0., 0., 0.]), 'test_recall': array([0., 0., 0.]), 'test_f1': array([0., 0., 0.])}\n"
     ]
    },
    {
     "name": "stderr",
     "output_type": "stream",
     "text": [
      "C:\\Users\\pooja\\Anaconda3\\lib\\site-packages\\sklearn\\metrics\\classification.py:1135: UndefinedMetricWarning: F-score is ill-defined and being set to 0.0 due to no predicted samples.\n",
      "  'precision', 'predicted', average, warn_for)\n"
     ]
    }
   ],
   "source": [
    "print(\"\\n Williams : SVC \")\n",
    "svc = SVC(C = 2.0 , kernel = 'rbf',   gamma= 'auto')\n",
    "stratified_cv_results_williamsSVC_gamma15638212 = cross_validate(svc,X,y_williams,cv=StratifiedKFold(n_splits=3,shuffle = True, random_state=6099),\n",
    "                                      scoring = ('precision','recall','f1'),return_train_score= False)\n",
    "print(\"\\n BUSH SVC with C = 2.0 , kernel = 'rbf',   gamma= 'auto' )\",stratified_cv_results_williamsSVC_gamma15638212)\n"
   ]
  },
  {
   "cell_type": "code",
   "execution_count": 72,
   "metadata": {},
   "outputs": [
    {
     "name": "stdout",
     "output_type": "stream",
     "text": [
      "\n",
      " Williams : SVC \n"
     ]
    },
    {
     "name": "stderr",
     "output_type": "stream",
     "text": [
      "C:\\Users\\pooja\\Anaconda3\\lib\\site-packages\\sklearn\\metrics\\classification.py:1135: UndefinedMetricWarning: Precision is ill-defined and being set to 0.0 due to no predicted samples.\n",
      "  'precision', 'predicted', average, warn_for)\n",
      "C:\\Users\\pooja\\Anaconda3\\lib\\site-packages\\sklearn\\metrics\\classification.py:1135: UndefinedMetricWarning: F-score is ill-defined and being set to 0.0 due to no predicted samples.\n",
      "  'precision', 'predicted', average, warn_for)\n",
      "C:\\Users\\pooja\\Anaconda3\\lib\\site-packages\\sklearn\\metrics\\classification.py:1135: UndefinedMetricWarning: Precision is ill-defined and being set to 0.0 due to no predicted samples.\n",
      "  'precision', 'predicted', average, warn_for)\n",
      "C:\\Users\\pooja\\Anaconda3\\lib\\site-packages\\sklearn\\metrics\\classification.py:1135: UndefinedMetricWarning: F-score is ill-defined and being set to 0.0 due to no predicted samples.\n",
      "  'precision', 'predicted', average, warn_for)\n",
      "C:\\Users\\pooja\\Anaconda3\\lib\\site-packages\\sklearn\\metrics\\classification.py:1135: UndefinedMetricWarning: Precision is ill-defined and being set to 0.0 due to no predicted samples.\n",
      "  'precision', 'predicted', average, warn_for)\n"
     ]
    },
    {
     "name": "stdout",
     "output_type": "stream",
     "text": [
      "\n",
      " Williams SVC with C = 0.001 , kernel = 'linear',   gamma= 'auto' ) {'fit_time': array([10.23972106, 10.40223718, 10.69841099]), 'score_time': array([10.94767523, 10.54872847, 11.04344082]), 'test_precision': array([0., 0., 0.]), 'test_recall': array([0., 0., 0.]), 'test_f1': array([0., 0., 0.])}\n"
     ]
    },
    {
     "name": "stderr",
     "output_type": "stream",
     "text": [
      "C:\\Users\\pooja\\Anaconda3\\lib\\site-packages\\sklearn\\metrics\\classification.py:1135: UndefinedMetricWarning: F-score is ill-defined and being set to 0.0 due to no predicted samples.\n",
      "  'precision', 'predicted', average, warn_for)\n"
     ]
    }
   ],
   "source": [
    "print(\"\\n Williams : SVC \")\n",
    "svc = SVC(C = 0.001 , kernel = 'linear',   gamma= 'auto')\n",
    "stratified_cv_results_williamsSVC_gamma15638219 = cross_validate(svc,X,y_williams,cv=StratifiedKFold(n_splits=3,shuffle = True, random_state=6099),\n",
    "                                      scoring = ('precision','recall','f1'),return_train_score= False)\n",
    "print(\"\\n Williams SVC with C = 0.001 , kernel = 'linear',   gamma= 'auto' )\",stratified_cv_results_williamsSVC_gamma15638219)\n"
   ]
  },
  {
   "cell_type": "code",
   "execution_count": 73,
   "metadata": {},
   "outputs": [
    {
     "name": "stdout",
     "output_type": "stream",
     "text": [
      "\n",
      " Williams : SVC \n"
     ]
    },
    {
     "name": "stderr",
     "output_type": "stream",
     "text": [
      "C:\\Users\\pooja\\Anaconda3\\lib\\site-packages\\sklearn\\metrics\\classification.py:1135: UndefinedMetricWarning: Precision is ill-defined and being set to 0.0 due to no predicted samples.\n",
      "  'precision', 'predicted', average, warn_for)\n",
      "C:\\Users\\pooja\\Anaconda3\\lib\\site-packages\\sklearn\\metrics\\classification.py:1135: UndefinedMetricWarning: F-score is ill-defined and being set to 0.0 due to no predicted samples.\n",
      "  'precision', 'predicted', average, warn_for)\n",
      "C:\\Users\\pooja\\Anaconda3\\lib\\site-packages\\sklearn\\metrics\\classification.py:1135: UndefinedMetricWarning: Precision is ill-defined and being set to 0.0 due to no predicted samples.\n",
      "  'precision', 'predicted', average, warn_for)\n",
      "C:\\Users\\pooja\\Anaconda3\\lib\\site-packages\\sklearn\\metrics\\classification.py:1135: UndefinedMetricWarning: F-score is ill-defined and being set to 0.0 due to no predicted samples.\n",
      "  'precision', 'predicted', average, warn_for)\n",
      "C:\\Users\\pooja\\Anaconda3\\lib\\site-packages\\sklearn\\metrics\\classification.py:1135: UndefinedMetricWarning: Precision is ill-defined and being set to 0.0 due to no predicted samples.\n",
      "  'precision', 'predicted', average, warn_for)\n"
     ]
    },
    {
     "name": "stdout",
     "output_type": "stream",
     "text": [
      "\n",
      " Williams SVC with C = 0.001 , kernel = 'sigmoid',   gamma= 'auto' ) {'fit_time': array([4.87202024, 4.77029753, 4.70946145]), 'score_time': array([4.40819907, 4.49797797, 4.44709444]), 'test_precision': array([0., 0., 0.]), 'test_recall': array([0., 0., 0.]), 'test_f1': array([0., 0., 0.])}\n"
     ]
    },
    {
     "name": "stderr",
     "output_type": "stream",
     "text": [
      "C:\\Users\\pooja\\Anaconda3\\lib\\site-packages\\sklearn\\metrics\\classification.py:1135: UndefinedMetricWarning: F-score is ill-defined and being set to 0.0 due to no predicted samples.\n",
      "  'precision', 'predicted', average, warn_for)\n"
     ]
    }
   ],
   "source": [
    "print(\"\\n Williams : SVC \")\n",
    "svc = SVC(C = 0.001 , kernel = 'sigmoid',   gamma= 'auto')\n",
    "stratified_cv_results_williamsSVC_gamma1563821912 = cross_validate(svc,X,y_williams,cv=StratifiedKFold(n_splits=3,shuffle = True, random_state=6099),\n",
    "                                      scoring = ('precision','recall','f1'),return_train_score= False)\n",
    "print(\"\\n Williams SVC with C = 0.001 , kernel = 'sigmoid',   gamma= 'auto' )\",stratified_cv_results_williamsSVC_gamma1563821912)\n"
   ]
  },
  {
   "cell_type": "code",
   "execution_count": 75,
   "metadata": {},
   "outputs": [
    {
     "name": "stdout",
     "output_type": "stream",
     "text": [
      "\n",
      " Williams : SVC \n"
     ]
    },
    {
     "name": "stderr",
     "output_type": "stream",
     "text": [
      "C:\\Users\\pooja\\Anaconda3\\lib\\site-packages\\sklearn\\metrics\\classification.py:1135: UndefinedMetricWarning: Precision is ill-defined and being set to 0.0 due to no predicted samples.\n",
      "  'precision', 'predicted', average, warn_for)\n",
      "C:\\Users\\pooja\\Anaconda3\\lib\\site-packages\\sklearn\\metrics\\classification.py:1135: UndefinedMetricWarning: F-score is ill-defined and being set to 0.0 due to no predicted samples.\n",
      "  'precision', 'predicted', average, warn_for)\n",
      "C:\\Users\\pooja\\Anaconda3\\lib\\site-packages\\sklearn\\metrics\\classification.py:1135: UndefinedMetricWarning: Precision is ill-defined and being set to 0.0 due to no predicted samples.\n",
      "  'precision', 'predicted', average, warn_for)\n",
      "C:\\Users\\pooja\\Anaconda3\\lib\\site-packages\\sklearn\\metrics\\classification.py:1135: UndefinedMetricWarning: F-score is ill-defined and being set to 0.0 due to no predicted samples.\n",
      "  'precision', 'predicted', average, warn_for)\n",
      "C:\\Users\\pooja\\Anaconda3\\lib\\site-packages\\sklearn\\metrics\\classification.py:1135: UndefinedMetricWarning: Precision is ill-defined and being set to 0.0 due to no predicted samples.\n",
      "  'precision', 'predicted', average, warn_for)\n"
     ]
    },
    {
     "name": "stdout",
     "output_type": "stream",
     "text": [
      "\n",
      " Williams SVC with C = 0.001 , kernel = 'rbf',   gamma= 'auto') {'fit_time': array([5.67188072, 5.07348323, 6.51008296]), 'score_time': array([4.36527514, 5.05841994, 5.2078886 ]), 'test_precision': array([0., 0., 0.]), 'test_recall': array([0., 0., 0.]), 'test_f1': array([0., 0., 0.])}\n"
     ]
    },
    {
     "name": "stderr",
     "output_type": "stream",
     "text": [
      "C:\\Users\\pooja\\Anaconda3\\lib\\site-packages\\sklearn\\metrics\\classification.py:1135: UndefinedMetricWarning: F-score is ill-defined and being set to 0.0 due to no predicted samples.\n",
      "  'precision', 'predicted', average, warn_for)\n"
     ]
    }
   ],
   "source": [
    "print(\"\\n Williams : SVC \")\n",
    "svc = SVC(C = 0.001 , kernel = 'rbf',   gamma= 'auto')\n",
    "stratified_cv_results_williamsSVC_gamma15638215666782 = cross_validate(svc,X,y_williams,cv=StratifiedKFold(n_splits=3,shuffle = True, random_state=6099),\n",
    "                                      scoring = ('precision','recall','f1'),return_train_score= False)\n",
    "print(\"\\n Williams SVC with C = 0.001 , kernel = 'rbf',   gamma= 'auto')\",stratified_cv_results_williamsSVC_gamma15638215666782)\n"
   ]
  },
  {
   "cell_type": "code",
   "execution_count": 82,
   "metadata": {},
   "outputs": [
    {
     "name": "stdout",
     "output_type": "stream",
     "text": [
      "\n",
      " Williams : SVC \n",
      "\n",
      " williams SVC with C = 4.0 , kernel = 'poly', coef0= 5.0  ,degree = 10 , gamma=1/(X.shape[1]*X.std()) ) {'fit_time': array([28.3982749 , 32.2774148 , 28.69279456]), 'score_time': array([36.97526264, 35.98357391, 33.03843904]), 'test_precision': array([1.        , 1.        , 0.66666667]), 'test_recall': array([0.44444444, 0.23529412, 0.47058824]), 'test_f1': array([0.61538462, 0.38095238, 0.55172414])}\n"
     ]
    }
   ],
   "source": [
    "print(\"\\n Williams : SVC \")\n",
    "svc = SVC(C = 4.0 , kernel = 'poly', coef0= 5.0  ,degree = 10 , gamma=1/(X.shape[1]*X.std()) )\n",
    "stratified_cv_results_WilliamsSVC_gamma32ffs = cross_validate(svc,X,y_williams,cv=StratifiedKFold(n_splits=3,shuffle = True, random_state=6099),\n",
    "                                      scoring = ('precision','recall','f1'),return_train_score= False)\n",
    "print(\"\\n williams SVC with C = 4.0 , kernel = 'poly', coef0= 5.0  ,degree = 10 , gamma=1/(X.shape[1]*X.std()) )\",stratified_cv_results_WilliamsSVC_gamma32ffs)\n"
   ]
  },
  {
   "cell_type": "code",
   "execution_count": 85,
   "metadata": {},
   "outputs": [
    {
     "name": "stdout",
     "output_type": "stream",
     "text": [
      "\n",
      " Williams : SVC \n",
      "\n",
      " williams SVC with C = 4.0 , kernel = 'poly', coef0= 150.0  ,degree = 10 , gamma=1/(X.shape[1]*X.std()) ) {'fit_time': array([27.54908323, 25.46348214, 26.26275969]), 'score_time': array([29.18564916, 26.89429331, 28.71967673]), 'test_precision': array([1.        , 0.85714286, 0.64285714]), 'test_recall': array([0.33333333, 0.35294118, 0.52941176]), 'test_f1': array([0.5       , 0.5       , 0.58064516])}\n"
     ]
    }
   ],
   "source": [
    "print(\"\\n Williams : SVC \")\n",
    "svc = SVC(C = 4.0 , kernel = 'poly', coef0= 150.0  ,degree = 10 , gamma=1/(X.shape[1]*X.std()) )\n",
    "stratified_cv_results_WilliamsSVC_gamma32150ffs = cross_validate(svc,X,y_williams,cv=StratifiedKFold(n_splits=3,shuffle = True, random_state=6099),\n",
    "                                      scoring = ('precision','recall','f1'),return_train_score= False)\n",
    "print(\"\\n williams SVC with C = 4.0 , kernel = 'poly', coef0= 150.0  ,degree = 10 , gamma=1/(X.shape[1]*X.std()) )\",stratified_cv_results_WilliamsSVC_gamma32150ffs)\n"
   ]
  },
  {
   "cell_type": "markdown",
   "metadata": {},
   "source": [
    "# PCA Williams"
   ]
  },
  {
   "cell_type": "code",
   "execution_count": 62,
   "metadata": {},
   "outputs": [
    {
     "name": "stdout",
     "output_type": "stream",
     "text": [
      "Williams PCA: KNN for 1 neighbors\n"
     ]
    },
    {
     "name": "stderr",
     "output_type": "stream",
     "text": [
      "C:\\Users\\pooja\\Anaconda3\\lib\\site-packages\\sklearn\\metrics\\classification.py:1135: UndefinedMetricWarning: Precision is ill-defined and being set to 0.0 due to no predicted samples.\n",
      "  'precision', 'predicted', average, warn_for)\n",
      "C:\\Users\\pooja\\Anaconda3\\lib\\site-packages\\sklearn\\metrics\\classification.py:1135: UndefinedMetricWarning: F-score is ill-defined and being set to 0.0 due to no predicted samples.\n",
      "  'precision', 'predicted', average, warn_for)\n"
     ]
    },
    {
     "name": "stdout",
     "output_type": "stream",
     "text": [
      "\n",
      " Williams :    {'fit_time': array([0.94352818, 0.83275747, 1.09113193]), 'score_time': array([72.95080042, 77.32127523, 73.0671792 ]), 'test_precision': array([1., 0., 1.]), 'test_recall': array([0.11111111, 0.        , 0.11764706]), 'test_f1': array([0.2       , 0.        , 0.21052632])}\n",
      "\n",
      " 0.13684210526315788\n"
     ]
    }
   ],
   "source": [
    "\n",
    "print(\"Williams PCA: KNN for 1 neighbors\")\n",
    "pca = PCA(n_components = 1000 , whiten  = True)\n",
    "X_pca = pca.fit_transform(X)\n",
    "knn = KNeighborsClassifier(n_neighbors = 1, n_jobs = -1)\n",
    "\n",
    "stratified_cv_results_n1williamsPCA1 = cross_validate(knn,X_pca,y_williams,cv=StratifiedKFold(n_splits=3,shuffle = True, random_state=6099),\n",
    "                                      scoring = ('precision','recall','f1'),return_train_score= False)\n",
    "print(\"\\n Williams :   \",stratified_cv_results_n1williamsPCA1)\n",
    "print(\"\\n\",statistics.mean(stratified_cv_results_n1williamsPCA1['test_f1']))"
   ]
  },
  {
   "cell_type": "markdown",
   "metadata": {},
   "source": [
    "# PCA KNN WILLIAMS"
   ]
  },
  {
   "cell_type": "code",
   "execution_count": 56,
   "metadata": {},
   "outputs": [
    {
     "name": "stdout",
     "output_type": "stream",
     "text": [
      "\n",
      " Var ratio :  [0.24135845 0.07517273 0.04776138 0.04188296 0.03545649 0.02782641\n",
      " 0.02552157 0.022495   0.01974086 0.01825091 0.01681651 0.01500376\n",
      " 0.01289752 0.01225505 0.01030937 0.00965638 0.0085954  0.00848691\n",
      " 0.00775937 0.00677257 0.0064457  0.00629839 0.00582221 0.00540422\n",
      " 0.00528578 0.00512835 0.00485369 0.0045397  0.00441997 0.00420462\n",
      " 0.00401524 0.00394704 0.00382575 0.00374219 0.00354689 0.00347545\n",
      " 0.00335135 0.00323232 0.00316215 0.00313054 0.00291458 0.00274926\n",
      " 0.00268396 0.00267271 0.00257132 0.00246115 0.00240523 0.00223712\n",
      " 0.00219916 0.00219432 0.00214301 0.00211197 0.00206483 0.00205184\n",
      " 0.00197556]\n",
      "\n",
      " Williams : \n",
      " PCA  {'fit_time': array([0.04095793, 0.05325007, 0.06109571]), 'score_time': array([3.39168   , 2.98700666, 3.22998524]), 'test_precision': array([0.33333333, 0.5       , 0.42857143]), 'test_recall': array([0.11111111, 0.17647059, 0.17647059]), 'test_f1': array([0.16666667, 0.26086957, 0.25      ])}\n",
      "\n",
      " 0.22584541062801933\n"
     ]
    }
   ],
   "source": [
    "    \n",
    "pca = PCA(n_components= 55 , copy=False, whiten=True, svd_solver='auto',  iterated_power='auto')\n",
    "X_pca = pca.fit_transform(X)\n",
    "print(\"\\n Var ratio : \",pca.explained_variance_ratio_)\n",
    "knn = KNeighborsClassifier(n_neighbors = 1, n_jobs = -1)\n",
    "stratified_cv_results_n1pca_williams1 = cross_validate(knn,X_pca,y_williams,cv=StratifiedKFold(n_splits=3,shuffle = True, random_state=6099),\n",
    "                                      scoring = ('precision','recall','f1'),return_train_score= False)\n",
    "print(\"\\n Williams : \\n PCA \",stratified_cv_results_n1pca_williams1)\n",
    "print(\"\\n\",statistics.mean(stratified_cv_results_n1pca_williams1['test_f1']))"
   ]
  },
  {
   "cell_type": "code",
   "execution_count": 57,
   "metadata": {},
   "outputs": [
    {
     "name": "stdout",
     "output_type": "stream",
     "text": [
      "\n",
      " Var ratio :  [0.24135845 0.07517273 0.04776138 0.04188296 0.03545649 0.02782641\n",
      " 0.02552157 0.022495   0.01974086 0.01825091 0.01681651 0.01500376\n",
      " 0.01289752 0.01225505 0.01030937 0.00965638 0.0085954  0.00848691\n",
      " 0.00775937 0.00677257 0.0064457  0.00629839 0.00582221 0.00540422\n",
      " 0.00528578 0.00512835 0.00485369 0.0045397  0.00441997 0.00420462\n",
      " 0.00401524 0.00394704 0.00382575 0.00374219 0.00354691 0.00347546\n",
      " 0.00335137 0.00323233 0.00316217 0.00313056 0.00291463 0.00274928\n",
      " 0.00268408 0.00267284 0.00257219 0.00246145 0.0024062  0.00223862\n",
      " 0.00220193 0.00219609 0.00214715 0.00211427 0.00207073 0.00205399\n",
      " 0.00198363 0.00196239 0.00184024 0.00180699 0.00173563 0.00172186\n",
      " 0.00168702 0.00167548 0.00162787 0.00160146 0.00156873 0.00153954\n",
      " 0.0015064  0.00143306 0.00142291 0.00141189]\n",
      "\n",
      " Williams : \n",
      " PCA  {'fit_time': array([0.06083703, 0.04683876, 0.06191969]), 'score_time': array([4.08050323, 4.44985986, 4.42835951]), 'test_precision': array([0.3       , 0.        , 0.42857143]), 'test_recall': array([0.16666667, 0.        , 0.17647059]), 'test_f1': array([0.21428571, 0.        , 0.25      ])}\n",
      "\n",
      " 0.15476190476190477\n"
     ]
    }
   ],
   "source": [
    "    \n",
    "pca = PCA(n_components= 70 , copy=False, whiten=True, svd_solver='auto',  iterated_power='auto')\n",
    "X_pca = pca.fit_transform(X)\n",
    "print(\"\\n Var ratio : \",pca.explained_variance_ratio_)\n",
    "knn = KNeighborsClassifier(n_neighbors = 1, n_jobs = -1)\n",
    "stratified_cv_results_n1pca_williams2 = cross_validate(knn,X_pca,y_williams,cv=StratifiedKFold(n_splits=3,shuffle = True, random_state=6099),\n",
    "                                      scoring = ('precision','recall','f1'),return_train_score= False)\n",
    "print(\"\\n Williams : \\n PCA \",stratified_cv_results_n1pca_williams2)\n",
    "print(\"\\n\",statistics.mean(stratified_cv_results_n1pca_williams2['test_f1']))"
   ]
  },
  {
   "cell_type": "code",
   "execution_count": 58,
   "metadata": {},
   "outputs": [
    {
     "name": "stdout",
     "output_type": "stream",
     "text": [
      "\n",
      " Var ratio :  [2.41358448e-01 7.51727306e-02 4.77613831e-02 4.18829603e-02\n",
      " 3.54564908e-02 2.78264068e-02 2.55215688e-02 2.24949951e-02\n",
      " 1.97408585e-02 1.82509098e-02 1.68165059e-02 1.50037592e-02\n",
      " 1.28975176e-02 1.22550476e-02 1.03093686e-02 9.65637513e-03\n",
      " 8.59539885e-03 8.48690733e-03 7.75937054e-03 6.77256681e-03\n",
      " 6.44569607e-03 6.29838831e-03 5.82220723e-03 5.40422122e-03\n",
      " 5.28577957e-03 5.12834864e-03 4.85368645e-03 4.53970439e-03\n",
      " 4.41997137e-03 4.20461989e-03 4.01523884e-03 3.94703878e-03\n",
      " 3.82574832e-03 3.74219246e-03 3.54690784e-03 3.47546485e-03\n",
      " 3.35136682e-03 3.23232973e-03 3.16216759e-03 3.13055949e-03\n",
      " 2.91462726e-03 2.74928288e-03 2.68408089e-03 2.67284880e-03\n",
      " 2.57221254e-03 2.46147459e-03 2.40622043e-03 2.23866775e-03\n",
      " 2.20207520e-03 2.19615674e-03 2.14721586e-03 2.11435384e-03\n",
      " 2.07112504e-03 2.05421333e-03 1.98423508e-03 1.96281800e-03\n",
      " 1.84046584e-03 1.80832333e-03 1.73980158e-03 1.72319008e-03\n",
      " 1.68987886e-03 1.67931026e-03 1.63096736e-03 1.61416524e-03\n",
      " 1.57318356e-03 1.54959932e-03 1.51308990e-03 1.44039563e-03\n",
      " 1.43392940e-03 1.41810662e-03 1.37422988e-03 1.36640123e-03\n",
      " 1.34452072e-03 1.33479228e-03 1.26709750e-03 1.26064390e-03\n",
      " 1.24326686e-03 1.22343442e-03 1.19979524e-03 1.19741400e-03\n",
      " 1.18240876e-03 1.14966741e-03 1.11298623e-03 1.10073002e-03\n",
      " 1.08033519e-03 1.05666305e-03 1.03447542e-03 1.02517646e-03\n",
      " 1.00480982e-03 9.98111750e-04 9.87431572e-04 9.74925314e-04\n",
      " 9.61105568e-04 9.53051793e-04 9.44640863e-04 9.24154098e-04\n",
      " 9.19018100e-04 9.07414917e-04 8.89077402e-04 8.69212243e-04\n",
      " 8.65892270e-04 8.45811259e-04 8.41326722e-04 8.24575295e-04\n",
      " 8.15115048e-04 8.11763762e-04 7.91310579e-04 7.81107327e-04\n",
      " 7.67409730e-04 7.63312347e-04 7.56778887e-04 7.50803202e-04\n",
      " 7.46585901e-04 7.36917250e-04 7.31333803e-04 7.23469016e-04\n",
      " 7.18540618e-04 7.09341522e-04 7.01026704e-04 6.77089253e-04\n",
      " 6.73034248e-04 6.65305160e-04 6.58844873e-04 6.50043058e-04\n",
      " 6.47334703e-04 6.37773301e-04 6.31536034e-04 6.21144895e-04\n",
      " 6.17030099e-04 6.03766668e-04 5.99311805e-04 5.89583954e-04\n",
      " 5.85757313e-04 5.83962828e-04 5.77608570e-04 5.70867714e-04\n",
      " 5.68070231e-04 5.58527488e-04 5.53370757e-04 5.51240453e-04\n",
      " 5.46230228e-04 5.45207600e-04 5.29992392e-04 5.27308582e-04\n",
      " 5.25200672e-04 5.18000437e-04 5.12386970e-04 5.06052720e-04\n",
      " 5.01580199e-04 4.97381638e-04 4.92959127e-04 4.89402183e-04\n",
      " 4.88162796e-04 4.83174777e-04 4.81166254e-04 4.73749937e-04\n",
      " 4.72156794e-04 4.67066046e-04 4.66160258e-04 4.60364698e-04\n",
      " 4.50885941e-04 4.49978019e-04 4.43324315e-04 4.40062494e-04\n",
      " 4.38058086e-04 4.33106895e-04 4.30856299e-04 4.29547419e-04\n",
      " 4.28713237e-04 4.20572435e-04 4.15815058e-04 4.15431573e-04\n",
      " 4.13491910e-04 4.05854592e-04 4.04288194e-04 3.96742918e-04\n",
      " 3.96130137e-04 3.92161125e-04 3.88577673e-04 3.86339373e-04\n",
      " 3.85336123e-04 3.81661080e-04 3.78406594e-04 3.77464905e-04\n",
      " 3.76862026e-04 3.69726185e-04 3.68373710e-04 3.66999631e-04\n",
      " 3.64481428e-04 3.61034833e-04 3.58496936e-04 3.55504109e-04\n",
      " 3.54151405e-04 3.50016369e-04 3.48262986e-04 3.46247121e-04\n",
      " 3.44030561e-04 3.41769690e-04 3.38691092e-04 3.35441501e-04\n",
      " 3.34147859e-04 3.30748610e-04 3.26114896e-04 3.25312034e-04\n",
      " 3.22362171e-04 3.21159811e-04 3.19741140e-04 3.15863370e-04\n",
      " 3.14050816e-04 3.12350947e-04 3.10037853e-04 3.09299108e-04\n",
      " 3.07283112e-04 3.04468040e-04 3.03196564e-04 3.02084888e-04\n",
      " 2.99746816e-04 2.98228387e-04 2.96261598e-04 2.93496245e-04\n",
      " 2.89998673e-04 2.87519564e-04 2.86231213e-04 2.85654638e-04\n",
      " 2.84548477e-04 2.81213795e-04 2.78939128e-04 2.76700890e-04\n",
      " 2.75228887e-04 2.74260418e-04 2.72885299e-04 2.70880286e-04\n",
      " 2.70139537e-04 2.67869024e-04 2.65483385e-04 2.64658249e-04\n",
      " 2.63664710e-04 2.62706125e-04 2.59997063e-04 2.58779370e-04\n",
      " 2.57527454e-04 2.55278393e-04 2.54276452e-04 2.53503292e-04\n",
      " 2.52753062e-04 2.51537350e-04 2.50020108e-04 2.49487941e-04\n",
      " 2.46109998e-04 2.44012558e-04 2.43742768e-04 2.43555427e-04\n",
      " 2.41540877e-04 2.40681422e-04 2.39907716e-04 2.38147798e-04\n",
      " 2.35555433e-04 2.34544088e-04 2.33115639e-04 2.31562156e-04\n",
      " 2.30255306e-04 2.29577943e-04 2.28282983e-04 2.27153206e-04\n",
      " 2.25905720e-04 2.25051882e-04 2.24077231e-04 2.22755469e-04\n",
      " 2.21317858e-04 2.19793068e-04 2.18558204e-04 2.17343997e-04\n",
      " 2.16045817e-04 2.15536960e-04 2.14746474e-04 2.13594171e-04\n",
      " 2.12418019e-04 2.11986676e-04 2.10840329e-04 2.08519886e-04\n",
      " 2.07843333e-04 2.06405805e-04 2.06210497e-04 2.04949364e-04\n",
      " 2.03534124e-04 2.02204708e-04 2.01945909e-04 2.01459942e-04\n",
      " 1.99932341e-04 1.98581334e-04 1.96949338e-04 1.96801098e-04\n",
      " 1.96260793e-04 1.94840333e-04 1.94783717e-04 1.93788469e-04\n",
      " 1.92835062e-04 1.92672235e-04 1.91743749e-04 1.90124118e-04\n",
      " 1.88980626e-04 1.88883060e-04 1.87574426e-04 1.87017624e-04\n",
      " 1.86909207e-04 1.85730312e-04 1.83795137e-04 1.83361108e-04\n",
      " 1.82844429e-04 1.82255659e-04 1.81248357e-04 1.80279325e-04\n",
      " 1.79694121e-04 1.78521208e-04 1.77472343e-04 1.76652374e-04\n",
      " 1.76317209e-04 1.75029851e-04 1.73908951e-04 1.73696193e-04\n",
      " 1.72884957e-04 1.72227614e-04 1.70843265e-04 1.70570664e-04\n",
      " 1.69666687e-04 1.68626178e-04 1.68027651e-04 1.67742911e-04\n",
      " 1.66650842e-04 1.65696854e-04 1.65421757e-04 1.64548598e-04\n",
      " 1.63471093e-04 1.62895488e-04 1.62268058e-04 1.61573176e-04\n",
      " 1.60407266e-04 1.60114325e-04 1.59317272e-04 1.58904513e-04\n",
      " 1.58731382e-04 1.58334994e-04 1.57043350e-04 1.56444805e-04\n",
      " 1.55326400e-04 1.54538985e-04 1.54198415e-04 1.53524683e-04\n",
      " 1.53136634e-04 1.52784928e-04 1.51815522e-04 1.51136159e-04\n",
      " 1.50921696e-04 1.50200754e-04 1.49698398e-04 1.49397341e-04\n",
      " 1.48678528e-04 1.48136338e-04 1.47676177e-04 1.47602023e-04\n",
      " 1.45991820e-04 1.45788221e-04 1.45055861e-04 1.44642736e-04\n",
      " 1.43739541e-04 1.43387709e-04 1.42802459e-04 1.41885091e-04\n",
      " 1.41451553e-04 1.41026095e-04 1.40733067e-04 1.40112111e-04\n",
      " 1.39516085e-04 1.39352362e-04 1.38881120e-04 1.37834902e-04\n",
      " 1.37047389e-04 1.36824923e-04 1.36658969e-04 1.35908678e-04\n",
      " 1.35407142e-04 1.35136934e-04 1.34768078e-04 1.33850240e-04\n",
      " 1.33499149e-04 1.33398013e-04 1.32964717e-04 1.32374602e-04\n",
      " 1.31609214e-04 1.31438004e-04 1.30254517e-04 1.29996462e-04\n",
      " 1.29628973e-04 1.29046115e-04 1.28653906e-04 1.28050406e-04\n",
      " 1.27805064e-04 1.27349019e-04 1.26656999e-04 1.26007069e-04\n",
      " 1.25562875e-04 1.25067276e-04 1.24774700e-04 1.23888178e-04\n",
      " 1.23639241e-04 1.23403569e-04 1.23088486e-04 1.22791868e-04\n",
      " 1.22177291e-04 1.21626547e-04 1.21509130e-04 1.20554313e-04\n",
      " 1.20437239e-04 1.19775823e-04 1.19267892e-04 1.19171861e-04\n",
      " 1.18578892e-04 1.18294879e-04 1.17950462e-04 1.17668297e-04\n",
      " 1.17470742e-04 1.17073718e-04 1.16852659e-04 1.16295060e-04\n",
      " 1.16120385e-04 1.15673748e-04 1.15330524e-04 1.14818782e-04\n",
      " 1.14456459e-04 1.14178850e-04 1.13854267e-04 1.13433985e-04\n",
      " 1.13218540e-04 1.12884369e-04 1.12629863e-04 1.12092974e-04\n",
      " 1.11795621e-04 1.11294920e-04 1.11071516e-04 1.10177823e-04\n",
      " 1.09744183e-04 1.09452456e-04 1.09076043e-04 1.08865273e-04\n",
      " 1.08433849e-04 1.08243686e-04 1.07302610e-04 1.07087060e-04\n",
      " 1.06853128e-04 1.06682033e-04 1.06443966e-04 1.05949834e-04\n",
      " 1.05732795e-04 1.05156665e-04 1.04816127e-04 1.04225299e-04\n",
      " 1.04103828e-04 1.03566323e-04 1.03269563e-04 1.03089770e-04\n",
      " 1.02939296e-04 1.02571246e-04 1.02425270e-04 1.02041923e-04\n",
      " 1.01252042e-04 1.01046147e-04 1.00669073e-04 1.00416652e-04\n",
      " 1.00403495e-04 1.00104233e-04 9.92989618e-05 9.91882547e-05\n",
      " 9.90436019e-05 9.87281075e-05 9.82686348e-05 9.82342150e-05\n",
      " 9.79441930e-05 9.76045175e-05 9.74998707e-05 9.69261798e-05\n",
      " 9.67325902e-05 9.65037721e-05 9.62443191e-05 9.56946897e-05\n",
      " 9.54037113e-05 9.53125564e-05 9.45872602e-05 9.42288479e-05\n",
      " 9.41328267e-05 9.38855326e-05 9.36780908e-05 9.34053038e-05\n",
      " 9.31147451e-05 9.28429565e-05 9.25597727e-05 9.23327690e-05\n",
      " 9.19703861e-05 9.16626071e-05 9.14711295e-05 9.12204287e-05\n",
      " 9.07766418e-05 9.02563418e-05 9.00415604e-05 8.98975239e-05\n",
      " 8.96935418e-05 8.91120826e-05 8.90064581e-05 8.86111536e-05\n",
      " 8.84728514e-05 8.83272389e-05 8.80788606e-05]\n"
     ]
    },
    {
     "name": "stderr",
     "output_type": "stream",
     "text": [
      "C:\\Users\\pooja\\Anaconda3\\lib\\site-packages\\sklearn\\metrics\\classification.py:1135: UndefinedMetricWarning: Precision is ill-defined and being set to 0.0 due to no predicted samples.\n",
      "  'precision', 'predicted', average, warn_for)\n",
      "C:\\Users\\pooja\\Anaconda3\\lib\\site-packages\\sklearn\\metrics\\classification.py:1135: UndefinedMetricWarning: F-score is ill-defined and being set to 0.0 due to no predicted samples.\n",
      "  'precision', 'predicted', average, warn_for)\n"
     ]
    },
    {
     "name": "stdout",
     "output_type": "stream",
     "text": [
      "\n",
      " Williams : \n",
      " PCA  {'fit_time': array([0.68622255, 0.46879554, 0.52011752]), 'score_time': array([33.60252047, 40.32205915, 37.0955503 ]), 'test_precision': array([1., 0., 1.]), 'test_recall': array([0.11111111, 0.        , 0.11764706]), 'test_f1': array([0.2       , 0.        , 0.21052632])}\n",
      "\n",
      " 0.13684210526315788\n"
     ]
    }
   ],
   "source": [
    "    \n",
    "pca = PCA(n_components= 0.95 , copy=False, whiten=True, svd_solver='auto',  iterated_power='auto')\n",
    "X_pca = pca.fit_transform(X)\n",
    "print(\"\\n Var ratio : \",pca.explained_variance_ratio_)\n",
    "knn = KNeighborsClassifier(n_neighbors = 1, n_jobs = -1)\n",
    "stratified_cv_results_n1pca_williams3 = cross_validate(knn,X_pca,y_williams,cv=StratifiedKFold(n_splits=3,shuffle = True, random_state=6099),\n",
    "                                      scoring = ('precision','recall','f1'),return_train_score= False)\n",
    "print(\"\\n Williams : \\n PCA \",stratified_cv_results_n1pca_williams3)\n",
    "print(\"\\n\",statistics.mean(stratified_cv_results_n1pca_williams3['test_f1']))"
   ]
  },
  {
   "cell_type": "code",
   "execution_count": 59,
   "metadata": {},
   "outputs": [
    {
     "name": "stdout",
     "output_type": "stream",
     "text": [
      "\n",
      " Var ratio :  [2.41358448e-01 7.51727306e-02 4.77613831e-02 4.18829603e-02\n",
      " 3.54564908e-02 2.78264068e-02 2.55215688e-02 2.24949951e-02\n",
      " 1.97408585e-02 1.82509098e-02 1.68165059e-02 1.50037592e-02\n",
      " 1.28975176e-02 1.22550476e-02 1.03093686e-02 9.65637513e-03\n",
      " 8.59539885e-03 8.48690733e-03 7.75937054e-03 6.77256681e-03\n",
      " 6.44569607e-03 6.29838831e-03 5.82220723e-03 5.40422122e-03\n",
      " 5.28577957e-03 5.12834864e-03 4.85368645e-03 4.53970439e-03\n",
      " 4.41997137e-03 4.20461989e-03 4.01523884e-03 3.94703878e-03\n",
      " 3.82574832e-03 3.74219246e-03 3.54690784e-03 3.47546485e-03\n",
      " 3.35136682e-03 3.23232973e-03 3.16216759e-03 3.13055949e-03\n",
      " 2.91462726e-03 2.74928288e-03 2.68408089e-03 2.67284880e-03\n",
      " 2.57221254e-03 2.46147459e-03 2.40622043e-03 2.23866775e-03\n",
      " 2.20207520e-03 2.19615674e-03 2.14721586e-03 2.11435384e-03\n",
      " 2.07112504e-03 2.05421333e-03 1.98423508e-03 1.96281800e-03\n",
      " 1.84046584e-03 1.80832333e-03 1.73980158e-03 1.72319008e-03\n",
      " 1.68987886e-03 1.67931026e-03 1.63096736e-03 1.61416524e-03\n",
      " 1.57318356e-03 1.54959932e-03 1.51308990e-03 1.44039563e-03\n",
      " 1.43392940e-03 1.41810662e-03 1.37422988e-03 1.36640123e-03\n",
      " 1.34452072e-03 1.33479228e-03 1.26709750e-03 1.26064390e-03\n",
      " 1.24326686e-03 1.22343442e-03 1.19979524e-03 1.19741400e-03\n",
      " 1.18240876e-03 1.14966741e-03 1.11298623e-03 1.10073002e-03\n",
      " 1.08033519e-03 1.05666305e-03 1.03447542e-03 1.02517646e-03\n",
      " 1.00480982e-03 9.98111750e-04 9.87431572e-04 9.74925314e-04\n",
      " 9.61105568e-04 9.53051793e-04 9.44640863e-04 9.24154098e-04\n",
      " 9.19018100e-04 9.07414917e-04 8.89077402e-04 8.69212243e-04\n",
      " 8.65892270e-04 8.45811259e-04 8.41326722e-04 8.24575295e-04\n",
      " 8.15115048e-04 8.11763762e-04 7.91310579e-04 7.81107327e-04\n",
      " 7.67409730e-04 7.63312347e-04 7.56778887e-04 7.50803202e-04\n",
      " 7.46585901e-04 7.36917250e-04 7.31333803e-04 7.23469016e-04\n",
      " 7.18540618e-04 7.09341522e-04 7.01026704e-04 6.77089253e-04\n",
      " 6.73034248e-04 6.65305160e-04 6.58844873e-04 6.50043058e-04\n",
      " 6.47334703e-04 6.37773301e-04 6.31536034e-04 6.21144895e-04\n",
      " 6.17030099e-04 6.03766668e-04 5.99311805e-04 5.89583954e-04\n",
      " 5.85757313e-04 5.83962828e-04 5.77608570e-04 5.70867714e-04\n",
      " 5.68070231e-04 5.58527488e-04 5.53370757e-04 5.51240453e-04\n",
      " 5.46230228e-04 5.45207600e-04 5.29992392e-04 5.27308582e-04\n",
      " 5.25200672e-04 5.18000437e-04 5.12386970e-04 5.06052720e-04\n",
      " 5.01580199e-04 4.97381638e-04 4.92959127e-04 4.89402183e-04\n",
      " 4.88162796e-04 4.83174777e-04 4.81166254e-04 4.73749937e-04\n",
      " 4.72156794e-04 4.67066046e-04 4.66160258e-04 4.60364698e-04\n",
      " 4.50885941e-04 4.49978019e-04 4.43324315e-04 4.40062494e-04\n",
      " 4.38058086e-04 4.33106895e-04 4.30856299e-04 4.29547419e-04\n",
      " 4.28713237e-04 4.20572435e-04 4.15815058e-04 4.15431573e-04\n",
      " 4.13491910e-04 4.05854592e-04 4.04288194e-04 3.96742918e-04\n",
      " 3.96130137e-04 3.92161125e-04 3.88577673e-04 3.86339373e-04\n",
      " 3.85336123e-04 3.81661080e-04 3.78406594e-04 3.77464905e-04\n",
      " 3.76862026e-04 3.69726185e-04 3.68373710e-04 3.66999631e-04\n",
      " 3.64481428e-04 3.61034833e-04 3.58496936e-04 3.55504109e-04\n",
      " 3.54151405e-04 3.50016369e-04 3.48262986e-04 3.46247121e-04\n",
      " 3.44030561e-04 3.41769690e-04 3.38691092e-04 3.35441501e-04\n",
      " 3.34147859e-04 3.30748610e-04 3.26114896e-04 3.25312034e-04\n",
      " 3.22362171e-04 3.21159811e-04 3.19741140e-04 3.15863370e-04\n",
      " 3.14050816e-04 3.12350947e-04 3.10037853e-04 3.09299108e-04\n",
      " 3.07283112e-04 3.04468040e-04 3.03196564e-04 3.02084888e-04\n",
      " 2.99746816e-04 2.98228387e-04 2.96261598e-04 2.93496245e-04\n",
      " 2.89998673e-04 2.87519564e-04 2.86231213e-04 2.85654638e-04\n",
      " 2.84548477e-04 2.81213795e-04 2.78939128e-04 2.76700890e-04\n",
      " 2.75228887e-04 2.74260418e-04 2.72885299e-04 2.70880286e-04\n",
      " 2.70139537e-04 2.67869024e-04 2.65483385e-04 2.64658249e-04\n",
      " 2.63664710e-04 2.62706125e-04 2.59997063e-04 2.58779370e-04\n",
      " 2.57527454e-04 2.55278393e-04 2.54276452e-04 2.53503292e-04\n",
      " 2.52753062e-04 2.51537350e-04 2.50020108e-04 2.49487941e-04\n",
      " 2.46109998e-04 2.44012558e-04 2.43742768e-04 2.43555427e-04\n",
      " 2.41540877e-04 2.40681422e-04 2.39907716e-04 2.38147798e-04\n",
      " 2.35555433e-04 2.34544088e-04 2.33115639e-04 2.31562156e-04\n",
      " 2.30255306e-04 2.29577943e-04 2.28282983e-04 2.27153206e-04\n",
      " 2.25905720e-04 2.25051882e-04 2.24077231e-04 2.22755469e-04\n",
      " 2.21317858e-04 2.19793068e-04 2.18558204e-04 2.17343997e-04\n",
      " 2.16045817e-04 2.15536960e-04 2.14746474e-04 2.13594171e-04\n",
      " 2.12418019e-04 2.11986676e-04 2.10840329e-04 2.08519886e-04\n",
      " 2.07843333e-04 2.06405805e-04 2.06210497e-04 2.04949364e-04\n",
      " 2.03534124e-04 2.02204708e-04 2.01945909e-04 2.01459942e-04\n",
      " 1.99932341e-04 1.98581334e-04 1.96949338e-04 1.96801098e-04\n",
      " 1.96260793e-04 1.94840333e-04 1.94783717e-04 1.93788469e-04\n",
      " 1.92835062e-04 1.92672235e-04 1.91743749e-04 1.90124118e-04\n",
      " 1.88980626e-04 1.88883060e-04 1.87574426e-04 1.87017624e-04\n",
      " 1.86909207e-04 1.85730312e-04 1.83795137e-04 1.83361108e-04\n",
      " 1.82844429e-04 1.82255659e-04 1.81248357e-04 1.80279325e-04\n",
      " 1.79694121e-04 1.78521208e-04 1.77472343e-04 1.76652374e-04\n",
      " 1.76317209e-04 1.75029851e-04 1.73908951e-04 1.73696193e-04\n",
      " 1.72884957e-04 1.72227614e-04 1.70843265e-04 1.70570664e-04\n",
      " 1.69666687e-04 1.68626178e-04 1.68027651e-04 1.67742911e-04\n",
      " 1.66650842e-04 1.65696854e-04 1.65421757e-04 1.64548598e-04\n",
      " 1.63471093e-04 1.62895488e-04 1.62268058e-04 1.61573176e-04\n",
      " 1.60407266e-04 1.60114325e-04 1.59317272e-04 1.58904513e-04\n",
      " 1.58731382e-04 1.58334994e-04 1.57043350e-04 1.56444805e-04\n",
      " 1.55326400e-04 1.54538985e-04 1.54198415e-04 1.53524683e-04\n",
      " 1.53136634e-04 1.52784928e-04 1.51815522e-04 1.51136159e-04\n",
      " 1.50921696e-04 1.50200754e-04 1.49698398e-04 1.49397341e-04\n",
      " 1.48678528e-04 1.48136338e-04 1.47676177e-04 1.47602023e-04\n",
      " 1.45991820e-04 1.45788221e-04 1.45055861e-04 1.44642736e-04\n",
      " 1.43739541e-04 1.43387709e-04 1.42802459e-04 1.41885091e-04\n",
      " 1.41451553e-04 1.41026095e-04 1.40733067e-04 1.40112111e-04\n",
      " 1.39516085e-04 1.39352362e-04 1.38881120e-04 1.37834902e-04\n",
      " 1.37047389e-04 1.36824923e-04 1.36658969e-04 1.35908678e-04\n",
      " 1.35407142e-04 1.35136934e-04 1.34768078e-04 1.33850240e-04\n",
      " 1.33499149e-04 1.33398013e-04 1.32964717e-04 1.32374602e-04\n",
      " 1.31609214e-04 1.31438004e-04 1.30254517e-04 1.29996462e-04\n",
      " 1.29628973e-04 1.29046115e-04 1.28653906e-04 1.28050406e-04\n",
      " 1.27805064e-04 1.27349019e-04 1.26656999e-04 1.26007069e-04\n",
      " 1.25562875e-04 1.25067276e-04 1.24774700e-04 1.23888178e-04\n",
      " 1.23639241e-04 1.23403569e-04 1.23088486e-04 1.22791868e-04\n",
      " 1.22177291e-04 1.21626547e-04 1.21509130e-04 1.20554313e-04\n",
      " 1.20437239e-04 1.19775823e-04 1.19267892e-04 1.19171861e-04\n",
      " 1.18578892e-04 1.18294879e-04 1.17950462e-04 1.17668297e-04\n",
      " 1.17470742e-04 1.17073718e-04 1.16852659e-04 1.16295060e-04\n",
      " 1.16120385e-04 1.15673748e-04 1.15330524e-04 1.14818782e-04\n",
      " 1.14456459e-04 1.14178850e-04 1.13854267e-04 1.13433985e-04\n",
      " 1.13218540e-04 1.12884369e-04 1.12629863e-04 1.12092974e-04\n",
      " 1.11795621e-04 1.11294920e-04 1.11071516e-04 1.10177823e-04\n",
      " 1.09744183e-04 1.09452456e-04 1.09076043e-04 1.08865273e-04\n",
      " 1.08433849e-04 1.08243686e-04 1.07302610e-04 1.07087060e-04\n",
      " 1.06853128e-04 1.06682033e-04 1.06443966e-04 1.05949834e-04\n",
      " 1.05732795e-04 1.05156665e-04 1.04816127e-04 1.04225299e-04\n",
      " 1.04103828e-04 1.03566323e-04 1.03269563e-04 1.03089770e-04\n",
      " 1.02939296e-04 1.02571246e-04 1.02425270e-04 1.02041923e-04\n",
      " 1.01252042e-04 1.01046147e-04 1.00669073e-04 1.00416652e-04\n",
      " 1.00403495e-04 1.00104233e-04 9.92989618e-05 9.91882547e-05\n",
      " 9.90436019e-05 9.87281075e-05 9.82686348e-05 9.82342150e-05\n",
      " 9.79441930e-05 9.76045175e-05 9.74998707e-05 9.69261798e-05\n",
      " 9.67325902e-05 9.65037721e-05 9.62443191e-05 9.56946897e-05\n",
      " 9.54037113e-05 9.53125564e-05 9.45872602e-05 9.42288479e-05\n",
      " 9.41328267e-05 9.38855326e-05 9.36780908e-05 9.34053038e-05\n",
      " 9.31147451e-05 9.28429565e-05 9.25597727e-05 9.23327690e-05\n",
      " 9.19703861e-05 9.16626071e-05 9.14711295e-05 9.12204287e-05\n",
      " 9.07766418e-05 9.02563418e-05 9.00415604e-05 8.98975239e-05\n",
      " 8.96935418e-05 8.91120826e-05 8.90064581e-05 8.86111536e-05\n",
      " 8.84728514e-05 8.83272389e-05 8.80788606e-05 8.79762329e-05\n",
      " 8.77231800e-05 8.75257392e-05 8.65411978e-05 8.64659239e-05\n",
      " 8.63186492e-05 8.61365182e-05 8.58978566e-05 8.58406737e-05\n",
      " 8.57529213e-05 8.53305969e-05 8.52014794e-05 8.48300322e-05\n",
      " 8.48170083e-05 8.45551475e-05 8.42252208e-05 8.40649451e-05\n",
      " 8.36017022e-05 8.35276644e-05 8.34015826e-05 8.30161519e-05\n",
      " 8.28994347e-05 8.27565327e-05 8.25208396e-05 8.20887787e-05\n",
      " 8.16690908e-05 8.14152692e-05 8.12571087e-05 8.11503078e-05\n",
      " 8.08395078e-05 8.06447671e-05 8.04738845e-05 8.02531993e-05\n",
      " 7.99976182e-05 7.98212200e-05 7.96909879e-05 7.94942278e-05\n",
      " 7.91873216e-05 7.90468271e-05 7.89300635e-05 7.86188522e-05\n",
      " 7.82803973e-05 7.81968098e-05 7.80540614e-05 7.78267568e-05\n",
      " 7.75016239e-05 7.71832521e-05 7.71449304e-05 7.69844329e-05\n",
      " 7.66039659e-05 7.64146708e-05 7.62858702e-05 7.60055375e-05\n",
      " 7.57531203e-05 7.56146748e-05 7.54557981e-05 7.52860026e-05\n",
      " 7.50443604e-05 7.49566326e-05 7.47221331e-05 7.44375331e-05\n",
      " 7.41833117e-05 7.40200098e-05 7.39554145e-05 7.36147477e-05\n",
      " 7.33575273e-05 7.32488395e-05 7.30783557e-05 7.27934504e-05\n",
      " 7.26015871e-05 7.24899364e-05 7.23561467e-05 7.21507343e-05\n",
      " 7.19756252e-05 7.19403001e-05 7.16656540e-05 7.15962469e-05\n",
      " 7.14350338e-05 7.10376306e-05 7.08844028e-05 7.06881719e-05\n",
      " 7.05149735e-05 7.03916928e-05 7.02660235e-05 7.00060831e-05\n",
      " 6.98327381e-05 6.96054005e-05 6.94592715e-05 6.94169947e-05\n",
      " 6.91613198e-05 6.90104111e-05 6.86551746e-05 6.85902497e-05\n",
      " 6.84395453e-05 6.82659004e-05 6.81216013e-05 6.80180314e-05\n",
      " 6.78692195e-05 6.77041857e-05 6.75128695e-05 6.72000847e-05\n",
      " 6.70672720e-05 6.70019150e-05 6.67857665e-05 6.65420680e-05\n",
      " 6.65153620e-05 6.63497400e-05 6.61296904e-05 6.59313643e-05\n",
      " 6.58479254e-05 6.57499348e-05 6.55487643e-05 6.53403268e-05\n",
      " 6.51488581e-05 6.50698302e-05 6.48887107e-05 6.48605939e-05\n",
      " 6.46689025e-05 6.45042698e-05 6.43441030e-05 6.41189878e-05\n",
      " 6.40653807e-05 6.38962155e-05 6.36126072e-05 6.35176652e-05\n",
      " 6.32118117e-05 6.30727037e-05 6.29065434e-05 6.28625787e-05\n",
      " 6.27119817e-05 6.25225168e-05 6.23165306e-05 6.20460056e-05\n",
      " 6.19466813e-05 6.17650154e-05 6.16477135e-05 6.14848507e-05\n",
      " 6.12742151e-05 6.12351046e-05 6.09952897e-05 6.08043687e-05\n",
      " 6.07054232e-05 6.06578551e-05 6.05878357e-05 6.03461556e-05\n",
      " 6.02728049e-05 6.00753845e-05 6.00338367e-05 5.98448894e-05\n",
      " 5.97326850e-05 5.95654732e-05 5.93689534e-05 5.93256787e-05\n",
      " 5.92349132e-05 5.91571964e-05 5.90737582e-05 5.88306689e-05\n",
      " 5.86835014e-05 5.85861141e-05 5.84195428e-05 5.82648724e-05\n",
      " 5.80643956e-05 5.80419954e-05 5.79585516e-05 5.76468322e-05\n",
      " 5.75676355e-05 5.74379511e-05 5.73182977e-05 5.71423383e-05\n",
      " 5.70524056e-05 5.68831834e-05 5.67244418e-05 5.66762774e-05\n",
      " 5.66160059e-05 5.65288207e-05 5.64809127e-05 5.62960605e-05\n",
      " 5.61463067e-05 5.61150431e-05 5.59785726e-05 5.57969339e-05\n",
      " 5.55966270e-05 5.55598568e-05 5.54502901e-05 5.53305180e-05\n",
      " 5.51935812e-05 5.51525682e-05 5.48828656e-05 5.47789928e-05\n",
      " 5.46943882e-05 5.45705416e-05 5.44220557e-05 5.43430389e-05\n",
      " 5.41152933e-05 5.39426921e-05 5.39158553e-05 5.38394360e-05\n",
      " 5.37113289e-05 5.36068325e-05 5.34113053e-05 5.33836748e-05\n",
      " 5.32555515e-05 5.31794592e-05 5.30409381e-05 5.29607904e-05\n",
      " 5.28501722e-05 5.26892127e-05 5.26432158e-05 5.24808737e-05\n",
      " 5.23309133e-05 5.23018494e-05 5.21453906e-05 5.20628396e-05\n",
      " 5.18728272e-05 5.18342893e-05 5.16890482e-05 5.15258054e-05\n",
      " 5.14103121e-05 5.12519861e-05 5.11129268e-05 5.10733876e-05\n",
      " 5.09679289e-05 5.08326314e-05 5.06306099e-05 5.05801054e-05\n",
      " 5.05351151e-05 5.03581223e-05 5.02429747e-05 5.01581043e-05\n",
      " 5.00903988e-05 4.99598209e-05 4.98704692e-05 4.97117303e-05\n",
      " 4.96486764e-05 4.94610427e-05 4.94155276e-05 4.93233330e-05\n",
      " 4.92527399e-05 4.91898511e-05 4.91661963e-05 4.90026900e-05\n",
      " 4.89142408e-05 4.87685558e-05 4.86669793e-05 4.86077873e-05\n",
      " 4.84310484e-05 4.83570754e-05 4.82088687e-05 4.81462669e-05\n",
      " 4.80391229e-05 4.79484689e-05 4.78406016e-05 4.77684262e-05\n",
      " 4.76491970e-05 4.76062497e-05 4.74151522e-05 4.73882609e-05\n",
      " 4.72623890e-05 4.72181699e-05 4.72055336e-05 4.70940548e-05\n",
      " 4.69916091e-05 4.69351002e-05 4.68329098e-05 4.67065425e-05\n",
      " 4.66404516e-05 4.65918293e-05 4.64408782e-05 4.63535706e-05\n",
      " 4.62827862e-05 4.62354891e-05 4.60356021e-05 4.60093307e-05\n",
      " 4.59829844e-05 4.59362975e-05 4.56585203e-05 4.56217000e-05\n",
      " 4.55152768e-05 4.53577321e-05 4.53209749e-05 4.52619108e-05\n",
      " 4.52231552e-05 4.51069186e-05 4.49694165e-05 4.48900623e-05\n",
      " 4.47707650e-05 4.46988284e-05 4.45766071e-05 4.45004649e-05\n",
      " 4.44512921e-05 4.44253183e-05 4.42701876e-05 4.41184628e-05\n",
      " 4.40171774e-05 4.39124461e-05 4.38538100e-05 4.37800576e-05\n",
      " 4.36222060e-05 4.35973713e-05 4.35683721e-05 4.34548435e-05\n",
      " 4.34254072e-05 4.32411496e-05 4.31984802e-05 4.31254493e-05\n",
      " 4.30600124e-05 4.29160545e-05 4.28239034e-05 4.27577611e-05\n",
      " 4.27387259e-05 4.26989075e-05 4.25513677e-05 4.25189546e-05\n",
      " 4.24649477e-05 4.23963933e-05 4.23117448e-05 4.22043186e-05\n",
      " 4.21572370e-05 4.20408230e-05 4.20109253e-05 4.18763568e-05\n",
      " 4.18493991e-05 4.18034224e-05 4.17256501e-05 4.16619772e-05\n",
      " 4.16199847e-05 4.15361095e-05 4.14253548e-05 4.11940406e-05\n",
      " 4.11727784e-05 4.10949734e-05 4.10401402e-05 4.09020898e-05\n",
      " 4.08583023e-05 4.08273603e-05 4.07256046e-05]\n"
     ]
    },
    {
     "name": "stderr",
     "output_type": "stream",
     "text": [
      "C:\\Users\\pooja\\Anaconda3\\lib\\site-packages\\sklearn\\metrics\\classification.py:1135: UndefinedMetricWarning: Precision is ill-defined and being set to 0.0 due to no predicted samples.\n",
      "  'precision', 'predicted', average, warn_for)\n",
      "C:\\Users\\pooja\\Anaconda3\\lib\\site-packages\\sklearn\\metrics\\classification.py:1135: UndefinedMetricWarning: F-score is ill-defined and being set to 0.0 due to no predicted samples.\n",
      "  'precision', 'predicted', average, warn_for)\n"
     ]
    },
    {
     "name": "stdout",
     "output_type": "stream",
     "text": [
      "\n",
      " Williams : \n",
      " PCA  {'fit_time': array([0.89265275, 0.80721593, 0.80659914]), 'score_time': array([61.48253608, 60.34544039, 67.8477335 ]), 'test_precision': array([1., 0., 1.]), 'test_recall': array([0.11111111, 0.        , 0.11764706]), 'test_f1': array([0.2       , 0.        , 0.21052632])}\n",
      "\n",
      " 0.13684210526315788\n"
     ]
    }
   ],
   "source": [
    "    \n",
    "pca = PCA(n_components= 0.97 , copy=False, whiten=True, svd_solver='auto',  iterated_power='auto')\n",
    "X_pca = pca.fit_transform(X)\n",
    "print(\"\\n Var ratio : \",pca.explained_variance_ratio_)\n",
    "knn = KNeighborsClassifier(n_neighbors = 1, n_jobs = -1)\n",
    "stratified_cv_results_n1pca_williams4 = cross_validate(knn,X_pca,y_williams,cv=StratifiedKFold(n_splits=3,shuffle = True, random_state=6099),\n",
    "                                      scoring = ('precision','recall','f1'),return_train_score= False)\n",
    "print(\"\\n Williams : \\n PCA \",stratified_cv_results_n1pca_williams4)\n",
    "print(\"\\n\",statistics.mean(stratified_cv_results_n1pca_williams4['test_f1']))"
   ]
  },
  {
   "cell_type": "code",
   "execution_count": 88,
   "metadata": {},
   "outputs": [
    {
     "name": "stdout",
     "output_type": "stream",
     "text": [
      "\n",
      " Williams : \n",
      " PCA  {'fit_time': array([0.05018806, 0.04488063, 0.09088922]), 'score_time': array([3.93351698, 3.83335137, 4.25858355]), 'test_precision': array([0.42857143, 0.33333333, 0.33333333]), 'test_recall': array([0.16666667, 0.11764706, 0.11764706]), 'test_f1': array([0.24      , 0.17391304, 0.17391304])}\n",
      "\n",
      " 0.19594202898550725\n"
     ]
    }
   ],
   "source": [
    "    \n",
    "pca = PCA(n_components= 64 , copy=False, whiten=True, svd_solver='auto',  iterated_power='auto')\n",
    "X_pca = pca.fit_transform(X)\n",
    "# print(\"\\n Var ratio : \",pca.explained_variance_ratio_)\n",
    "knn = KNeighborsClassifier(n_neighbors = 1, n_jobs = -1)\n",
    "stratified_cv_results_n1pca_williams1879hjnlsm = cross_validate(knn,X_pca,y_williams,cv=StratifiedKFold(n_splits=3,shuffle = True, random_state=6099),\n",
    "                                      scoring = ('precision','recall','f1'),return_train_score= False)\n",
    "print(\"\\n Williams : \\n PCA \",stratified_cv_results_n1pca_williams1879hjnlsm)\n",
    "print(\"\\n\",statistics.mean(stratified_cv_results_n1pca_williams1879hjnlsm['test_f1']))"
   ]
  },
  {
   "cell_type": "code",
   "execution_count": null,
   "metadata": {},
   "outputs": [],
   "source": []
  },
  {
   "cell_type": "code",
   "execution_count": null,
   "metadata": {},
   "outputs": [],
   "source": []
  },
  {
   "cell_type": "markdown",
   "metadata": {},
   "source": [
    "# PCA SVC WILLIAMS"
   ]
  },
  {
   "cell_type": "code",
   "execution_count": 60,
   "metadata": {},
   "outputs": [
    {
     "name": "stdout",
     "output_type": "stream",
     "text": [
      "\n",
      " Bush : \n",
      " PCA :   {'fit_time': array([3.30322027, 3.00263548, 3.06485653]), 'score_time': array([3.9713304 , 3.66414857, 3.67611933]), 'test_precision': array([1.        , 1.        , 0.57142857]), 'test_recall': array([0.44444444, 0.29411765, 0.47058824]), 'test_f1': array([0.61538462, 0.45454545, 0.51612903])}\n",
      "\n",
      " 0.5286863673960448\n"
     ]
    }
   ],
   "source": [
    "\n",
    "pca = PCA(n_components= 0.97 )\n",
    "X_pca = pca.fit_transform(X)\n",
    "svc = SVC(C = 4.0 , kernel = 'poly', coef0= 5.0  ,degree = 10 , gamma=1/(X.shape[1]*X.std()) )\n",
    "\n",
    "stratified_cv_results_svc1_bushpcaSVC1 = cross_validate(svc,X_pca,y_williams,cv=StratifiedKFold(n_splits=3,shuffle = True, random_state=6099),\n",
    "                                      scoring = ('precision','recall','f1'),return_train_score= False)\n",
    "print(\"\\n  : \\n PCA :  \",stratified_cv_results_svc1_bushpcaSVC1)\n",
    "print(\"\\n\",statistics.mean(stratified_cv_results_svc1_bushpcaSVC1['test_f1']))\n"
   ]
  },
  {
   "cell_type": "code",
   "execution_count": 63,
   "metadata": {},
   "outputs": [
    {
     "name": "stdout",
     "output_type": "stream",
     "text": [
      "\n",
      "  : \n",
      " PCA :   {'fit_time': array([1.82016611, 1.91288447, 1.60271573]), 'score_time': array([1.91584539, 2.26398802, 1.79125261]), 'test_precision': array([0.88888889, 1.        , 0.6       ]), 'test_recall': array([0.44444444, 0.35294118, 0.52941176]), 'test_f1': array([0.59259259, 0.52173913, 0.5625    ])}\n",
      "\n",
      " 0.5589439076757917\n"
     ]
    }
   ],
   "source": [
    "\n",
    "pca = PCA(n_components= 0.95 )\n",
    "X_pca = pca.fit_transform(X)\n",
    "svc = SVC(C = 4.0 , kernel = 'poly', coef0= 5.0  ,degree = 10 , gamma=1/(X.shape[1]*X.std()) )\n",
    "\n",
    "stratified_cv_results_svc1_bushpcaSVC2 = cross_validate(svc,X_pca,y_williams,cv=StratifiedKFold(n_splits=3,shuffle = True, random_state=6099),\n",
    "                                      scoring = ('precision','recall','f1'),return_train_score= False)\n",
    "print(\"\\n  : \\n PCA :  \",stratified_cv_results_svc1_bushpcaSVC2)\n",
    "print(\"\\n\",statistics.mean(stratified_cv_results_svc1_bushpcaSVC2['test_f1']))\n"
   ]
  },
  {
   "cell_type": "code",
   "execution_count": 93,
   "metadata": {},
   "outputs": [
    {
     "name": "stdout",
     "output_type": "stream",
     "text": [
      "# com :  511\n",
      "\n",
      "  : \n",
      " PCA :   {'fit_time': array([1.90686274, 1.45790696, 1.48084068]), 'score_time': array([2.12238979, 1.69272685, 1.84781885]), 'test_precision': array([0.88888889, 1.        , 0.6       ]), 'test_recall': array([0.44444444, 0.35294118, 0.52941176]), 'test_f1': array([0.59259259, 0.52173913, 0.5625    ])}\n",
      "\n",
      " 0.5589439076757917\n"
     ]
    }
   ],
   "source": [
    "#  print # components\n",
    "pca = PCA(n_components= 0.95 )\n",
    "X_pca = pca.fit_transform(X)\n",
    "print(\"# com : \",pca.n_components_)\n",
    "svc = SVC(C = 4.0 , kernel = 'poly', coef0= 5.0  ,degree = 10 , gamma=1/(X.shape[1]*X.std()) )\n",
    "\n",
    "stratified_cv_results_svc1_bushpcaSVC2print = cross_validate(svc,X_pca,y_williams,cv=StratifiedKFold(n_splits=3,shuffle = True, random_state=6099),\n",
    "                                      scoring = ('precision','recall','f1'),return_train_score= False)\n",
    "print(\"\\n  : \\n PCA :  \",stratified_cv_results_svc1_bushpcaSVC2print)\n",
    "print(\"\\n\",statistics.mean(stratified_cv_results_svc1_bushpcaSVC2print['test_f1']))\n"
   ]
  },
  {
   "cell_type": "code",
   "execution_count": null,
   "metadata": {},
   "outputs": [],
   "source": []
  },
  {
   "cell_type": "code",
   "execution_count": 64,
   "metadata": {},
   "outputs": [
    {
     "name": "stdout",
     "output_type": "stream",
     "text": [
      "\n",
      "  : \n",
      " PCA :   {'fit_time': array([3.89459014, 2.63196611, 2.1971817 ]), 'score_time': array([3.5804646 , 2.66391754, 2.7097404 ]), 'test_precision': array([1.        , 0.85714286, 0.57142857]), 'test_recall': array([0.44444444, 0.35294118, 0.47058824]), 'test_f1': array([0.61538462, 0.5       , 0.51612903])}\n",
      "\n",
      " 0.5438378825475599\n"
     ]
    }
   ],
   "source": [
    "\n",
    "pca = PCA(n_components= 700)\n",
    "X_pca = pca.fit_transform(X)\n",
    "svc = SVC(C = 4.0 , kernel = 'poly', coef0= 5.0  ,degree = 10 , gamma=1/(X.shape[1]*X.std()) )\n",
    "\n",
    "stratified_cv_results_svc1_bushpcaSVC3 = cross_validate(svc,X_pca,y_williams,cv=StratifiedKFold(n_splits=3,shuffle = True, random_state=6099),\n",
    "                                      scoring = ('precision','recall','f1'),return_train_score= False)\n",
    "print(\"\\n  : \\n PCA :  \",stratified_cv_results_svc1_bushpcaSVC3)\n",
    "print(\"\\n\",statistics.mean(stratified_cv_results_svc1_bushpcaSVC3['test_f1']))\n"
   ]
  },
  {
   "cell_type": "code",
   "execution_count": 65,
   "metadata": {},
   "outputs": [
    {
     "name": "stdout",
     "output_type": "stream",
     "text": [
      "\n",
      "  : \n",
      " PCA :   {'fit_time': array([1.74633217, 1.95976281, 1.49503613]), 'score_time': array([1.74633193, 1.58280611, 1.40426636]), 'test_precision': array([0.63636364, 0.6       , 0.5       ]), 'test_recall': array([0.38888889, 0.35294118, 0.58823529]), 'test_f1': array([0.48275862, 0.44444444, 0.54054054])}\n",
      "\n",
      " 0.4892478685582134\n"
     ]
    }
   ],
   "source": [
    "\n",
    "pca = PCA(n_components= 0.95 )\n",
    "X_pca = pca.fit_transform(X)\n",
    "svc = SVC(C = 1.0 , kernel = 'linear' )\n",
    "\n",
    "stratified_cv_results_svc1_bushpcaSVC4 = cross_validate(svc,X_pca,y_williams,cv=StratifiedKFold(n_splits=3,shuffle = True, random_state=6099),\n",
    "                                      scoring = ('precision','recall','f1'),return_train_score= False)\n",
    "print(\"\\n  : \\n PCA :  \",stratified_cv_results_svc1_bushpcaSVC4)\n",
    "print(\"\\n\",statistics.mean(stratified_cv_results_svc1_bushpcaSVC4['test_f1']))\n"
   ]
  },
  {
   "cell_type": "code",
   "execution_count": 74,
   "metadata": {},
   "outputs": [
    {
     "name": "stdout",
     "output_type": "stream",
     "text": [
      "\n",
      "  : \n",
      " PCA :   {'fit_time': array([6.51962543, 6.80243087, 6.38288069]), 'score_time': array([8.08437324, 7.43318796, 7.94974685]), 'test_precision': array([1.        , 1.        , 0.61538462]), 'test_recall': array([0.44444444, 0.29411765, 0.47058824]), 'test_f1': array([0.61538462, 0.45454545, 0.53333333])}\n",
      "\n",
      " 0.5344211344211344\n"
     ]
    }
   ],
   "source": [
    "\n",
    "pca = PCA(n_components= 0.99 )\n",
    "X_pca = pca.fit_transform(X)\n",
    "svc = SVC(C = 4.0 , kernel = 'poly', coef0= 5.0  ,degree = 10 , gamma=1/(X.shape[1]*X.std()) )\n",
    "\n",
    "stratified_cv_results_svc1_bushpcaSVC454gr2 = cross_validate(svc,X_pca,y_williams,cv=StratifiedKFold(n_splits=3,shuffle = True, random_state=6099),\n",
    "                                      scoring = ('precision','recall','f1'),return_train_score= False)\n",
    "print(\"\\n  : \\n PCA :  \",stratified_cv_results_svc1_bushpcaSVC454gr2)\n",
    "print(\"\\n\",statistics.mean(stratified_cv_results_svc1_bushpcaSVC454gr2['test_f1']))\n"
   ]
  },
  {
   "cell_type": "code",
   "execution_count": 85,
   "metadata": {},
   "outputs": [
    {
     "name": "stdout",
     "output_type": "stream",
     "text": [
      " com :  1752\n",
      "\n",
      "  : \n",
      " PCA :   {'fit_time': array([12.45274639, 12.58126903, 11.57841206]), 'score_time': array([15.94151735, 14.04816365, 13.95818734]), 'test_precision': array([1.        , 1.        , 0.61538462]), 'test_recall': array([0.44444444, 0.29411765, 0.47058824]), 'test_f1': array([0.61538462, 0.45454545, 0.53333333])}\n",
      "\n",
      " 0.5344211344211344\n"
     ]
    }
   ],
   "source": [
    "# to present n components\n",
    "pca = PCA(n_components= 0.99 )\n",
    "X_pca = pca.fit_transform(X)\n",
    "print(\" com : \",pca.n_components_)\n",
    "svc = SVC(C = 4.0 , kernel = 'poly', coef0= 5.0  ,degree = 10 , gamma=1/(X.shape[1]*X.std()) )\n",
    "\n",
    "stratified_cv_results_svc1_bushpcaSVC454gr2gain = cross_validate(svc,X_pca,y_williams,cv=StratifiedKFold(n_splits=3,shuffle = True, random_state=6099),\n",
    "                                      scoring = ('precision','recall','f1'),return_train_score= False)\n",
    "print(\"\\n  : \\n PCA :  \",stratified_cv_results_svc1_bushpcaSVC454gr2gain)\n",
    "print(\"\\n\",statistics.mean(stratified_cv_results_svc1_bushpcaSVC454gr2gain['test_f1']))\n"
   ]
  },
  {
   "cell_type": "code",
   "execution_count": 86,
   "metadata": {},
   "outputs": [
    {
     "name": "stdout",
     "output_type": "stream",
     "text": [
      " com :  64\n",
      "\n",
      "  : \n",
      " PCA :   {'fit_time': array([0.4344697 , 0.40700436, 0.39530921]), 'score_time': array([0.31527352, 0.3730402 , 0.41141176]), 'test_precision': array([0.22222222, 0.33333333, 0.27272727]), 'test_recall': array([0.22222222, 0.29411765, 0.17647059]), 'test_f1': array([0.22222222, 0.3125    , 0.21428571])}\n",
      "\n",
      " 0.24966931216931215\n"
     ]
    }
   ],
   "source": [
    "# for 64 comp\n",
    "pca = PCA(n_components= 64 )\n",
    "X_pca = pca.fit_transform(X)\n",
    "print(\" com : \",pca.n_components_)\n",
    "svc = SVC(C = 4.0 , kernel = 'poly', coef0= 5.0  ,degree = 10 , gamma=1/(X.shape[1]*X.std()) )\n",
    "\n",
    "stratified_cv_results_svc1_bushpcaSVC646464 = cross_validate(svc,X_pca,y_williams,cv=StratifiedKFold(n_splits=3,shuffle = True, random_state=6099),\n",
    "                                      scoring = ('precision','recall','f1'),return_train_score= False)\n",
    "print(\"\\n  : \\n PCA :  \",stratified_cv_results_svc1_bushpcaSVC646464)\n",
    "print(\"\\n\",statistics.mean(stratified_cv_results_svc1_bushpcaSVC646464['test_f1']))\n"
   ]
  },
  {
   "cell_type": "code",
   "execution_count": null,
   "metadata": {},
   "outputs": [],
   "source": []
  },
  {
   "cell_type": "markdown",
   "metadata": {},
   "source": [
    "# PCA Pickle Williams"
   ]
  },
  {
   "cell_type": "code",
   "execution_count": 97,
   "metadata": {},
   "outputs": [],
   "source": [
    "import pickle\n",
    "import statistics\n",
    "williams_list_pca = []\n",
    "mean_knn_williams = statistics.mean(stratified_cv_results_n1pca_williams1['test_f1'])\n",
    "mean_svc_williams = statistics.mean(stratified_cv_results_svc1_bushpcaSVC2['test_f1'])\n",
    "williams_list_pca.append(mean_knn_williams)\n",
    "williams_list_pca.append(mean_svc_williams)\n",
    "pickle.dump((williams_list_pca), open('williams.pickle', 'wb'))"
   ]
  },
  {
   "cell_type": "code",
   "execution_count": 94,
   "metadata": {},
   "outputs": [
    {
     "name": "stdout",
     "output_type": "stream",
     "text": [
      "# com :  511\n",
      "\n",
      "  : \n",
      " PCA :   {'fit_time': array([1.79263234, 1.55275679, 1.5826304 ]), 'score_time': array([1.60872126, 1.44575858, 1.43129873]), 'test_precision': array([0.63636364, 0.6       , 0.5       ]), 'test_recall': array([0.38888889, 0.35294118, 0.58823529]), 'test_f1': array([0.48275862, 0.44444444, 0.54054054])}\n",
      "\n",
      " 0.4892478685582134\n"
     ]
    }
   ],
   "source": [
    "#  print # components\n",
    "pca = PCA(n_components= 0.95 )\n",
    "X_pca = pca.fit_transform(X)\n",
    "print(\"# com : \",pca.n_components_)\n",
    "svc = SVC(C = 1.0 , kernel = 'linear' )\n",
    "\n",
    "stratified_cv_results_svc1_bushplinear = cross_validate(svc,X_pca,y_williams,cv=StratifiedKFold(n_splits=3,shuffle = True, random_state=6099),\n",
    "                                      scoring = ('precision','recall','f1'),return_train_score= False)\n",
    "print(\"\\n  : \\n PCA :  \",stratified_cv_results_svc1_bushplinear)\n",
    "print(\"\\n\",statistics.mean(stratified_cv_results_svc1_bushplinear['test_f1']))\n"
   ]
  },
  {
   "cell_type": "code",
   "execution_count": null,
   "metadata": {},
   "outputs": [],
   "source": []
  },
  {
   "cell_type": "markdown",
   "metadata": {},
   "source": [
    "# Pickle Williams"
   ]
  },
  {
   "cell_type": "code",
   "execution_count": 88,
   "metadata": {},
   "outputs": [],
   "source": [
    "import pickle\n",
    "import statistics\n",
    "williams_list = []\n",
    "#numbers = stratified_cv_results_n1bush['test_f1'] \n",
    "mean_n1_williams = statistics.mean(stratified_cv_results_n1['test_f1'])\n",
    "mean_n3_williams = statistics.mean(stratified_cv_results_n3['test_f1'])\n",
    "mean_n5_williams = statistics.mean(stratified_cv_results_n5['test_f1'])\n",
    "mean_svc_williams = statistics.mean(stratified_cv_results_williamsSVC['test_f1'])\n",
    "\n",
    "williams_list.append(mean_n1_williams)\n",
    "williams_list.append(mean_n3_williams)\n",
    "williams_list.append(mean_n5_williams)\n",
    "williams_list.append(mean_svc_williams)\n",
    "\n",
    "pickle.dump((williams_list), open('williams.pickle', 'wb'))"
   ]
  },
  {
   "cell_type": "code",
   "execution_count": null,
   "metadata": {},
   "outputs": [],
   "source": []
  }
 ],
 "metadata": {
  "kernelspec": {
   "display_name": "Python 3",
   "language": "python",
   "name": "python3"
  },
  "language_info": {
   "codemirror_mode": {
    "name": "ipython",
    "version": 3
   },
   "file_extension": ".py",
   "mimetype": "text/x-python",
   "name": "python",
   "nbconvert_exporter": "python",
   "pygments_lexer": "ipython3",
   "version": "3.6.4"
  }
 },
 "nbformat": 4,
 "nbformat_minor": 2
}
